{
 "cells": [
  {
   "cell_type": "code",
   "execution_count": 1,
   "metadata": {
    "ExecuteTime": {
     "end_time": "2020-08-26T23:22:17.318773Z",
     "start_time": "2020-08-26T23:22:16.182776Z"
    }
   },
   "outputs": [
    {
     "name": "stderr",
     "output_type": "stream",
     "text": [
      "C:\\Users\\damni\\anaconda3\\envs\\learn-env\\lib\\site-packages\\statsmodels\\tools\\_testing.py:19: FutureWarning: pandas.util.testing is deprecated. Use the functions in the public API at pandas.testing instead.\n",
      "  import pandas.util.testing as tm\n"
     ]
    }
   ],
   "source": [
    "import pandas as pd\n",
    "import numpy as np\n",
    "import matplotlib.pyplot as plt\n",
    "%matplotlib inline\n",
    "from wordcloud import WordCloud\n",
    "import seaborn as sns"
   ]
  },
  {
   "cell_type": "code",
   "execution_count": 2,
   "metadata": {
    "ExecuteTime": {
     "end_time": "2020-08-26T23:22:17.378774Z",
     "start_time": "2020-08-26T23:22:17.319776Z"
    }
   },
   "outputs": [
    {
     "data": {
      "text/html": [
       "<div>\n",
       "<style scoped>\n",
       "    .dataframe tbody tr th:only-of-type {\n",
       "        vertical-align: middle;\n",
       "    }\n",
       "\n",
       "    .dataframe tbody tr th {\n",
       "        vertical-align: top;\n",
       "    }\n",
       "\n",
       "    .dataframe thead th {\n",
       "        text-align: right;\n",
       "    }\n",
       "</style>\n",
       "<table border=\"1\" class=\"dataframe\">\n",
       "  <thead>\n",
       "    <tr style=\"text-align: right;\">\n",
       "      <th></th>\n",
       "      <th>Release Date</th>\n",
       "      <th>Season</th>\n",
       "      <th>Episode</th>\n",
       "      <th>Episode Title</th>\n",
       "      <th>Name</th>\n",
       "      <th>Sentence</th>\n",
       "    </tr>\n",
       "  </thead>\n",
       "  <tbody>\n",
       "    <tr>\n",
       "      <th>0</th>\n",
       "      <td>2011-04-17</td>\n",
       "      <td>Season 1</td>\n",
       "      <td>Episode 1</td>\n",
       "      <td>Winter is Coming</td>\n",
       "      <td>waymar royce</td>\n",
       "      <td>What do you expect? They're savages. One lot s...</td>\n",
       "    </tr>\n",
       "    <tr>\n",
       "      <th>1</th>\n",
       "      <td>2011-04-17</td>\n",
       "      <td>Season 1</td>\n",
       "      <td>Episode 1</td>\n",
       "      <td>Winter is Coming</td>\n",
       "      <td>will</td>\n",
       "      <td>I've never seen wildlings do a thing like this...</td>\n",
       "    </tr>\n",
       "    <tr>\n",
       "      <th>2</th>\n",
       "      <td>2011-04-17</td>\n",
       "      <td>Season 1</td>\n",
       "      <td>Episode 1</td>\n",
       "      <td>Winter is Coming</td>\n",
       "      <td>waymar royce</td>\n",
       "      <td>How close did you get?</td>\n",
       "    </tr>\n",
       "    <tr>\n",
       "      <th>3</th>\n",
       "      <td>2011-04-17</td>\n",
       "      <td>Season 1</td>\n",
       "      <td>Episode 1</td>\n",
       "      <td>Winter is Coming</td>\n",
       "      <td>will</td>\n",
       "      <td>Close as any man would.</td>\n",
       "    </tr>\n",
       "    <tr>\n",
       "      <th>4</th>\n",
       "      <td>2011-04-17</td>\n",
       "      <td>Season 1</td>\n",
       "      <td>Episode 1</td>\n",
       "      <td>Winter is Coming</td>\n",
       "      <td>gared</td>\n",
       "      <td>We should head back to the wall.</td>\n",
       "    </tr>\n",
       "  </tbody>\n",
       "</table>\n",
       "</div>"
      ],
      "text/plain": [
       "  Release Date    Season    Episode     Episode Title          Name  \\\n",
       "0   2011-04-17  Season 1  Episode 1  Winter is Coming  waymar royce   \n",
       "1   2011-04-17  Season 1  Episode 1  Winter is Coming          will   \n",
       "2   2011-04-17  Season 1  Episode 1  Winter is Coming  waymar royce   \n",
       "3   2011-04-17  Season 1  Episode 1  Winter is Coming          will   \n",
       "4   2011-04-17  Season 1  Episode 1  Winter is Coming         gared   \n",
       "\n",
       "                                            Sentence  \n",
       "0  What do you expect? They're savages. One lot s...  \n",
       "1  I've never seen wildlings do a thing like this...  \n",
       "2                             How close did you get?  \n",
       "3                            Close as any man would.  \n",
       "4                   We should head back to the wall.  "
      ]
     },
     "execution_count": 2,
     "metadata": {},
     "output_type": "execute_result"
    }
   ],
   "source": [
    "GoT = pd.read_csv('Game_of_Thrones_Script.csv')\n",
    "GoT.head()"
   ]
  },
  {
   "cell_type": "code",
   "execution_count": 3,
   "metadata": {
    "ExecuteTime": {
     "end_time": "2020-08-26T23:22:17.388777Z",
     "start_time": "2020-08-26T23:22:17.380774Z"
    }
   },
   "outputs": [
    {
     "data": {
      "text/plain": [
       "tyrion lannister      1760\n",
       "jon snow              1133\n",
       "daenerys targaryen    1048\n",
       "cersei lannister      1005\n",
       "jaime lannister        945\n",
       "                      ... \n",
       "bolton bannerman         1\n",
       "lord bolton              1\n",
       "dornish prince           1\n",
       "galbart glover           1\n",
       "bryndel                  1\n",
       "Name: Name, Length: 564, dtype: int64"
      ]
     },
     "execution_count": 3,
     "metadata": {},
     "output_type": "execute_result"
    }
   ],
   "source": [
    "GoT['Name'].value_counts()"
   ]
  },
  {
   "cell_type": "code",
   "execution_count": 4,
   "metadata": {
    "ExecuteTime": {
     "end_time": "2020-08-26T23:22:17.927773Z",
     "start_time": "2020-08-26T23:22:17.923774Z"
    }
   },
   "outputs": [
    {
     "data": {
      "text/plain": [
       "564"
      ]
     },
     "execution_count": 4,
     "metadata": {},
     "output_type": "execute_result"
    }
   ],
   "source": [
    "GoT['Name'].nunique()"
   ]
  },
  {
   "cell_type": "markdown",
   "metadata": {
    "ExecuteTime": {
     "end_time": "2020-08-18T17:45:11.752695Z",
     "start_time": "2020-08-18T17:45:11.739694Z"
    }
   },
   "source": [
    "In total, we have 564 different speaking characters throughout the series. However, upon close inspection, it seems this may number may be smaller due to an inconsistency with naming of speaking characters. The following are instances of the same character being named in different ways:\n",
    "* maester luwin/luwin\n",
    "* varys/lord varys\n",
    "* grand maester pycelle/pycelle/gran maester pyrcelle/maester pycelle/maester pycell\n",
    "* barristan selmy/barriston/ser barristan/barristan\n",
    "* daenerys targaryen/deanerys targarian\n",
    "* joffrey lanister/king joffrey\n",
    "* kevan lannister/kevin/kevan \n",
    "* alliser thorne/ser alliser/alliser thorn/alliser/allister/alliser throne\n",
    "* eddark stark/eddard stark\n",
    "* rickon stark/rickon\n",
    "* sam/sam tarly\n",
    "* lord mormont/jeor mormont/jeor\n",
    "* rodrick cassel/rodrik cassel/rodrik cassal/ser rodrick/rodrik\n",
    "* edd/dolorous edd/dolorous/doloroud edd/dolrous edd\n",
    "* renly/renly baratheon\n",
    "* maryn trant/meryn\n",
    "* lancell lannister/lancell\n",
    "* petyr baelish/petyr\n",
    "* mountain/mountian\n",
    "* pyatt pree/pyat pree/pyattpree\n",
    "* walder frey/walder\n",
    "* sandor/sandor clegane\n",
    "* lady olenna/olenna tyrell\n",
    "* beric/beric dondarrion"
   ]
  },
  {
   "cell_type": "code",
   "execution_count": 5,
   "metadata": {
    "ExecuteTime": {
     "end_time": "2020-08-26T23:22:19.167773Z",
     "start_time": "2020-08-26T23:22:19.162774Z"
    }
   },
   "outputs": [],
   "source": [
    "correct_names = {'maester luwin':['maester luwin', 'luwin'],\n",
    "                'varys': ['varys','lord varys'],\n",
    "                'pycelle': ['grand maester pycelle', 'pycelle', 'gran maester pyrcelle', 'maester pycelle', 'maester pycell', 'pycell', 'pyelle', 'grand maester pyrcelle'],\n",
    "                'barristan selmy': ['barristan selmy', 'barriston', 'ser barristan', 'barristan'],\n",
    "                'daenerys targaryen': ['daenerys targaryen', 'deanerys targarian'],\n",
    "                'joffrey lannister': ['joffrey lannister', 'king joffrey'],\n",
    "                'kevan lannister': ['kevan lannister', 'kevin', 'kevan'],\n",
    "                'alliser thorne': ['alliser thorne', 'ser alliser', 'alliser thorn', 'alliser', 'allister', 'alliser throne'],\n",
    "                'eddard stark': ['eddard stark', 'eddark stark'],\n",
    "                'rickon stark': ['rickon stark', 'rickon'],\n",
    "                'sam tarly': ['sam tarly', 'sam'],\n",
    "                'jeor mormont': ['jeor mormont', 'lord mormont', 'jeor'],\n",
    "                'rodrik cassel': ['rodrik cassel', 'rodrick cassel', 'rodrik cassal', 'ser rodrick', 'rodrik'],\n",
    "                \"'dolorous' edd\": ['edd', 'dolorous edd', 'dolorous', 'doloroud edd', 'dolrous edd', 'ed'],\n",
    "                'renly baratheon': ['renly baratheon', 'renly'],\n",
    "                'maryn trant': ['maryn trant', 'meryn', 'meryn trant'],\n",
    "                'lancell lannister': ['lancell lannister', 'lancell', 'lancel'],\n",
    "                'petyr baelish': ['petyr baelish', 'petyr'],\n",
    "                'the mountain': ['mountain', 'mountian'],\n",
    "                'pyat pree': ['pyat pree', 'pyatt pree', 'pyattpree'],\n",
    "                'walder frey': ['walder frey', 'walder'],\n",
    "                'sandor clegane': ['sandor clegane', 'sandor'],\n",
    "                'olenna tyrell': ['olenna tyrell', 'lady olenna'],\n",
    "                'beric dondarrion': ['beric dondarrion', 'beric']}"
   ]
  },
  {
   "cell_type": "markdown",
   "metadata": {},
   "source": [
    "In retrospect, I created this dictionary backwards and the keys need to values and the values need to be keys in order for us to be able to apply it to our data."
   ]
  },
  {
   "cell_type": "code",
   "execution_count": 6,
   "metadata": {
    "ExecuteTime": {
     "end_time": "2020-08-26T23:22:20.311775Z",
     "start_time": "2020-08-26T23:22:20.307775Z"
    }
   },
   "outputs": [],
   "source": [
    "fixed_dict = {}\n",
    "for key, values in correct_names.items():\n",
    "    for value in values:\n",
    "        fixed_dict[value] = key"
   ]
  },
  {
   "cell_type": "code",
   "execution_count": 7,
   "metadata": {
    "ExecuteTime": {
     "end_time": "2020-08-26T23:22:20.904773Z",
     "start_time": "2020-08-26T23:22:20.896775Z"
    }
   },
   "outputs": [],
   "source": [
    "GoT['Character'] = GoT['Name'].map(fixed_dict)"
   ]
  },
  {
   "cell_type": "code",
   "execution_count": 8,
   "metadata": {
    "ExecuteTime": {
     "end_time": "2020-08-26T23:22:21.506773Z",
     "start_time": "2020-08-26T23:22:21.500775Z"
    }
   },
   "outputs": [],
   "source": [
    "GoT['Character'].fillna(GoT['Name'], inplace = True)"
   ]
  },
  {
   "cell_type": "code",
   "execution_count": 9,
   "metadata": {
    "ExecuteTime": {
     "end_time": "2020-08-26T23:22:22.032774Z",
     "start_time": "2020-08-26T23:22:22.026775Z"
    }
   },
   "outputs": [
    {
     "data": {
      "text/plain": [
       "520"
      ]
     },
     "execution_count": 9,
     "metadata": {},
     "output_type": "execute_result"
    }
   ],
   "source": [
    "GoT['Character'].nunique()"
   ]
  },
  {
   "cell_type": "code",
   "execution_count": 10,
   "metadata": {
    "ExecuteTime": {
     "end_time": "2020-08-26T23:22:22.621774Z",
     "start_time": "2020-08-26T23:22:22.612775Z"
    }
   },
   "outputs": [
    {
     "data": {
      "text/plain": [
       "tyrion lannister           1760\n",
       "jon snow                   1133\n",
       "daenerys targaryen         1049\n",
       "cersei lannister           1005\n",
       "jaime lannister             945\n",
       "                           ... \n",
       "archmaester                   1\n",
       "several stark bannermen       1\n",
       "shouting                      1\n",
       "harpy                         1\n",
       "bryndel                       1\n",
       "Name: Character, Length: 520, dtype: int64"
      ]
     },
     "execution_count": 10,
     "metadata": {},
     "output_type": "execute_result"
    }
   ],
   "source": [
    "GoT['Character'].value_counts()"
   ]
  },
  {
   "cell_type": "code",
   "execution_count": 11,
   "metadata": {
    "ExecuteTime": {
     "end_time": "2020-08-26T23:22:23.493773Z",
     "start_time": "2020-08-26T23:22:23.477773Z"
    }
   },
   "outputs": [
    {
     "name": "stdout",
     "output_type": "stream",
     "text": [
      "<class 'pandas.core.frame.DataFrame'>\n",
      "RangeIndex: 23911 entries, 0 to 23910\n",
      "Data columns (total 7 columns):\n",
      " #   Column         Non-Null Count  Dtype \n",
      "---  ------         --------------  ----- \n",
      " 0   Release Date   23911 non-null  object\n",
      " 1   Season         23911 non-null  object\n",
      " 2   Episode        23911 non-null  object\n",
      " 3   Episode Title  23911 non-null  object\n",
      " 4   Name           23908 non-null  object\n",
      " 5   Sentence       23911 non-null  object\n",
      " 6   Character      23908 non-null  object\n",
      "dtypes: object(7)\n",
      "memory usage: 1.3+ MB\n"
     ]
    }
   ],
   "source": [
    "GoT.info()"
   ]
  },
  {
   "cell_type": "code",
   "execution_count": 12,
   "metadata": {
    "ExecuteTime": {
     "end_time": "2020-08-26T23:22:24.723786Z",
     "start_time": "2020-08-26T23:22:24.707784Z"
    }
   },
   "outputs": [],
   "source": [
    "#drop duplicate name column and the three null values\n",
    "GoT.dropna(inplace = True)\n",
    "GoT.drop('Name', axis = 1, inplace = True)"
   ]
  },
  {
   "cell_type": "code",
   "execution_count": 13,
   "metadata": {
    "ExecuteTime": {
     "end_time": "2020-08-26T23:22:25.184805Z",
     "start_time": "2020-08-26T23:22:25.175800Z"
    }
   },
   "outputs": [
    {
     "data": {
      "text/html": [
       "<div>\n",
       "<style scoped>\n",
       "    .dataframe tbody tr th:only-of-type {\n",
       "        vertical-align: middle;\n",
       "    }\n",
       "\n",
       "    .dataframe tbody tr th {\n",
       "        vertical-align: top;\n",
       "    }\n",
       "\n",
       "    .dataframe thead th {\n",
       "        text-align: right;\n",
       "    }\n",
       "</style>\n",
       "<table border=\"1\" class=\"dataframe\">\n",
       "  <thead>\n",
       "    <tr style=\"text-align: right;\">\n",
       "      <th></th>\n",
       "      <th>Release Date</th>\n",
       "      <th>Season</th>\n",
       "      <th>Episode</th>\n",
       "      <th>Episode Title</th>\n",
       "      <th>Sentence</th>\n",
       "      <th>Character</th>\n",
       "    </tr>\n",
       "  </thead>\n",
       "  <tbody>\n",
       "    <tr>\n",
       "      <th>0</th>\n",
       "      <td>2011-04-17</td>\n",
       "      <td>Season 1</td>\n",
       "      <td>Episode 1</td>\n",
       "      <td>Winter is Coming</td>\n",
       "      <td>What do you expect? They're savages. One lot s...</td>\n",
       "      <td>waymar royce</td>\n",
       "    </tr>\n",
       "    <tr>\n",
       "      <th>1</th>\n",
       "      <td>2011-04-17</td>\n",
       "      <td>Season 1</td>\n",
       "      <td>Episode 1</td>\n",
       "      <td>Winter is Coming</td>\n",
       "      <td>I've never seen wildlings do a thing like this...</td>\n",
       "      <td>will</td>\n",
       "    </tr>\n",
       "    <tr>\n",
       "      <th>2</th>\n",
       "      <td>2011-04-17</td>\n",
       "      <td>Season 1</td>\n",
       "      <td>Episode 1</td>\n",
       "      <td>Winter is Coming</td>\n",
       "      <td>How close did you get?</td>\n",
       "      <td>waymar royce</td>\n",
       "    </tr>\n",
       "    <tr>\n",
       "      <th>3</th>\n",
       "      <td>2011-04-17</td>\n",
       "      <td>Season 1</td>\n",
       "      <td>Episode 1</td>\n",
       "      <td>Winter is Coming</td>\n",
       "      <td>Close as any man would.</td>\n",
       "      <td>will</td>\n",
       "    </tr>\n",
       "    <tr>\n",
       "      <th>4</th>\n",
       "      <td>2011-04-17</td>\n",
       "      <td>Season 1</td>\n",
       "      <td>Episode 1</td>\n",
       "      <td>Winter is Coming</td>\n",
       "      <td>We should head back to the wall.</td>\n",
       "      <td>gared</td>\n",
       "    </tr>\n",
       "  </tbody>\n",
       "</table>\n",
       "</div>"
      ],
      "text/plain": [
       "  Release Date    Season    Episode     Episode Title  \\\n",
       "0   2011-04-17  Season 1  Episode 1  Winter is Coming   \n",
       "1   2011-04-17  Season 1  Episode 1  Winter is Coming   \n",
       "2   2011-04-17  Season 1  Episode 1  Winter is Coming   \n",
       "3   2011-04-17  Season 1  Episode 1  Winter is Coming   \n",
       "4   2011-04-17  Season 1  Episode 1  Winter is Coming   \n",
       "\n",
       "                                            Sentence     Character  \n",
       "0  What do you expect? They're savages. One lot s...  waymar royce  \n",
       "1  I've never seen wildlings do a thing like this...          will  \n",
       "2                             How close did you get?  waymar royce  \n",
       "3                            Close as any man would.          will  \n",
       "4                   We should head back to the wall.         gared  "
      ]
     },
     "execution_count": 13,
     "metadata": {},
     "output_type": "execute_result"
    }
   ],
   "source": [
    "GoT.head()"
   ]
  },
  {
   "cell_type": "code",
   "execution_count": 57,
   "metadata": {
    "ExecuteTime": {
     "end_time": "2020-08-19T18:24:06.787700Z",
     "start_time": "2020-08-19T18:24:06.783698Z"
    }
   },
   "outputs": [],
   "source": [
    "# NExt lets look at the amount of words being spoken"
   ]
  },
  {
   "cell_type": "code",
   "execution_count": 14,
   "metadata": {
    "ExecuteTime": {
     "end_time": "2020-08-26T23:22:28.751815Z",
     "start_time": "2020-08-26T23:22:28.743815Z"
    }
   },
   "outputs": [],
   "source": [
    "complete_text = ' '.join(GoT['Sentence'])"
   ]
  },
  {
   "cell_type": "code",
   "execution_count": 15,
   "metadata": {
    "ExecuteTime": {
     "end_time": "2020-08-26T23:22:31.352815Z",
     "start_time": "2020-08-26T23:22:31.344816Z"
    }
   },
   "outputs": [
    {
     "data": {
      "text/plain": [
       "\"What do you expect? They're savages. One lot steals a goat from another lot and before you know it, they're ripping each other to pieces.\""
      ]
     },
     "execution_count": 15,
     "metadata": {},
     "output_type": "execute_result"
    }
   ],
   "source": [
    "sample = GoT['Sentence'][0]\n",
    "sample"
   ]
  },
  {
   "cell_type": "markdown",
   "metadata": {},
   "source": [
    "We've successfully reduced the total number of speaking characters by 44!"
   ]
  },
  {
   "cell_type": "code",
   "execution_count": 16,
   "metadata": {
    "ExecuteTime": {
     "end_time": "2020-08-26T23:22:36.285813Z",
     "start_time": "2020-08-26T23:22:33.108817Z"
    }
   },
   "outputs": [],
   "source": [
    "from keras.preprocessing.text import Tokenizer"
   ]
  },
  {
   "cell_type": "code",
   "execution_count": 17,
   "metadata": {
    "ExecuteTime": {
     "end_time": "2020-08-26T23:22:37.191813Z",
     "start_time": "2020-08-26T23:22:36.971817Z"
    }
   },
   "outputs": [],
   "source": [
    "tokenizer = Tokenizer()\n",
    "tokenizer.fit_on_texts([complete_text])\n"
   ]
  },
  {
   "cell_type": "code",
   "execution_count": 18,
   "metadata": {
    "ExecuteTime": {
     "end_time": "2020-08-26T23:22:38.656816Z",
     "start_time": "2020-08-26T23:22:38.651815Z"
    }
   },
   "outputs": [
    {
     "data": {
      "text/plain": [
       "25"
      ]
     },
     "execution_count": 18,
     "metadata": {},
     "output_type": "execute_result"
    }
   ],
   "source": [
    "len(tokenizer.texts_to_sequences([sample])[0])"
   ]
  },
  {
   "cell_type": "code",
   "execution_count": 19,
   "metadata": {
    "ExecuteTime": {
     "end_time": "2020-08-26T23:22:41.420838Z",
     "start_time": "2020-08-26T23:22:41.156839Z"
    }
   },
   "outputs": [],
   "source": [
    "GoT['word_count'] = GoT['Sentence'].apply(lambda x: len(tokenizer.texts_to_sequences([x])[0]))"
   ]
  },
  {
   "cell_type": "code",
   "execution_count": 20,
   "metadata": {
    "ExecuteTime": {
     "end_time": "2020-08-26T23:22:41.777838Z",
     "start_time": "2020-08-26T23:22:41.762840Z"
    }
   },
   "outputs": [
    {
     "data": {
      "text/html": [
       "<div>\n",
       "<style scoped>\n",
       "    .dataframe tbody tr th:only-of-type {\n",
       "        vertical-align: middle;\n",
       "    }\n",
       "\n",
       "    .dataframe tbody tr th {\n",
       "        vertical-align: top;\n",
       "    }\n",
       "\n",
       "    .dataframe thead th {\n",
       "        text-align: right;\n",
       "    }\n",
       "</style>\n",
       "<table border=\"1\" class=\"dataframe\">\n",
       "  <thead>\n",
       "    <tr style=\"text-align: right;\">\n",
       "      <th></th>\n",
       "      <th>Release Date</th>\n",
       "      <th>Season</th>\n",
       "      <th>Episode</th>\n",
       "      <th>Episode Title</th>\n",
       "      <th>Sentence</th>\n",
       "      <th>Character</th>\n",
       "      <th>word_count</th>\n",
       "    </tr>\n",
       "  </thead>\n",
       "  <tbody>\n",
       "    <tr>\n",
       "      <th>0</th>\n",
       "      <td>2011-04-17</td>\n",
       "      <td>Season 1</td>\n",
       "      <td>Episode 1</td>\n",
       "      <td>Winter is Coming</td>\n",
       "      <td>What do you expect? They're savages. One lot s...</td>\n",
       "      <td>waymar royce</td>\n",
       "      <td>25</td>\n",
       "    </tr>\n",
       "    <tr>\n",
       "      <th>1</th>\n",
       "      <td>2011-04-17</td>\n",
       "      <td>Season 1</td>\n",
       "      <td>Episode 1</td>\n",
       "      <td>Winter is Coming</td>\n",
       "      <td>I've never seen wildlings do a thing like this...</td>\n",
       "      <td>will</td>\n",
       "      <td>21</td>\n",
       "    </tr>\n",
       "    <tr>\n",
       "      <th>2</th>\n",
       "      <td>2011-04-17</td>\n",
       "      <td>Season 1</td>\n",
       "      <td>Episode 1</td>\n",
       "      <td>Winter is Coming</td>\n",
       "      <td>How close did you get?</td>\n",
       "      <td>waymar royce</td>\n",
       "      <td>5</td>\n",
       "    </tr>\n",
       "    <tr>\n",
       "      <th>3</th>\n",
       "      <td>2011-04-17</td>\n",
       "      <td>Season 1</td>\n",
       "      <td>Episode 1</td>\n",
       "      <td>Winter is Coming</td>\n",
       "      <td>Close as any man would.</td>\n",
       "      <td>will</td>\n",
       "      <td>5</td>\n",
       "    </tr>\n",
       "    <tr>\n",
       "      <th>4</th>\n",
       "      <td>2011-04-17</td>\n",
       "      <td>Season 1</td>\n",
       "      <td>Episode 1</td>\n",
       "      <td>Winter is Coming</td>\n",
       "      <td>We should head back to the wall.</td>\n",
       "      <td>gared</td>\n",
       "      <td>7</td>\n",
       "    </tr>\n",
       "  </tbody>\n",
       "</table>\n",
       "</div>"
      ],
      "text/plain": [
       "  Release Date    Season    Episode     Episode Title  \\\n",
       "0   2011-04-17  Season 1  Episode 1  Winter is Coming   \n",
       "1   2011-04-17  Season 1  Episode 1  Winter is Coming   \n",
       "2   2011-04-17  Season 1  Episode 1  Winter is Coming   \n",
       "3   2011-04-17  Season 1  Episode 1  Winter is Coming   \n",
       "4   2011-04-17  Season 1  Episode 1  Winter is Coming   \n",
       "\n",
       "                                            Sentence     Character  word_count  \n",
       "0  What do you expect? They're savages. One lot s...  waymar royce          25  \n",
       "1  I've never seen wildlings do a thing like this...          will          21  \n",
       "2                             How close did you get?  waymar royce           5  \n",
       "3                            Close as any man would.          will           5  \n",
       "4                   We should head back to the wall.         gared           7  "
      ]
     },
     "execution_count": 20,
     "metadata": {},
     "output_type": "execute_result"
    }
   ],
   "source": [
    "GoT.head()"
   ]
  },
  {
   "cell_type": "code",
   "execution_count": 22,
   "metadata": {
    "ExecuteTime": {
     "end_time": "2020-08-24T18:02:41.972705Z",
     "start_time": "2020-08-24T18:02:41.886703Z"
    }
   },
   "outputs": [],
   "source": [
    "GoT.to_csv('Game_of_Thrones_Script_Corrected.csv', index = False)"
   ]
  },
  {
   "cell_type": "code",
   "execution_count": 21,
   "metadata": {
    "ExecuteTime": {
     "end_time": "2020-08-26T23:22:58.174867Z",
     "start_time": "2020-08-26T23:22:58.153864Z"
    }
   },
   "outputs": [
    {
     "data": {
      "text/plain": [
       "['tyrion lannister',\n",
       " 'jon snow',\n",
       " 'daenerys targaryen',\n",
       " 'cersei lannister',\n",
       " 'jaime lannister',\n",
       " 'sansa stark',\n",
       " 'arya stark',\n",
       " 'sam tarly',\n",
       " 'davos',\n",
       " 'petyr baelish',\n",
       " 'theon greyjoy',\n",
       " 'bran stark',\n",
       " 'bronn',\n",
       " 'varys',\n",
       " 'tywin lannister',\n",
       " 'jorah mormont',\n",
       " 'man',\n",
       " 'brienne',\n",
       " 'sandor clegane',\n",
       " 'eddard stark',\n",
       " 'robb stark',\n",
       " 'stannis baratheon',\n",
       " 'catelyn stark',\n",
       " 'ramsay bolton',\n",
       " 'margaery tyrell',\n",
       " 'joffrey lannister',\n",
       " 'melisandre',\n",
       " 'shae',\n",
       " 'gendry baratheon',\n",
       " 'tormund',\n",
       " 'gilly',\n",
       " 'missandei',\n",
       " 'olenna tyrell',\n",
       " 'ygritte',\n",
       " 'daario',\n",
       " 'podrick',\n",
       " 'sparrow',\n",
       " 'yara greyjoy',\n",
       " 'osha',\n",
       " 'oberyn martell',\n",
       " 'soldier',\n",
       " 'pycelle',\n",
       " 'tommen lannister',\n",
       " 'robert baratheon',\n",
       " 'qyburn',\n",
       " 'grey worm',\n",
       " 'jaqen hghar',\n",
       " 'talisa',\n",
       " 'thoros',\n",
       " 'barristan selmy']"
      ]
     },
     "execution_count": 21,
     "metadata": {},
     "output_type": "execute_result"
    }
   ],
   "source": [
    "top_speakers = GoT.Character.value_counts().reset_index(name=\"count\").query(\"count > 100\")[\"index\"]\n",
    "top_speakers = list(top_speakers)\n",
    "top_speakers"
   ]
  },
  {
   "cell_type": "code",
   "execution_count": 22,
   "metadata": {
    "ExecuteTime": {
     "end_time": "2020-08-26T23:23:15.031918Z",
     "start_time": "2020-08-26T23:23:15.016917Z"
    }
   },
   "outputs": [
    {
     "data": {
      "text/plain": [
       "Character\n",
       "arya stark            112\n",
       "bran stark            104\n",
       "brienne               218\n",
       "bronn                  76\n",
       "catelyn stark         134\n",
       "cersei lannister      163\n",
       "daenerys targaryen    129\n",
       "davos                 118\n",
       "eddard stark           81\n",
       "jaime lannister       297\n",
       "jon snow              140\n",
       "jorah mormont          81\n",
       "man                    80\n",
       "margaery tyrell        70\n",
       "petyr baelish         172\n",
       "ramsay bolton          89\n",
       "robb stark            103\n",
       "sam tarly              95\n",
       "sandor clegane         94\n",
       "sansa stark           119\n",
       "stannis baratheon     192\n",
       "theon greyjoy          88\n",
       "tyrion lannister      233\n",
       "tywin lannister       111\n",
       "varys                 187\n",
       "Name: word_count, dtype: int64"
      ]
     },
     "execution_count": 22,
     "metadata": {},
     "output_type": "execute_result"
    }
   ],
   "source": [
    "important_character_df = GoT[GoT['Character'].isin(top_speakers[:25])]\n",
    "#this can be used on main df to get the max count for all characters, set this equal a variable and can be plottable\n",
    "important_character_df.groupby('Character')['word_count'].max()"
   ]
  },
  {
   "cell_type": "code",
   "execution_count": 23,
   "metadata": {
    "ExecuteTime": {
     "end_time": "2020-08-26T23:23:28.021931Z",
     "start_time": "2020-08-26T23:23:28.013931Z"
    }
   },
   "outputs": [
    {
     "data": {
      "text/plain": [
       "Character\n",
       "arya stark             6445\n",
       "bran stark             3275\n",
       "brienne                3921\n",
       "bronn                  4352\n",
       "catelyn stark          3306\n",
       "cersei lannister      14440\n",
       "daenerys targaryen    12358\n",
       "davos                  6838\n",
       "eddard stark           3326\n",
       "jaime lannister       11753\n",
       "jon snow              12288\n",
       "jorah mormont          4275\n",
       "man                    2558\n",
       "margaery tyrell        3155\n",
       "petyr baelish          7724\n",
       "ramsay bolton          3223\n",
       "robb stark             3628\n",
       "sam tarly              6499\n",
       "sandor clegane         3908\n",
       "sansa stark            8141\n",
       "stannis baratheon      3666\n",
       "theon greyjoy          5050\n",
       "tyrion lannister      25993\n",
       "tywin lannister        5507\n",
       "varys                  6501\n",
       "Name: word_count, dtype: int64"
      ]
     },
     "execution_count": 23,
     "metadata": {},
     "output_type": "execute_result"
    }
   ],
   "source": [
    "important_character_df.groupby('Character')['word_count'].sum()"
   ]
  },
  {
   "cell_type": "code",
   "execution_count": 24,
   "metadata": {
    "ExecuteTime": {
     "end_time": "2020-08-26T23:25:30.732056Z",
     "start_time": "2020-08-26T23:25:30.728053Z"
    }
   },
   "outputs": [
    {
     "data": {
      "text/plain": [
       "287930"
      ]
     },
     "execution_count": 24,
     "metadata": {},
     "output_type": "execute_result"
    }
   ],
   "source": [
    "GoT['word_count'].sum()"
   ]
  },
  {
   "cell_type": "code",
   "execution_count": 26,
   "metadata": {
    "ExecuteTime": {
     "end_time": "2020-08-26T23:26:24.764177Z",
     "start_time": "2020-08-26T23:26:24.760176Z"
    }
   },
   "outputs": [
    {
     "data": {
      "text/plain": [
       "0.09027541416316466"
      ]
     },
     "execution_count": 26,
     "metadata": {},
     "output_type": "execute_result"
    }
   ],
   "source": [
    "total = 25993/287930\n",
    "total"
   ]
  },
  {
   "cell_type": "code",
   "execution_count": 33,
   "metadata": {
    "ExecuteTime": {
     "end_time": "2020-08-20T14:00:56.082576Z",
     "start_time": "2020-08-20T14:00:56.068573Z"
    }
   },
   "outputs": [
    {
     "data": {
      "text/html": [
       "<div>\n",
       "<style scoped>\n",
       "    .dataframe tbody tr th:only-of-type {\n",
       "        vertical-align: middle;\n",
       "    }\n",
       "\n",
       "    .dataframe tbody tr th {\n",
       "        vertical-align: top;\n",
       "    }\n",
       "\n",
       "    .dataframe thead th {\n",
       "        text-align: right;\n",
       "    }\n",
       "</style>\n",
       "<table border=\"1\" class=\"dataframe\">\n",
       "  <thead>\n",
       "    <tr style=\"text-align: right;\">\n",
       "      <th></th>\n",
       "      <th>word_count</th>\n",
       "    </tr>\n",
       "  </thead>\n",
       "  <tbody>\n",
       "    <tr>\n",
       "      <th>count</th>\n",
       "      <td>23908.000000</td>\n",
       "    </tr>\n",
       "    <tr>\n",
       "      <th>mean</th>\n",
       "      <td>12.043249</td>\n",
       "    </tr>\n",
       "    <tr>\n",
       "      <th>std</th>\n",
       "      <td>14.273522</td>\n",
       "    </tr>\n",
       "    <tr>\n",
       "      <th>min</th>\n",
       "      <td>1.000000</td>\n",
       "    </tr>\n",
       "    <tr>\n",
       "      <th>25%</th>\n",
       "      <td>4.000000</td>\n",
       "    </tr>\n",
       "    <tr>\n",
       "      <th>50%</th>\n",
       "      <td>8.000000</td>\n",
       "    </tr>\n",
       "    <tr>\n",
       "      <th>75%</th>\n",
       "      <td>15.000000</td>\n",
       "    </tr>\n",
       "    <tr>\n",
       "      <th>max</th>\n",
       "      <td>333.000000</td>\n",
       "    </tr>\n",
       "  </tbody>\n",
       "</table>\n",
       "</div>"
      ],
      "text/plain": [
       "         word_count\n",
       "count  23908.000000\n",
       "mean      12.043249\n",
       "std       14.273522\n",
       "min        1.000000\n",
       "25%        4.000000\n",
       "50%        8.000000\n",
       "75%       15.000000\n",
       "max      333.000000"
      ]
     },
     "execution_count": 33,
     "metadata": {},
     "output_type": "execute_result"
    }
   ],
   "source": [
    "GoT.describe()"
   ]
  },
  {
   "cell_type": "code",
   "execution_count": 34,
   "metadata": {
    "ExecuteTime": {
     "end_time": "2020-08-20T14:00:57.062575Z",
     "start_time": "2020-08-20T14:00:57.052573Z"
    }
   },
   "outputs": [
    {
     "data": {
      "text/html": [
       "<div>\n",
       "<style scoped>\n",
       "    .dataframe tbody tr th:only-of-type {\n",
       "        vertical-align: middle;\n",
       "    }\n",
       "\n",
       "    .dataframe tbody tr th {\n",
       "        vertical-align: top;\n",
       "    }\n",
       "\n",
       "    .dataframe thead th {\n",
       "        text-align: right;\n",
       "    }\n",
       "</style>\n",
       "<table border=\"1\" class=\"dataframe\">\n",
       "  <thead>\n",
       "    <tr style=\"text-align: right;\">\n",
       "      <th></th>\n",
       "      <th>Release Date</th>\n",
       "      <th>Season</th>\n",
       "      <th>Episode</th>\n",
       "      <th>Episode Title</th>\n",
       "      <th>Sentence</th>\n",
       "      <th>Character</th>\n",
       "      <th>word_count</th>\n",
       "    </tr>\n",
       "  </thead>\n",
       "  <tbody>\n",
       "    <tr>\n",
       "      <th>6282</th>\n",
       "      <td>2012-05-20</td>\n",
       "      <td>Season 2</td>\n",
       "      <td>Episode 8</td>\n",
       "      <td>The Prince of Winterfell</td>\n",
       "      <td>When I was twelve, my mother and father went t...</td>\n",
       "      <td>talisa</td>\n",
       "      <td>333</td>\n",
       "    </tr>\n",
       "  </tbody>\n",
       "</table>\n",
       "</div>"
      ],
      "text/plain": [
       "     Release Date    Season    Episode             Episode Title  \\\n",
       "6282   2012-05-20  Season 2  Episode 8  The Prince of Winterfell   \n",
       "\n",
       "                                               Sentence Character  word_count  \n",
       "6282  When I was twelve, my mother and father went t...    talisa         333  "
      ]
     },
     "execution_count": 34,
     "metadata": {},
     "output_type": "execute_result"
    }
   ],
   "source": [
    "GoT.loc[GoT['word_count'] == 333]"
   ]
  },
  {
   "cell_type": "code",
   "execution_count": 35,
   "metadata": {
    "ExecuteTime": {
     "end_time": "2020-08-20T14:01:00.622573Z",
     "start_time": "2020-08-20T14:00:59.961573Z"
    }
   },
   "outputs": [
    {
     "data": {
      "text/plain": [
       "(array([ 0,  1,  2,  3,  4,  5,  6,  7,  8,  9, 10, 11, 12, 13, 14, 15, 16,\n",
       "        17, 18, 19, 20, 21, 22, 23, 24]),\n",
       " <a list of 25 Text xticklabel objects>)"
      ]
     },
     "execution_count": 35,
     "metadata": {},
     "output_type": "execute_result"
    },
    {
     "data": {
      "image/png": "[encoded data removed]",
      "text/plain": [
       "<Figure size 360x360 with 1 Axes>"
      ]
     },
     "metadata": {
      "needs_background": "light"
     },
     "output_type": "display_data"
    }
   ],
   "source": [
    "sns.catplot(data=important_character_df, x='Character', y='word_count')\n",
    "plt.xticks(rotation=80)"
   ]
  },
  {
   "cell_type": "code",
   "execution_count": 36,
   "metadata": {
    "ExecuteTime": {
     "end_time": "2020-08-20T14:01:02.382572Z",
     "start_time": "2020-08-20T14:01:01.851573Z"
    }
   },
   "outputs": [
    {
     "data": {
      "text/plain": [
       "(array([0, 1, 2, 3, 4, 5, 6, 7]), <a list of 8 Text xticklabel objects>)"
      ]
     },
     "execution_count": 36,
     "metadata": {},
     "output_type": "execute_result"
    },
    {
     "data": {
      "image/png": "[encoded data removed]",
      "text/plain": [
       "<Figure size 360x360 with 1 Axes>"
      ]
     },
     "metadata": {
      "needs_background": "light"
     },
     "output_type": "display_data"
    }
   ],
   "source": [
    "sns.catplot(data=GoT, x='Season', y='word_count')\n",
    "plt.xticks(rotation=45)"
   ]
  },
  {
   "cell_type": "code",
   "execution_count": 37,
   "metadata": {
    "ExecuteTime": {
     "end_time": "2020-08-20T14:01:06.298572Z",
     "start_time": "2020-08-20T14:01:04.322575Z"
    }
   },
   "outputs": [
    {
     "data": {
      "image/png": "[encoded data removed]",
      "text/plain": [
       "<Figure size 720x720 with 1 Axes>"
      ]
     },
     "metadata": {
      "needs_background": "light"
     },
     "output_type": "display_data"
    }
   ],
   "source": [
    "all_words = WordCloud(background_color = 'White', collocations=False, height=800, width=1000)\n",
    "all_words.generate(complete_text)\n",
    "plt.figure(figsize = (10, 10))\n",
    "plt.imshow(all_words) \n",
    "plt.axis(\"off\")\n",
    "plt.show()"
   ]
  },
  {
   "cell_type": "code",
   "execution_count": null,
   "metadata": {},
   "outputs": [],
   "source": []
  },
  {
   "cell_type": "code",
   "execution_count": 82,
   "metadata": {
    "ExecuteTime": {
     "end_time": "2020-08-20T14:23:44.435122Z",
     "start_time": "2020-08-20T14:23:44.433122Z"
    }
   },
   "outputs": [],
   "source": [
    "filter1 = 'Season 8'\n",
    "filter2 = 'Episode 2'"
   ]
  },
  {
   "cell_type": "code",
   "execution_count": 83,
   "metadata": {
    "ExecuteTime": {
     "end_time": "2020-08-20T14:23:45.767121Z",
     "start_time": "2020-08-20T14:23:45.761121Z"
    }
   },
   "outputs": [],
   "source": [
    "dfs = GoT[GoT['Season'] == filter1]"
   ]
  },
  {
   "cell_type": "code",
   "execution_count": 84,
   "metadata": {
    "ExecuteTime": {
     "end_time": "2020-08-20T14:23:46.430118Z",
     "start_time": "2020-08-20T14:23:46.425122Z"
    }
   },
   "outputs": [],
   "source": [
    "if filter2:\n",
    "    dfe = dfs[dfs['Episode'] == filter2]\n",
    "else:\n",
    "    dfe = dfs"
   ]
  },
  {
   "cell_type": "code",
   "execution_count": 85,
   "metadata": {
    "ExecuteTime": {
     "end_time": "2020-08-20T14:23:47.142125Z",
     "start_time": "2020-08-20T14:23:47.131121Z"
    }
   },
   "outputs": [
    {
     "data": {
      "text/html": [
       "<div>\n",
       "<style scoped>\n",
       "    .dataframe tbody tr th:only-of-type {\n",
       "        vertical-align: middle;\n",
       "    }\n",
       "\n",
       "    .dataframe tbody tr th {\n",
       "        vertical-align: top;\n",
       "    }\n",
       "\n",
       "    .dataframe thead th {\n",
       "        text-align: right;\n",
       "    }\n",
       "</style>\n",
       "<table border=\"1\" class=\"dataframe\">\n",
       "  <thead>\n",
       "    <tr style=\"text-align: right;\">\n",
       "      <th></th>\n",
       "      <th>Release Date</th>\n",
       "      <th>Season</th>\n",
       "      <th>Episode</th>\n",
       "      <th>Episode Title</th>\n",
       "      <th>Sentence</th>\n",
       "      <th>Character</th>\n",
       "      <th>word_count</th>\n",
       "    </tr>\n",
       "  </thead>\n",
       "  <tbody>\n",
       "    <tr>\n",
       "      <th>22752</th>\n",
       "      <td>2019-04-21</td>\n",
       "      <td>Season 8</td>\n",
       "      <td>Episode 2</td>\n",
       "      <td>A Knight of the Seven Kingdoms</td>\n",
       "      <td>When I was a child, my brother would tell me a...</td>\n",
       "      <td>daenerys targaryen</td>\n",
       "      <td>20</td>\n",
       "    </tr>\n",
       "    <tr>\n",
       "      <th>22753</th>\n",
       "      <td>2019-04-21</td>\n",
       "      <td>Season 8</td>\n",
       "      <td>Episode 2</td>\n",
       "      <td>A Knight of the Seven Kingdoms</td>\n",
       "      <td>Who stabbed him in the back and cut his throat...</td>\n",
       "      <td>daenerys targaryen</td>\n",
       "      <td>26</td>\n",
       "    </tr>\n",
       "    <tr>\n",
       "      <th>22754</th>\n",
       "      <td>2019-04-21</td>\n",
       "      <td>Season 8</td>\n",
       "      <td>Episode 2</td>\n",
       "      <td>A Knight of the Seven Kingdoms</td>\n",
       "      <td>He told me other stories as well. About all th...</td>\n",
       "      <td>daenerys targaryen</td>\n",
       "      <td>30</td>\n",
       "    </tr>\n",
       "    <tr>\n",
       "      <th>22755</th>\n",
       "      <td>2019-04-21</td>\n",
       "      <td>Season 8</td>\n",
       "      <td>Episode 2</td>\n",
       "      <td>A Knight of the Seven Kingdoms</td>\n",
       "      <td>Your sister pledged to send her army north.</td>\n",
       "      <td>daenerys targaryen</td>\n",
       "      <td>8</td>\n",
       "    </tr>\n",
       "    <tr>\n",
       "      <th>22756</th>\n",
       "      <td>2019-04-21</td>\n",
       "      <td>Season 8</td>\n",
       "      <td>Episode 2</td>\n",
       "      <td>A Knight of the Seven Kingdoms</td>\n",
       "      <td>She did.</td>\n",
       "      <td>jaime lannister</td>\n",
       "      <td>2</td>\n",
       "    </tr>\n",
       "    <tr>\n",
       "      <th>...</th>\n",
       "      <td>...</td>\n",
       "      <td>...</td>\n",
       "      <td>...</td>\n",
       "      <td>...</td>\n",
       "      <td>...</td>\n",
       "      <td>...</td>\n",
       "      <td>...</td>\n",
       "    </tr>\n",
       "    <tr>\n",
       "      <th>23152</th>\n",
       "      <td>2019-04-21</td>\n",
       "      <td>Season 8</td>\n",
       "      <td>Episode 2</td>\n",
       "      <td>A Knight of the Seven Kingdoms</td>\n",
       "      <td>And Samwell confirmed it. He read about their ...</td>\n",
       "      <td>jon snow</td>\n",
       "      <td>18</td>\n",
       "    </tr>\n",
       "    <tr>\n",
       "      <th>23153</th>\n",
       "      <td>2019-04-21</td>\n",
       "      <td>Season 8</td>\n",
       "      <td>Episode 2</td>\n",
       "      <td>A Knight of the Seven Kingdoms</td>\n",
       "      <td>A secret no one in the world knew except your ...</td>\n",
       "      <td>daenerys targaryen</td>\n",
       "      <td>20</td>\n",
       "    </tr>\n",
       "    <tr>\n",
       "      <th>23154</th>\n",
       "      <td>2019-04-21</td>\n",
       "      <td>Season 8</td>\n",
       "      <td>Episode 2</td>\n",
       "      <td>A Knight of the Seven Kingdoms</td>\n",
       "      <td>It's true, Dany. I know it is.</td>\n",
       "      <td>jon snow</td>\n",
       "      <td>7</td>\n",
       "    </tr>\n",
       "    <tr>\n",
       "      <th>23155</th>\n",
       "      <td>2019-04-21</td>\n",
       "      <td>Season 8</td>\n",
       "      <td>Episode 2</td>\n",
       "      <td>A Knight of the Seven Kingdoms</td>\n",
       "      <td>If it were true, it would make you the last ma...</td>\n",
       "      <td>daenerys targaryen</td>\n",
       "      <td>23</td>\n",
       "    </tr>\n",
       "    <tr>\n",
       "      <th>23156</th>\n",
       "      <td>2019-04-21</td>\n",
       "      <td>Season 8</td>\n",
       "      <td>Episode 2</td>\n",
       "      <td>A Knight of the Seven Kingdoms</td>\n",
       "      <td>Form up! Get yourselves back!</td>\n",
       "      <td>man</td>\n",
       "      <td>5</td>\n",
       "    </tr>\n",
       "  </tbody>\n",
       "</table>\n",
       "<p>405 rows × 7 columns</p>\n",
       "</div>"
      ],
      "text/plain": [
       "      Release Date    Season    Episode                   Episode Title  \\\n",
       "22752   2019-04-21  Season 8  Episode 2  A Knight of the Seven Kingdoms   \n",
       "22753   2019-04-21  Season 8  Episode 2  A Knight of the Seven Kingdoms   \n",
       "22754   2019-04-21  Season 8  Episode 2  A Knight of the Seven Kingdoms   \n",
       "22755   2019-04-21  Season 8  Episode 2  A Knight of the Seven Kingdoms   \n",
       "22756   2019-04-21  Season 8  Episode 2  A Knight of the Seven Kingdoms   \n",
       "...            ...       ...        ...                             ...   \n",
       "23152   2019-04-21  Season 8  Episode 2  A Knight of the Seven Kingdoms   \n",
       "23153   2019-04-21  Season 8  Episode 2  A Knight of the Seven Kingdoms   \n",
       "23154   2019-04-21  Season 8  Episode 2  A Knight of the Seven Kingdoms   \n",
       "23155   2019-04-21  Season 8  Episode 2  A Knight of the Seven Kingdoms   \n",
       "23156   2019-04-21  Season 8  Episode 2  A Knight of the Seven Kingdoms   \n",
       "\n",
       "                                                Sentence           Character  \\\n",
       "22752  When I was a child, my brother would tell me a...  daenerys targaryen   \n",
       "22753  Who stabbed him in the back and cut his throat...  daenerys targaryen   \n",
       "22754  He told me other stories as well. About all th...  daenerys targaryen   \n",
       "22755        Your sister pledged to send her army north.  daenerys targaryen   \n",
       "22756                                           She did.     jaime lannister   \n",
       "...                                                  ...                 ...   \n",
       "23152  And Samwell confirmed it. He read about their ...            jon snow   \n",
       "23153  A secret no one in the world knew except your ...  daenerys targaryen   \n",
       "23154                     It's true, Dany. I know it is.            jon snow   \n",
       "23155  If it were true, it would make you the last ma...  daenerys targaryen   \n",
       "23156                      Form up! Get yourselves back!                 man   \n",
       "\n",
       "       word_count  \n",
       "22752          20  \n",
       "22753          26  \n",
       "22754          30  \n",
       "22755           8  \n",
       "22756           2  \n",
       "...           ...  \n",
       "23152          18  \n",
       "23153          20  \n",
       "23154           7  \n",
       "23155          23  \n",
       "23156           5  \n",
       "\n",
       "[405 rows x 7 columns]"
      ]
     },
     "execution_count": 85,
     "metadata": {},
     "output_type": "execute_result"
    }
   ],
   "source": [
    "dfe"
   ]
  },
  {
   "cell_type": "code",
   "execution_count": 70,
   "metadata": {
    "ExecuteTime": {
     "end_time": "2020-08-20T14:05:28.874715Z",
     "start_time": "2020-08-20T14:05:28.872713Z"
    }
   },
   "outputs": [],
   "source": [
    "import plotly.graph_objects as go"
   ]
  },
  {
   "cell_type": "code",
   "execution_count": 69,
   "metadata": {
    "ExecuteTime": {
     "end_time": "2020-08-20T14:05:27.935714Z",
     "start_time": "2020-08-20T14:05:27.925713Z"
    }
   },
   "outputs": [],
   "source": [
    "lines_df = dfe.set_index(['Character', 'Sentence']).count(level='Character')\n",
    "lines_df.sort_values(by=['Episode'], inplace = True, ascending = False)"
   ]
  },
  {
   "cell_type": "code",
   "execution_count": 71,
   "metadata": {
    "ExecuteTime": {
     "end_time": "2020-08-20T14:05:29.544715Z",
     "start_time": "2020-08-20T14:05:29.437713Z"
    }
   },
   "outputs": [
    {
     "data": {
      "application/vnd.plotly.v1+json": {
       "config": {
        "plotlyServerURL": "https://plot.ly"
       },
       "data": [
        {
         "type": "bar",
         "x": [
          "tyrion lannister",
          "jon snow",
          "daenerys targaryen",
          "soldier",
          "jaime lannister",
          "arya stark",
          "sam tarly",
          "sansa stark",
          "man",
          "gendry baratheon",
          "bran stark",
          "davos",
          "brienne",
          "sandor clegane",
          "euron greyjoy",
          "cersei lannister",
          "varys",
          "tormund",
          "grey worm",
          "bronn",
          "qyburn",
          "jorah mormont",
          "woman",
          "lyanna",
          "beric dondarrion"
         ],
         "y": [
          195,
          149,
          132,
          91,
          87,
          82,
          57,
          55,
          48,
          42,
          42,
          41,
          36,
          32,
          32,
          31,
          24,
          24,
          22,
          21,
          18,
          18,
          16,
          14,
          13,
          12,
          12,
          11,
          11,
          8,
          7,
          7,
          6,
          5,
          4,
          4,
          4,
          4,
          4,
          4,
          4,
          3,
          3,
          3,
          3,
          3,
          2,
          2,
          2,
          2,
          2,
          1,
          1,
          1,
          1,
          1,
          1,
          1,
          1,
          1,
          1,
          1,
          1
         ]
        }
       ],
       "layout": {
        "template": {
         "data": {
          "bar": [
           {
            "error_x": {
             "color": "#2a3f5f"
            },
            "error_y": {
             "color": "#2a3f5f"
            },
            "marker": {
             "line": {
              "color": "#E5ECF6",
              "width": 0.5
             }
            },
            "type": "bar"
           }
          ],
          "barpolar": [
           {
            "marker": {
             "line": {
              "color": "#E5ECF6",
              "width": 0.5
             }
            },
            "type": "barpolar"
           }
          ],
          "carpet": [
           {
            "aaxis": {
             "endlinecolor": "#2a3f5f",
             "gridcolor": "white",
             "linecolor": "white",
             "minorgridcolor": "white",
             "startlinecolor": "#2a3f5f"
            },
            "baxis": {
             "endlinecolor": "#2a3f5f",
             "gridcolor": "white",
             "linecolor": "white",
             "minorgridcolor": "white",
             "startlinecolor": "#2a3f5f"
            },
            "type": "carpet"
           }
          ],
          "choropleth": [
           {
            "colorbar": {
             "outlinewidth": 0,
             "ticks": ""
            },
            "type": "choropleth"
           }
          ],
          "contour": [
           {
            "colorbar": {
             "outlinewidth": 0,
             "ticks": ""
            },
            "colorscale": [
             [
              0,
              "#0d0887"
             ],
             [
              0.1111111111111111,
              "#46039f"
             ],
             [
              0.2222222222222222,
              "#7201a8"
             ],
             [
              0.3333333333333333,
              "#9c179e"
             ],
             [
              0.4444444444444444,
              "#bd3786"
             ],
             [
              0.5555555555555556,
              "#d8576b"
             ],
             [
              0.6666666666666666,
              "#ed7953"
             ],
             [
              0.7777777777777778,
              "#fb9f3a"
             ],
             [
              0.8888888888888888,
              "#fdca26"
             ],
             [
              1,
              "#f0f921"
             ]
            ],
            "type": "contour"
           }
          ],
          "contourcarpet": [
           {
            "colorbar": {
             "outlinewidth": 0,
             "ticks": ""
            },
            "type": "contourcarpet"
           }
          ],
          "heatmap": [
           {
            "colorbar": {
             "outlinewidth": 0,
             "ticks": ""
            },
            "colorscale": [
             [
              0,
              "#0d0887"
             ],
             [
              0.1111111111111111,
              "#46039f"
             ],
             [
              0.2222222222222222,
              "#7201a8"
             ],
             [
              0.3333333333333333,
              "#9c179e"
             ],
             [
              0.4444444444444444,
              "#bd3786"
             ],
             [
              0.5555555555555556,
              "#d8576b"
             ],
             [
              0.6666666666666666,
              "#ed7953"
             ],
             [
              0.7777777777777778,
              "#fb9f3a"
             ],
             [
              0.8888888888888888,
              "#fdca26"
             ],
             [
              1,
              "#f0f921"
             ]
            ],
            "type": "heatmap"
           }
          ],
          "heatmapgl": [
           {
            "colorbar": {
             "outlinewidth": 0,
             "ticks": ""
            },
            "colorscale": [
             [
              0,
              "#0d0887"
             ],
             [
              0.1111111111111111,
              "#46039f"
             ],
             [
              0.2222222222222222,
              "#7201a8"
             ],
             [
              0.3333333333333333,
              "#9c179e"
             ],
             [
              0.4444444444444444,
              "#bd3786"
             ],
             [
              0.5555555555555556,
              "#d8576b"
             ],
             [
              0.6666666666666666,
              "#ed7953"
             ],
             [
              0.7777777777777778,
              "#fb9f3a"
             ],
             [
              0.8888888888888888,
              "#fdca26"
             ],
             [
              1,
              "#f0f921"
             ]
            ],
            "type": "heatmapgl"
           }
          ],
          "histogram": [
           {
            "marker": {
             "colorbar": {
              "outlinewidth": 0,
              "ticks": ""
             }
            },
            "type": "histogram"
           }
          ],
          "histogram2d": [
           {
            "colorbar": {
             "outlinewidth": 0,
             "ticks": ""
            },
            "colorscale": [
             [
              0,
              "#0d0887"
             ],
             [
              0.1111111111111111,
              "#46039f"
             ],
             [
              0.2222222222222222,
              "#7201a8"
             ],
             [
              0.3333333333333333,
              "#9c179e"
             ],
             [
              0.4444444444444444,
              "#bd3786"
             ],
             [
              0.5555555555555556,
              "#d8576b"
             ],
             [
              0.6666666666666666,
              "#ed7953"
             ],
             [
              0.7777777777777778,
              "#fb9f3a"
             ],
             [
              0.8888888888888888,
              "#fdca26"
             ],
             [
              1,
              "#f0f921"
             ]
            ],
            "type": "histogram2d"
           }
          ],
          "histogram2dcontour": [
           {
            "colorbar": {
             "outlinewidth": 0,
             "ticks": ""
            },
            "colorscale": [
             [
              0,
              "#0d0887"
             ],
             [
              0.1111111111111111,
              "#46039f"
             ],
             [
              0.2222222222222222,
              "#7201a8"
             ],
             [
              0.3333333333333333,
              "#9c179e"
             ],
             [
              0.4444444444444444,
              "#bd3786"
             ],
             [
              0.5555555555555556,
              "#d8576b"
             ],
             [
              0.6666666666666666,
              "#ed7953"
             ],
             [
              0.7777777777777778,
              "#fb9f3a"
             ],
             [
              0.8888888888888888,
              "#fdca26"
             ],
             [
              1,
              "#f0f921"
             ]
            ],
            "type": "histogram2dcontour"
           }
          ],
          "mesh3d": [
           {
            "colorbar": {
             "outlinewidth": 0,
             "ticks": ""
            },
            "type": "mesh3d"
           }
          ],
          "parcoords": [
           {
            "line": {
             "colorbar": {
              "outlinewidth": 0,
              "ticks": ""
             }
            },
            "type": "parcoords"
           }
          ],
          "scatter": [
           {
            "marker": {
             "colorbar": {
              "outlinewidth": 0,
              "ticks": ""
             }
            },
            "type": "scatter"
           }
          ],
          "scatter3d": [
           {
            "line": {
             "colorbar": {
              "outlinewidth": 0,
              "ticks": ""
             }
            },
            "marker": {
             "colorbar": {
              "outlinewidth": 0,
              "ticks": ""
             }
            },
            "type": "scatter3d"
           }
          ],
          "scattercarpet": [
           {
            "marker": {
             "colorbar": {
              "outlinewidth": 0,
              "ticks": ""
             }
            },
            "type": "scattercarpet"
           }
          ],
          "scattergeo": [
           {
            "marker": {
             "colorbar": {
              "outlinewidth": 0,
              "ticks": ""
             }
            },
            "type": "scattergeo"
           }
          ],
          "scattergl": [
           {
            "marker": {
             "colorbar": {
              "outlinewidth": 0,
              "ticks": ""
             }
            },
            "type": "scattergl"
           }
          ],
          "scattermapbox": [
           {
            "marker": {
             "colorbar": {
              "outlinewidth": 0,
              "ticks": ""
             }
            },
            "type": "scattermapbox"
           }
          ],
          "scatterpolar": [
           {
            "marker": {
             "colorbar": {
              "outlinewidth": 0,
              "ticks": ""
             }
            },
            "type": "scatterpolar"
           }
          ],
          "scatterpolargl": [
           {
            "marker": {
             "colorbar": {
              "outlinewidth": 0,
              "ticks": ""
             }
            },
            "type": "scatterpolargl"
           }
          ],
          "scatterternary": [
           {
            "marker": {
             "colorbar": {
              "outlinewidth": 0,
              "ticks": ""
             }
            },
            "type": "scatterternary"
           }
          ],
          "surface": [
           {
            "colorbar": {
             "outlinewidth": 0,
             "ticks": ""
            },
            "colorscale": [
             [
              0,
              "#0d0887"
             ],
             [
              0.1111111111111111,
              "#46039f"
             ],
             [
              0.2222222222222222,
              "#7201a8"
             ],
             [
              0.3333333333333333,
              "#9c179e"
             ],
             [
              0.4444444444444444,
              "#bd3786"
             ],
             [
              0.5555555555555556,
              "#d8576b"
             ],
             [
              0.6666666666666666,
              "#ed7953"
             ],
             [
              0.7777777777777778,
              "#fb9f3a"
             ],
             [
              0.8888888888888888,
              "#fdca26"
             ],
             [
              1,
              "#f0f921"
             ]
            ],
            "type": "surface"
           }
          ],
          "table": [
           {
            "cells": {
             "fill": {
              "color": "#EBF0F8"
             },
             "line": {
              "color": "white"
             }
            },
            "header": {
             "fill": {
              "color": "#C8D4E3"
             },
             "line": {
              "color": "white"
             }
            },
            "type": "table"
           }
          ]
         },
         "layout": {
          "annotationdefaults": {
           "arrowcolor": "#2a3f5f",
           "arrowhead": 0,
           "arrowwidth": 1
          },
          "colorscale": {
           "diverging": [
            [
             0,
             "#8e0152"
            ],
            [
             0.1,
             "#c51b7d"
            ],
            [
             0.2,
             "#de77ae"
            ],
            [
             0.3,
             "#f1b6da"
            ],
            [
             0.4,
             "#fde0ef"
            ],
            [
             0.5,
             "#f7f7f7"
            ],
            [
             0.6,
             "#e6f5d0"
            ],
            [
             0.7,
             "#b8e186"
            ],
            [
             0.8,
             "#7fbc41"
            ],
            [
             0.9,
             "#4d9221"
            ],
            [
             1,
             "#276419"
            ]
           ],
           "sequential": [
            [
             0,
             "#0d0887"
            ],
            [
             0.1111111111111111,
             "#46039f"
            ],
            [
             0.2222222222222222,
             "#7201a8"
            ],
            [
             0.3333333333333333,
             "#9c179e"
            ],
            [
             0.4444444444444444,
             "#bd3786"
            ],
            [
             0.5555555555555556,
             "#d8576b"
            ],
            [
             0.6666666666666666,
             "#ed7953"
            ],
            [
             0.7777777777777778,
             "#fb9f3a"
            ],
            [
             0.8888888888888888,
             "#fdca26"
            ],
            [
             1,
             "#f0f921"
            ]
           ],
           "sequentialminus": [
            [
             0,
             "#0d0887"
            ],
            [
             0.1111111111111111,
             "#46039f"
            ],
            [
             0.2222222222222222,
             "#7201a8"
            ],
            [
             0.3333333333333333,
             "#9c179e"
            ],
            [
             0.4444444444444444,
             "#bd3786"
            ],
            [
             0.5555555555555556,
             "#d8576b"
            ],
            [
             0.6666666666666666,
             "#ed7953"
            ],
            [
             0.7777777777777778,
             "#fb9f3a"
            ],
            [
             0.8888888888888888,
             "#fdca26"
            ],
            [
             1,
             "#f0f921"
            ]
           ]
          },
          "colorway": [
           "#636efa",
           "#EF553B",
           "#00cc96",
           "#ab63fa",
           "#FFA15A",
           "#19d3f3",
           "#FF6692",
           "#B6E880",
           "#FF97FF",
           "#FECB52"
          ],
          "font": {
           "color": "#2a3f5f"
          },
          "geo": {
           "bgcolor": "white",
           "lakecolor": "white",
           "landcolor": "#E5ECF6",
           "showlakes": true,
           "showland": true,
           "subunitcolor": "white"
          },
          "hoverlabel": {
           "align": "left"
          },
          "hovermode": "closest",
          "mapbox": {
           "style": "light"
          },
          "paper_bgcolor": "white",
          "plot_bgcolor": "#E5ECF6",
          "polar": {
           "angularaxis": {
            "gridcolor": "white",
            "linecolor": "white",
            "ticks": ""
           },
           "bgcolor": "#E5ECF6",
           "radialaxis": {
            "gridcolor": "white",
            "linecolor": "white",
            "ticks": ""
           }
          },
          "scene": {
           "xaxis": {
            "backgroundcolor": "#E5ECF6",
            "gridcolor": "white",
            "gridwidth": 2,
            "linecolor": "white",
            "showbackground": true,
            "ticks": "",
            "zerolinecolor": "white"
           },
           "yaxis": {
            "backgroundcolor": "#E5ECF6",
            "gridcolor": "white",
            "gridwidth": 2,
            "linecolor": "white",
            "showbackground": true,
            "ticks": "",
            "zerolinecolor": "white"
           },
           "zaxis": {
            "backgroundcolor": "#E5ECF6",
            "gridcolor": "white",
            "gridwidth": 2,
            "linecolor": "white",
            "showbackground": true,
            "ticks": "",
            "zerolinecolor": "white"
           }
          },
          "shapedefaults": {
           "line": {
            "color": "#2a3f5f"
           }
          },
          "ternary": {
           "aaxis": {
            "gridcolor": "white",
            "linecolor": "white",
            "ticks": ""
           },
           "baxis": {
            "gridcolor": "white",
            "linecolor": "white",
            "ticks": ""
           },
           "bgcolor": "#E5ECF6",
           "caxis": {
            "gridcolor": "white",
            "linecolor": "white",
            "ticks": ""
           }
          },
          "title": {
           "x": 0.05
          },
          "xaxis": {
           "automargin": true,
           "gridcolor": "white",
           "linecolor": "white",
           "ticks": "",
           "zerolinecolor": "white",
           "zerolinewidth": 2
          },
          "yaxis": {
           "automargin": true,
           "gridcolor": "white",
           "linecolor": "white",
           "ticks": "",
           "zerolinecolor": "white",
           "zerolinewidth": 2
          }
         }
        }
       }
      },
      "text/html": [
       "<div>\n",
       "        \n",
       "        \n",
       "            <div id=\"36bf5010-e58c-451c-ad08-8009618d28e4\" class=\"plotly-graph-div\" style=\"height:525px; width:100%;\"></div>\n",
       "            <script type=\"text/javascript\">\n",
       "                require([\"plotly\"], function(Plotly) {\n",
       "                    window.PLOTLYENV=window.PLOTLYENV || {};\n",
       "                    \n",
       "                if (document.getElementById(\"36bf5010-e58c-451c-ad08-8009618d28e4\")) {\n",
       "                    Plotly.newPlot(\n",
       "                        '36bf5010-e58c-451c-ad08-8009618d28e4',\n",
       "                        [{\"type\": \"bar\", \"x\": [\"tyrion lannister\", \"jon snow\", \"daenerys targaryen\", \"soldier\", \"jaime lannister\", \"arya stark\", \"sam tarly\", \"sansa stark\", \"man\", \"gendry baratheon\", \"bran stark\", \"davos\", \"brienne\", \"sandor clegane\", \"euron greyjoy\", \"cersei lannister\", \"varys\", \"tormund\", \"grey worm\", \"bronn\", \"qyburn\", \"jorah mormont\", \"woman\", \"lyanna\", \"beric dondarrion\"], \"y\": [195, 149, 132, 91, 87, 82, 57, 55, 48, 42, 42, 41, 36, 32, 32, 31, 24, 24, 22, 21, 18, 18, 16, 14, 13, 12, 12, 11, 11, 8, 7, 7, 6, 5, 4, 4, 4, 4, 4, 4, 4, 3, 3, 3, 3, 3, 2, 2, 2, 2, 2, 1, 1, 1, 1, 1, 1, 1, 1, 1, 1, 1, 1]}],\n",
       "                        {\"template\": {\"data\": {\"bar\": [{\"error_x\": {\"color\": \"#2a3f5f\"}, \"error_y\": {\"color\": \"#2a3f5f\"}, \"marker\": {\"line\": {\"color\": \"#E5ECF6\", \"width\": 0.5}}, \"type\": \"bar\"}], \"barpolar\": [{\"marker\": {\"line\": {\"color\": \"#E5ECF6\", \"width\": 0.5}}, \"type\": \"barpolar\"}], \"carpet\": [{\"aaxis\": {\"endlinecolor\": \"#2a3f5f\", \"gridcolor\": \"white\", \"linecolor\": \"white\", \"minorgridcolor\": \"white\", \"startlinecolor\": \"#2a3f5f\"}, \"baxis\": {\"endlinecolor\": \"#2a3f5f\", \"gridcolor\": \"white\", \"linecolor\": \"white\", \"minorgridcolor\": \"white\", \"startlinecolor\": \"#2a3f5f\"}, \"type\": \"carpet\"}], \"choropleth\": [{\"colorbar\": {\"outlinewidth\": 0, \"ticks\": \"\"}, \"type\": \"choropleth\"}], \"contour\": [{\"colorbar\": {\"outlinewidth\": 0, \"ticks\": \"\"}, \"colorscale\": [[0.0, \"#0d0887\"], [0.1111111111111111, \"#46039f\"], [0.2222222222222222, \"#7201a8\"], [0.3333333333333333, \"#9c179e\"], [0.4444444444444444, \"#bd3786\"], [0.5555555555555556, \"#d8576b\"], [0.6666666666666666, \"#ed7953\"], [0.7777777777777778, \"#fb9f3a\"], [0.8888888888888888, \"#fdca26\"], [1.0, \"#f0f921\"]], \"type\": \"contour\"}], \"contourcarpet\": [{\"colorbar\": {\"outlinewidth\": 0, \"ticks\": \"\"}, \"type\": \"contourcarpet\"}], \"heatmap\": [{\"colorbar\": {\"outlinewidth\": 0, \"ticks\": \"\"}, \"colorscale\": [[0.0, \"#0d0887\"], [0.1111111111111111, \"#46039f\"], [0.2222222222222222, \"#7201a8\"], [0.3333333333333333, \"#9c179e\"], [0.4444444444444444, \"#bd3786\"], [0.5555555555555556, \"#d8576b\"], [0.6666666666666666, \"#ed7953\"], [0.7777777777777778, \"#fb9f3a\"], [0.8888888888888888, \"#fdca26\"], [1.0, \"#f0f921\"]], \"type\": \"heatmap\"}], \"heatmapgl\": [{\"colorbar\": {\"outlinewidth\": 0, \"ticks\": \"\"}, \"colorscale\": [[0.0, \"#0d0887\"], [0.1111111111111111, \"#46039f\"], [0.2222222222222222, \"#7201a8\"], [0.3333333333333333, \"#9c179e\"], [0.4444444444444444, \"#bd3786\"], [0.5555555555555556, \"#d8576b\"], [0.6666666666666666, \"#ed7953\"], [0.7777777777777778, \"#fb9f3a\"], [0.8888888888888888, \"#fdca26\"], [1.0, \"#f0f921\"]], \"type\": \"heatmapgl\"}], \"histogram\": [{\"marker\": {\"colorbar\": {\"outlinewidth\": 0, \"ticks\": \"\"}}, \"type\": \"histogram\"}], \"histogram2d\": [{\"colorbar\": {\"outlinewidth\": 0, \"ticks\": \"\"}, \"colorscale\": [[0.0, \"#0d0887\"], [0.1111111111111111, \"#46039f\"], [0.2222222222222222, \"#7201a8\"], [0.3333333333333333, \"#9c179e\"], [0.4444444444444444, \"#bd3786\"], [0.5555555555555556, \"#d8576b\"], [0.6666666666666666, \"#ed7953\"], [0.7777777777777778, \"#fb9f3a\"], [0.8888888888888888, \"#fdca26\"], [1.0, \"#f0f921\"]], \"type\": \"histogram2d\"}], \"histogram2dcontour\": [{\"colorbar\": {\"outlinewidth\": 0, \"ticks\": \"\"}, \"colorscale\": [[0.0, \"#0d0887\"], [0.1111111111111111, \"#46039f\"], [0.2222222222222222, \"#7201a8\"], [0.3333333333333333, \"#9c179e\"], [0.4444444444444444, \"#bd3786\"], [0.5555555555555556, \"#d8576b\"], [0.6666666666666666, \"#ed7953\"], [0.7777777777777778, \"#fb9f3a\"], [0.8888888888888888, \"#fdca26\"], [1.0, \"#f0f921\"]], \"type\": \"histogram2dcontour\"}], \"mesh3d\": [{\"colorbar\": {\"outlinewidth\": 0, \"ticks\": \"\"}, \"type\": \"mesh3d\"}], \"parcoords\": [{\"line\": {\"colorbar\": {\"outlinewidth\": 0, \"ticks\": \"\"}}, \"type\": \"parcoords\"}], \"scatter\": [{\"marker\": {\"colorbar\": {\"outlinewidth\": 0, \"ticks\": \"\"}}, \"type\": \"scatter\"}], \"scatter3d\": [{\"line\": {\"colorbar\": {\"outlinewidth\": 0, \"ticks\": \"\"}}, \"marker\": {\"colorbar\": {\"outlinewidth\": 0, \"ticks\": \"\"}}, \"type\": \"scatter3d\"}], \"scattercarpet\": [{\"marker\": {\"colorbar\": {\"outlinewidth\": 0, \"ticks\": \"\"}}, \"type\": \"scattercarpet\"}], \"scattergeo\": [{\"marker\": {\"colorbar\": {\"outlinewidth\": 0, \"ticks\": \"\"}}, \"type\": \"scattergeo\"}], \"scattergl\": [{\"marker\": {\"colorbar\": {\"outlinewidth\": 0, \"ticks\": \"\"}}, \"type\": \"scattergl\"}], \"scattermapbox\": [{\"marker\": {\"colorbar\": {\"outlinewidth\": 0, \"ticks\": \"\"}}, \"type\": \"scattermapbox\"}], \"scatterpolar\": [{\"marker\": {\"colorbar\": {\"outlinewidth\": 0, \"ticks\": \"\"}}, \"type\": \"scatterpolar\"}], \"scatterpolargl\": [{\"marker\": {\"colorbar\": {\"outlinewidth\": 0, \"ticks\": \"\"}}, \"type\": \"scatterpolargl\"}], \"scatterternary\": [{\"marker\": {\"colorbar\": {\"outlinewidth\": 0, \"ticks\": \"\"}}, \"type\": \"scatterternary\"}], \"surface\": [{\"colorbar\": {\"outlinewidth\": 0, \"ticks\": \"\"}, \"colorscale\": [[0.0, \"#0d0887\"], [0.1111111111111111, \"#46039f\"], [0.2222222222222222, \"#7201a8\"], [0.3333333333333333, \"#9c179e\"], [0.4444444444444444, \"#bd3786\"], [0.5555555555555556, \"#d8576b\"], [0.6666666666666666, \"#ed7953\"], [0.7777777777777778, \"#fb9f3a\"], [0.8888888888888888, \"#fdca26\"], [1.0, \"#f0f921\"]], \"type\": \"surface\"}], \"table\": [{\"cells\": {\"fill\": {\"color\": \"#EBF0F8\"}, \"line\": {\"color\": \"white\"}}, \"header\": {\"fill\": {\"color\": \"#C8D4E3\"}, \"line\": {\"color\": \"white\"}}, \"type\": \"table\"}]}, \"layout\": {\"annotationdefaults\": {\"arrowcolor\": \"#2a3f5f\", \"arrowhead\": 0, \"arrowwidth\": 1}, \"colorscale\": {\"diverging\": [[0, \"#8e0152\"], [0.1, \"#c51b7d\"], [0.2, \"#de77ae\"], [0.3, \"#f1b6da\"], [0.4, \"#fde0ef\"], [0.5, \"#f7f7f7\"], [0.6, \"#e6f5d0\"], [0.7, \"#b8e186\"], [0.8, \"#7fbc41\"], [0.9, \"#4d9221\"], [1, \"#276419\"]], \"sequential\": [[0.0, \"#0d0887\"], [0.1111111111111111, \"#46039f\"], [0.2222222222222222, \"#7201a8\"], [0.3333333333333333, \"#9c179e\"], [0.4444444444444444, \"#bd3786\"], [0.5555555555555556, \"#d8576b\"], [0.6666666666666666, \"#ed7953\"], [0.7777777777777778, \"#fb9f3a\"], [0.8888888888888888, \"#fdca26\"], [1.0, \"#f0f921\"]], \"sequentialminus\": [[0.0, \"#0d0887\"], [0.1111111111111111, \"#46039f\"], [0.2222222222222222, \"#7201a8\"], [0.3333333333333333, \"#9c179e\"], [0.4444444444444444, \"#bd3786\"], [0.5555555555555556, \"#d8576b\"], [0.6666666666666666, \"#ed7953\"], [0.7777777777777778, \"#fb9f3a\"], [0.8888888888888888, \"#fdca26\"], [1.0, \"#f0f921\"]]}, \"colorway\": [\"#636efa\", \"#EF553B\", \"#00cc96\", \"#ab63fa\", \"#FFA15A\", \"#19d3f3\", \"#FF6692\", \"#B6E880\", \"#FF97FF\", \"#FECB52\"], \"font\": {\"color\": \"#2a3f5f\"}, \"geo\": {\"bgcolor\": \"white\", \"lakecolor\": \"white\", \"landcolor\": \"#E5ECF6\", \"showlakes\": true, \"showland\": true, \"subunitcolor\": \"white\"}, \"hoverlabel\": {\"align\": \"left\"}, \"hovermode\": \"closest\", \"mapbox\": {\"style\": \"light\"}, \"paper_bgcolor\": \"white\", \"plot_bgcolor\": \"#E5ECF6\", \"polar\": {\"angularaxis\": {\"gridcolor\": \"white\", \"linecolor\": \"white\", \"ticks\": \"\"}, \"bgcolor\": \"#E5ECF6\", \"radialaxis\": {\"gridcolor\": \"white\", \"linecolor\": \"white\", \"ticks\": \"\"}}, \"scene\": {\"xaxis\": {\"backgroundcolor\": \"#E5ECF6\", \"gridcolor\": \"white\", \"gridwidth\": 2, \"linecolor\": \"white\", \"showbackground\": true, \"ticks\": \"\", \"zerolinecolor\": \"white\"}, \"yaxis\": {\"backgroundcolor\": \"#E5ECF6\", \"gridcolor\": \"white\", \"gridwidth\": 2, \"linecolor\": \"white\", \"showbackground\": true, \"ticks\": \"\", \"zerolinecolor\": \"white\"}, \"zaxis\": {\"backgroundcolor\": \"#E5ECF6\", \"gridcolor\": \"white\", \"gridwidth\": 2, \"linecolor\": \"white\", \"showbackground\": true, \"ticks\": \"\", \"zerolinecolor\": \"white\"}}, \"shapedefaults\": {\"line\": {\"color\": \"#2a3f5f\"}}, \"ternary\": {\"aaxis\": {\"gridcolor\": \"white\", \"linecolor\": \"white\", \"ticks\": \"\"}, \"baxis\": {\"gridcolor\": \"white\", \"linecolor\": \"white\", \"ticks\": \"\"}, \"bgcolor\": \"#E5ECF6\", \"caxis\": {\"gridcolor\": \"white\", \"linecolor\": \"white\", \"ticks\": \"\"}}, \"title\": {\"x\": 0.05}, \"xaxis\": {\"automargin\": true, \"gridcolor\": \"white\", \"linecolor\": \"white\", \"ticks\": \"\", \"zerolinecolor\": \"white\", \"zerolinewidth\": 2}, \"yaxis\": {\"automargin\": true, \"gridcolor\": \"white\", \"linecolor\": \"white\", \"ticks\": \"\", \"zerolinecolor\": \"white\", \"zerolinewidth\": 2}}}},\n",
       "                        {\"responsive\": true}\n",
       "                    ).then(function(){\n",
       "                            \n",
       "var gd = document.getElementById('36bf5010-e58c-451c-ad08-8009618d28e4');\n",
       "var x = new MutationObserver(function (mutations, observer) {{\n",
       "        var display = window.getComputedStyle(gd).display;\n",
       "        if (!display || display === 'none') {{\n",
       "            console.log([gd, 'removed!']);\n",
       "            Plotly.purge(gd);\n",
       "            observer.disconnect();\n",
       "        }}\n",
       "}});\n",
       "\n",
       "// Listen for the removal of the full notebook cells\n",
       "var notebookContainer = gd.closest('#notebook-container');\n",
       "if (notebookContainer) {{\n",
       "    x.observe(notebookContainer, {childList: true});\n",
       "}}\n",
       "\n",
       "// Listen for the clearing of the current output cell\n",
       "var outputEl = gd.closest('.output');\n",
       "if (outputEl) {{\n",
       "    x.observe(outputEl, {childList: true});\n",
       "}}\n",
       "\n",
       "                        })\n",
       "                };\n",
       "                });\n",
       "            </script>\n",
       "        </div>"
      ]
     },
     "metadata": {},
     "output_type": "display_data"
    }
   ],
   "source": [
    "fig = go.Figure()\n",
    "\n",
    "fig.add_trace(go.Bar(\n",
    "    x = lines_df.index[:25],\n",
    "    y = lines_df['Episode']))"
   ]
  },
  {
   "cell_type": "code",
   "execution_count": 79,
   "metadata": {
    "ExecuteTime": {
     "end_time": "2020-08-20T14:16:52.065152Z",
     "start_time": "2020-08-20T14:16:52.056152Z"
    }
   },
   "outputs": [],
   "source": [
    "#preffered method\n",
    "test = dfe.Character.value_counts().reset_index(name=\"count\").query(\"count > 5\")[:35]"
   ]
  },
  {
   "cell_type": "code",
   "execution_count": 80,
   "metadata": {
    "ExecuteTime": {
     "end_time": "2020-08-20T14:16:52.513153Z",
     "start_time": "2020-08-20T14:16:52.398156Z"
    }
   },
   "outputs": [
    {
     "data": {
      "application/vnd.plotly.v1+json": {
       "config": {
        "plotlyServerURL": "https://plot.ly"
       },
       "data": [
        {
         "type": "bar",
         "x": [
          "tyrion lannister",
          "jon snow",
          "daenerys targaryen",
          "soldier",
          "jaime lannister",
          "arya stark",
          "sam tarly",
          "sansa stark",
          "man",
          "gendry baratheon",
          "bran stark",
          "davos",
          "brienne",
          "sandor clegane",
          "euron greyjoy",
          "cersei lannister",
          "tormund",
          "varys",
          "grey worm",
          "bronn",
          "jorah mormont",
          "qyburn",
          "woman",
          "lyanna",
          "beric dondarrion",
          "'dolorous' edd",
          "theon greyjoy",
          "melisandre",
          "yara greyjoy",
          "nora",
          "podrick",
          "crayah",
          "dirah"
         ],
         "y": [
          195,
          149,
          132,
          91,
          87,
          82,
          57,
          55,
          48,
          42,
          42,
          41,
          36,
          32,
          32,
          31,
          24,
          24,
          22,
          21,
          18,
          18,
          16,
          14,
          13,
          12,
          12,
          11,
          11,
          8,
          7,
          7,
          6
         ]
        }
       ],
       "layout": {
        "template": {
         "data": {
          "bar": [
           {
            "error_x": {
             "color": "#2a3f5f"
            },
            "error_y": {
             "color": "#2a3f5f"
            },
            "marker": {
             "line": {
              "color": "#E5ECF6",
              "width": 0.5
             }
            },
            "type": "bar"
           }
          ],
          "barpolar": [
           {
            "marker": {
             "line": {
              "color": "#E5ECF6",
              "width": 0.5
             }
            },
            "type": "barpolar"
           }
          ],
          "carpet": [
           {
            "aaxis": {
             "endlinecolor": "#2a3f5f",
             "gridcolor": "white",
             "linecolor": "white",
             "minorgridcolor": "white",
             "startlinecolor": "#2a3f5f"
            },
            "baxis": {
             "endlinecolor": "#2a3f5f",
             "gridcolor": "white",
             "linecolor": "white",
             "minorgridcolor": "white",
             "startlinecolor": "#2a3f5f"
            },
            "type": "carpet"
           }
          ],
          "choropleth": [
           {
            "colorbar": {
             "outlinewidth": 0,
             "ticks": ""
            },
            "type": "choropleth"
           }
          ],
          "contour": [
           {
            "colorbar": {
             "outlinewidth": 0,
             "ticks": ""
            },
            "colorscale": [
             [
              0,
              "#0d0887"
             ],
             [
              0.1111111111111111,
              "#46039f"
             ],
             [
              0.2222222222222222,
              "#7201a8"
             ],
             [
              0.3333333333333333,
              "#9c179e"
             ],
             [
              0.4444444444444444,
              "#bd3786"
             ],
             [
              0.5555555555555556,
              "#d8576b"
             ],
             [
              0.6666666666666666,
              "#ed7953"
             ],
             [
              0.7777777777777778,
              "#fb9f3a"
             ],
             [
              0.8888888888888888,
              "#fdca26"
             ],
             [
              1,
              "#f0f921"
             ]
            ],
            "type": "contour"
           }
          ],
          "contourcarpet": [
           {
            "colorbar": {
             "outlinewidth": 0,
             "ticks": ""
            },
            "type": "contourcarpet"
           }
          ],
          "heatmap": [
           {
            "colorbar": {
             "outlinewidth": 0,
             "ticks": ""
            },
            "colorscale": [
             [
              0,
              "#0d0887"
             ],
             [
              0.1111111111111111,
              "#46039f"
             ],
             [
              0.2222222222222222,
              "#7201a8"
             ],
             [
              0.3333333333333333,
              "#9c179e"
             ],
             [
              0.4444444444444444,
              "#bd3786"
             ],
             [
              0.5555555555555556,
              "#d8576b"
             ],
             [
              0.6666666666666666,
              "#ed7953"
             ],
             [
              0.7777777777777778,
              "#fb9f3a"
             ],
             [
              0.8888888888888888,
              "#fdca26"
             ],
             [
              1,
              "#f0f921"
             ]
            ],
            "type": "heatmap"
           }
          ],
          "heatmapgl": [
           {
            "colorbar": {
             "outlinewidth": 0,
             "ticks": ""
            },
            "colorscale": [
             [
              0,
              "#0d0887"
             ],
             [
              0.1111111111111111,
              "#46039f"
             ],
             [
              0.2222222222222222,
              "#7201a8"
             ],
             [
              0.3333333333333333,
              "#9c179e"
             ],
             [
              0.4444444444444444,
              "#bd3786"
             ],
             [
              0.5555555555555556,
              "#d8576b"
             ],
             [
              0.6666666666666666,
              "#ed7953"
             ],
             [
              0.7777777777777778,
              "#fb9f3a"
             ],
             [
              0.8888888888888888,
              "#fdca26"
             ],
             [
              1,
              "#f0f921"
             ]
            ],
            "type": "heatmapgl"
           }
          ],
          "histogram": [
           {
            "marker": {
             "colorbar": {
              "outlinewidth": 0,
              "ticks": ""
             }
            },
            "type": "histogram"
           }
          ],
          "histogram2d": [
           {
            "colorbar": {
             "outlinewidth": 0,
             "ticks": ""
            },
            "colorscale": [
             [
              0,
              "#0d0887"
             ],
             [
              0.1111111111111111,
              "#46039f"
             ],
             [
              0.2222222222222222,
              "#7201a8"
             ],
             [
              0.3333333333333333,
              "#9c179e"
             ],
             [
              0.4444444444444444,
              "#bd3786"
             ],
             [
              0.5555555555555556,
              "#d8576b"
             ],
             [
              0.6666666666666666,
              "#ed7953"
             ],
             [
              0.7777777777777778,
              "#fb9f3a"
             ],
             [
              0.8888888888888888,
              "#fdca26"
             ],
             [
              1,
              "#f0f921"
             ]
            ],
            "type": "histogram2d"
           }
          ],
          "histogram2dcontour": [
           {
            "colorbar": {
             "outlinewidth": 0,
             "ticks": ""
            },
            "colorscale": [
             [
              0,
              "#0d0887"
             ],
             [
              0.1111111111111111,
              "#46039f"
             ],
             [
              0.2222222222222222,
              "#7201a8"
             ],
             [
              0.3333333333333333,
              "#9c179e"
             ],
             [
              0.4444444444444444,
              "#bd3786"
             ],
             [
              0.5555555555555556,
              "#d8576b"
             ],
             [
              0.6666666666666666,
              "#ed7953"
             ],
             [
              0.7777777777777778,
              "#fb9f3a"
             ],
             [
              0.8888888888888888,
              "#fdca26"
             ],
             [
              1,
              "#f0f921"
             ]
            ],
            "type": "histogram2dcontour"
           }
          ],
          "mesh3d": [
           {
            "colorbar": {
             "outlinewidth": 0,
             "ticks": ""
            },
            "type": "mesh3d"
           }
          ],
          "parcoords": [
           {
            "line": {
             "colorbar": {
              "outlinewidth": 0,
              "ticks": ""
             }
            },
            "type": "parcoords"
           }
          ],
          "scatter": [
           {
            "marker": {
             "colorbar": {
              "outlinewidth": 0,
              "ticks": ""
             }
            },
            "type": "scatter"
           }
          ],
          "scatter3d": [
           {
            "line": {
             "colorbar": {
              "outlinewidth": 0,
              "ticks": ""
             }
            },
            "marker": {
             "colorbar": {
              "outlinewidth": 0,
              "ticks": ""
             }
            },
            "type": "scatter3d"
           }
          ],
          "scattercarpet": [
           {
            "marker": {
             "colorbar": {
              "outlinewidth": 0,
              "ticks": ""
             }
            },
            "type": "scattercarpet"
           }
          ],
          "scattergeo": [
           {
            "marker": {
             "colorbar": {
              "outlinewidth": 0,
              "ticks": ""
             }
            },
            "type": "scattergeo"
           }
          ],
          "scattergl": [
           {
            "marker": {
             "colorbar": {
              "outlinewidth": 0,
              "ticks": ""
             }
            },
            "type": "scattergl"
           }
          ],
          "scattermapbox": [
           {
            "marker": {
             "colorbar": {
              "outlinewidth": 0,
              "ticks": ""
             }
            },
            "type": "scattermapbox"
           }
          ],
          "scatterpolar": [
           {
            "marker": {
             "colorbar": {
              "outlinewidth": 0,
              "ticks": ""
             }
            },
            "type": "scatterpolar"
           }
          ],
          "scatterpolargl": [
           {
            "marker": {
             "colorbar": {
              "outlinewidth": 0,
              "ticks": ""
             }
            },
            "type": "scatterpolargl"
           }
          ],
          "scatterternary": [
           {
            "marker": {
             "colorbar": {
              "outlinewidth": 0,
              "ticks": ""
             }
            },
            "type": "scatterternary"
           }
          ],
          "surface": [
           {
            "colorbar": {
             "outlinewidth": 0,
             "ticks": ""
            },
            "colorscale": [
             [
              0,
              "#0d0887"
             ],
             [
              0.1111111111111111,
              "#46039f"
             ],
             [
              0.2222222222222222,
              "#7201a8"
             ],
             [
              0.3333333333333333,
              "#9c179e"
             ],
             [
              0.4444444444444444,
              "#bd3786"
             ],
             [
              0.5555555555555556,
              "#d8576b"
             ],
             [
              0.6666666666666666,
              "#ed7953"
             ],
             [
              0.7777777777777778,
              "#fb9f3a"
             ],
             [
              0.8888888888888888,
              "#fdca26"
             ],
             [
              1,
              "#f0f921"
             ]
            ],
            "type": "surface"
           }
          ],
          "table": [
           {
            "cells": {
             "fill": {
              "color": "#EBF0F8"
             },
             "line": {
              "color": "white"
             }
            },
            "header": {
             "fill": {
              "color": "#C8D4E3"
             },
             "line": {
              "color": "white"
             }
            },
            "type": "table"
           }
          ]
         },
         "layout": {
          "annotationdefaults": {
           "arrowcolor": "#2a3f5f",
           "arrowhead": 0,
           "arrowwidth": 1
          },
          "colorscale": {
           "diverging": [
            [
             0,
             "#8e0152"
            ],
            [
             0.1,
             "#c51b7d"
            ],
            [
             0.2,
             "#de77ae"
            ],
            [
             0.3,
             "#f1b6da"
            ],
            [
             0.4,
             "#fde0ef"
            ],
            [
             0.5,
             "#f7f7f7"
            ],
            [
             0.6,
             "#e6f5d0"
            ],
            [
             0.7,
             "#b8e186"
            ],
            [
             0.8,
             "#7fbc41"
            ],
            [
             0.9,
             "#4d9221"
            ],
            [
             1,
             "#276419"
            ]
           ],
           "sequential": [
            [
             0,
             "#0d0887"
            ],
            [
             0.1111111111111111,
             "#46039f"
            ],
            [
             0.2222222222222222,
             "#7201a8"
            ],
            [
             0.3333333333333333,
             "#9c179e"
            ],
            [
             0.4444444444444444,
             "#bd3786"
            ],
            [
             0.5555555555555556,
             "#d8576b"
            ],
            [
             0.6666666666666666,
             "#ed7953"
            ],
            [
             0.7777777777777778,
             "#fb9f3a"
            ],
            [
             0.8888888888888888,
             "#fdca26"
            ],
            [
             1,
             "#f0f921"
            ]
           ],
           "sequentialminus": [
            [
             0,
             "#0d0887"
            ],
            [
             0.1111111111111111,
             "#46039f"
            ],
            [
             0.2222222222222222,
             "#7201a8"
            ],
            [
             0.3333333333333333,
             "#9c179e"
            ],
            [
             0.4444444444444444,
             "#bd3786"
            ],
            [
             0.5555555555555556,
             "#d8576b"
            ],
            [
             0.6666666666666666,
             "#ed7953"
            ],
            [
             0.7777777777777778,
             "#fb9f3a"
            ],
            [
             0.8888888888888888,
             "#fdca26"
            ],
            [
             1,
             "#f0f921"
            ]
           ]
          },
          "colorway": [
           "#636efa",
           "#EF553B",
           "#00cc96",
           "#ab63fa",
           "#FFA15A",
           "#19d3f3",
           "#FF6692",
           "#B6E880",
           "#FF97FF",
           "#FECB52"
          ],
          "font": {
           "color": "#2a3f5f"
          },
          "geo": {
           "bgcolor": "white",
           "lakecolor": "white",
           "landcolor": "#E5ECF6",
           "showlakes": true,
           "showland": true,
           "subunitcolor": "white"
          },
          "hoverlabel": {
           "align": "left"
          },
          "hovermode": "closest",
          "mapbox": {
           "style": "light"
          },
          "paper_bgcolor": "white",
          "plot_bgcolor": "#E5ECF6",
          "polar": {
           "angularaxis": {
            "gridcolor": "white",
            "linecolor": "white",
            "ticks": ""
           },
           "bgcolor": "#E5ECF6",
           "radialaxis": {
            "gridcolor": "white",
            "linecolor": "white",
            "ticks": ""
           }
          },
          "scene": {
           "xaxis": {
            "backgroundcolor": "#E5ECF6",
            "gridcolor": "white",
            "gridwidth": 2,
            "linecolor": "white",
            "showbackground": true,
            "ticks": "",
            "zerolinecolor": "white"
           },
           "yaxis": {
            "backgroundcolor": "#E5ECF6",
            "gridcolor": "white",
            "gridwidth": 2,
            "linecolor": "white",
            "showbackground": true,
            "ticks": "",
            "zerolinecolor": "white"
           },
           "zaxis": {
            "backgroundcolor": "#E5ECF6",
            "gridcolor": "white",
            "gridwidth": 2,
            "linecolor": "white",
            "showbackground": true,
            "ticks": "",
            "zerolinecolor": "white"
           }
          },
          "shapedefaults": {
           "line": {
            "color": "#2a3f5f"
           }
          },
          "ternary": {
           "aaxis": {
            "gridcolor": "white",
            "linecolor": "white",
            "ticks": ""
           },
           "baxis": {
            "gridcolor": "white",
            "linecolor": "white",
            "ticks": ""
           },
           "bgcolor": "#E5ECF6",
           "caxis": {
            "gridcolor": "white",
            "linecolor": "white",
            "ticks": ""
           }
          },
          "title": {
           "x": 0.05
          },
          "xaxis": {
           "automargin": true,
           "gridcolor": "white",
           "linecolor": "white",
           "ticks": "",
           "zerolinecolor": "white",
           "zerolinewidth": 2
          },
          "yaxis": {
           "automargin": true,
           "gridcolor": "white",
           "linecolor": "white",
           "ticks": "",
           "zerolinecolor": "white",
           "zerolinewidth": 2
          }
         }
        }
       }
      },
      "text/html": [
       "<div>\n",
       "        \n",
       "        \n",
       "            <div id=\"fe4086a8-2f86-4f6a-8452-8dc9ccbb977b\" class=\"plotly-graph-div\" style=\"height:525px; width:100%;\"></div>\n",
       "            <script type=\"text/javascript\">\n",
       "                require([\"plotly\"], function(Plotly) {\n",
       "                    window.PLOTLYENV=window.PLOTLYENV || {};\n",
       "                    \n",
       "                if (document.getElementById(\"fe4086a8-2f86-4f6a-8452-8dc9ccbb977b\")) {\n",
       "                    Plotly.newPlot(\n",
       "                        'fe4086a8-2f86-4f6a-8452-8dc9ccbb977b',\n",
       "                        [{\"type\": \"bar\", \"x\": [\"tyrion lannister\", \"jon snow\", \"daenerys targaryen\", \"soldier\", \"jaime lannister\", \"arya stark\", \"sam tarly\", \"sansa stark\", \"man\", \"gendry baratheon\", \"bran stark\", \"davos\", \"brienne\", \"sandor clegane\", \"euron greyjoy\", \"cersei lannister\", \"tormund\", \"varys\", \"grey worm\", \"bronn\", \"jorah mormont\", \"qyburn\", \"woman\", \"lyanna\", \"beric dondarrion\", \"'dolorous' edd\", \"theon greyjoy\", \"melisandre\", \"yara greyjoy\", \"nora\", \"podrick\", \"crayah\", \"dirah\"], \"y\": [195, 149, 132, 91, 87, 82, 57, 55, 48, 42, 42, 41, 36, 32, 32, 31, 24, 24, 22, 21, 18, 18, 16, 14, 13, 12, 12, 11, 11, 8, 7, 7, 6]}],\n",
       "                        {\"template\": {\"data\": {\"bar\": [{\"error_x\": {\"color\": \"#2a3f5f\"}, \"error_y\": {\"color\": \"#2a3f5f\"}, \"marker\": {\"line\": {\"color\": \"#E5ECF6\", \"width\": 0.5}}, \"type\": \"bar\"}], \"barpolar\": [{\"marker\": {\"line\": {\"color\": \"#E5ECF6\", \"width\": 0.5}}, \"type\": \"barpolar\"}], \"carpet\": [{\"aaxis\": {\"endlinecolor\": \"#2a3f5f\", \"gridcolor\": \"white\", \"linecolor\": \"white\", \"minorgridcolor\": \"white\", \"startlinecolor\": \"#2a3f5f\"}, \"baxis\": {\"endlinecolor\": \"#2a3f5f\", \"gridcolor\": \"white\", \"linecolor\": \"white\", \"minorgridcolor\": \"white\", \"startlinecolor\": \"#2a3f5f\"}, \"type\": \"carpet\"}], \"choropleth\": [{\"colorbar\": {\"outlinewidth\": 0, \"ticks\": \"\"}, \"type\": \"choropleth\"}], \"contour\": [{\"colorbar\": {\"outlinewidth\": 0, \"ticks\": \"\"}, \"colorscale\": [[0.0, \"#0d0887\"], [0.1111111111111111, \"#46039f\"], [0.2222222222222222, \"#7201a8\"], [0.3333333333333333, \"#9c179e\"], [0.4444444444444444, \"#bd3786\"], [0.5555555555555556, \"#d8576b\"], [0.6666666666666666, \"#ed7953\"], [0.7777777777777778, \"#fb9f3a\"], [0.8888888888888888, \"#fdca26\"], [1.0, \"#f0f921\"]], \"type\": \"contour\"}], \"contourcarpet\": [{\"colorbar\": {\"outlinewidth\": 0, \"ticks\": \"\"}, \"type\": \"contourcarpet\"}], \"heatmap\": [{\"colorbar\": {\"outlinewidth\": 0, \"ticks\": \"\"}, \"colorscale\": [[0.0, \"#0d0887\"], [0.1111111111111111, \"#46039f\"], [0.2222222222222222, \"#7201a8\"], [0.3333333333333333, \"#9c179e\"], [0.4444444444444444, \"#bd3786\"], [0.5555555555555556, \"#d8576b\"], [0.6666666666666666, \"#ed7953\"], [0.7777777777777778, \"#fb9f3a\"], [0.8888888888888888, \"#fdca26\"], [1.0, \"#f0f921\"]], \"type\": \"heatmap\"}], \"heatmapgl\": [{\"colorbar\": {\"outlinewidth\": 0, \"ticks\": \"\"}, \"colorscale\": [[0.0, \"#0d0887\"], [0.1111111111111111, \"#46039f\"], [0.2222222222222222, \"#7201a8\"], [0.3333333333333333, \"#9c179e\"], [0.4444444444444444, \"#bd3786\"], [0.5555555555555556, \"#d8576b\"], [0.6666666666666666, \"#ed7953\"], [0.7777777777777778, \"#fb9f3a\"], [0.8888888888888888, \"#fdca26\"], [1.0, \"#f0f921\"]], \"type\": \"heatmapgl\"}], \"histogram\": [{\"marker\": {\"colorbar\": {\"outlinewidth\": 0, \"ticks\": \"\"}}, \"type\": \"histogram\"}], \"histogram2d\": [{\"colorbar\": {\"outlinewidth\": 0, \"ticks\": \"\"}, \"colorscale\": [[0.0, \"#0d0887\"], [0.1111111111111111, \"#46039f\"], [0.2222222222222222, \"#7201a8\"], [0.3333333333333333, \"#9c179e\"], [0.4444444444444444, \"#bd3786\"], [0.5555555555555556, \"#d8576b\"], [0.6666666666666666, \"#ed7953\"], [0.7777777777777778, \"#fb9f3a\"], [0.8888888888888888, \"#fdca26\"], [1.0, \"#f0f921\"]], \"type\": \"histogram2d\"}], \"histogram2dcontour\": [{\"colorbar\": {\"outlinewidth\": 0, \"ticks\": \"\"}, \"colorscale\": [[0.0, \"#0d0887\"], [0.1111111111111111, \"#46039f\"], [0.2222222222222222, \"#7201a8\"], [0.3333333333333333, \"#9c179e\"], [0.4444444444444444, \"#bd3786\"], [0.5555555555555556, \"#d8576b\"], [0.6666666666666666, \"#ed7953\"], [0.7777777777777778, \"#fb9f3a\"], [0.8888888888888888, \"#fdca26\"], [1.0, \"#f0f921\"]], \"type\": \"histogram2dcontour\"}], \"mesh3d\": [{\"colorbar\": {\"outlinewidth\": 0, \"ticks\": \"\"}, \"type\": \"mesh3d\"}], \"parcoords\": [{\"line\": {\"colorbar\": {\"outlinewidth\": 0, \"ticks\": \"\"}}, \"type\": \"parcoords\"}], \"scatter\": [{\"marker\": {\"colorbar\": {\"outlinewidth\": 0, \"ticks\": \"\"}}, \"type\": \"scatter\"}], \"scatter3d\": [{\"line\": {\"colorbar\": {\"outlinewidth\": 0, \"ticks\": \"\"}}, \"marker\": {\"colorbar\": {\"outlinewidth\": 0, \"ticks\": \"\"}}, \"type\": \"scatter3d\"}], \"scattercarpet\": [{\"marker\": {\"colorbar\": {\"outlinewidth\": 0, \"ticks\": \"\"}}, \"type\": \"scattercarpet\"}], \"scattergeo\": [{\"marker\": {\"colorbar\": {\"outlinewidth\": 0, \"ticks\": \"\"}}, \"type\": \"scattergeo\"}], \"scattergl\": [{\"marker\": {\"colorbar\": {\"outlinewidth\": 0, \"ticks\": \"\"}}, \"type\": \"scattergl\"}], \"scattermapbox\": [{\"marker\": {\"colorbar\": {\"outlinewidth\": 0, \"ticks\": \"\"}}, \"type\": \"scattermapbox\"}], \"scatterpolar\": [{\"marker\": {\"colorbar\": {\"outlinewidth\": 0, \"ticks\": \"\"}}, \"type\": \"scatterpolar\"}], \"scatterpolargl\": [{\"marker\": {\"colorbar\": {\"outlinewidth\": 0, \"ticks\": \"\"}}, \"type\": \"scatterpolargl\"}], \"scatterternary\": [{\"marker\": {\"colorbar\": {\"outlinewidth\": 0, \"ticks\": \"\"}}, \"type\": \"scatterternary\"}], \"surface\": [{\"colorbar\": {\"outlinewidth\": 0, \"ticks\": \"\"}, \"colorscale\": [[0.0, \"#0d0887\"], [0.1111111111111111, \"#46039f\"], [0.2222222222222222, \"#7201a8\"], [0.3333333333333333, \"#9c179e\"], [0.4444444444444444, \"#bd3786\"], [0.5555555555555556, \"#d8576b\"], [0.6666666666666666, \"#ed7953\"], [0.7777777777777778, \"#fb9f3a\"], [0.8888888888888888, \"#fdca26\"], [1.0, \"#f0f921\"]], \"type\": \"surface\"}], \"table\": [{\"cells\": {\"fill\": {\"color\": \"#EBF0F8\"}, \"line\": {\"color\": \"white\"}}, \"header\": {\"fill\": {\"color\": \"#C8D4E3\"}, \"line\": {\"color\": \"white\"}}, \"type\": \"table\"}]}, \"layout\": {\"annotationdefaults\": {\"arrowcolor\": \"#2a3f5f\", \"arrowhead\": 0, \"arrowwidth\": 1}, \"colorscale\": {\"diverging\": [[0, \"#8e0152\"], [0.1, \"#c51b7d\"], [0.2, \"#de77ae\"], [0.3, \"#f1b6da\"], [0.4, \"#fde0ef\"], [0.5, \"#f7f7f7\"], [0.6, \"#e6f5d0\"], [0.7, \"#b8e186\"], [0.8, \"#7fbc41\"], [0.9, \"#4d9221\"], [1, \"#276419\"]], \"sequential\": [[0.0, \"#0d0887\"], [0.1111111111111111, \"#46039f\"], [0.2222222222222222, \"#7201a8\"], [0.3333333333333333, \"#9c179e\"], [0.4444444444444444, \"#bd3786\"], [0.5555555555555556, \"#d8576b\"], [0.6666666666666666, \"#ed7953\"], [0.7777777777777778, \"#fb9f3a\"], [0.8888888888888888, \"#fdca26\"], [1.0, \"#f0f921\"]], \"sequentialminus\": [[0.0, \"#0d0887\"], [0.1111111111111111, \"#46039f\"], [0.2222222222222222, \"#7201a8\"], [0.3333333333333333, \"#9c179e\"], [0.4444444444444444, \"#bd3786\"], [0.5555555555555556, \"#d8576b\"], [0.6666666666666666, \"#ed7953\"], [0.7777777777777778, \"#fb9f3a\"], [0.8888888888888888, \"#fdca26\"], [1.0, \"#f0f921\"]]}, \"colorway\": [\"#636efa\", \"#EF553B\", \"#00cc96\", \"#ab63fa\", \"#FFA15A\", \"#19d3f3\", \"#FF6692\", \"#B6E880\", \"#FF97FF\", \"#FECB52\"], \"font\": {\"color\": \"#2a3f5f\"}, \"geo\": {\"bgcolor\": \"white\", \"lakecolor\": \"white\", \"landcolor\": \"#E5ECF6\", \"showlakes\": true, \"showland\": true, \"subunitcolor\": \"white\"}, \"hoverlabel\": {\"align\": \"left\"}, \"hovermode\": \"closest\", \"mapbox\": {\"style\": \"light\"}, \"paper_bgcolor\": \"white\", \"plot_bgcolor\": \"#E5ECF6\", \"polar\": {\"angularaxis\": {\"gridcolor\": \"white\", \"linecolor\": \"white\", \"ticks\": \"\"}, \"bgcolor\": \"#E5ECF6\", \"radialaxis\": {\"gridcolor\": \"white\", \"linecolor\": \"white\", \"ticks\": \"\"}}, \"scene\": {\"xaxis\": {\"backgroundcolor\": \"#E5ECF6\", \"gridcolor\": \"white\", \"gridwidth\": 2, \"linecolor\": \"white\", \"showbackground\": true, \"ticks\": \"\", \"zerolinecolor\": \"white\"}, \"yaxis\": {\"backgroundcolor\": \"#E5ECF6\", \"gridcolor\": \"white\", \"gridwidth\": 2, \"linecolor\": \"white\", \"showbackground\": true, \"ticks\": \"\", \"zerolinecolor\": \"white\"}, \"zaxis\": {\"backgroundcolor\": \"#E5ECF6\", \"gridcolor\": \"white\", \"gridwidth\": 2, \"linecolor\": \"white\", \"showbackground\": true, \"ticks\": \"\", \"zerolinecolor\": \"white\"}}, \"shapedefaults\": {\"line\": {\"color\": \"#2a3f5f\"}}, \"ternary\": {\"aaxis\": {\"gridcolor\": \"white\", \"linecolor\": \"white\", \"ticks\": \"\"}, \"baxis\": {\"gridcolor\": \"white\", \"linecolor\": \"white\", \"ticks\": \"\"}, \"bgcolor\": \"#E5ECF6\", \"caxis\": {\"gridcolor\": \"white\", \"linecolor\": \"white\", \"ticks\": \"\"}}, \"title\": {\"x\": 0.05}, \"xaxis\": {\"automargin\": true, \"gridcolor\": \"white\", \"linecolor\": \"white\", \"ticks\": \"\", \"zerolinecolor\": \"white\", \"zerolinewidth\": 2}, \"yaxis\": {\"automargin\": true, \"gridcolor\": \"white\", \"linecolor\": \"white\", \"ticks\": \"\", \"zerolinecolor\": \"white\", \"zerolinewidth\": 2}}}},\n",
       "                        {\"responsive\": true}\n",
       "                    ).then(function(){\n",
       "                            \n",
       "var gd = document.getElementById('fe4086a8-2f86-4f6a-8452-8dc9ccbb977b');\n",
       "var x = new MutationObserver(function (mutations, observer) {{\n",
       "        var display = window.getComputedStyle(gd).display;\n",
       "        if (!display || display === 'none') {{\n",
       "            console.log([gd, 'removed!']);\n",
       "            Plotly.purge(gd);\n",
       "            observer.disconnect();\n",
       "        }}\n",
       "}});\n",
       "\n",
       "// Listen for the removal of the full notebook cells\n",
       "var notebookContainer = gd.closest('#notebook-container');\n",
       "if (notebookContainer) {{\n",
       "    x.observe(notebookContainer, {childList: true});\n",
       "}}\n",
       "\n",
       "// Listen for the clearing of the current output cell\n",
       "var outputEl = gd.closest('.output');\n",
       "if (outputEl) {{\n",
       "    x.observe(outputEl, {childList: true});\n",
       "}}\n",
       "\n",
       "                        })\n",
       "                };\n",
       "                });\n",
       "            </script>\n",
       "        </div>"
      ]
     },
     "metadata": {},
     "output_type": "display_data"
    }
   ],
   "source": [
    "fig = go.Figure()\n",
    "\n",
    "fig.add_trace(go.Bar(\n",
    "    x = test['index'],\n",
    "    y = test['count']))"
   ]
  },
  {
   "cell_type": "code",
   "execution_count": null,
   "metadata": {},
   "outputs": [],
   "source": []
  },
  {
   "cell_type": "code",
   "execution_count": 86,
   "metadata": {
    "ExecuteTime": {
     "end_time": "2020-08-20T14:23:53.051122Z",
     "start_time": "2020-08-20T14:23:52.939121Z"
    }
   },
   "outputs": [
    {
     "data": {
      "application/vnd.plotly.v1+json": {
       "config": {
        "plotlyServerURL": "https://plot.ly"
       },
       "data": [
        {
         "type": "box",
         "x": [
          "daenerys targaryen",
          "daenerys targaryen",
          "daenerys targaryen",
          "daenerys targaryen",
          "jaime lannister",
          "daenerys targaryen",
          "jaime lannister",
          "jaime lannister",
          "daenerys targaryen",
          "jaime lannister",
          "tyrion lannister",
          "daenerys targaryen",
          "tyrion lannister",
          "daenerys targaryen",
          "sansa stark",
          "jaime lannister",
          "bran stark",
          "daenerys targaryen",
          "jaime lannister",
          "jaime lannister",
          "brienne",
          "brienne",
          "brienne",
          "sansa stark",
          "brienne",
          "sansa stark",
          "brienne",
          "sansa stark",
          "daenerys targaryen",
          "jon snow",
          "daenerys targaryen",
          "jaime lannister",
          "daenerys targaryen",
          "tyrion lannister",
          "daenerys targaryen",
          "daenerys targaryen",
          "tyrion lannister",
          "gendry baratheon",
          "arya stark",
          "gendry baratheon",
          "arya stark",
          "gendry baratheon",
          "gendry baratheon",
          "arya stark",
          "gendry baratheon",
          "arya stark",
          "gendry baratheon",
          "arya stark",
          "gendry baratheon",
          "arya stark",
          "gendry baratheon",
          "arya stark",
          "gendry baratheon",
          "arya stark",
          "arya stark",
          "gendry baratheon",
          "arya stark",
          "arya stark",
          "arya stark",
          "arya stark",
          "gendry baratheon",
          "jaime lannister",
          "bran stark",
          "jaime lannister",
          "bran stark",
          "jaime lannister",
          "bran stark",
          "jaime lannister",
          "bran stark",
          "jaime lannister",
          "bran stark",
          "jaime lannister",
          "bran stark",
          "tyrion lannister",
          "jaime lannister",
          "tyrion lannister",
          "tyrion lannister",
          "jaime lannister",
          "tyrion lannister",
          "tyrion lannister",
          "jaime lannister",
          "tyrion lannister",
          "jaime lannister",
          "tyrion lannister",
          "jaime lannister",
          "tyrion lannister",
          "jaime lannister",
          "tyrion lannister",
          "tyrion lannister",
          "jaime lannister",
          "jaime lannister",
          "jaime lannister",
          "tyrion lannister",
          "tyrion lannister",
          "both",
          "jaime lannister",
          "tyrion lannister",
          "tyrion lannister",
          "tyrion lannister",
          "brienne",
          "jaime lannister",
          "jaime lannister",
          "brienne",
          "jaime lannister",
          "brienne",
          "jaime lannister",
          "brienne",
          "brienne",
          "jaime lannister",
          "brienne",
          "brienne",
          "jaime lannister",
          "brienne",
          "jaime lannister",
          "brienne",
          "jaime lannister",
          "jaime lannister",
          "brienne",
          "jorah mormont",
          "daenerys targaryen",
          "jorah mormont",
          "daenerys targaryen",
          "jorah mormont",
          "daenerys targaryen",
          "jorah mormont",
          "daenerys targaryen",
          "jorah mormont",
          "jorah mormont",
          "daenerys targaryen",
          "jorah mormont",
          "daenerys targaryen",
          "jorah mormont",
          "royce",
          "sansa stark",
          "daenerys targaryen",
          "daenerys targaryen",
          "sansa stark",
          "daenerys targaryen",
          "sansa stark",
          "daenerys targaryen",
          "daenerys targaryen",
          "sansa stark",
          "daenerys targaryen",
          "sansa stark",
          "daenerys targaryen",
          "sansa stark",
          "daenerys targaryen",
          "daenerys targaryen",
          "sansa stark",
          "daenerys targaryen",
          "sansa stark",
          "daenerys targaryen",
          "sansa stark",
          "daenerys targaryen",
          "sansa stark",
          "daenerys targaryen",
          "sansa stark",
          "daenerys targaryen",
          "sansa stark",
          "wolkan",
          "daenerys targaryen",
          "theon greyjoy",
          "daenerys targaryen",
          "theon greyjoy",
          "daenerys targaryen",
          "theon greyjoy",
          "man",
          "davos",
          "man",
          "gilly",
          "gilly",
          "woman",
          "teela",
          "davos",
          "teela",
          "teela",
          "gilly",
          "davos",
          "teela",
          "tormund",
          "jon snow",
          "tormund",
          "jon snow",
          "'dolorous' edd",
          "tormund",
          "jon snow",
          "beric dondarrion",
          "tormund",
          "jon snow",
          "tormund",
          "tormund",
          "jon snow",
          "jon snow",
          "jon snow",
          "jon snow",
          "jon snow",
          "jon snow",
          "jon snow",
          "jaime lannister",
          "jon snow",
          "jaime lannister",
          "bran stark",
          "bran stark",
          "sam tarly",
          "bran stark",
          "sam tarly",
          "tyrion lannister",
          "bran stark",
          "bran stark",
          "jon snow",
          "bran stark",
          "sansa stark",
          "arya stark",
          "theon greyjoy",
          "davos",
          "tyrion lannister",
          "daenerys targaryen",
          "tyrion lannister",
          "daenerys targaryen",
          "davos",
          "jon snow",
          "arya stark",
          "bran stark",
          "tormund",
          "tormund",
          "jon snow",
          "jon snow",
          "tyrion lannister",
          "bran stark",
          "tyrion lannister",
          "bran stark",
          "tyrion lannister",
          "bran stark",
          "tyrion lannister",
          "missandei",
          "grey worm",
          "missandei",
          "grey worm",
          "missandei",
          "grey worm",
          "sam tarly",
          "jon snow",
          "sam tarly",
          "'dolorous' edd",
          "jon snow",
          "sam tarly",
          "jon snow",
          "jon snow",
          "sam tarly",
          "'dolorous' edd",
          "sam tarly",
          "'dolorous' edd",
          "sam tarly",
          "'dolorous' edd",
          "sam tarly",
          "jon snow",
          "'dolorous' edd",
          "tyrion lannister",
          "tyrion lannister",
          "jaime lannister",
          "tyrion lannister",
          "jaime lannister",
          "tyrion lannister",
          "jaime lannister",
          "tyrion lannister",
          "jaime lannister",
          "tyrion lannister",
          "jaime lannister",
          "tyrion lannister",
          "tyrion lannister",
          "jaime lannister",
          "brienne",
          "tyrion lannister",
          "podrick",
          "brienne",
          "brienne",
          "brienne",
          "tyrion lannister",
          "brienne",
          "jaime lannister",
          "brienne",
          "davos",
          "tyrion lannister",
          "davos",
          "davos",
          "tormund",
          "brienne",
          "brienne",
          "tyrion lannister",
          "tormund",
          "tormund",
          "jaime lannister",
          "tormund",
          "tormund",
          "tormund",
          "davos",
          "sandor clegane",
          "arya stark",
          "arya stark",
          "sandor clegane",
          "arya stark",
          "sandor clegane",
          "sandor clegane",
          "beric dondarrion",
          "sandor clegane",
          "arya stark",
          "beric dondarrion",
          "beric dondarrion",
          "sandor clegane",
          "sandor clegane",
          "arya stark",
          "arya stark",
          "arya stark",
          "gendry baratheon",
          "arya stark",
          "gendry baratheon",
          "arya stark",
          "gendry baratheon",
          "gendry baratheon",
          "arya stark",
          "gendry baratheon",
          "arya stark",
          "gendry baratheon",
          "arya stark",
          "arya stark",
          "arya stark",
          "gendry baratheon",
          "arya stark",
          "gendry baratheon",
          "arya stark",
          "gendry baratheon",
          "arya stark",
          "gendry baratheon",
          "arya stark",
          "tyrion lannister",
          "brienne",
          "tyrion lannister",
          "tyrion lannister",
          "davos",
          "tyrion lannister",
          "jaime lannister",
          "tyrion lannister",
          "tormund",
          "brienne",
          "tormund",
          "brienne",
          "tormund",
          "brienne",
          "tormund",
          "jaime lannister",
          "jaime lannister",
          "jaime lannister",
          "jaime lannister",
          "jaime lannister",
          "jaime lannister",
          "jaime lannister",
          "jaime lannister",
          "tyrion lannister",
          "jorah mormont",
          "lyanna",
          "jorah mormont",
          "lyanna",
          "jorah mormont",
          "lyanna",
          "sam tarly",
          "lyann",
          "lyanna",
          "jorah mormont",
          "jorah mormont",
          "sam tarly",
          "jorah mormont",
          "sam tarly",
          "jorah mormont",
          "sam tarly",
          "sam tarly",
          "jaime lannister",
          "tyrion lannister",
          "davos",
          "tyrion lannister",
          "davos",
          "tyrion lannister",
          "tormund",
          "tyrion lannister",
          "podrick",
          "podrick",
          "podrick",
          "podrick",
          "podrick",
          "podrick",
          "daenerys targaryen",
          "jon snow",
          "daenerys targaryen",
          "jon snow",
          "jon snow",
          "jon snow",
          "daenerys targaryen",
          "jon snow",
          "daenerys targaryen",
          "jon snow",
          "daenerys targaryen",
          "jon snow",
          "daenerys targaryen",
          "jon snow",
          "daenerys targaryen",
          "man"
         ],
         "y": [
          20,
          26,
          30,
          8,
          2,
          19,
          16,
          34,
          1,
          13,
          6,
          5,
          22,
          18,
          28,
          28,
          6,
          10,
          5,
          4,
          7,
          45,
          32,
          4,
          2,
          5,
          2,
          17,
          10,
          7,
          2,
          4,
          26,
          4,
          5,
          20,
          13,
          7,
          5,
          12,
          12,
          3,
          11,
          9,
          2,
          4,
          4,
          3,
          5,
          2,
          5,
          4,
          3,
          2,
          30,
          38,
          3,
          4,
          7,
          2,
          5,
          8,
          9,
          5,
          20,
          2,
          5,
          5,
          5,
          5,
          17,
          3,
          8,
          4,
          4,
          2,
          4,
          8,
          5,
          20,
          4,
          2,
          4,
          2,
          6,
          17,
          1,
          20,
          7,
          5,
          24,
          1,
          16,
          34,
          4,
          2,
          2,
          26,
          14,
          2,
          2,
          5,
          8,
          13,
          7,
          2,
          8,
          15,
          5,
          4,
          4,
          3,
          15,
          6,
          1,
          1,
          26,
          4,
          3,
          7,
          2,
          5,
          19,
          14,
          5,
          10,
          24,
          7,
          5,
          11,
          11,
          10,
          17,
          18,
          9,
          15,
          13,
          12,
          13,
          13,
          26,
          5,
          6,
          3,
          4,
          7,
          38,
          18,
          6,
          3,
          9,
          7,
          13,
          32,
          4,
          2,
          14,
          5,
          28,
          5,
          3,
          2,
          2,
          27,
          6,
          12,
          4,
          53,
          2,
          10,
          12,
          2,
          5,
          7,
          11,
          11,
          27,
          7,
          7,
          3,
          5,
          1,
          6,
          7,
          5,
          2,
          6,
          16,
          5,
          6,
          5,
          2,
          6,
          7,
          3,
          4,
          4,
          8,
          5,
          21,
          7,
          3,
          14,
          5,
          14,
          49,
          5,
          5,
          6,
          9,
          22,
          8,
          7,
          21,
          13,
          22,
          17,
          19,
          39,
          10,
          33,
          4,
          7,
          5,
          6,
          4,
          2,
          4,
          1,
          5,
          3,
          6,
          4,
          17,
          1,
          62,
          8,
          6,
          8,
          9,
          5,
          1,
          11,
          5,
          3,
          7,
          6,
          3,
          18,
          1,
          29,
          11,
          8,
          20,
          9,
          5,
          8,
          5,
          22,
          6,
          15,
          1,
          16,
          24,
          6,
          4,
          5,
          16,
          9,
          5,
          3,
          14,
          24,
          3,
          5,
          7,
          2,
          2,
          10,
          13,
          5,
          6,
          4,
          9,
          22,
          11,
          6,
          8,
          5,
          3,
          5,
          4,
          8,
          17,
          30,
          6,
          14,
          3,
          6,
          4,
          35,
          6,
          12,
          16,
          5,
          4,
          3,
          17,
          44,
          4,
          12,
          3,
          2,
          17,
          8,
          9,
          3,
          4,
          20,
          5,
          11,
          6,
          8,
          10,
          2,
          3,
          3,
          3,
          5,
          3,
          1,
          16,
          2,
          11,
          27,
          6,
          5,
          25,
          7,
          11,
          8,
          14,
          8,
          4,
          2,
          1,
          2,
          8,
          13,
          11,
          3,
          3,
          10,
          12,
          12,
          13,
          10,
          9,
          9,
          16,
          10,
          9,
          10,
          16,
          7,
          6,
          6,
          4,
          5,
          7,
          5,
          44,
          12,
          6,
          4,
          5,
          6,
          4,
          12,
          6,
          2,
          2,
          1,
          36,
          9,
          14,
          13,
          12,
          8,
          2,
          2,
          24,
          5,
          59,
          8,
          2,
          4,
          4,
          4,
          3,
          18,
          20,
          7,
          23,
          5
         ]
        }
       ],
       "layout": {
        "template": {
         "data": {
          "bar": [
           {
            "error_x": {
             "color": "#2a3f5f"
            },
            "error_y": {
             "color": "#2a3f5f"
            },
            "marker": {
             "line": {
              "color": "#E5ECF6",
              "width": 0.5
             }
            },
            "type": "bar"
           }
          ],
          "barpolar": [
           {
            "marker": {
             "line": {
              "color": "#E5ECF6",
              "width": 0.5
             }
            },
            "type": "barpolar"
           }
          ],
          "carpet": [
           {
            "aaxis": {
             "endlinecolor": "#2a3f5f",
             "gridcolor": "white",
             "linecolor": "white",
             "minorgridcolor": "white",
             "startlinecolor": "#2a3f5f"
            },
            "baxis": {
             "endlinecolor": "#2a3f5f",
             "gridcolor": "white",
             "linecolor": "white",
             "minorgridcolor": "white",
             "startlinecolor": "#2a3f5f"
            },
            "type": "carpet"
           }
          ],
          "choropleth": [
           {
            "colorbar": {
             "outlinewidth": 0,
             "ticks": ""
            },
            "type": "choropleth"
           }
          ],
          "contour": [
           {
            "colorbar": {
             "outlinewidth": 0,
             "ticks": ""
            },
            "colorscale": [
             [
              0,
              "#0d0887"
             ],
             [
              0.1111111111111111,
              "#46039f"
             ],
             [
              0.2222222222222222,
              "#7201a8"
             ],
             [
              0.3333333333333333,
              "#9c179e"
             ],
             [
              0.4444444444444444,
              "#bd3786"
             ],
             [
              0.5555555555555556,
              "#d8576b"
             ],
             [
              0.6666666666666666,
              "#ed7953"
             ],
             [
              0.7777777777777778,
              "#fb9f3a"
             ],
             [
              0.8888888888888888,
              "#fdca26"
             ],
             [
              1,
              "#f0f921"
             ]
            ],
            "type": "contour"
           }
          ],
          "contourcarpet": [
           {
            "colorbar": {
             "outlinewidth": 0,
             "ticks": ""
            },
            "type": "contourcarpet"
           }
          ],
          "heatmap": [
           {
            "colorbar": {
             "outlinewidth": 0,
             "ticks": ""
            },
            "colorscale": [
             [
              0,
              "#0d0887"
             ],
             [
              0.1111111111111111,
              "#46039f"
             ],
             [
              0.2222222222222222,
              "#7201a8"
             ],
             [
              0.3333333333333333,
              "#9c179e"
             ],
             [
              0.4444444444444444,
              "#bd3786"
             ],
             [
              0.5555555555555556,
              "#d8576b"
             ],
             [
              0.6666666666666666,
              "#ed7953"
             ],
             [
              0.7777777777777778,
              "#fb9f3a"
             ],
             [
              0.8888888888888888,
              "#fdca26"
             ],
             [
              1,
              "#f0f921"
             ]
            ],
            "type": "heatmap"
           }
          ],
          "heatmapgl": [
           {
            "colorbar": {
             "outlinewidth": 0,
             "ticks": ""
            },
            "colorscale": [
             [
              0,
              "#0d0887"
             ],
             [
              0.1111111111111111,
              "#46039f"
             ],
             [
              0.2222222222222222,
              "#7201a8"
             ],
             [
              0.3333333333333333,
              "#9c179e"
             ],
             [
              0.4444444444444444,
              "#bd3786"
             ],
             [
              0.5555555555555556,
              "#d8576b"
             ],
             [
              0.6666666666666666,
              "#ed7953"
             ],
             [
              0.7777777777777778,
              "#fb9f3a"
             ],
             [
              0.8888888888888888,
              "#fdca26"
             ],
             [
              1,
              "#f0f921"
             ]
            ],
            "type": "heatmapgl"
           }
          ],
          "histogram": [
           {
            "marker": {
             "colorbar": {
              "outlinewidth": 0,
              "ticks": ""
             }
            },
            "type": "histogram"
           }
          ],
          "histogram2d": [
           {
            "colorbar": {
             "outlinewidth": 0,
             "ticks": ""
            },
            "colorscale": [
             [
              0,
              "#0d0887"
             ],
             [
              0.1111111111111111,
              "#46039f"
             ],
             [
              0.2222222222222222,
              "#7201a8"
             ],
             [
              0.3333333333333333,
              "#9c179e"
             ],
             [
              0.4444444444444444,
              "#bd3786"
             ],
             [
              0.5555555555555556,
              "#d8576b"
             ],
             [
              0.6666666666666666,
              "#ed7953"
             ],
             [
              0.7777777777777778,
              "#fb9f3a"
             ],
             [
              0.8888888888888888,
              "#fdca26"
             ],
             [
              1,
              "#f0f921"
             ]
            ],
            "type": "histogram2d"
           }
          ],
          "histogram2dcontour": [
           {
            "colorbar": {
             "outlinewidth": 0,
             "ticks": ""
            },
            "colorscale": [
             [
              0,
              "#0d0887"
             ],
             [
              0.1111111111111111,
              "#46039f"
             ],
             [
              0.2222222222222222,
              "#7201a8"
             ],
             [
              0.3333333333333333,
              "#9c179e"
             ],
             [
              0.4444444444444444,
              "#bd3786"
             ],
             [
              0.5555555555555556,
              "#d8576b"
             ],
             [
              0.6666666666666666,
              "#ed7953"
             ],
             [
              0.7777777777777778,
              "#fb9f3a"
             ],
             [
              0.8888888888888888,
              "#fdca26"
             ],
             [
              1,
              "#f0f921"
             ]
            ],
            "type": "histogram2dcontour"
           }
          ],
          "mesh3d": [
           {
            "colorbar": {
             "outlinewidth": 0,
             "ticks": ""
            },
            "type": "mesh3d"
           }
          ],
          "parcoords": [
           {
            "line": {
             "colorbar": {
              "outlinewidth": 0,
              "ticks": ""
             }
            },
            "type": "parcoords"
           }
          ],
          "scatter": [
           {
            "marker": {
             "colorbar": {
              "outlinewidth": 0,
              "ticks": ""
             }
            },
            "type": "scatter"
           }
          ],
          "scatter3d": [
           {
            "line": {
             "colorbar": {
              "outlinewidth": 0,
              "ticks": ""
             }
            },
            "marker": {
             "colorbar": {
              "outlinewidth": 0,
              "ticks": ""
             }
            },
            "type": "scatter3d"
           }
          ],
          "scattercarpet": [
           {
            "marker": {
             "colorbar": {
              "outlinewidth": 0,
              "ticks": ""
             }
            },
            "type": "scattercarpet"
           }
          ],
          "scattergeo": [
           {
            "marker": {
             "colorbar": {
              "outlinewidth": 0,
              "ticks": ""
             }
            },
            "type": "scattergeo"
           }
          ],
          "scattergl": [
           {
            "marker": {
             "colorbar": {
              "outlinewidth": 0,
              "ticks": ""
             }
            },
            "type": "scattergl"
           }
          ],
          "scattermapbox": [
           {
            "marker": {
             "colorbar": {
              "outlinewidth": 0,
              "ticks": ""
             }
            },
            "type": "scattermapbox"
           }
          ],
          "scatterpolar": [
           {
            "marker": {
             "colorbar": {
              "outlinewidth": 0,
              "ticks": ""
             }
            },
            "type": "scatterpolar"
           }
          ],
          "scatterpolargl": [
           {
            "marker": {
             "colorbar": {
              "outlinewidth": 0,
              "ticks": ""
             }
            },
            "type": "scatterpolargl"
           }
          ],
          "scatterternary": [
           {
            "marker": {
             "colorbar": {
              "outlinewidth": 0,
              "ticks": ""
             }
            },
            "type": "scatterternary"
           }
          ],
          "surface": [
           {
            "colorbar": {
             "outlinewidth": 0,
             "ticks": ""
            },
            "colorscale": [
             [
              0,
              "#0d0887"
             ],
             [
              0.1111111111111111,
              "#46039f"
             ],
             [
              0.2222222222222222,
              "#7201a8"
             ],
             [
              0.3333333333333333,
              "#9c179e"
             ],
             [
              0.4444444444444444,
              "#bd3786"
             ],
             [
              0.5555555555555556,
              "#d8576b"
             ],
             [
              0.6666666666666666,
              "#ed7953"
             ],
             [
              0.7777777777777778,
              "#fb9f3a"
             ],
             [
              0.8888888888888888,
              "#fdca26"
             ],
             [
              1,
              "#f0f921"
             ]
            ],
            "type": "surface"
           }
          ],
          "table": [
           {
            "cells": {
             "fill": {
              "color": "#EBF0F8"
             },
             "line": {
              "color": "white"
             }
            },
            "header": {
             "fill": {
              "color": "#C8D4E3"
             },
             "line": {
              "color": "white"
             }
            },
            "type": "table"
           }
          ]
         },
         "layout": {
          "annotationdefaults": {
           "arrowcolor": "#2a3f5f",
           "arrowhead": 0,
           "arrowwidth": 1
          },
          "colorscale": {
           "diverging": [
            [
             0,
             "#8e0152"
            ],
            [
             0.1,
             "#c51b7d"
            ],
            [
             0.2,
             "#de77ae"
            ],
            [
             0.3,
             "#f1b6da"
            ],
            [
             0.4,
             "#fde0ef"
            ],
            [
             0.5,
             "#f7f7f7"
            ],
            [
             0.6,
             "#e6f5d0"
            ],
            [
             0.7,
             "#b8e186"
            ],
            [
             0.8,
             "#7fbc41"
            ],
            [
             0.9,
             "#4d9221"
            ],
            [
             1,
             "#276419"
            ]
           ],
           "sequential": [
            [
             0,
             "#0d0887"
            ],
            [
             0.1111111111111111,
             "#46039f"
            ],
            [
             0.2222222222222222,
             "#7201a8"
            ],
            [
             0.3333333333333333,
             "#9c179e"
            ],
            [
             0.4444444444444444,
             "#bd3786"
            ],
            [
             0.5555555555555556,
             "#d8576b"
            ],
            [
             0.6666666666666666,
             "#ed7953"
            ],
            [
             0.7777777777777778,
             "#fb9f3a"
            ],
            [
             0.8888888888888888,
             "#fdca26"
            ],
            [
             1,
             "#f0f921"
            ]
           ],
           "sequentialminus": [
            [
             0,
             "#0d0887"
            ],
            [
             0.1111111111111111,
             "#46039f"
            ],
            [
             0.2222222222222222,
             "#7201a8"
            ],
            [
             0.3333333333333333,
             "#9c179e"
            ],
            [
             0.4444444444444444,
             "#bd3786"
            ],
            [
             0.5555555555555556,
             "#d8576b"
            ],
            [
             0.6666666666666666,
             "#ed7953"
            ],
            [
             0.7777777777777778,
             "#fb9f3a"
            ],
            [
             0.8888888888888888,
             "#fdca26"
            ],
            [
             1,
             "#f0f921"
            ]
           ]
          },
          "colorway": [
           "#636efa",
           "#EF553B",
           "#00cc96",
           "#ab63fa",
           "#FFA15A",
           "#19d3f3",
           "#FF6692",
           "#B6E880",
           "#FF97FF",
           "#FECB52"
          ],
          "font": {
           "color": "#2a3f5f"
          },
          "geo": {
           "bgcolor": "white",
           "lakecolor": "white",
           "landcolor": "#E5ECF6",
           "showlakes": true,
           "showland": true,
           "subunitcolor": "white"
          },
          "hoverlabel": {
           "align": "left"
          },
          "hovermode": "closest",
          "mapbox": {
           "style": "light"
          },
          "paper_bgcolor": "white",
          "plot_bgcolor": "#E5ECF6",
          "polar": {
           "angularaxis": {
            "gridcolor": "white",
            "linecolor": "white",
            "ticks": ""
           },
           "bgcolor": "#E5ECF6",
           "radialaxis": {
            "gridcolor": "white",
            "linecolor": "white",
            "ticks": ""
           }
          },
          "scene": {
           "xaxis": {
            "backgroundcolor": "#E5ECF6",
            "gridcolor": "white",
            "gridwidth": 2,
            "linecolor": "white",
            "showbackground": true,
            "ticks": "",
            "zerolinecolor": "white"
           },
           "yaxis": {
            "backgroundcolor": "#E5ECF6",
            "gridcolor": "white",
            "gridwidth": 2,
            "linecolor": "white",
            "showbackground": true,
            "ticks": "",
            "zerolinecolor": "white"
           },
           "zaxis": {
            "backgroundcolor": "#E5ECF6",
            "gridcolor": "white",
            "gridwidth": 2,
            "linecolor": "white",
            "showbackground": true,
            "ticks": "",
            "zerolinecolor": "white"
           }
          },
          "shapedefaults": {
           "line": {
            "color": "#2a3f5f"
           }
          },
          "ternary": {
           "aaxis": {
            "gridcolor": "white",
            "linecolor": "white",
            "ticks": ""
           },
           "baxis": {
            "gridcolor": "white",
            "linecolor": "white",
            "ticks": ""
           },
           "bgcolor": "#E5ECF6",
           "caxis": {
            "gridcolor": "white",
            "linecolor": "white",
            "ticks": ""
           }
          },
          "title": {
           "x": 0.05
          },
          "xaxis": {
           "automargin": true,
           "gridcolor": "white",
           "linecolor": "white",
           "ticks": "",
           "zerolinecolor": "white",
           "zerolinewidth": 2
          },
          "yaxis": {
           "automargin": true,
           "gridcolor": "white",
           "linecolor": "white",
           "ticks": "",
           "zerolinecolor": "white",
           "zerolinewidth": 2
          }
         }
        }
       }
      },
      "text/html": [
       "<div>\n",
       "        \n",
       "        \n",
       "            <div id=\"c3764f6b-e0d6-4695-9f84-31b8cb94152f\" class=\"plotly-graph-div\" style=\"height:525px; width:100%;\"></div>\n",
       "            <script type=\"text/javascript\">\n",
       "                require([\"plotly\"], function(Plotly) {\n",
       "                    window.PLOTLYENV=window.PLOTLYENV || {};\n",
       "                    \n",
       "                if (document.getElementById(\"c3764f6b-e0d6-4695-9f84-31b8cb94152f\")) {\n",
       "                    Plotly.newPlot(\n",
       "                        'c3764f6b-e0d6-4695-9f84-31b8cb94152f',\n",
       "                        [{\"type\": \"box\", \"x\": [\"daenerys targaryen\", \"daenerys targaryen\", \"daenerys targaryen\", \"daenerys targaryen\", \"jaime lannister\", \"daenerys targaryen\", \"jaime lannister\", \"jaime lannister\", \"daenerys targaryen\", \"jaime lannister\", \"tyrion lannister\", \"daenerys targaryen\", \"tyrion lannister\", \"daenerys targaryen\", \"sansa stark\", \"jaime lannister\", \"bran stark\", \"daenerys targaryen\", \"jaime lannister\", \"jaime lannister\", \"brienne\", \"brienne\", \"brienne\", \"sansa stark\", \"brienne\", \"sansa stark\", \"brienne\", \"sansa stark\", \"daenerys targaryen\", \"jon snow\", \"daenerys targaryen\", \"jaime lannister\", \"daenerys targaryen\", \"tyrion lannister\", \"daenerys targaryen\", \"daenerys targaryen\", \"tyrion lannister\", \"gendry baratheon\", \"arya stark\", \"gendry baratheon\", \"arya stark\", \"gendry baratheon\", \"gendry baratheon\", \"arya stark\", \"gendry baratheon\", \"arya stark\", \"gendry baratheon\", \"arya stark\", \"gendry baratheon\", \"arya stark\", \"gendry baratheon\", \"arya stark\", \"gendry baratheon\", \"arya stark\", \"arya stark\", \"gendry baratheon\", \"arya stark\", \"arya stark\", \"arya stark\", \"arya stark\", \"gendry baratheon\", \"jaime lannister\", \"bran stark\", \"jaime lannister\", \"bran stark\", \"jaime lannister\", \"bran stark\", \"jaime lannister\", \"bran stark\", \"jaime lannister\", \"bran stark\", \"jaime lannister\", \"bran stark\", \"tyrion lannister\", \"jaime lannister\", \"tyrion lannister\", \"tyrion lannister\", \"jaime lannister\", \"tyrion lannister\", \"tyrion lannister\", \"jaime lannister\", \"tyrion lannister\", \"jaime lannister\", \"tyrion lannister\", \"jaime lannister\", \"tyrion lannister\", \"jaime lannister\", \"tyrion lannister\", \"tyrion lannister\", \"jaime lannister\", \"jaime lannister\", \"jaime lannister\", \"tyrion lannister\", \"tyrion lannister\", \"both\", \"jaime lannister\", \"tyrion lannister\", \"tyrion lannister\", \"tyrion lannister\", \"brienne\", \"jaime lannister\", \"jaime lannister\", \"brienne\", \"jaime lannister\", \"brienne\", \"jaime lannister\", \"brienne\", \"brienne\", \"jaime lannister\", \"brienne\", \"brienne\", \"jaime lannister\", \"brienne\", \"jaime lannister\", \"brienne\", \"jaime lannister\", \"jaime lannister\", \"brienne\", \"jorah mormont\", \"daenerys targaryen\", \"jorah mormont\", \"daenerys targaryen\", \"jorah mormont\", \"daenerys targaryen\", \"jorah mormont\", \"daenerys targaryen\", \"jorah mormont\", \"jorah mormont\", \"daenerys targaryen\", \"jorah mormont\", \"daenerys targaryen\", \"jorah mormont\", \"royce\", \"sansa stark\", \"daenerys targaryen\", \"daenerys targaryen\", \"sansa stark\", \"daenerys targaryen\", \"sansa stark\", \"daenerys targaryen\", \"daenerys targaryen\", \"sansa stark\", \"daenerys targaryen\", \"sansa stark\", \"daenerys targaryen\", \"sansa stark\", \"daenerys targaryen\", \"daenerys targaryen\", \"sansa stark\", \"daenerys targaryen\", \"sansa stark\", \"daenerys targaryen\", \"sansa stark\", \"daenerys targaryen\", \"sansa stark\", \"daenerys targaryen\", \"sansa stark\", \"daenerys targaryen\", \"sansa stark\", \"wolkan\", \"daenerys targaryen\", \"theon greyjoy\", \"daenerys targaryen\", \"theon greyjoy\", \"daenerys targaryen\", \"theon greyjoy\", \"man\", \"davos\", \"man\", \"gilly\", \"gilly\", \"woman\", \"teela\", \"davos\", \"teela\", \"teela\", \"gilly\", \"davos\", \"teela\", \"tormund\", \"jon snow\", \"tormund\", \"jon snow\", \"'dolorous' edd\", \"tormund\", \"jon snow\", \"beric dondarrion\", \"tormund\", \"jon snow\", \"tormund\", \"tormund\", \"jon snow\", \"jon snow\", \"jon snow\", \"jon snow\", \"jon snow\", \"jon snow\", \"jon snow\", \"jaime lannister\", \"jon snow\", \"jaime lannister\", \"bran stark\", \"bran stark\", \"sam tarly\", \"bran stark\", \"sam tarly\", \"tyrion lannister\", \"bran stark\", \"bran stark\", \"jon snow\", \"bran stark\", \"sansa stark\", \"arya stark\", \"theon greyjoy\", \"davos\", \"tyrion lannister\", \"daenerys targaryen\", \"tyrion lannister\", \"daenerys targaryen\", \"davos\", \"jon snow\", \"arya stark\", \"bran stark\", \"tormund\", \"tormund\", \"jon snow\", \"jon snow\", \"tyrion lannister\", \"bran stark\", \"tyrion lannister\", \"bran stark\", \"tyrion lannister\", \"bran stark\", \"tyrion lannister\", \"missandei\", \"grey worm\", \"missandei\", \"grey worm\", \"missandei\", \"grey worm\", \"sam tarly\", \"jon snow\", \"sam tarly\", \"'dolorous' edd\", \"jon snow\", \"sam tarly\", \"jon snow\", \"jon snow\", \"sam tarly\", \"'dolorous' edd\", \"sam tarly\", \"'dolorous' edd\", \"sam tarly\", \"'dolorous' edd\", \"sam tarly\", \"jon snow\", \"'dolorous' edd\", \"tyrion lannister\", \"tyrion lannister\", \"jaime lannister\", \"tyrion lannister\", \"jaime lannister\", \"tyrion lannister\", \"jaime lannister\", \"tyrion lannister\", \"jaime lannister\", \"tyrion lannister\", \"jaime lannister\", \"tyrion lannister\", \"tyrion lannister\", \"jaime lannister\", \"brienne\", \"tyrion lannister\", \"podrick\", \"brienne\", \"brienne\", \"brienne\", \"tyrion lannister\", \"brienne\", \"jaime lannister\", \"brienne\", \"davos\", \"tyrion lannister\", \"davos\", \"davos\", \"tormund\", \"brienne\", \"brienne\", \"tyrion lannister\", \"tormund\", \"tormund\", \"jaime lannister\", \"tormund\", \"tormund\", \"tormund\", \"davos\", \"sandor clegane\", \"arya stark\", \"arya stark\", \"sandor clegane\", \"arya stark\", \"sandor clegane\", \"sandor clegane\", \"beric dondarrion\", \"sandor clegane\", \"arya stark\", \"beric dondarrion\", \"beric dondarrion\", \"sandor clegane\", \"sandor clegane\", \"arya stark\", \"arya stark\", \"arya stark\", \"gendry baratheon\", \"arya stark\", \"gendry baratheon\", \"arya stark\", \"gendry baratheon\", \"gendry baratheon\", \"arya stark\", \"gendry baratheon\", \"arya stark\", \"gendry baratheon\", \"arya stark\", \"arya stark\", \"arya stark\", \"gendry baratheon\", \"arya stark\", \"gendry baratheon\", \"arya stark\", \"gendry baratheon\", \"arya stark\", \"gendry baratheon\", \"arya stark\", \"tyrion lannister\", \"brienne\", \"tyrion lannister\", \"tyrion lannister\", \"davos\", \"tyrion lannister\", \"jaime lannister\", \"tyrion lannister\", \"tormund\", \"brienne\", \"tormund\", \"brienne\", \"tormund\", \"brienne\", \"tormund\", \"jaime lannister\", \"jaime lannister\", \"jaime lannister\", \"jaime lannister\", \"jaime lannister\", \"jaime lannister\", \"jaime lannister\", \"jaime lannister\", \"tyrion lannister\", \"jorah mormont\", \"lyanna\", \"jorah mormont\", \"lyanna\", \"jorah mormont\", \"lyanna\", \"sam tarly\", \"lyann\", \"lyanna\", \"jorah mormont\", \"jorah mormont\", \"sam tarly\", \"jorah mormont\", \"sam tarly\", \"jorah mormont\", \"sam tarly\", \"sam tarly\", \"jaime lannister\", \"tyrion lannister\", \"davos\", \"tyrion lannister\", \"davos\", \"tyrion lannister\", \"tormund\", \"tyrion lannister\", \"podrick\", \"podrick\", \"podrick\", \"podrick\", \"podrick\", \"podrick\", \"daenerys targaryen\", \"jon snow\", \"daenerys targaryen\", \"jon snow\", \"jon snow\", \"jon snow\", \"daenerys targaryen\", \"jon snow\", \"daenerys targaryen\", \"jon snow\", \"daenerys targaryen\", \"jon snow\", \"daenerys targaryen\", \"jon snow\", \"daenerys targaryen\", \"man\"], \"y\": [20, 26, 30, 8, 2, 19, 16, 34, 1, 13, 6, 5, 22, 18, 28, 28, 6, 10, 5, 4, 7, 45, 32, 4, 2, 5, 2, 17, 10, 7, 2, 4, 26, 4, 5, 20, 13, 7, 5, 12, 12, 3, 11, 9, 2, 4, 4, 3, 5, 2, 5, 4, 3, 2, 30, 38, 3, 4, 7, 2, 5, 8, 9, 5, 20, 2, 5, 5, 5, 5, 17, 3, 8, 4, 4, 2, 4, 8, 5, 20, 4, 2, 4, 2, 6, 17, 1, 20, 7, 5, 24, 1, 16, 34, 4, 2, 2, 26, 14, 2, 2, 5, 8, 13, 7, 2, 8, 15, 5, 4, 4, 3, 15, 6, 1, 1, 26, 4, 3, 7, 2, 5, 19, 14, 5, 10, 24, 7, 5, 11, 11, 10, 17, 18, 9, 15, 13, 12, 13, 13, 26, 5, 6, 3, 4, 7, 38, 18, 6, 3, 9, 7, 13, 32, 4, 2, 14, 5, 28, 5, 3, 2, 2, 27, 6, 12, 4, 53, 2, 10, 12, 2, 5, 7, 11, 11, 27, 7, 7, 3, 5, 1, 6, 7, 5, 2, 6, 16, 5, 6, 5, 2, 6, 7, 3, 4, 4, 8, 5, 21, 7, 3, 14, 5, 14, 49, 5, 5, 6, 9, 22, 8, 7, 21, 13, 22, 17, 19, 39, 10, 33, 4, 7, 5, 6, 4, 2, 4, 1, 5, 3, 6, 4, 17, 1, 62, 8, 6, 8, 9, 5, 1, 11, 5, 3, 7, 6, 3, 18, 1, 29, 11, 8, 20, 9, 5, 8, 5, 22, 6, 15, 1, 16, 24, 6, 4, 5, 16, 9, 5, 3, 14, 24, 3, 5, 7, 2, 2, 10, 13, 5, 6, 4, 9, 22, 11, 6, 8, 5, 3, 5, 4, 8, 17, 30, 6, 14, 3, 6, 4, 35, 6, 12, 16, 5, 4, 3, 17, 44, 4, 12, 3, 2, 17, 8, 9, 3, 4, 20, 5, 11, 6, 8, 10, 2, 3, 3, 3, 5, 3, 1, 16, 2, 11, 27, 6, 5, 25, 7, 11, 8, 14, 8, 4, 2, 1, 2, 8, 13, 11, 3, 3, 10, 12, 12, 13, 10, 9, 9, 16, 10, 9, 10, 16, 7, 6, 6, 4, 5, 7, 5, 44, 12, 6, 4, 5, 6, 4, 12, 6, 2, 2, 1, 36, 9, 14, 13, 12, 8, 2, 2, 24, 5, 59, 8, 2, 4, 4, 4, 3, 18, 20, 7, 23, 5]}],\n",
       "                        {\"template\": {\"data\": {\"bar\": [{\"error_x\": {\"color\": \"#2a3f5f\"}, \"error_y\": {\"color\": \"#2a3f5f\"}, \"marker\": {\"line\": {\"color\": \"#E5ECF6\", \"width\": 0.5}}, \"type\": \"bar\"}], \"barpolar\": [{\"marker\": {\"line\": {\"color\": \"#E5ECF6\", \"width\": 0.5}}, \"type\": \"barpolar\"}], \"carpet\": [{\"aaxis\": {\"endlinecolor\": \"#2a3f5f\", \"gridcolor\": \"white\", \"linecolor\": \"white\", \"minorgridcolor\": \"white\", \"startlinecolor\": \"#2a3f5f\"}, \"baxis\": {\"endlinecolor\": \"#2a3f5f\", \"gridcolor\": \"white\", \"linecolor\": \"white\", \"minorgridcolor\": \"white\", \"startlinecolor\": \"#2a3f5f\"}, \"type\": \"carpet\"}], \"choropleth\": [{\"colorbar\": {\"outlinewidth\": 0, \"ticks\": \"\"}, \"type\": \"choropleth\"}], \"contour\": [{\"colorbar\": {\"outlinewidth\": 0, \"ticks\": \"\"}, \"colorscale\": [[0.0, \"#0d0887\"], [0.1111111111111111, \"#46039f\"], [0.2222222222222222, \"#7201a8\"], [0.3333333333333333, \"#9c179e\"], [0.4444444444444444, \"#bd3786\"], [0.5555555555555556, \"#d8576b\"], [0.6666666666666666, \"#ed7953\"], [0.7777777777777778, \"#fb9f3a\"], [0.8888888888888888, \"#fdca26\"], [1.0, \"#f0f921\"]], \"type\": \"contour\"}], \"contourcarpet\": [{\"colorbar\": {\"outlinewidth\": 0, \"ticks\": \"\"}, \"type\": \"contourcarpet\"}], \"heatmap\": [{\"colorbar\": {\"outlinewidth\": 0, \"ticks\": \"\"}, \"colorscale\": [[0.0, \"#0d0887\"], [0.1111111111111111, \"#46039f\"], [0.2222222222222222, \"#7201a8\"], [0.3333333333333333, \"#9c179e\"], [0.4444444444444444, \"#bd3786\"], [0.5555555555555556, \"#d8576b\"], [0.6666666666666666, \"#ed7953\"], [0.7777777777777778, \"#fb9f3a\"], [0.8888888888888888, \"#fdca26\"], [1.0, \"#f0f921\"]], \"type\": \"heatmap\"}], \"heatmapgl\": [{\"colorbar\": {\"outlinewidth\": 0, \"ticks\": \"\"}, \"colorscale\": [[0.0, \"#0d0887\"], [0.1111111111111111, \"#46039f\"], [0.2222222222222222, \"#7201a8\"], [0.3333333333333333, \"#9c179e\"], [0.4444444444444444, \"#bd3786\"], [0.5555555555555556, \"#d8576b\"], [0.6666666666666666, \"#ed7953\"], [0.7777777777777778, \"#fb9f3a\"], [0.8888888888888888, \"#fdca26\"], [1.0, \"#f0f921\"]], \"type\": \"heatmapgl\"}], \"histogram\": [{\"marker\": {\"colorbar\": {\"outlinewidth\": 0, \"ticks\": \"\"}}, \"type\": \"histogram\"}], \"histogram2d\": [{\"colorbar\": {\"outlinewidth\": 0, \"ticks\": \"\"}, \"colorscale\": [[0.0, \"#0d0887\"], [0.1111111111111111, \"#46039f\"], [0.2222222222222222, \"#7201a8\"], [0.3333333333333333, \"#9c179e\"], [0.4444444444444444, \"#bd3786\"], [0.5555555555555556, \"#d8576b\"], [0.6666666666666666, \"#ed7953\"], [0.7777777777777778, \"#fb9f3a\"], [0.8888888888888888, \"#fdca26\"], [1.0, \"#f0f921\"]], \"type\": \"histogram2d\"}], \"histogram2dcontour\": [{\"colorbar\": {\"outlinewidth\": 0, \"ticks\": \"\"}, \"colorscale\": [[0.0, \"#0d0887\"], [0.1111111111111111, \"#46039f\"], [0.2222222222222222, \"#7201a8\"], [0.3333333333333333, \"#9c179e\"], [0.4444444444444444, \"#bd3786\"], [0.5555555555555556, \"#d8576b\"], [0.6666666666666666, \"#ed7953\"], [0.7777777777777778, \"#fb9f3a\"], [0.8888888888888888, \"#fdca26\"], [1.0, \"#f0f921\"]], \"type\": \"histogram2dcontour\"}], \"mesh3d\": [{\"colorbar\": {\"outlinewidth\": 0, \"ticks\": \"\"}, \"type\": \"mesh3d\"}], \"parcoords\": [{\"line\": {\"colorbar\": {\"outlinewidth\": 0, \"ticks\": \"\"}}, \"type\": \"parcoords\"}], \"scatter\": [{\"marker\": {\"colorbar\": {\"outlinewidth\": 0, \"ticks\": \"\"}}, \"type\": \"scatter\"}], \"scatter3d\": [{\"line\": {\"colorbar\": {\"outlinewidth\": 0, \"ticks\": \"\"}}, \"marker\": {\"colorbar\": {\"outlinewidth\": 0, \"ticks\": \"\"}}, \"type\": \"scatter3d\"}], \"scattercarpet\": [{\"marker\": {\"colorbar\": {\"outlinewidth\": 0, \"ticks\": \"\"}}, \"type\": \"scattercarpet\"}], \"scattergeo\": [{\"marker\": {\"colorbar\": {\"outlinewidth\": 0, \"ticks\": \"\"}}, \"type\": \"scattergeo\"}], \"scattergl\": [{\"marker\": {\"colorbar\": {\"outlinewidth\": 0, \"ticks\": \"\"}}, \"type\": \"scattergl\"}], \"scattermapbox\": [{\"marker\": {\"colorbar\": {\"outlinewidth\": 0, \"ticks\": \"\"}}, \"type\": \"scattermapbox\"}], \"scatterpolar\": [{\"marker\": {\"colorbar\": {\"outlinewidth\": 0, \"ticks\": \"\"}}, \"type\": \"scatterpolar\"}], \"scatterpolargl\": [{\"marker\": {\"colorbar\": {\"outlinewidth\": 0, \"ticks\": \"\"}}, \"type\": \"scatterpolargl\"}], \"scatterternary\": [{\"marker\": {\"colorbar\": {\"outlinewidth\": 0, \"ticks\": \"\"}}, \"type\": \"scatterternary\"}], \"surface\": [{\"colorbar\": {\"outlinewidth\": 0, \"ticks\": \"\"}, \"colorscale\": [[0.0, \"#0d0887\"], [0.1111111111111111, \"#46039f\"], [0.2222222222222222, \"#7201a8\"], [0.3333333333333333, \"#9c179e\"], [0.4444444444444444, \"#bd3786\"], [0.5555555555555556, \"#d8576b\"], [0.6666666666666666, \"#ed7953\"], [0.7777777777777778, \"#fb9f3a\"], [0.8888888888888888, \"#fdca26\"], [1.0, \"#f0f921\"]], \"type\": \"surface\"}], \"table\": [{\"cells\": {\"fill\": {\"color\": \"#EBF0F8\"}, \"line\": {\"color\": \"white\"}}, \"header\": {\"fill\": {\"color\": \"#C8D4E3\"}, \"line\": {\"color\": \"white\"}}, \"type\": \"table\"}]}, \"layout\": {\"annotationdefaults\": {\"arrowcolor\": \"#2a3f5f\", \"arrowhead\": 0, \"arrowwidth\": 1}, \"colorscale\": {\"diverging\": [[0, \"#8e0152\"], [0.1, \"#c51b7d\"], [0.2, \"#de77ae\"], [0.3, \"#f1b6da\"], [0.4, \"#fde0ef\"], [0.5, \"#f7f7f7\"], [0.6, \"#e6f5d0\"], [0.7, \"#b8e186\"], [0.8, \"#7fbc41\"], [0.9, \"#4d9221\"], [1, \"#276419\"]], \"sequential\": [[0.0, \"#0d0887\"], [0.1111111111111111, \"#46039f\"], [0.2222222222222222, \"#7201a8\"], [0.3333333333333333, \"#9c179e\"], [0.4444444444444444, \"#bd3786\"], [0.5555555555555556, \"#d8576b\"], [0.6666666666666666, \"#ed7953\"], [0.7777777777777778, \"#fb9f3a\"], [0.8888888888888888, \"#fdca26\"], [1.0, \"#f0f921\"]], \"sequentialminus\": [[0.0, \"#0d0887\"], [0.1111111111111111, \"#46039f\"], [0.2222222222222222, \"#7201a8\"], [0.3333333333333333, \"#9c179e\"], [0.4444444444444444, \"#bd3786\"], [0.5555555555555556, \"#d8576b\"], [0.6666666666666666, \"#ed7953\"], [0.7777777777777778, \"#fb9f3a\"], [0.8888888888888888, \"#fdca26\"], [1.0, \"#f0f921\"]]}, \"colorway\": [\"#636efa\", \"#EF553B\", \"#00cc96\", \"#ab63fa\", \"#FFA15A\", \"#19d3f3\", \"#FF6692\", \"#B6E880\", \"#FF97FF\", \"#FECB52\"], \"font\": {\"color\": \"#2a3f5f\"}, \"geo\": {\"bgcolor\": \"white\", \"lakecolor\": \"white\", \"landcolor\": \"#E5ECF6\", \"showlakes\": true, \"showland\": true, \"subunitcolor\": \"white\"}, \"hoverlabel\": {\"align\": \"left\"}, \"hovermode\": \"closest\", \"mapbox\": {\"style\": \"light\"}, \"paper_bgcolor\": \"white\", \"plot_bgcolor\": \"#E5ECF6\", \"polar\": {\"angularaxis\": {\"gridcolor\": \"white\", \"linecolor\": \"white\", \"ticks\": \"\"}, \"bgcolor\": \"#E5ECF6\", \"radialaxis\": {\"gridcolor\": \"white\", \"linecolor\": \"white\", \"ticks\": \"\"}}, \"scene\": {\"xaxis\": {\"backgroundcolor\": \"#E5ECF6\", \"gridcolor\": \"white\", \"gridwidth\": 2, \"linecolor\": \"white\", \"showbackground\": true, \"ticks\": \"\", \"zerolinecolor\": \"white\"}, \"yaxis\": {\"backgroundcolor\": \"#E5ECF6\", \"gridcolor\": \"white\", \"gridwidth\": 2, \"linecolor\": \"white\", \"showbackground\": true, \"ticks\": \"\", \"zerolinecolor\": \"white\"}, \"zaxis\": {\"backgroundcolor\": \"#E5ECF6\", \"gridcolor\": \"white\", \"gridwidth\": 2, \"linecolor\": \"white\", \"showbackground\": true, \"ticks\": \"\", \"zerolinecolor\": \"white\"}}, \"shapedefaults\": {\"line\": {\"color\": \"#2a3f5f\"}}, \"ternary\": {\"aaxis\": {\"gridcolor\": \"white\", \"linecolor\": \"white\", \"ticks\": \"\"}, \"baxis\": {\"gridcolor\": \"white\", \"linecolor\": \"white\", \"ticks\": \"\"}, \"bgcolor\": \"#E5ECF6\", \"caxis\": {\"gridcolor\": \"white\", \"linecolor\": \"white\", \"ticks\": \"\"}}, \"title\": {\"x\": 0.05}, \"xaxis\": {\"automargin\": true, \"gridcolor\": \"white\", \"linecolor\": \"white\", \"ticks\": \"\", \"zerolinecolor\": \"white\", \"zerolinewidth\": 2}, \"yaxis\": {\"automargin\": true, \"gridcolor\": \"white\", \"linecolor\": \"white\", \"ticks\": \"\", \"zerolinecolor\": \"white\", \"zerolinewidth\": 2}}}},\n",
       "                        {\"responsive\": true}\n",
       "                    ).then(function(){\n",
       "                            \n",
       "var gd = document.getElementById('c3764f6b-e0d6-4695-9f84-31b8cb94152f');\n",
       "var x = new MutationObserver(function (mutations, observer) {{\n",
       "        var display = window.getComputedStyle(gd).display;\n",
       "        if (!display || display === 'none') {{\n",
       "            console.log([gd, 'removed!']);\n",
       "            Plotly.purge(gd);\n",
       "            observer.disconnect();\n",
       "        }}\n",
       "}});\n",
       "\n",
       "// Listen for the removal of the full notebook cells\n",
       "var notebookContainer = gd.closest('#notebook-container');\n",
       "if (notebookContainer) {{\n",
       "    x.observe(notebookContainer, {childList: true});\n",
       "}}\n",
       "\n",
       "// Listen for the clearing of the current output cell\n",
       "var outputEl = gd.closest('.output');\n",
       "if (outputEl) {{\n",
       "    x.observe(outputEl, {childList: true});\n",
       "}}\n",
       "\n",
       "                        })\n",
       "                };\n",
       "                });\n",
       "            </script>\n",
       "        </div>"
      ]
     },
     "metadata": {},
     "output_type": "display_data"
    }
   ],
   "source": [
    "fig = go.Figure()\n",
    "\n",
    "fig.add_trace(go.Box(\n",
    "    x = dfe['Character'],\n",
    "    y = dfe['word_count']))"
   ]
  },
  {
   "cell_type": "code",
   "execution_count": null,
   "metadata": {},
   "outputs": [],
   "source": []
  },
  {
   "cell_type": "code",
   "execution_count": null,
   "metadata": {},
   "outputs": [],
   "source": []
  },
  {
   "cell_type": "code",
   "execution_count": null,
   "metadata": {},
   "outputs": [],
   "source": []
  },
  {
   "cell_type": "code",
   "execution_count": null,
   "metadata": {},
   "outputs": [],
   "source": []
  },
  {
   "cell_type": "code",
   "execution_count": 168,
   "metadata": {
    "ExecuteTime": {
     "end_time": "2020-08-20T00:19:09.432697Z",
     "start_time": "2020-08-20T00:19:09.424697Z"
    }
   },
   "outputs": [
    {
     "data": {
      "text/plain": [
       "tyrion lannister      347\n",
       "cersei lannister      181\n",
       "theon greyjoy         175\n",
       "daenerys targaryen    135\n",
       "robb stark            129\n",
       "                     ... \n",
       "quent                   1\n",
       "ser rodrik              1\n",
       "armory                  1\n",
       "colen                   1\n",
       "ironborn                1\n",
       "Name: Character, Length: 140, dtype: int64"
      ]
     },
     "execution_count": 168,
     "metadata": {},
     "output_type": "execute_result"
    }
   ],
   "source": [
    "dfe['Character'].value_counts()"
   ]
  },
  {
   "cell_type": "code",
   "execution_count": null,
   "metadata": {},
   "outputs": [],
   "source": []
  },
  {
   "cell_type": "code",
   "execution_count": null,
   "metadata": {},
   "outputs": [],
   "source": []
  },
  {
   "cell_type": "code",
   "execution_count": 37,
   "metadata": {
    "ExecuteTime": {
     "end_time": "2020-08-18T19:03:08.993693Z",
     "start_time": "2020-08-18T19:03:08.989695Z"
    }
   },
   "outputs": [],
   "source": [
    "seasons = GoT['Season'].unique()"
   ]
  },
  {
   "cell_type": "code",
   "execution_count": 38,
   "metadata": {
    "ExecuteTime": {
     "end_time": "2020-08-18T19:03:13.384231Z",
     "start_time": "2020-08-18T19:03:13.362232Z"
    }
   },
   "outputs": [],
   "source": [
    "df_name = 'GoT_'\n",
    "season_num = 1\n",
    "i = 0\n",
    "df_names = []\n",
    "for season in seasons:\n",
    "    df_names.append(df_name+str(season_num))\n",
    "    df_names[i] = GoT[GoT['Season'] == season]\n",
    "    season_num += 1\n",
    "    i+=1"
   ]
  },
  {
   "cell_type": "code",
   "execution_count": 40,
   "metadata": {
    "ExecuteTime": {
     "end_time": "2020-08-18T19:03:22.632316Z",
     "start_time": "2020-08-18T19:03:22.600314Z"
    }
   },
   "outputs": [
    {
     "data": {
      "text/plain": [
       "[     Release Date    Season     Episode     Episode Title                Name  \\\n",
       " 0      2011-04-17  Season 1   Episode 1  Winter is Coming        waymar royce   \n",
       " 1      2011-04-17  Season 1   Episode 1  Winter is Coming                will   \n",
       " 2      2011-04-17  Season 1   Episode 1  Winter is Coming        waymar royce   \n",
       " 3      2011-04-17  Season 1   Episode 1  Winter is Coming                will   \n",
       " 4      2011-04-17  Season 1   Episode 1  Winter is Coming               gared   \n",
       " ...           ...       ...         ...               ...                 ...   \n",
       " 3174   2011-06-19  Season 1  Episode 10    Fire and Blood  daenerys targaryen   \n",
       " 3175   2011-06-19  Season 1  Episode 10    Fire and Blood  daenerys targaryen   \n",
       " 3176   2011-06-19  Season 1  Episode 10    Fire and Blood      mirri maz duur   \n",
       " 3177   2011-06-19  Season 1  Episode 10    Fire and Blood  daenerys targaryen   \n",
       " 3178   2011-06-19  Season 1  Episode 10    Fire and Blood       jorah mormont   \n",
       " \n",
       "                                                Sentence  \n",
       " 0     What do you expect? They're savages. One lot s...  \n",
       " 1     I've never seen wildlings do a thing like this...  \n",
       " 2                                How close did you get?  \n",
       " 3                               Close as any man would.  \n",
       " 4                      We should head back to the wall.  \n",
       " ...                                                 ...  \n",
       " 3174  ls that what you fear? You will be my khalasar...  \n",
       " 3175  Ser Jorah, bind this woman to the pyre. You sw...  \n",
       " 3176                       You will not hear me scream.  \n",
       " 3177  I will. But it is not your screams I want. Onl...  \n",
       " 3178                                 Blood of my blood.  \n",
       " \n",
       " [3179 rows x 6 columns],\n",
       "      Release Date    Season     Episode        Episode Title  \\\n",
       " 3179   2012-04-01  Season 2   Episode 1  The North Remembers   \n",
       " 3180   2012-04-01  Season 2   Episode 1  The North Remembers   \n",
       " 3181   2012-04-01  Season 2   Episode 1  The North Remembers   \n",
       " 3182   2012-04-01  Season 2   Episode 1  The North Remembers   \n",
       " 3183   2012-04-01  Season 2   Episode 1  The North Remembers   \n",
       " ...           ...       ...         ...                  ...   \n",
       " 7088   2012-06-03  Season 2  Episode 10      Valar Morghulis   \n",
       " 7089   2012-06-03  Season 2  Episode 10      Valar Morghulis   \n",
       " 7090   2012-06-03  Season 2  Episode 10      Valar Morghulis   \n",
       " 7091   2012-06-03  Season 2  Episode 10      Valar Morghulis   \n",
       " 7092   2012-06-03  Season 2  Episode 10      Valar Morghulis   \n",
       " \n",
       "                    Name                            Sentence  \n",
       " 3179  joffrey lannister      Well struck… Well struck, Dog.  \n",
       " 3180  joffrey lannister                  Did you like that?  \n",
       " 3181        sansa stark     It was well struck, Your Grace.  \n",
       " 3182  joffrey lannister  I already said it was well struck.  \n",
       " 3183        sansa stark                    Yes, Your Grace.  \n",
       " ...                 ...                                 ...  \n",
       " 7088              grenn                       Three blasts?  \n",
       " 7089       dolorous edd                                Run!  \n",
       " 7090                sam                  Wait! Wait for me!  \n",
       " 7091                sam                              Grenn!  \n",
       " 7092                sam                                Edd!  \n",
       " \n",
       " [3914 rows x 6 columns],\n",
       "       Release Date    Season     Episode   Episode Title                Name  \\\n",
       " 7093    2013-03-31  Season 3   Episode 1  Valar Dohaeris                 man   \n",
       " 7094    2013-03-31  Season 3   Episode 1  Valar Dohaeris                 sam   \n",
       " 7095    2013-03-31  Season 3   Episode 1  Valar Dohaeris                jeor   \n",
       " 7096    2013-03-31  Season 3   Episode 1  Valar Dohaeris                jeor   \n",
       " 7097    2013-03-31  Season 3   Episode 1  Valar Dohaeris                jeor   \n",
       " ...            ...       ...         ...             ...                 ...   \n",
       " 10661   2013-06-09  Season 3  Episode 10           Mhysa               crowd   \n",
       " 10662   2013-06-09  Season 3  Episode 10           Mhysa  daenerys targaryen   \n",
       " 10663   2013-06-09  Season 3  Episode 10           Mhysa  daenerys targaryen   \n",
       " 10664   2013-06-09  Season 3  Episode 10           Mhysa  daenerys targaryen   \n",
       " 10665   2013-06-09  Season 3  Episode 10           Mhysa               crowd   \n",
       " \n",
       "                                                 Sentence  \n",
       " 7093                                          Fall back!  \n",
       " 7094                                            Brother?  \n",
       " 7095                            Did you send the ravens?  \n",
       " 7096         Tarly, look at me. Did you send the ravens?  \n",
       " 7097   That was your job. Your only job. We need to g...  \n",
       " ...                                                  ...  \n",
       " 10661                               Mhysa! Mhysa! Mhysa.  \n",
       " 10662        It's all right. These people won't hurt me.  \n",
       " 10663                                               Fly.  \n",
       " 10664                                        Let me pass  \n",
       " 10665                        Mhysa! Mhysa! Mhysa. Mhysa!  \n",
       " \n",
       " [3573 rows x 6 columns],\n",
       "       Release Date    Season     Episode Episode Title             Name  \\\n",
       " 10666   2014-04-06  Season 4   Episode 1    Two Swords  jaime lannister   \n",
       " 10667   2014-04-06  Season 4   Episode 1    Two Swords  tywin lannister   \n",
       " 10668   2014-04-06  Season 4   Episode 1    Two Swords  jaime lannister   \n",
       " 10669   2014-04-06  Season 4   Episode 1    Two Swords  tywin lannister   \n",
       " 10670   2014-04-06  Season 4   Episode 1    Two Swords  jaime lannister   \n",
       " ...            ...       ...         ...           ...              ...   \n",
       " 14107   2014-06-15  Season 4  Episode 10  The Children       arya stark   \n",
       " 14108   2014-06-15  Season 4  Episode 10  The Children          captain   \n",
       " 14109   2014-06-15  Season 4  Episode 10  The Children       arya stark   \n",
       " 14110   2014-06-15  Season 4  Episode 10  The Children       arya stark   \n",
       " 14111   2014-06-15  Season 4  Episode 10  The Children          captain   \n",
       " \n",
       "                                                 Sentence  \n",
       " 10666                                       Magnificent.  \n",
       " 10667                                            Mm-hmm.  \n",
       " 10668                                Looks fresh-forged.  \n",
       " 10669                                             It is.  \n",
       " 10670  No one's made a Valyrian steel sword since the...  \n",
       " ...                                                  ...  \n",
       " 14107                       Wait, I have something else.  \n",
       " 14108               More silver won't make a difference.  \n",
       " 14109                        It's not silver, it's iron.  \n",
       " 14110                                   Valar morghulis.  \n",
       " 14111  How did you… valar dohaeris. Of course, you sh...  \n",
       " \n",
       " [3446 rows x 6 columns],\n",
       "       Release Date    Season     Episode     Episode Title              Name  \\\n",
       " 14112   2015-04-12  Season 5   Episode 1  The Wars to Come            melara   \n",
       " 14113   2015-04-12  Season 5   Episode 1  The Wars to Come  cersei lannister   \n",
       " 14114   2015-04-12  Season 5   Episode 1  The Wars to Come            melara   \n",
       " 14115   2015-04-12  Season 5   Episode 1  The Wars to Come  cersei lannister   \n",
       " 14116   2015-04-12  Season 5   Episode 1  The Wars to Come            melara   \n",
       " ...            ...       ...         ...               ...               ...   \n",
       " 17142   2015-06-14  Season 5  Episode 10    Mother’s Mercy           brother   \n",
       " 17143   2015-06-14  Season 5  Episode 10    Mother’s Mercy          jon snow   \n",
       " 17144   2015-06-14  Season 5  Episode 10    Mother’s Mercy              olly   \n",
       " 17145   2015-06-14  Season 5  Episode 10    Mother’s Mercy               end   \n",
       " 17146   2015-06-14  Season 5  Episode 10    Mother’s Mercy               end   \n",
       " \n",
       "                                 Sentence  \n",
       " 14112    We shouldn't be out here alone.  \n",
       " 14113                           Why not?  \n",
       " 14114              If your father hears…  \n",
       " 14115  He'll never know we've been gone.  \n",
       " 14116               But if he finds out…  \n",
       " ...                                  ...  \n",
       " 17142                     For the Watch.  \n",
       " 17143                              Olly…  \n",
       " 17144                     For the Watch.  \n",
       " 17145                            EPISODE  \n",
       " 17146                             SEASON  \n",
       " \n",
       " [3035 rows x 6 columns],\n",
       "       Release Date    Season     Episode        Episode Title  \\\n",
       " 17147   2015-04-24  Season 6   Episode 1        The Red Woman   \n",
       " 17148   2015-04-24  Season 6   Episode 1        The Red Woman   \n",
       " 17149   2015-04-24  Season 6   Episode 1        The Red Woman   \n",
       " 17150   2015-04-24  Season 6   Episode 1        The Red Woman   \n",
       " 17151   2015-04-24  Season 6   Episode 1        The Red Woman   \n",
       " ...            ...       ...         ...                  ...   \n",
       " 19998   2016-06-26  Season 6  Episode 10  The Winds of Winter   \n",
       " 19999   2016-06-26  Season 6  Episode 10  The Winds of Winter   \n",
       " 20000   2016-06-26  Season 6  Episode 10  The Winds of Winter   \n",
       " 20001   2016-06-26  Season 6  Episode 10  The Winds of Winter   \n",
       " 20002   2016-06-26  Season 6  Episode 10  The Winds of Winter   \n",
       " \n",
       "                   Name                                           Sentence  \n",
       " 17147  nights watchman                           It's the Lord Commander!  \n",
       " 17148            davos                             Help me get him inside  \n",
       " 17149     dolorous edd                                    Thorne did this  \n",
       " 17150            davos  How many of your brothers do you think you can...  \n",
       " 17151     dolorous edd                        Trust? The men in this room  \n",
       " ...                ...                                                ...  \n",
       " 19998              all  The King in the North! The King in the North! ...  \n",
       " 19999  jaime lannister                                           Come on.  \n",
       " 20000           qyburn  I now proclaim Cersei of the House Lannister F...  \n",
       " 20001           qyburn                                Long may she reign.  \n",
       " 20002              all                                Long may she reign.  \n",
       " \n",
       " [2856 rows x 6 columns],\n",
       "       Release Date    Season    Episode            Episode Title  \\\n",
       " 20003   2017-07-16  Season 7  Episode 1              Dragonstone   \n",
       " 20004   2017-07-16  Season 7  Episode 1              Dragonstone   \n",
       " 20005   2017-07-16  Season 7  Episode 1              Dragonstone   \n",
       " 20006   2017-07-16  Season 7  Episode 1              Dragonstone   \n",
       " 20007   2017-07-16  Season 7  Episode 1              Dragonstone   \n",
       " ...            ...       ...        ...                      ...   \n",
       " 22440   2017-08-27  Season 7  Episode 7  The Dragon and the Wolf   \n",
       " 22441   2017-08-27  Season 7  Episode 7  The Dragon and the Wolf   \n",
       " 22442   2017-08-27  Season 7  Episode 7  The Dragon and the Wolf   \n",
       " 22443   2017-08-27  Season 7  Episode 7  The Dragon and the Wolf   \n",
       " 22444   2017-08-27  Season 7  Episode 7  The Dragon and the Wolf   \n",
       " \n",
       "                Name                                           Sentence  \n",
       " 20003   walder frey  You're wonder why I brought you all here. Afte...  \n",
       " 20004   walder frey  Well, it's no good being lord of the Riverland...  \n",
       " 20005   walder frey  I've gathered every Frey who means a damn thin...  \n",
       " 20006  waldery frey                                    Stand together!  \n",
       " 20007           all                                    Stand together!  \n",
       " ...             ...                                                ...  \n",
       " 22440         beric                              It's a long way down.  \n",
       " 22441       tormund  Yeah. The crows keep telling me I'll get used ...  \n",
       " 22442           man       I can see movement. Watch, on the tree line!  \n",
       " 22443           man                                        What is it?  \n",
       " 22444       tormund                                 Come on! Run! Run!  \n",
       " \n",
       " [2442 rows x 6 columns],\n",
       "       Release Date    Season    Episode    Episode Title              Name  \\\n",
       " 22445   2019-04-14  Season 8  Episode 1       Winterfell  tyrion lannister   \n",
       " 22446   2019-04-14  Season 8  Episode 1       Winterfell             varys   \n",
       " 22447   2019-04-14  Season 8  Episode 1       Winterfell  tyrion lannister   \n",
       " 22448   2019-04-14  Season 8  Episode 1       Winterfell          jon snow   \n",
       " 22449   2019-04-14  Season 8  Episode 1       Winterfell          jon snow   \n",
       " ...            ...       ...        ...              ...               ...   \n",
       " 23906   2019-05-19  Season 8  Episode 6  The Iron Throne           brienne   \n",
       " 23907   2019-05-19  Season 8  Episode 6  The Iron Throne             bronn   \n",
       " 23908   2019-05-19  Season 8  Episode 6  The Iron Throne  tyrion lannister   \n",
       " 23909   2019-05-19  Season 8  Episode 6  The Iron Throne               man   \n",
       " 23910   2019-05-19  Season 8  Episode 6  The Iron Throne               all   \n",
       " \n",
       "                                                 Sentence  \n",
       " 22445  You should consider yourself lucky. At least y...  \n",
       " 22446  You take great offense at dwarf jokes, but lov...  \n",
       " 22447               Because I have balls, and you don't.  \n",
       " 22448  I warned you. Northerners don't much trust out...  \n",
       " 22449                                       Look at you.  \n",
       " ...                                                  ...  \n",
       " 23906  I think we can all agree that ships take prece...  \n",
       " 23907      I think that's a very presumptuous statement.  \n",
       " 23908  I once brought a jackass and a honeycomb into ...  \n",
       " 23909                            The Queen in the North!  \n",
       " 23910  The Queen in the North! The Queen in the North...  \n",
       " \n",
       " [1466 rows x 6 columns]]"
      ]
     },
     "execution_count": 40,
     "metadata": {},
     "output_type": "execute_result"
    }
   ],
   "source": [
    "df_names"
   ]
  },
  {
   "cell_type": "code",
   "execution_count": 36,
   "metadata": {
    "ExecuteTime": {
     "end_time": "2020-08-18T18:32:02.079384Z",
     "start_time": "2020-08-18T18:32:02.072382Z"
    }
   },
   "outputs": [
    {
     "data": {
      "text/plain": [
       "jon snow              243\n",
       "daenerys targaryen    191\n",
       "tyrion lannister      188\n",
       "jaime lannister       172\n",
       "cersei lannister      162\n",
       "                     ... \n",
       "lyanna mormont          1\n",
       "yohn royce              1\n",
       "archers                 1\n",
       "unsullied               1\n",
       "archmaester             1\n",
       "Name: Name, Length: 73, dtype: int64"
      ]
     },
     "execution_count": 36,
     "metadata": {},
     "output_type": "execute_result"
    }
   ],
   "source": [
    "df_names[6]['Name'].value_counts()"
   ]
  },
  {
   "cell_type": "code",
   "execution_count": 76,
   "metadata": {
    "ExecuteTime": {
     "end_time": "2020-08-20T14:12:50.695714Z",
     "start_time": "2020-08-20T14:12:50.678715Z"
    }
   },
   "outputs": [
    {
     "data": {
      "text/html": [
       "<div>\n",
       "<style scoped>\n",
       "    .dataframe tbody tr th:only-of-type {\n",
       "        vertical-align: middle;\n",
       "    }\n",
       "\n",
       "    .dataframe tbody tr th {\n",
       "        vertical-align: top;\n",
       "    }\n",
       "\n",
       "    .dataframe thead th {\n",
       "        text-align: right;\n",
       "    }\n",
       "</style>\n",
       "<table border=\"1\" class=\"dataframe\">\n",
       "  <thead>\n",
       "    <tr style=\"text-align: right;\">\n",
       "      <th></th>\n",
       "      <th>index</th>\n",
       "      <th>count</th>\n",
       "    </tr>\n",
       "  </thead>\n",
       "  <tbody>\n",
       "    <tr>\n",
       "      <th>0</th>\n",
       "      <td>tyrion lannister</td>\n",
       "      <td>1760</td>\n",
       "    </tr>\n",
       "    <tr>\n",
       "      <th>1</th>\n",
       "      <td>jon snow</td>\n",
       "      <td>1133</td>\n",
       "    </tr>\n",
       "    <tr>\n",
       "      <th>2</th>\n",
       "      <td>daenerys targaryen</td>\n",
       "      <td>1049</td>\n",
       "    </tr>\n",
       "    <tr>\n",
       "      <th>3</th>\n",
       "      <td>cersei lannister</td>\n",
       "      <td>1005</td>\n",
       "    </tr>\n",
       "    <tr>\n",
       "      <th>4</th>\n",
       "      <td>jaime lannister</td>\n",
       "      <td>945</td>\n",
       "    </tr>\n",
       "    <tr>\n",
       "      <th>5</th>\n",
       "      <td>sansa stark</td>\n",
       "      <td>784</td>\n",
       "    </tr>\n",
       "    <tr>\n",
       "      <th>6</th>\n",
       "      <td>arya stark</td>\n",
       "      <td>783</td>\n",
       "    </tr>\n",
       "    <tr>\n",
       "      <th>7</th>\n",
       "      <td>sam tarly</td>\n",
       "      <td>556</td>\n",
       "    </tr>\n",
       "    <tr>\n",
       "      <th>8</th>\n",
       "      <td>davos</td>\n",
       "      <td>528</td>\n",
       "    </tr>\n",
       "    <tr>\n",
       "      <th>9</th>\n",
       "      <td>petyr baelish</td>\n",
       "      <td>483</td>\n",
       "    </tr>\n",
       "    <tr>\n",
       "      <th>10</th>\n",
       "      <td>theon greyjoy</td>\n",
       "      <td>455</td>\n",
       "    </tr>\n",
       "    <tr>\n",
       "      <th>11</th>\n",
       "      <td>bran stark</td>\n",
       "      <td>399</td>\n",
       "    </tr>\n",
       "    <tr>\n",
       "      <th>12</th>\n",
       "      <td>bronn</td>\n",
       "      <td>393</td>\n",
       "    </tr>\n",
       "    <tr>\n",
       "      <th>13</th>\n",
       "      <td>varys</td>\n",
       "      <td>386</td>\n",
       "    </tr>\n",
       "    <tr>\n",
       "      <th>14</th>\n",
       "      <td>man</td>\n",
       "      <td>381</td>\n",
       "    </tr>\n",
       "    <tr>\n",
       "      <th>15</th>\n",
       "      <td>tywin lannister</td>\n",
       "      <td>381</td>\n",
       "    </tr>\n",
       "    <tr>\n",
       "      <th>16</th>\n",
       "      <td>jorah mormont</td>\n",
       "      <td>381</td>\n",
       "    </tr>\n",
       "    <tr>\n",
       "      <th>17</th>\n",
       "      <td>brienne</td>\n",
       "      <td>370</td>\n",
       "    </tr>\n",
       "    <tr>\n",
       "      <th>18</th>\n",
       "      <td>sandor clegane</td>\n",
       "      <td>368</td>\n",
       "    </tr>\n",
       "    <tr>\n",
       "      <th>19</th>\n",
       "      <td>eddard stark</td>\n",
       "      <td>349</td>\n",
       "    </tr>\n",
       "    <tr>\n",
       "      <th>20</th>\n",
       "      <td>robb stark</td>\n",
       "      <td>306</td>\n",
       "    </tr>\n",
       "    <tr>\n",
       "      <th>21</th>\n",
       "      <td>stannis baratheon</td>\n",
       "      <td>296</td>\n",
       "    </tr>\n",
       "    <tr>\n",
       "      <th>22</th>\n",
       "      <td>catelyn stark</td>\n",
       "      <td>285</td>\n",
       "    </tr>\n",
       "    <tr>\n",
       "      <th>23</th>\n",
       "      <td>ramsay bolton</td>\n",
       "      <td>263</td>\n",
       "    </tr>\n",
       "    <tr>\n",
       "      <th>24</th>\n",
       "      <td>margaery tyrell</td>\n",
       "      <td>262</td>\n",
       "    </tr>\n",
       "  </tbody>\n",
       "</table>\n",
       "</div>"
      ],
      "text/plain": [
       "                 index  count\n",
       "0     tyrion lannister   1760\n",
       "1             jon snow   1133\n",
       "2   daenerys targaryen   1049\n",
       "3     cersei lannister   1005\n",
       "4      jaime lannister    945\n",
       "5          sansa stark    784\n",
       "6           arya stark    783\n",
       "7            sam tarly    556\n",
       "8                davos    528\n",
       "9        petyr baelish    483\n",
       "10       theon greyjoy    455\n",
       "11          bran stark    399\n",
       "12               bronn    393\n",
       "13               varys    386\n",
       "14                 man    381\n",
       "15     tywin lannister    381\n",
       "16       jorah mormont    381\n",
       "17             brienne    370\n",
       "18      sandor clegane    368\n",
       "19        eddard stark    349\n",
       "20          robb stark    306\n",
       "21   stannis baratheon    296\n",
       "22       catelyn stark    285\n",
       "23       ramsay bolton    263\n",
       "24     margaery tyrell    262"
      ]
     },
     "execution_count": 76,
     "metadata": {},
     "output_type": "execute_result"
    }
   ],
   "source": [
    " GoT.Character.value_counts().reset_index(name=\"count\").query(\"count > 5\")[:25]"
   ]
  },
  {
   "cell_type": "code",
   "execution_count": null,
   "metadata": {},
   "outputs": [],
   "source": []
  }
 ],
 "metadata": {
  "kernelspec": {
   "display_name": "Python [conda env:learn-env] *",
   "language": "python",
   "name": "conda-env-learn-env-py"
  },
  "language_info": {
   "codemirror_mode": {
    "name": "ipython",
    "version": 3
   },
   "file_extension": ".py",
   "mimetype": "text/x-python",
   "name": "python",
   "nbconvert_exporter": "python",
   "pygments_lexer": "ipython3",
   "version": "3.6.9"
  }
 },
 "nbformat": 4,
 "nbformat_minor": 2
}
