{
 "cells": [
  {
   "cell_type": "code",
   "execution_count": 87,
   "metadata": {
    "ExecuteTime": {
     "end_time": "2020-08-19T19:00:34.322828Z",
     "start_time": "2020-08-19T19:00:33.688828Z"
    }
   },
   "outputs": [
    {
     "name": "stderr",
     "output_type": "stream",
     "text": [
      "C:\\Users\\damni\\anaconda3\\envs\\learn-env\\lib\\site-packages\\statsmodels\\tools\\_testing.py:19: FutureWarning: pandas.util.testing is deprecated. Use the functions in the public API at pandas.testing instead.\n",
      "  import pandas.util.testing as tm\n"
     ]
    }
   ],
   "source": [
    "import pandas as pd\n",
    "import numpy as np\n",
    "import matplotlib.pyplot as plt\n",
    "%matplotlib inline\n",
    "from wordcloud import WordCloud\n",
    "import seaborn as sns"
   ]
  },
  {
   "cell_type": "code",
   "execution_count": 39,
   "metadata": {
    "ExecuteTime": {
     "end_time": "2020-08-19T18:14:48.856699Z",
     "start_time": "2020-08-19T18:14:48.808702Z"
    }
   },
   "outputs": [
    {
     "data": {
      "text/html": [
       "<div>\n",
       "<style scoped>\n",
       "    .dataframe tbody tr th:only-of-type {\n",
       "        vertical-align: middle;\n",
       "    }\n",
       "\n",
       "    .dataframe tbody tr th {\n",
       "        vertical-align: top;\n",
       "    }\n",
       "\n",
       "    .dataframe thead th {\n",
       "        text-align: right;\n",
       "    }\n",
       "</style>\n",
       "<table border=\"1\" class=\"dataframe\">\n",
       "  <thead>\n",
       "    <tr style=\"text-align: right;\">\n",
       "      <th></th>\n",
       "      <th>Release Date</th>\n",
       "      <th>Season</th>\n",
       "      <th>Episode</th>\n",
       "      <th>Episode Title</th>\n",
       "      <th>Name</th>\n",
       "      <th>Sentence</th>\n",
       "    </tr>\n",
       "  </thead>\n",
       "  <tbody>\n",
       "    <tr>\n",
       "      <th>0</th>\n",
       "      <td>2011-04-17</td>\n",
       "      <td>Season 1</td>\n",
       "      <td>Episode 1</td>\n",
       "      <td>Winter is Coming</td>\n",
       "      <td>waymar royce</td>\n",
       "      <td>What do you expect? They're savages. One lot s...</td>\n",
       "    </tr>\n",
       "    <tr>\n",
       "      <th>1</th>\n",
       "      <td>2011-04-17</td>\n",
       "      <td>Season 1</td>\n",
       "      <td>Episode 1</td>\n",
       "      <td>Winter is Coming</td>\n",
       "      <td>will</td>\n",
       "      <td>I've never seen wildlings do a thing like this...</td>\n",
       "    </tr>\n",
       "    <tr>\n",
       "      <th>2</th>\n",
       "      <td>2011-04-17</td>\n",
       "      <td>Season 1</td>\n",
       "      <td>Episode 1</td>\n",
       "      <td>Winter is Coming</td>\n",
       "      <td>waymar royce</td>\n",
       "      <td>How close did you get?</td>\n",
       "    </tr>\n",
       "    <tr>\n",
       "      <th>3</th>\n",
       "      <td>2011-04-17</td>\n",
       "      <td>Season 1</td>\n",
       "      <td>Episode 1</td>\n",
       "      <td>Winter is Coming</td>\n",
       "      <td>will</td>\n",
       "      <td>Close as any man would.</td>\n",
       "    </tr>\n",
       "    <tr>\n",
       "      <th>4</th>\n",
       "      <td>2011-04-17</td>\n",
       "      <td>Season 1</td>\n",
       "      <td>Episode 1</td>\n",
       "      <td>Winter is Coming</td>\n",
       "      <td>gared</td>\n",
       "      <td>We should head back to the wall.</td>\n",
       "    </tr>\n",
       "  </tbody>\n",
       "</table>\n",
       "</div>"
      ],
      "text/plain": [
       "  Release Date    Season    Episode     Episode Title          Name  \\\n",
       "0   2011-04-17  Season 1  Episode 1  Winter is Coming  waymar royce   \n",
       "1   2011-04-17  Season 1  Episode 1  Winter is Coming          will   \n",
       "2   2011-04-17  Season 1  Episode 1  Winter is Coming  waymar royce   \n",
       "3   2011-04-17  Season 1  Episode 1  Winter is Coming          will   \n",
       "4   2011-04-17  Season 1  Episode 1  Winter is Coming         gared   \n",
       "\n",
       "                                            Sentence  \n",
       "0  What do you expect? They're savages. One lot s...  \n",
       "1  I've never seen wildlings do a thing like this...  \n",
       "2                             How close did you get?  \n",
       "3                            Close as any man would.  \n",
       "4                   We should head back to the wall.  "
      ]
     },
     "execution_count": 39,
     "metadata": {},
     "output_type": "execute_result"
    }
   ],
   "source": [
    "GoT = pd.read_csv('Game_of_Thrones_Script.csv')\n",
    "GoT.head()"
   ]
  },
  {
   "cell_type": "code",
   "execution_count": null,
   "metadata": {},
   "outputs": [],
   "source": [
    "GoT['Spoken Word Count'] = GoT[]"
   ]
  },
  {
   "cell_type": "code",
   "execution_count": 40,
   "metadata": {
    "ExecuteTime": {
     "end_time": "2020-08-19T18:15:10.274701Z",
     "start_time": "2020-08-19T18:15:10.267699Z"
    }
   },
   "outputs": [
    {
     "data": {
      "text/plain": [
       "tyrion lannister      1760\n",
       "jon snow              1133\n",
       "daenerys targaryen    1048\n",
       "cersei lannister      1005\n",
       "jaime lannister        945\n",
       "                      ... \n",
       "member                   1\n",
       "red priestess            1\n",
       "tomard                   1\n",
       "lord bolton              1\n",
       "archers                  1\n",
       "Name: Name, Length: 564, dtype: int64"
      ]
     },
     "execution_count": 40,
     "metadata": {},
     "output_type": "execute_result"
    }
   ],
   "source": [
    "GoT['Name'].value_counts()"
   ]
  },
  {
   "cell_type": "code",
   "execution_count": 47,
   "metadata": {
    "ExecuteTime": {
     "end_time": "2020-08-18T19:11:56.639238Z",
     "start_time": "2020-08-18T19:11:56.631235Z"
    }
   },
   "outputs": [
    {
     "data": {
      "text/plain": [
       "array(['waymar royce', 'will', 'gared', 'royce', 'jon snow',\n",
       "       'septa mordane', 'sansa stark', 'eddard stark', 'robb stark',\n",
       "       'jonrobb', 'cassel', 'catelyn stark', 'bran stark',\n",
       "       'theon greyjoy', 'jaime lannister', 'cersei lannister',\n",
       "       'maester luwin', 'luwin', 'arya stark', 'robert baratheon',\n",
       "       'tyrion lannister', 'ros', 'viserys', 'daenerys targaryen', 'maid',\n",
       "       'illyrio', 'benjen', 'a voice', 'jorah mormont', 'khal drogo',\n",
       "       'sandor clegane', 'doreah', 'irri', 'viserys targaryen',\n",
       "       'joffrey lannister', 'myrcella baratheon', 'benjen stark',\n",
       "       'assassin', 'jhiqui', 'rodrick cassel', 'mycah', 'soldier',\n",
       "       'jory cassel', 'kings landing guard', 'varys', 'renly baratheon',\n",
       "       'petyr baelish', 'grand maester pycelle', 'old nan', 'guard',\n",
       "       'alliser thorne', 'jeor mormont', 'grenn', 'pyp', 'rast',\n",
       "       'barristan selmy', 'lancel lannister', 'rakharo', 'yoren',\n",
       "       'rhakaro', 'maester aemon', 'syrio forel', 'sam tarly',\n",
       "       'janos slynt', 'hugh of vale', 'tobho mott', 'gendry baratheon',\n",
       "       'marillion', 'masha heddle', 'bronn', 'knight of house whent',\n",
       "       'knight of house bracken', 'loras tyrell', 'rodrik cassel',\n",
       "       'illyrio mopatis', 'vardis egen', 'steward', 'lysa arryn',\n",
       "       'robin arryn', 'mord', 'mhaegen', 'osha', 'wildling', 'knight',\n",
       "       'ser vardis', 'barriston', 'man', 'beric dondarrion', 'mordane',\n",
       "       'tywin lannister', 'night watch stable boy', 'lord varys',\n",
       "       'deanerys targarian', 'little bird', 'wine merchant',\n",
       "       'jaremy rykker', 'othell yarwyck', 'pypar', 'tell me something',\n",
       "       'tomard', 'king joffrey', 'steward of house stark', 'meryn trant',\n",
       "       'maryn trant', 'kings guard', 'stable boy', 'ser alliser',\n",
       "       'nights watch brother', 'shagga', 'kevan lannister', 'messenger',\n",
       "       'rodrik cassal', 'greatjon umber', 'stark guard',\n",
       "       'lannister scout', 'kings landing page', 'everyone', 'walder frey',\n",
       "       'stevron frey', 'ryger rivers', 'voices outside',\n",
       "       'unidentified nights watchers', 'nights watcher', 'all', 'cohollo',\n",
       "       'qotho', 'prostitute', 'shae', 'mirri maz duur',\n",
       "       'lannister soldier', 'tribesmen of vale', 'stark bannermen',\n",
       "       'kings landing baker', 'street urchin', 'populace', 'eddark stark',\n",
       "       'rickon stark', 'several stark bannermen', 'jonos bracken',\n",
       "       'galbart glover', 'rickard karstark', 'leo lefford',\n",
       "       'addam marbrand', 'sam pyp and grenn', 'hot pie',\n",
       "       'lommy greenhands', 'announcer', 'ser dontos', 'myrcella',\n",
       "       'pycelle', 'janos', 'lord', 'portan', 'sam', 'edd', 'lord mormont',\n",
       "       'craster', 'watchman', 'gilly', 'melisandre', 'group', 'cressen',\n",
       "       'davos', 'crowd', 'stannis baratheon', 'matthos', 'alton',\n",
       "       'ser rodrik', 'others at table', 'roz', 'daisy', 'mhaegan',\n",
       "       'gold cloak', 'blacksmith', 'cold', 'end', 'title', 'jaqen hghar',\n",
       "       'rorge', 'woman', 'podrick', 'lommy', 'yara greyjoy', 'balon',\n",
       "       'all three', 'saan', 'jeor', 'hodor', 'margaery tyrell', 'loras',\n",
       "       'renly', 'brienne', 'colen', 'gerard', 'tommen lannister',\n",
       "       'priest', 'drowned priest', 'timett', 'rennick', 'men',\n",
       "       'roose bolton', 'wounded soldier', 'talisa', 'lancel', 'meryn',\n",
       "       'kovarro', 'mountain', 'tickler', 'prisoner', 'spice king',\n",
       "       'spice', 'xaro', 'polliver', 'girl', 'protester', 'black lorren',\n",
       "       'dagmer', 'reginald', 'amory', 'dolorous edd', 'dolorous',\n",
       "       'haylene', 'pyatt pree', 'quaithe', 'winterfell shepherd',\n",
       "       'rodrik', 'qhorin', 'farlen', 'ironborn', 'rickon', 'armory',\n",
       "       'ygritte', 'septon', 'cuard', 'quent', 'roose', 'ahsa', 'rikon',\n",
       "       'mountian', 'child', 'handmaiden', 'quaith', 'silk king',\n",
       "       'pyat pree', 'pyattpree', 'jacks', 'rickard', 'mar',\n",
       "       'lord of bones', 'rider', 'kevan', 'quorin', 'eddision',\n",
       "       'male singer', 'drogo', 'rattleshirt', 'main', 'boy', 'tormund',\n",
       "       'mance', 'whore', 'salladhor', 'qyburn', 'missandei',\n",
       "       'kraznys mo nakloz', 'unsullied', 'barristan', 'jojen', 'torturer',\n",
       "       'tailor', 'olenna tyrell', 'servant', 'orell', 'meera', 'thoros',\n",
       "       'anguy', 'ramsay bolton', 'locke', 'edmure', 'brynden', 'driver',\n",
       "       'martyn', 'karl tanner', 'kraznys', 'greizhen', 'marei', 'beric',\n",
       "       'willem', 'selyse', 'shireen', 'grey worm', 'olyvar',\n",
       "       'black walder', 'lothar', 'radzal mo eraz', 'myranda', 'violet',\n",
       "       'steelshanks walton', 'daario', 'mero', 'prendahl', 'walder',\n",
       "       'merry', 'pig farmer', 'old man', 'roslin', 'edmure roslin',\n",
       "       'blackfish', 'everybody', 'frey guard', 'frey man', 'frey men',\n",
       "       'frey soldier', 'daughter', 'dornish lord', 'oberyn martell',\n",
       "       'ellaria', 'morgan', 'morgans friend', 'warg', 'styr', 'officer',\n",
       "       'janos slunt', 'innkeeper', 'tansy', 'walda', 'mace',\n",
       "       'axell florent', 'threeeyed raven', 'musician', 'renly dwarf',\n",
       "       'robb dwarf', 'joffrey dwarf', 'balon dwarf', 'stannis dwarf',\n",
       "       'farmer hamlet', 'ranger', 'moles town whore', 'moles town madam',\n",
       "       'olly', 'guymon', 'ollys mother', 'yarwyck', 'alliser thorn',\n",
       "       'mossador', 'elder meereen slave', 'meereen slave', 'slaves',\n",
       "       'tanner', 'women', 'sissy', 'robin', 'lysa', 'karl',\n",
       "       'doloroud edd', 'dolrous edd', 'morag', 'tycho', 'sallador',\n",
       "       'lhara', 'first mate', 'bolton guard', 'manservant', 'hizdahr',\n",
       "       'pyelle', 'dying man', 'alliser', 'yarwick', 'ed', 'ralf', 'petyr',\n",
       "       'lord royce', 'lady anya', 'ser vance', 'ser barristan',\n",
       "       'ser jorah', 'lord bolton', 'together', 'pycell', 'aemon',\n",
       "       'thenn warg', 'nights watch', 'member', 'donnel', 'cooper',\n",
       "       'all together', 'fennesz', 'captain', 'melara', 'maggy',\n",
       "       'white rat', 'master of arms', 'yohn royce', 'squire',\n",
       "       'grand maester pyrcelle', 'daario naharis', 'hizdahr zo loraq',\n",
       "       'braavosi man', 'waitress', 'lollys stokeworth', 'lollys',\n",
       "       'trystane', 'areo', 'doran', 'hunters', 'mace tyrell',\n",
       "       'shadow tower brother', 'brother', 'brothers', 'harpy', 'mosador',\n",
       "       'bystanders', 'waif', 'sparrow', 'priestess', 'blonde prostitute',\n",
       "       'black haired prostitute', 'merchant', 'militant', 'client',\n",
       "       'kingsguard', 'tyene', 'elaria', 'obara', 'nymeria', 'allister',\n",
       "       'malko', 'slaver', 'sand snakes', 'derryk', 'sammy', 'slave buyer',\n",
       "       'buyer', 'buer', 'slave owner', 'owner', 'septa', 'thin man',\n",
       "       'bolton bannerman', 'master', 'karsi', 'loboda', 'wildling elder',\n",
       "       'giant', 'wun wun', 'shouting', 'banker', 'brothel keeper',\n",
       "       'head prostitute', 'head', 'quick', 'strong', 'survivor', 'voice',\n",
       "       'nights watchman', 'male voice', 'nights watchmen',\n",
       "       'maester wolkan', 'bolton officer', 'septa unella', 'maester',\n",
       "       'listeners', 'red priest', 'bloodrider', 'wife', 'khal moro',\n",
       "       'young rodrik', 'young ned', 'young benjen', 'young lyanna',\n",
       "       'young hodor', nan, 'child of forest', 'storyteller',\n",
       "       'kings soldier', 'lord karstark', 'lady walda', 'hooded figure',\n",
       "       'euron greyjoy', 'aeron', 'arthur', 'dothraki woman',\n",
       "       'dothraki matron', 'vala', 'maester pycelle', 'lady olenna',\n",
       "       'smalljon', 'bowen marsh', 'othell yarwick', 'alliser throne',\n",
       "       'yezzan', 'razdal', 'belicho', 'dothraki', 'leader',\n",
       "       'lhazareen woman', 'maester pycell', 'kevin', 'khal', 'izembaro',\n",
       "       'clarenzo', 'ladyc rane', 'camello', 'bobono', 'lady crane',\n",
       "       'bianca', 'leaf', 'aerson', 'kinvara', 'melessa', 'talla',\n",
       "       'dickon', 'randyll', 'ray', 'sandor', 'dim dalba', 'lyanna',\n",
       "       'robett', 'lem', 'gatins', 'young man', 'red priestess', 'bryndel',\n",
       "       'guard captain', 'karstark', 'attendant', 'mistress',\n",
       "       'vale knight', 'manderly', 'glover', 'waldery frey', 'yohn',\n",
       "       'ned alys', 'wolkan', 'marwyn', 'little sam', 'ellia',\n",
       "       'robett glover', 'lyanna mormont', 'drogon', 'archers',\n",
       "       'archmaester', 'harrag', 'john royce', 'rhaegar', 'brans voice',\n",
       "       'umber', 'harry', 'dirah', 'crayah', 'dothraki man', 'both',\n",
       "       'teela', 'lyann', 'northman', 'martha', 'father', 'nora', 'vicky',\n",
       "       'owen', 'riverlands lord', 'dornish prince', 'ironborn lord',\n",
       "       'vale lord', 'unsullied captain'], dtype=object)"
      ]
     },
     "execution_count": 47,
     "metadata": {},
     "output_type": "execute_result"
    }
   ],
   "source": [
    "GoT['Name'].unique()"
   ]
  },
  {
   "cell_type": "markdown",
   "metadata": {
    "ExecuteTime": {
     "end_time": "2020-08-18T17:45:11.752695Z",
     "start_time": "2020-08-18T17:45:11.739694Z"
    }
   },
   "source": [
    "In total, we have 564 different speaking characters throughout the series. However, upon close inspection, it seems this may number may be smaller due to an inconsistency with naming of speaking characters. The following are instances of the same character being named in different ways:\n",
    "* maester luwin/luwin\n",
    "* varys/lord varys\n",
    "* grand maester pycelle/pycelle/gran maester pyrcelle/maester pycelle/maester pycell\n",
    "* barristan selmy/barriston/ser barristan/barristan\n",
    "* daenerys targaryen/deanerys targarian\n",
    "* joffrey lanister/king joffrey\n",
    "* kevan lannister/kevin/kevan \n",
    "* alliser thorne/ser alliser/alliser thorn/alliser/allister/alliser throne\n",
    "* eddark stark/eddard stark\n",
    "* rickon stark/rickon\n",
    "* sam/sam tarly\n",
    "* lord mormont/jeor mormont/jeor\n",
    "* rodrick cassel/rodrik cassel/rodrik cassal/ser rodrick/rodrik\n",
    "* edd/dolorous edd/dolorous/doloroud edd/dolrous edd\n",
    "* renly/renly baratheon\n",
    "* maryn trant/meryn\n",
    "* lancell lannister/lancell\n",
    "* petyr baelish/petyr\n",
    "* mountain/mountian\n",
    "* pyatt pree/pyat pree/pyattpree\n",
    "* walder frey/walder\n",
    "* sandor/sandor clegane\n",
    "* lady olenna/olenna tyrell\n",
    "* beric/beric dondarrion"
   ]
  },
  {
   "cell_type": "code",
   "execution_count": 41,
   "metadata": {
    "ExecuteTime": {
     "end_time": "2020-08-19T18:15:46.225695Z",
     "start_time": "2020-08-19T18:15:46.218695Z"
    }
   },
   "outputs": [],
   "source": [
    "correct_names = {'maester luwin':['maester luwin', 'luwin'],\n",
    "                'varys': ['varys','lord varys'],\n",
    "                'pycelle': ['grand maester pycelle', 'pycelle', 'gran maester pyrcelle', 'maester pycelle', 'maester pycell', 'pycell', 'pyelle', 'grand maester pyrcelle'],\n",
    "                'barristan selmy': ['barristan selmy', 'barriston', 'ser barristan', 'barristan'],\n",
    "                'daenerys targaryen': ['daenerys targaryen', 'deanerys targarian'],\n",
    "                'joffrey lannister': ['joffrey lannister', 'king joffrey'],\n",
    "                'kevan lannister': ['kevan lannister', 'kevin', 'kevan'],\n",
    "                'alliser thorne': ['alliser thorne', 'ser alliser', 'alliser thorn', 'alliser', 'allister', 'alliser throne'],\n",
    "                'eddard stark': ['eddard stark', 'eddark stark'],\n",
    "                'rickon stark': ['rickon stark', 'rickon'],\n",
    "                'sam tarly': ['sam tarly', 'sam'],\n",
    "                'jeor mormont': ['jeor mormont', 'lord mormont', 'jeor'],\n",
    "                'rodrik cassel': ['rodrik cassel', 'rodrick cassel', 'rodrik cassal', 'ser rodrick', 'rodrik'],\n",
    "                \"'dolorous' edd\": ['edd', 'dolorous edd', 'dolorous', 'doloroud edd', 'dolrous edd', 'ed'],\n",
    "                'renly baratheon': ['renly baratheon', 'renly'],\n",
    "                'maryn trant': ['maryn trant', 'meryn', 'meryn trant'],\n",
    "                'lancell lannister': ['lancell lannister', 'lancell', 'lancel'],\n",
    "                'petyr baelish': ['petyr baelish', 'petyr'],\n",
    "                'the mountain': ['mountain', 'mountian'],\n",
    "                'pyat pree': ['pyat pree', 'pyatt pree', 'pyattpree'],\n",
    "                'walder frey': ['walder frey', 'walder'],\n",
    "                'sandor clegane': ['sandor clegane', 'sandor'],\n",
    "                'olenna tyrell': ['olenna tyrell', 'lady olenna'],\n",
    "                'beric dondarrion': ['beric dondarrion', 'beric']}"
   ]
  },
  {
   "cell_type": "markdown",
   "metadata": {},
   "source": [
    "In retrospect, I created this dictionary backwards and the keys need to values and the values need to be keys in order for us to be able to apply it to our data."
   ]
  },
  {
   "cell_type": "code",
   "execution_count": 42,
   "metadata": {
    "ExecuteTime": {
     "end_time": "2020-08-19T18:15:47.574695Z",
     "start_time": "2020-08-19T18:15:47.571695Z"
    }
   },
   "outputs": [],
   "source": [
    "fixed_dict = {}\n",
    "for key, values in correct_names.items():\n",
    "    for value in values:\n",
    "        fixed_dict[value] = key"
   ]
  },
  {
   "cell_type": "code",
   "execution_count": 43,
   "metadata": {
    "ExecuteTime": {
     "end_time": "2020-08-19T18:15:47.884695Z",
     "start_time": "2020-08-19T18:15:47.878695Z"
    }
   },
   "outputs": [],
   "source": [
    "GoT['Character'] = GoT['Name'].map(fixed_dict)"
   ]
  },
  {
   "cell_type": "code",
   "execution_count": 44,
   "metadata": {
    "ExecuteTime": {
     "end_time": "2020-08-19T18:15:48.177696Z",
     "start_time": "2020-08-19T18:15:48.172695Z"
    }
   },
   "outputs": [],
   "source": [
    "GoT['Character'].fillna(GoT['Name'], inplace = True)"
   ]
  },
  {
   "cell_type": "code",
   "execution_count": 45,
   "metadata": {
    "ExecuteTime": {
     "end_time": "2020-08-19T18:15:48.484698Z",
     "start_time": "2020-08-19T18:15:48.475695Z"
    }
   },
   "outputs": [
    {
     "data": {
      "text/plain": [
       "tyrion lannister      1760\n",
       "jon snow              1133\n",
       "daenerys targaryen    1049\n",
       "cersei lannister      1005\n",
       "jaime lannister        945\n",
       "                      ... \n",
       "both                     1\n",
       "unsullied captain        1\n",
       "quick                    1\n",
       "archers                  1\n",
       "member                   1\n",
       "Name: Character, Length: 520, dtype: int64"
      ]
     },
     "execution_count": 45,
     "metadata": {},
     "output_type": "execute_result"
    }
   ],
   "source": [
    "GoT['Character'].value_counts()"
   ]
  },
  {
   "cell_type": "code",
   "execution_count": 49,
   "metadata": {
    "ExecuteTime": {
     "end_time": "2020-08-19T18:20:19.695227Z",
     "start_time": "2020-08-19T18:20:19.678228Z"
    }
   },
   "outputs": [
    {
     "name": "stdout",
     "output_type": "stream",
     "text": [
      "<class 'pandas.core.frame.DataFrame'>\n",
      "RangeIndex: 23911 entries, 0 to 23910\n",
      "Data columns (total 7 columns):\n",
      " #   Column         Non-Null Count  Dtype \n",
      "---  ------         --------------  ----- \n",
      " 0   Release Date   23911 non-null  object\n",
      " 1   Season         23911 non-null  object\n",
      " 2   Episode        23911 non-null  object\n",
      " 3   Episode Title  23911 non-null  object\n",
      " 4   Name           23908 non-null  object\n",
      " 5   Sentence       23911 non-null  object\n",
      " 6   Character      23908 non-null  object\n",
      "dtypes: object(7)\n",
      "memory usage: 1.3+ MB\n"
     ]
    }
   ],
   "source": [
    "GoT.info()"
   ]
  },
  {
   "cell_type": "code",
   "execution_count": 55,
   "metadata": {
    "ExecuteTime": {
     "end_time": "2020-08-19T18:22:00.781699Z",
     "start_time": "2020-08-19T18:22:00.758699Z"
    }
   },
   "outputs": [],
   "source": [
    "#drop duplicate name column and the three null values\n",
    "GoT.dropna(inplace = True)\n",
    "GoT.drop('Name', axis = 1, inplace = True)"
   ]
  },
  {
   "cell_type": "code",
   "execution_count": 56,
   "metadata": {
    "ExecuteTime": {
     "end_time": "2020-08-19T18:22:02.925700Z",
     "start_time": "2020-08-19T18:22:02.915700Z"
    }
   },
   "outputs": [
    {
     "data": {
      "text/html": [
       "<div>\n",
       "<style scoped>\n",
       "    .dataframe tbody tr th:only-of-type {\n",
       "        vertical-align: middle;\n",
       "    }\n",
       "\n",
       "    .dataframe tbody tr th {\n",
       "        vertical-align: top;\n",
       "    }\n",
       "\n",
       "    .dataframe thead th {\n",
       "        text-align: right;\n",
       "    }\n",
       "</style>\n",
       "<table border=\"1\" class=\"dataframe\">\n",
       "  <thead>\n",
       "    <tr style=\"text-align: right;\">\n",
       "      <th></th>\n",
       "      <th>Release Date</th>\n",
       "      <th>Season</th>\n",
       "      <th>Episode</th>\n",
       "      <th>Episode Title</th>\n",
       "      <th>Sentence</th>\n",
       "      <th>Character</th>\n",
       "    </tr>\n",
       "  </thead>\n",
       "  <tbody>\n",
       "    <tr>\n",
       "      <th>0</th>\n",
       "      <td>2011-04-17</td>\n",
       "      <td>Season 1</td>\n",
       "      <td>Episode 1</td>\n",
       "      <td>Winter is Coming</td>\n",
       "      <td>What do you expect? They're savages. One lot s...</td>\n",
       "      <td>waymar royce</td>\n",
       "    </tr>\n",
       "    <tr>\n",
       "      <th>1</th>\n",
       "      <td>2011-04-17</td>\n",
       "      <td>Season 1</td>\n",
       "      <td>Episode 1</td>\n",
       "      <td>Winter is Coming</td>\n",
       "      <td>I've never seen wildlings do a thing like this...</td>\n",
       "      <td>will</td>\n",
       "    </tr>\n",
       "    <tr>\n",
       "      <th>2</th>\n",
       "      <td>2011-04-17</td>\n",
       "      <td>Season 1</td>\n",
       "      <td>Episode 1</td>\n",
       "      <td>Winter is Coming</td>\n",
       "      <td>How close did you get?</td>\n",
       "      <td>waymar royce</td>\n",
       "    </tr>\n",
       "    <tr>\n",
       "      <th>3</th>\n",
       "      <td>2011-04-17</td>\n",
       "      <td>Season 1</td>\n",
       "      <td>Episode 1</td>\n",
       "      <td>Winter is Coming</td>\n",
       "      <td>Close as any man would.</td>\n",
       "      <td>will</td>\n",
       "    </tr>\n",
       "    <tr>\n",
       "      <th>4</th>\n",
       "      <td>2011-04-17</td>\n",
       "      <td>Season 1</td>\n",
       "      <td>Episode 1</td>\n",
       "      <td>Winter is Coming</td>\n",
       "      <td>We should head back to the wall.</td>\n",
       "      <td>gared</td>\n",
       "    </tr>\n",
       "  </tbody>\n",
       "</table>\n",
       "</div>"
      ],
      "text/plain": [
       "  Release Date    Season    Episode     Episode Title  \\\n",
       "0   2011-04-17  Season 1  Episode 1  Winter is Coming   \n",
       "1   2011-04-17  Season 1  Episode 1  Winter is Coming   \n",
       "2   2011-04-17  Season 1  Episode 1  Winter is Coming   \n",
       "3   2011-04-17  Season 1  Episode 1  Winter is Coming   \n",
       "4   2011-04-17  Season 1  Episode 1  Winter is Coming   \n",
       "\n",
       "                                            Sentence     Character  \n",
       "0  What do you expect? They're savages. One lot s...  waymar royce  \n",
       "1  I've never seen wildlings do a thing like this...          will  \n",
       "2                             How close did you get?  waymar royce  \n",
       "3                            Close as any man would.          will  \n",
       "4                   We should head back to the wall.         gared  "
      ]
     },
     "execution_count": 56,
     "metadata": {},
     "output_type": "execute_result"
    }
   ],
   "source": [
    "GoT.head()"
   ]
  },
  {
   "cell_type": "code",
   "execution_count": 57,
   "metadata": {
    "ExecuteTime": {
     "end_time": "2020-08-19T18:24:06.787700Z",
     "start_time": "2020-08-19T18:24:06.783698Z"
    }
   },
   "outputs": [],
   "source": [
    "# NExt lets look at the amount of words being spoken"
   ]
  },
  {
   "cell_type": "code",
   "execution_count": 66,
   "metadata": {
    "ExecuteTime": {
     "end_time": "2020-08-19T18:38:45.169026Z",
     "start_time": "2020-08-19T18:38:45.159026Z"
    }
   },
   "outputs": [
    {
     "data": {
      "text/plain": [
       "1505661"
      ]
     },
     "execution_count": 66,
     "metadata": {},
     "output_type": "execute_result"
    }
   ],
   "source": [
    "complete_text = ' '.join(GoT['Sentence'])"
   ]
  },
  {
   "cell_type": "code",
   "execution_count": 68,
   "metadata": {
    "ExecuteTime": {
     "end_time": "2020-08-19T18:40:22.118078Z",
     "start_time": "2020-08-19T18:40:22.114079Z"
    }
   },
   "outputs": [
    {
     "data": {
      "text/plain": [
       "\"What do you expect? They're savages. One lot steals a goat from another lot and before you know it, they're ripping each other to pieces.\""
      ]
     },
     "execution_count": 68,
     "metadata": {},
     "output_type": "execute_result"
    }
   ],
   "source": [
    "sample = GoT['Sentence'][0]\n",
    "sample"
   ]
  },
  {
   "cell_type": "markdown",
   "metadata": {},
   "source": [
    "We've successfully reduced the total number of speaking characters by 44!"
   ]
  },
  {
   "cell_type": "code",
   "execution_count": 59,
   "metadata": {
    "ExecuteTime": {
     "end_time": "2020-08-19T18:33:07.315698Z",
     "start_time": "2020-08-19T18:33:07.312699Z"
    }
   },
   "outputs": [],
   "source": [
    "from keras.preprocessing.text import Tokenizer"
   ]
  },
  {
   "cell_type": "code",
   "execution_count": 70,
   "metadata": {
    "ExecuteTime": {
     "end_time": "2020-08-19T18:42:10.098696Z",
     "start_time": "2020-08-19T18:42:09.890696Z"
    }
   },
   "outputs": [],
   "source": [
    "tokenizer = Tokenizer()\n",
    "tokenizer.fit_on_texts([complete_text])\n"
   ]
  },
  {
   "cell_type": "code",
   "execution_count": 73,
   "metadata": {
    "ExecuteTime": {
     "end_time": "2020-08-19T18:42:40.412698Z",
     "start_time": "2020-08-19T18:42:40.408696Z"
    }
   },
   "outputs": [
    {
     "data": {
      "text/plain": [
       "25"
      ]
     },
     "execution_count": 73,
     "metadata": {},
     "output_type": "execute_result"
    }
   ],
   "source": [
    "len(tokenizer.texts_to_sequences([sample])[0])"
   ]
  },
  {
   "cell_type": "code",
   "execution_count": 74,
   "metadata": {
    "ExecuteTime": {
     "end_time": "2020-08-19T18:46:17.810696Z",
     "start_time": "2020-08-19T18:46:17.560696Z"
    }
   },
   "outputs": [],
   "source": [
    "GoT['word_count'] = GoT['Sentence'].apply(lambda x: len(tokenizer.texts_to_sequences([x])[0]))"
   ]
  },
  {
   "cell_type": "code",
   "execution_count": 75,
   "metadata": {
    "ExecuteTime": {
     "end_time": "2020-08-19T18:46:22.815701Z",
     "start_time": "2020-08-19T18:46:22.802699Z"
    }
   },
   "outputs": [
    {
     "data": {
      "text/html": [
       "<div>\n",
       "<style scoped>\n",
       "    .dataframe tbody tr th:only-of-type {\n",
       "        vertical-align: middle;\n",
       "    }\n",
       "\n",
       "    .dataframe tbody tr th {\n",
       "        vertical-align: top;\n",
       "    }\n",
       "\n",
       "    .dataframe thead th {\n",
       "        text-align: right;\n",
       "    }\n",
       "</style>\n",
       "<table border=\"1\" class=\"dataframe\">\n",
       "  <thead>\n",
       "    <tr style=\"text-align: right;\">\n",
       "      <th></th>\n",
       "      <th>Release Date</th>\n",
       "      <th>Season</th>\n",
       "      <th>Episode</th>\n",
       "      <th>Episode Title</th>\n",
       "      <th>Sentence</th>\n",
       "      <th>Character</th>\n",
       "      <th>word_count</th>\n",
       "    </tr>\n",
       "  </thead>\n",
       "  <tbody>\n",
       "    <tr>\n",
       "      <th>0</th>\n",
       "      <td>2011-04-17</td>\n",
       "      <td>Season 1</td>\n",
       "      <td>Episode 1</td>\n",
       "      <td>Winter is Coming</td>\n",
       "      <td>What do you expect? They're savages. One lot s...</td>\n",
       "      <td>waymar royce</td>\n",
       "      <td>25</td>\n",
       "    </tr>\n",
       "    <tr>\n",
       "      <th>1</th>\n",
       "      <td>2011-04-17</td>\n",
       "      <td>Season 1</td>\n",
       "      <td>Episode 1</td>\n",
       "      <td>Winter is Coming</td>\n",
       "      <td>I've never seen wildlings do a thing like this...</td>\n",
       "      <td>will</td>\n",
       "      <td>21</td>\n",
       "    </tr>\n",
       "    <tr>\n",
       "      <th>2</th>\n",
       "      <td>2011-04-17</td>\n",
       "      <td>Season 1</td>\n",
       "      <td>Episode 1</td>\n",
       "      <td>Winter is Coming</td>\n",
       "      <td>How close did you get?</td>\n",
       "      <td>waymar royce</td>\n",
       "      <td>5</td>\n",
       "    </tr>\n",
       "    <tr>\n",
       "      <th>3</th>\n",
       "      <td>2011-04-17</td>\n",
       "      <td>Season 1</td>\n",
       "      <td>Episode 1</td>\n",
       "      <td>Winter is Coming</td>\n",
       "      <td>Close as any man would.</td>\n",
       "      <td>will</td>\n",
       "      <td>5</td>\n",
       "    </tr>\n",
       "    <tr>\n",
       "      <th>4</th>\n",
       "      <td>2011-04-17</td>\n",
       "      <td>Season 1</td>\n",
       "      <td>Episode 1</td>\n",
       "      <td>Winter is Coming</td>\n",
       "      <td>We should head back to the wall.</td>\n",
       "      <td>gared</td>\n",
       "      <td>7</td>\n",
       "    </tr>\n",
       "  </tbody>\n",
       "</table>\n",
       "</div>"
      ],
      "text/plain": [
       "  Release Date    Season    Episode     Episode Title  \\\n",
       "0   2011-04-17  Season 1  Episode 1  Winter is Coming   \n",
       "1   2011-04-17  Season 1  Episode 1  Winter is Coming   \n",
       "2   2011-04-17  Season 1  Episode 1  Winter is Coming   \n",
       "3   2011-04-17  Season 1  Episode 1  Winter is Coming   \n",
       "4   2011-04-17  Season 1  Episode 1  Winter is Coming   \n",
       "\n",
       "                                            Sentence     Character  word_count  \n",
       "0  What do you expect? They're savages. One lot s...  waymar royce          25  \n",
       "1  I've never seen wildlings do a thing like this...          will          21  \n",
       "2                             How close did you get?  waymar royce           5  \n",
       "3                            Close as any man would.          will           5  \n",
       "4                   We should head back to the wall.         gared           7  "
      ]
     },
     "execution_count": 75,
     "metadata": {},
     "output_type": "execute_result"
    }
   ],
   "source": [
    "GoT.head()"
   ]
  },
  {
   "cell_type": "code",
   "execution_count": 94,
   "metadata": {
    "ExecuteTime": {
     "end_time": "2020-08-19T19:08:42.803690Z",
     "start_time": "2020-08-19T19:08:42.792689Z"
    }
   },
   "outputs": [
    {
     "data": {
      "text/plain": [
       "['tyrion lannister',\n",
       " 'jon snow',\n",
       " 'daenerys targaryen',\n",
       " 'cersei lannister',\n",
       " 'jaime lannister',\n",
       " 'sansa stark',\n",
       " 'arya stark',\n",
       " 'sam tarly',\n",
       " 'davos',\n",
       " 'petyr baelish',\n",
       " 'theon greyjoy',\n",
       " 'bran stark',\n",
       " 'bronn',\n",
       " 'varys',\n",
       " 'jorah mormont',\n",
       " 'man',\n",
       " 'tywin lannister',\n",
       " 'brienne',\n",
       " 'sandor clegane',\n",
       " 'eddard stark',\n",
       " 'robb stark',\n",
       " 'stannis baratheon',\n",
       " 'catelyn stark',\n",
       " 'ramsay bolton',\n",
       " 'margaery tyrell',\n",
       " 'joffrey lannister',\n",
       " 'melisandre',\n",
       " 'shae',\n",
       " 'gendry baratheon',\n",
       " 'tormund',\n",
       " 'gilly',\n",
       " 'missandei',\n",
       " 'olenna tyrell',\n",
       " 'ygritte',\n",
       " 'daario',\n",
       " 'podrick',\n",
       " 'sparrow',\n",
       " 'yara greyjoy',\n",
       " 'osha',\n",
       " 'oberyn martell',\n",
       " 'soldier',\n",
       " 'pycelle',\n",
       " 'tommen lannister',\n",
       " 'robert baratheon',\n",
       " 'qyburn',\n",
       " 'grey worm',\n",
       " 'jaqen hghar',\n",
       " 'talisa',\n",
       " 'thoros',\n",
       " 'barristan selmy']"
      ]
     },
     "execution_count": 94,
     "metadata": {},
     "output_type": "execute_result"
    }
   ],
   "source": [
    "top_speakers = GoT.Character.value_counts().reset_index(name=\"count\").query(\"count > 100\")[\"index\"]\n",
    "top_speakers = list(top_speakers)\n",
    "top_speakers"
   ]
  },
  {
   "cell_type": "code",
   "execution_count": 130,
   "metadata": {
    "ExecuteTime": {
     "end_time": "2020-08-19T20:13:37.290700Z",
     "start_time": "2020-08-19T20:13:37.280698Z"
    }
   },
   "outputs": [
    {
     "data": {
      "text/plain": [
       "Character\n",
       "arya stark            112\n",
       "bran stark            104\n",
       "brienne               218\n",
       "bronn                  76\n",
       "catelyn stark         134\n",
       "cersei lannister      163\n",
       "daenerys targaryen    129\n",
       "davos                 118\n",
       "eddard stark           81\n",
       "jaime lannister       297\n",
       "jon snow              140\n",
       "jorah mormont          81\n",
       "man                    80\n",
       "margaery tyrell        70\n",
       "petyr baelish         172\n",
       "ramsay bolton          89\n",
       "robb stark            103\n",
       "sam tarly              95\n",
       "sandor clegane         94\n",
       "sansa stark           119\n",
       "stannis baratheon     192\n",
       "theon greyjoy          88\n",
       "tyrion lannister      233\n",
       "tywin lannister       111\n",
       "varys                 187\n",
       "Name: word_count, dtype: int64"
      ]
     },
     "execution_count": 130,
     "metadata": {},
     "output_type": "execute_result"
    }
   ],
   "source": [
    "important_character_df = GoT[GoT['Character'].isin(top_speakers[:25])]\n",
    "#this can be used on main df to get the max count for all characters, set this equal a variable and can be plottable\n",
    "important_character_df.groupby('Character')['word_count'].max()"
   ]
  },
  {
   "cell_type": "code",
   "execution_count": 86,
   "metadata": {
    "ExecuteTime": {
     "end_time": "2020-08-19T18:54:44.395697Z",
     "start_time": "2020-08-19T18:54:44.376695Z"
    }
   },
   "outputs": [
    {
     "data": {
      "text/html": [
       "<div>\n",
       "<style scoped>\n",
       "    .dataframe tbody tr th:only-of-type {\n",
       "        vertical-align: middle;\n",
       "    }\n",
       "\n",
       "    .dataframe tbody tr th {\n",
       "        vertical-align: top;\n",
       "    }\n",
       "\n",
       "    .dataframe thead th {\n",
       "        text-align: right;\n",
       "    }\n",
       "</style>\n",
       "<table border=\"1\" class=\"dataframe\">\n",
       "  <thead>\n",
       "    <tr style=\"text-align: right;\">\n",
       "      <th></th>\n",
       "      <th>word_count</th>\n",
       "    </tr>\n",
       "  </thead>\n",
       "  <tbody>\n",
       "    <tr>\n",
       "      <th>count</th>\n",
       "      <td>23908.000000</td>\n",
       "    </tr>\n",
       "    <tr>\n",
       "      <th>mean</th>\n",
       "      <td>12.043249</td>\n",
       "    </tr>\n",
       "    <tr>\n",
       "      <th>std</th>\n",
       "      <td>14.273522</td>\n",
       "    </tr>\n",
       "    <tr>\n",
       "      <th>min</th>\n",
       "      <td>1.000000</td>\n",
       "    </tr>\n",
       "    <tr>\n",
       "      <th>25%</th>\n",
       "      <td>4.000000</td>\n",
       "    </tr>\n",
       "    <tr>\n",
       "      <th>50%</th>\n",
       "      <td>8.000000</td>\n",
       "    </tr>\n",
       "    <tr>\n",
       "      <th>75%</th>\n",
       "      <td>15.000000</td>\n",
       "    </tr>\n",
       "    <tr>\n",
       "      <th>max</th>\n",
       "      <td>333.000000</td>\n",
       "    </tr>\n",
       "  </tbody>\n",
       "</table>\n",
       "</div>"
      ],
      "text/plain": [
       "         word_count\n",
       "count  23908.000000\n",
       "mean      12.043249\n",
       "std       14.273522\n",
       "min        1.000000\n",
       "25%        4.000000\n",
       "50%        8.000000\n",
       "75%       15.000000\n",
       "max      333.000000"
      ]
     },
     "execution_count": 86,
     "metadata": {},
     "output_type": "execute_result"
    }
   ],
   "source": [
    "GoT.describe()"
   ]
  },
  {
   "cell_type": "code",
   "execution_count": 124,
   "metadata": {
    "ExecuteTime": {
     "end_time": "2020-08-19T20:01:49.049692Z",
     "start_time": "2020-08-19T20:01:49.037691Z"
    }
   },
   "outputs": [
    {
     "data": {
      "text/html": [
       "<div>\n",
       "<style scoped>\n",
       "    .dataframe tbody tr th:only-of-type {\n",
       "        vertical-align: middle;\n",
       "    }\n",
       "\n",
       "    .dataframe tbody tr th {\n",
       "        vertical-align: top;\n",
       "    }\n",
       "\n",
       "    .dataframe thead th {\n",
       "        text-align: right;\n",
       "    }\n",
       "</style>\n",
       "<table border=\"1\" class=\"dataframe\">\n",
       "  <thead>\n",
       "    <tr style=\"text-align: right;\">\n",
       "      <th></th>\n",
       "      <th>Release Date</th>\n",
       "      <th>Season</th>\n",
       "      <th>Episode</th>\n",
       "      <th>Episode Title</th>\n",
       "      <th>Sentence</th>\n",
       "      <th>Character</th>\n",
       "      <th>word_count</th>\n",
       "    </tr>\n",
       "  </thead>\n",
       "  <tbody>\n",
       "    <tr>\n",
       "      <th>6282</th>\n",
       "      <td>2012-05-20</td>\n",
       "      <td>Season 2</td>\n",
       "      <td>Episode 8</td>\n",
       "      <td>The Prince of Winterfell</td>\n",
       "      <td>When I was twelve, my mother and father went t...</td>\n",
       "      <td>talisa</td>\n",
       "      <td>333</td>\n",
       "    </tr>\n",
       "  </tbody>\n",
       "</table>\n",
       "</div>"
      ],
      "text/plain": [
       "     Release Date    Season    Episode             Episode Title  \\\n",
       "6282   2012-05-20  Season 2  Episode 8  The Prince of Winterfell   \n",
       "\n",
       "                                               Sentence Character  word_count  \n",
       "6282  When I was twelve, my mother and father went t...    talisa         333  "
      ]
     },
     "execution_count": 124,
     "metadata": {},
     "output_type": "execute_result"
    }
   ],
   "source": [
    "GoT.loc[GoT['word_count'] == 333]"
   ]
  },
  {
   "cell_type": "code",
   "execution_count": 126,
   "metadata": {
    "ExecuteTime": {
     "end_time": "2020-08-19T20:09:16.626013Z",
     "start_time": "2020-08-19T20:09:16.020011Z"
    }
   },
   "outputs": [
    {
     "data": {
      "text/plain": [
       "(array([ 0,  1,  2,  3,  4,  5,  6,  7,  8,  9, 10, 11, 12, 13, 14, 15, 16,\n",
       "        17, 18, 19, 20, 21, 22, 23, 24]),\n",
       " <a list of 25 Text xticklabel objects>)"
      ]
     },
     "execution_count": 126,
     "metadata": {},
     "output_type": "execute_result"
    },
    {
     "data": {
      "image/png": "[encoded data removed]",
      "text/plain": [
       "<Figure size 360x360 with 1 Axes>"
      ]
     },
     "metadata": {
      "needs_background": "light"
     },
     "output_type": "display_data"
    }
   ],
   "source": [
    "sns.catplot(data=important_character_df, x='Character', y='word_count')\n",
    "plt.xticks(rotation=80)"
   ]
  },
  {
   "cell_type": "code",
   "execution_count": 107,
   "metadata": {
    "ExecuteTime": {
     "end_time": "2020-08-19T19:48:11.618741Z",
     "start_time": "2020-08-19T19:48:10.947704Z"
    }
   },
   "outputs": [
    {
     "data": {
      "text/plain": [
       "(array([0, 1, 2, 3, 4, 5, 6, 7]), <a list of 8 Text xticklabel objects>)"
      ]
     },
     "execution_count": 107,
     "metadata": {},
     "output_type": "execute_result"
    },
    {
     "data": {
      "image/png": "[encoded data removed]",
      "text/plain": [
       "<Figure size 360x360 with 1 Axes>"
      ]
     },
     "metadata": {
      "needs_background": "light"
     },
     "output_type": "display_data"
    }
   ],
   "source": [
    "sns.catplot(data=GoT, x='Season', y='word_count')\n",
    "plt.xticks(rotation=45)"
   ]
  },
  {
   "cell_type": "code",
   "execution_count": 105,
   "metadata": {
    "ExecuteTime": {
     "end_time": "2020-08-19T19:23:01.366770Z",
     "start_time": "2020-08-19T19:22:59.389769Z"
    }
   },
   "outputs": [
    {
     "data": {
      "image/png": "[encoded data removed]",
      "text/plain": [
       "<Figure size 720x720 with 1 Axes>"
      ]
     },
     "metadata": {
      "needs_background": "light"
     },
     "output_type": "display_data"
    }
   ],
   "source": [
    "all_words = WordCloud(background_color = 'White', collocations=False, height=800, width=1000)\n",
    "all_words.generate(complete_text)\n",
    "plt.figure(figsize = (10, 10))\n",
    "plt.imshow(all_words) \n",
    "plt.axis(\"off\")\n",
    "plt.show()"
   ]
  },
  {
   "cell_type": "code",
   "execution_count": null,
   "metadata": {},
   "outputs": [],
   "source": []
  },
  {
   "cell_type": "code",
   "execution_count": 159,
   "metadata": {
    "ExecuteTime": {
     "end_time": "2020-08-20T00:04:11.534383Z",
     "start_time": "2020-08-20T00:04:11.530385Z"
    }
   },
   "outputs": [],
   "source": [
    "filter1 = 'Season 2'\n",
    "filter2 = None"
   ]
  },
  {
   "cell_type": "code",
   "execution_count": 160,
   "metadata": {
    "ExecuteTime": {
     "end_time": "2020-08-20T00:04:11.866381Z",
     "start_time": "2020-08-20T00:04:11.860384Z"
    }
   },
   "outputs": [],
   "source": [
    "dfs = GoT[GoT['Season'] == filter1]"
   ]
  },
  {
   "cell_type": "code",
   "execution_count": 161,
   "metadata": {
    "ExecuteTime": {
     "end_time": "2020-08-20T00:04:12.211381Z",
     "start_time": "2020-08-20T00:04:12.207384Z"
    }
   },
   "outputs": [],
   "source": [
    "if filter2:\n",
    "    dfe = dfs[dfs['Episode'] == filter2]\n",
    "else:\n",
    "    dfe = dfs"
   ]
  },
  {
   "cell_type": "code",
   "execution_count": 162,
   "metadata": {
    "ExecuteTime": {
     "end_time": "2020-08-20T00:04:12.927382Z",
     "start_time": "2020-08-20T00:04:12.915380Z"
    }
   },
   "outputs": [
    {
     "data": {
      "text/html": [
       "<div>\n",
       "<style scoped>\n",
       "    .dataframe tbody tr th:only-of-type {\n",
       "        vertical-align: middle;\n",
       "    }\n",
       "\n",
       "    .dataframe tbody tr th {\n",
       "        vertical-align: top;\n",
       "    }\n",
       "\n",
       "    .dataframe thead th {\n",
       "        text-align: right;\n",
       "    }\n",
       "</style>\n",
       "<table border=\"1\" class=\"dataframe\">\n",
       "  <thead>\n",
       "    <tr style=\"text-align: right;\">\n",
       "      <th></th>\n",
       "      <th>Release Date</th>\n",
       "      <th>Season</th>\n",
       "      <th>Episode</th>\n",
       "      <th>Episode Title</th>\n",
       "      <th>Sentence</th>\n",
       "      <th>Character</th>\n",
       "      <th>word_count</th>\n",
       "    </tr>\n",
       "  </thead>\n",
       "  <tbody>\n",
       "    <tr>\n",
       "      <th>3179</th>\n",
       "      <td>2012-04-01</td>\n",
       "      <td>Season 2</td>\n",
       "      <td>Episode 1</td>\n",
       "      <td>The North Remembers</td>\n",
       "      <td>Well struck… Well struck, Dog.</td>\n",
       "      <td>joffrey lannister</td>\n",
       "      <td>5</td>\n",
       "    </tr>\n",
       "    <tr>\n",
       "      <th>3180</th>\n",
       "      <td>2012-04-01</td>\n",
       "      <td>Season 2</td>\n",
       "      <td>Episode 1</td>\n",
       "      <td>The North Remembers</td>\n",
       "      <td>Did you like that?</td>\n",
       "      <td>joffrey lannister</td>\n",
       "      <td>4</td>\n",
       "    </tr>\n",
       "    <tr>\n",
       "      <th>3181</th>\n",
       "      <td>2012-04-01</td>\n",
       "      <td>Season 2</td>\n",
       "      <td>Episode 1</td>\n",
       "      <td>The North Remembers</td>\n",
       "      <td>It was well struck, Your Grace.</td>\n",
       "      <td>sansa stark</td>\n",
       "      <td>6</td>\n",
       "    </tr>\n",
       "    <tr>\n",
       "      <th>3182</th>\n",
       "      <td>2012-04-01</td>\n",
       "      <td>Season 2</td>\n",
       "      <td>Episode 1</td>\n",
       "      <td>The North Remembers</td>\n",
       "      <td>I already said it was well struck.</td>\n",
       "      <td>joffrey lannister</td>\n",
       "      <td>7</td>\n",
       "    </tr>\n",
       "    <tr>\n",
       "      <th>3183</th>\n",
       "      <td>2012-04-01</td>\n",
       "      <td>Season 2</td>\n",
       "      <td>Episode 1</td>\n",
       "      <td>The North Remembers</td>\n",
       "      <td>Yes, Your Grace.</td>\n",
       "      <td>sansa stark</td>\n",
       "      <td>3</td>\n",
       "    </tr>\n",
       "    <tr>\n",
       "      <th>...</th>\n",
       "      <td>...</td>\n",
       "      <td>...</td>\n",
       "      <td>...</td>\n",
       "      <td>...</td>\n",
       "      <td>...</td>\n",
       "      <td>...</td>\n",
       "      <td>...</td>\n",
       "    </tr>\n",
       "    <tr>\n",
       "      <th>7088</th>\n",
       "      <td>2012-06-03</td>\n",
       "      <td>Season 2</td>\n",
       "      <td>Episode 10</td>\n",
       "      <td>Valar Morghulis</td>\n",
       "      <td>Three blasts?</td>\n",
       "      <td>grenn</td>\n",
       "      <td>2</td>\n",
       "    </tr>\n",
       "    <tr>\n",
       "      <th>7089</th>\n",
       "      <td>2012-06-03</td>\n",
       "      <td>Season 2</td>\n",
       "      <td>Episode 10</td>\n",
       "      <td>Valar Morghulis</td>\n",
       "      <td>Run!</td>\n",
       "      <td>'dolorous' edd</td>\n",
       "      <td>1</td>\n",
       "    </tr>\n",
       "    <tr>\n",
       "      <th>7090</th>\n",
       "      <td>2012-06-03</td>\n",
       "      <td>Season 2</td>\n",
       "      <td>Episode 10</td>\n",
       "      <td>Valar Morghulis</td>\n",
       "      <td>Wait! Wait for me!</td>\n",
       "      <td>sam tarly</td>\n",
       "      <td>4</td>\n",
       "    </tr>\n",
       "    <tr>\n",
       "      <th>7091</th>\n",
       "      <td>2012-06-03</td>\n",
       "      <td>Season 2</td>\n",
       "      <td>Episode 10</td>\n",
       "      <td>Valar Morghulis</td>\n",
       "      <td>Grenn!</td>\n",
       "      <td>sam tarly</td>\n",
       "      <td>1</td>\n",
       "    </tr>\n",
       "    <tr>\n",
       "      <th>7092</th>\n",
       "      <td>2012-06-03</td>\n",
       "      <td>Season 2</td>\n",
       "      <td>Episode 10</td>\n",
       "      <td>Valar Morghulis</td>\n",
       "      <td>Edd!</td>\n",
       "      <td>sam tarly</td>\n",
       "      <td>1</td>\n",
       "    </tr>\n",
       "  </tbody>\n",
       "</table>\n",
       "<p>3914 rows × 7 columns</p>\n",
       "</div>"
      ],
      "text/plain": [
       "     Release Date    Season     Episode        Episode Title  \\\n",
       "3179   2012-04-01  Season 2   Episode 1  The North Remembers   \n",
       "3180   2012-04-01  Season 2   Episode 1  The North Remembers   \n",
       "3181   2012-04-01  Season 2   Episode 1  The North Remembers   \n",
       "3182   2012-04-01  Season 2   Episode 1  The North Remembers   \n",
       "3183   2012-04-01  Season 2   Episode 1  The North Remembers   \n",
       "...           ...       ...         ...                  ...   \n",
       "7088   2012-06-03  Season 2  Episode 10      Valar Morghulis   \n",
       "7089   2012-06-03  Season 2  Episode 10      Valar Morghulis   \n",
       "7090   2012-06-03  Season 2  Episode 10      Valar Morghulis   \n",
       "7091   2012-06-03  Season 2  Episode 10      Valar Morghulis   \n",
       "7092   2012-06-03  Season 2  Episode 10      Valar Morghulis   \n",
       "\n",
       "                                Sentence          Character  word_count  \n",
       "3179      Well struck… Well struck, Dog.  joffrey lannister           5  \n",
       "3180                  Did you like that?  joffrey lannister           4  \n",
       "3181     It was well struck, Your Grace.        sansa stark           6  \n",
       "3182  I already said it was well struck.  joffrey lannister           7  \n",
       "3183                    Yes, Your Grace.        sansa stark           3  \n",
       "...                                  ...                ...         ...  \n",
       "7088                       Three blasts?              grenn           2  \n",
       "7089                                Run!     'dolorous' edd           1  \n",
       "7090                  Wait! Wait for me!          sam tarly           4  \n",
       "7091                              Grenn!          sam tarly           1  \n",
       "7092                                Edd!          sam tarly           1  \n",
       "\n",
       "[3914 rows x 7 columns]"
      ]
     },
     "execution_count": 162,
     "metadata": {},
     "output_type": "execute_result"
    }
   ],
   "source": [
    "dfe"
   ]
  },
  {
   "cell_type": "code",
   "execution_count": 182,
   "metadata": {
    "ExecuteTime": {
     "end_time": "2020-08-20T00:34:23.294159Z",
     "start_time": "2020-08-20T00:34:23.281160Z"
    }
   },
   "outputs": [],
   "source": [
    "lines_df = dfe.set_index(['Character', 'Sentence']).count(level='Character')\n",
    "lines_df.sort_values(by=['Episode'], inplace = True, ascending = False)"
   ]
  },
  {
   "cell_type": "code",
   "execution_count": 163,
   "metadata": {
    "ExecuteTime": {
     "end_time": "2020-08-20T00:11:02.143691Z",
     "start_time": "2020-08-20T00:11:02.138694Z"
    }
   },
   "outputs": [],
   "source": [
    "import plotly.graph_objects as go"
   ]
  },
  {
   "cell_type": "code",
   "execution_count": 184,
   "metadata": {
    "ExecuteTime": {
     "end_time": "2020-08-20T00:34:40.001518Z",
     "start_time": "2020-08-20T00:34:39.891520Z"
    }
   },
   "outputs": [
    {
     "data": {
      "application/vnd.plotly.v1+json": {
       "config": {
        "plotlyServerURL": "https://plot.ly"
       },
       "data": [
        {
         "type": "bar",
         "x": [
          "tyrion lannister",
          "cersei lannister",
          "theon greyjoy",
          "daenerys targaryen",
          "robb stark",
          "arya stark",
          "man",
          "catelyn stark",
          "jon snow",
          "joffrey lannister",
          "davos",
          "tywin lannister",
          "stannis baratheon",
          "sansa stark",
          "shae",
          "petyr baelish",
          "varys",
          "ygritte",
          "jaime lannister",
          "talisa",
          "bronn",
          "bran stark",
          "jorah mormont",
          "renly baratheon",
          "brienne"
         ],
         "y": [
          347,
          181,
          175,
          135,
          129,
          127,
          116,
          101,
          97,
          95,
          95,
          92,
          91,
          83,
          79,
          79,
          74,
          73,
          72,
          62,
          58,
          54,
          53,
          53,
          51,
          51,
          49,
          45,
          45,
          44,
          43,
          42,
          42,
          41,
          39,
          38,
          34,
          33,
          33,
          31,
          31,
          30,
          28,
          28,
          28,
          27,
          24,
          23,
          21,
          19,
          18,
          18,
          18,
          17,
          16,
          16,
          14,
          14,
          13,
          13,
          12,
          12,
          10,
          10,
          9,
          9,
          9,
          9,
          9,
          8,
          8,
          8,
          7,
          7,
          7,
          7,
          7,
          7,
          7,
          6,
          6,
          6,
          6,
          6,
          5,
          5,
          5,
          5,
          5,
          4,
          4,
          4,
          4,
          4,
          4,
          4,
          3,
          3,
          3,
          3,
          3,
          3,
          3,
          3,
          3,
          3,
          2,
          2,
          2,
          2,
          2,
          2,
          2,
          1,
          1,
          1,
          1,
          1,
          1,
          1,
          1,
          1,
          1,
          1,
          1,
          1,
          1,
          1,
          1,
          1,
          1,
          1,
          1,
          1,
          1,
          1,
          1,
          1,
          1,
          1
         ]
        }
       ],
       "layout": {
        "template": {
         "data": {
          "bar": [
           {
            "error_x": {
             "color": "#2a3f5f"
            },
            "error_y": {
             "color": "#2a3f5f"
            },
            "marker": {
             "line": {
              "color": "#E5ECF6",
              "width": 0.5
             }
            },
            "type": "bar"
           }
          ],
          "barpolar": [
           {
            "marker": {
             "line": {
              "color": "#E5ECF6",
              "width": 0.5
             }
            },
            "type": "barpolar"
           }
          ],
          "carpet": [
           {
            "aaxis": {
             "endlinecolor": "#2a3f5f",
             "gridcolor": "white",
             "linecolor": "white",
             "minorgridcolor": "white",
             "startlinecolor": "#2a3f5f"
            },
            "baxis": {
             "endlinecolor": "#2a3f5f",
             "gridcolor": "white",
             "linecolor": "white",
             "minorgridcolor": "white",
             "startlinecolor": "#2a3f5f"
            },
            "type": "carpet"
           }
          ],
          "choropleth": [
           {
            "colorbar": {
             "outlinewidth": 0,
             "ticks": ""
            },
            "type": "choropleth"
           }
          ],
          "contour": [
           {
            "colorbar": {
             "outlinewidth": 0,
             "ticks": ""
            },
            "colorscale": [
             [
              0,
              "#0d0887"
             ],
             [
              0.1111111111111111,
              "#46039f"
             ],
             [
              0.2222222222222222,
              "#7201a8"
             ],
             [
              0.3333333333333333,
              "#9c179e"
             ],
             [
              0.4444444444444444,
              "#bd3786"
             ],
             [
              0.5555555555555556,
              "#d8576b"
             ],
             [
              0.6666666666666666,
              "#ed7953"
             ],
             [
              0.7777777777777778,
              "#fb9f3a"
             ],
             [
              0.8888888888888888,
              "#fdca26"
             ],
             [
              1,
              "#f0f921"
             ]
            ],
            "type": "contour"
           }
          ],
          "contourcarpet": [
           {
            "colorbar": {
             "outlinewidth": 0,
             "ticks": ""
            },
            "type": "contourcarpet"
           }
          ],
          "heatmap": [
           {
            "colorbar": {
             "outlinewidth": 0,
             "ticks": ""
            },
            "colorscale": [
             [
              0,
              "#0d0887"
             ],
             [
              0.1111111111111111,
              "#46039f"
             ],
             [
              0.2222222222222222,
              "#7201a8"
             ],
             [
              0.3333333333333333,
              "#9c179e"
             ],
             [
              0.4444444444444444,
              "#bd3786"
             ],
             [
              0.5555555555555556,
              "#d8576b"
             ],
             [
              0.6666666666666666,
              "#ed7953"
             ],
             [
              0.7777777777777778,
              "#fb9f3a"
             ],
             [
              0.8888888888888888,
              "#fdca26"
             ],
             [
              1,
              "#f0f921"
             ]
            ],
            "type": "heatmap"
           }
          ],
          "heatmapgl": [
           {
            "colorbar": {
             "outlinewidth": 0,
             "ticks": ""
            },
            "colorscale": [
             [
              0,
              "#0d0887"
             ],
             [
              0.1111111111111111,
              "#46039f"
             ],
             [
              0.2222222222222222,
              "#7201a8"
             ],
             [
              0.3333333333333333,
              "#9c179e"
             ],
             [
              0.4444444444444444,
              "#bd3786"
             ],
             [
              0.5555555555555556,
              "#d8576b"
             ],
             [
              0.6666666666666666,
              "#ed7953"
             ],
             [
              0.7777777777777778,
              "#fb9f3a"
             ],
             [
              0.8888888888888888,
              "#fdca26"
             ],
             [
              1,
              "#f0f921"
             ]
            ],
            "type": "heatmapgl"
           }
          ],
          "histogram": [
           {
            "marker": {
             "colorbar": {
              "outlinewidth": 0,
              "ticks": ""
             }
            },
            "type": "histogram"
           }
          ],
          "histogram2d": [
           {
            "colorbar": {
             "outlinewidth": 0,
             "ticks": ""
            },
            "colorscale": [
             [
              0,
              "#0d0887"
             ],
             [
              0.1111111111111111,
              "#46039f"
             ],
             [
              0.2222222222222222,
              "#7201a8"
             ],
             [
              0.3333333333333333,
              "#9c179e"
             ],
             [
              0.4444444444444444,
              "#bd3786"
             ],
             [
              0.5555555555555556,
              "#d8576b"
             ],
             [
              0.6666666666666666,
              "#ed7953"
             ],
             [
              0.7777777777777778,
              "#fb9f3a"
             ],
             [
              0.8888888888888888,
              "#fdca26"
             ],
             [
              1,
              "#f0f921"
             ]
            ],
            "type": "histogram2d"
           }
          ],
          "histogram2dcontour": [
           {
            "colorbar": {
             "outlinewidth": 0,
             "ticks": ""
            },
            "colorscale": [
             [
              0,
              "#0d0887"
             ],
             [
              0.1111111111111111,
              "#46039f"
             ],
             [
              0.2222222222222222,
              "#7201a8"
             ],
             [
              0.3333333333333333,
              "#9c179e"
             ],
             [
              0.4444444444444444,
              "#bd3786"
             ],
             [
              0.5555555555555556,
              "#d8576b"
             ],
             [
              0.6666666666666666,
              "#ed7953"
             ],
             [
              0.7777777777777778,
              "#fb9f3a"
             ],
             [
              0.8888888888888888,
              "#fdca26"
             ],
             [
              1,
              "#f0f921"
             ]
            ],
            "type": "histogram2dcontour"
           }
          ],
          "mesh3d": [
           {
            "colorbar": {
             "outlinewidth": 0,
             "ticks": ""
            },
            "type": "mesh3d"
           }
          ],
          "parcoords": [
           {
            "line": {
             "colorbar": {
              "outlinewidth": 0,
              "ticks": ""
             }
            },
            "type": "parcoords"
           }
          ],
          "scatter": [
           {
            "marker": {
             "colorbar": {
              "outlinewidth": 0,
              "ticks": ""
             }
            },
            "type": "scatter"
           }
          ],
          "scatter3d": [
           {
            "line": {
             "colorbar": {
              "outlinewidth": 0,
              "ticks": ""
             }
            },
            "marker": {
             "colorbar": {
              "outlinewidth": 0,
              "ticks": ""
             }
            },
            "type": "scatter3d"
           }
          ],
          "scattercarpet": [
           {
            "marker": {
             "colorbar": {
              "outlinewidth": 0,
              "ticks": ""
             }
            },
            "type": "scattercarpet"
           }
          ],
          "scattergeo": [
           {
            "marker": {
             "colorbar": {
              "outlinewidth": 0,
              "ticks": ""
             }
            },
            "type": "scattergeo"
           }
          ],
          "scattergl": [
           {
            "marker": {
             "colorbar": {
              "outlinewidth": 0,
              "ticks": ""
             }
            },
            "type": "scattergl"
           }
          ],
          "scattermapbox": [
           {
            "marker": {
             "colorbar": {
              "outlinewidth": 0,
              "ticks": ""
             }
            },
            "type": "scattermapbox"
           }
          ],
          "scatterpolar": [
           {
            "marker": {
             "colorbar": {
              "outlinewidth": 0,
              "ticks": ""
             }
            },
            "type": "scatterpolar"
           }
          ],
          "scatterpolargl": [
           {
            "marker": {
             "colorbar": {
              "outlinewidth": 0,
              "ticks": ""
             }
            },
            "type": "scatterpolargl"
           }
          ],
          "scatterternary": [
           {
            "marker": {
             "colorbar": {
              "outlinewidth": 0,
              "ticks": ""
             }
            },
            "type": "scatterternary"
           }
          ],
          "surface": [
           {
            "colorbar": {
             "outlinewidth": 0,
             "ticks": ""
            },
            "colorscale": [
             [
              0,
              "#0d0887"
             ],
             [
              0.1111111111111111,
              "#46039f"
             ],
             [
              0.2222222222222222,
              "#7201a8"
             ],
             [
              0.3333333333333333,
              "#9c179e"
             ],
             [
              0.4444444444444444,
              "#bd3786"
             ],
             [
              0.5555555555555556,
              "#d8576b"
             ],
             [
              0.6666666666666666,
              "#ed7953"
             ],
             [
              0.7777777777777778,
              "#fb9f3a"
             ],
             [
              0.8888888888888888,
              "#fdca26"
             ],
             [
              1,
              "#f0f921"
             ]
            ],
            "type": "surface"
           }
          ],
          "table": [
           {
            "cells": {
             "fill": {
              "color": "#EBF0F8"
             },
             "line": {
              "color": "white"
             }
            },
            "header": {
             "fill": {
              "color": "#C8D4E3"
             },
             "line": {
              "color": "white"
             }
            },
            "type": "table"
           }
          ]
         },
         "layout": {
          "annotationdefaults": {
           "arrowcolor": "#2a3f5f",
           "arrowhead": 0,
           "arrowwidth": 1
          },
          "colorscale": {
           "diverging": [
            [
             0,
             "#8e0152"
            ],
            [
             0.1,
             "#c51b7d"
            ],
            [
             0.2,
             "#de77ae"
            ],
            [
             0.3,
             "#f1b6da"
            ],
            [
             0.4,
             "#fde0ef"
            ],
            [
             0.5,
             "#f7f7f7"
            ],
            [
             0.6,
             "#e6f5d0"
            ],
            [
             0.7,
             "#b8e186"
            ],
            [
             0.8,
             "#7fbc41"
            ],
            [
             0.9,
             "#4d9221"
            ],
            [
             1,
             "#276419"
            ]
           ],
           "sequential": [
            [
             0,
             "#0d0887"
            ],
            [
             0.1111111111111111,
             "#46039f"
            ],
            [
             0.2222222222222222,
             "#7201a8"
            ],
            [
             0.3333333333333333,
             "#9c179e"
            ],
            [
             0.4444444444444444,
             "#bd3786"
            ],
            [
             0.5555555555555556,
             "#d8576b"
            ],
            [
             0.6666666666666666,
             "#ed7953"
            ],
            [
             0.7777777777777778,
             "#fb9f3a"
            ],
            [
             0.8888888888888888,
             "#fdca26"
            ],
            [
             1,
             "#f0f921"
            ]
           ],
           "sequentialminus": [
            [
             0,
             "#0d0887"
            ],
            [
             0.1111111111111111,
             "#46039f"
            ],
            [
             0.2222222222222222,
             "#7201a8"
            ],
            [
             0.3333333333333333,
             "#9c179e"
            ],
            [
             0.4444444444444444,
             "#bd3786"
            ],
            [
             0.5555555555555556,
             "#d8576b"
            ],
            [
             0.6666666666666666,
             "#ed7953"
            ],
            [
             0.7777777777777778,
             "#fb9f3a"
            ],
            [
             0.8888888888888888,
             "#fdca26"
            ],
            [
             1,
             "#f0f921"
            ]
           ]
          },
          "colorway": [
           "#636efa",
           "#EF553B",
           "#00cc96",
           "#ab63fa",
           "#FFA15A",
           "#19d3f3",
           "#FF6692",
           "#B6E880",
           "#FF97FF",
           "#FECB52"
          ],
          "font": {
           "color": "#2a3f5f"
          },
          "geo": {
           "bgcolor": "white",
           "lakecolor": "white",
           "landcolor": "#E5ECF6",
           "showlakes": true,
           "showland": true,
           "subunitcolor": "white"
          },
          "hoverlabel": {
           "align": "left"
          },
          "hovermode": "closest",
          "mapbox": {
           "style": "light"
          },
          "paper_bgcolor": "white",
          "plot_bgcolor": "#E5ECF6",
          "polar": {
           "angularaxis": {
            "gridcolor": "white",
            "linecolor": "white",
            "ticks": ""
           },
           "bgcolor": "#E5ECF6",
           "radialaxis": {
            "gridcolor": "white",
            "linecolor": "white",
            "ticks": ""
           }
          },
          "scene": {
           "xaxis": {
            "backgroundcolor": "#E5ECF6",
            "gridcolor": "white",
            "gridwidth": 2,
            "linecolor": "white",
            "showbackground": true,
            "ticks": "",
            "zerolinecolor": "white"
           },
           "yaxis": {
            "backgroundcolor": "#E5ECF6",
            "gridcolor": "white",
            "gridwidth": 2,
            "linecolor": "white",
            "showbackground": true,
            "ticks": "",
            "zerolinecolor": "white"
           },
           "zaxis": {
            "backgroundcolor": "#E5ECF6",
            "gridcolor": "white",
            "gridwidth": 2,
            "linecolor": "white",
            "showbackground": true,
            "ticks": "",
            "zerolinecolor": "white"
           }
          },
          "shapedefaults": {
           "line": {
            "color": "#2a3f5f"
           }
          },
          "ternary": {
           "aaxis": {
            "gridcolor": "white",
            "linecolor": "white",
            "ticks": ""
           },
           "baxis": {
            "gridcolor": "white",
            "linecolor": "white",
            "ticks": ""
           },
           "bgcolor": "#E5ECF6",
           "caxis": {
            "gridcolor": "white",
            "linecolor": "white",
            "ticks": ""
           }
          },
          "title": {
           "x": 0.05
          },
          "xaxis": {
           "automargin": true,
           "gridcolor": "white",
           "linecolor": "white",
           "ticks": "",
           "zerolinecolor": "white",
           "zerolinewidth": 2
          },
          "yaxis": {
           "automargin": true,
           "gridcolor": "white",
           "linecolor": "white",
           "ticks": "",
           "zerolinecolor": "white",
           "zerolinewidth": 2
          }
         }
        }
       }
      },
      "text/html": [
       "<div>\n",
       "        \n",
       "        \n",
       "            <div id=\"03570352-c906-4a4b-b4ee-a20eb53ed9af\" class=\"plotly-graph-div\" style=\"height:525px; width:100%;\"></div>\n",
       "            <script type=\"text/javascript\">\n",
       "                require([\"plotly\"], function(Plotly) {\n",
       "                    window.PLOTLYENV=window.PLOTLYENV || {};\n",
       "                    \n",
       "                if (document.getElementById(\"03570352-c906-4a4b-b4ee-a20eb53ed9af\")) {\n",
       "                    Plotly.newPlot(\n",
       "                        '03570352-c906-4a4b-b4ee-a20eb53ed9af',\n",
       "                        [{\"type\": \"bar\", \"x\": [\"tyrion lannister\", \"cersei lannister\", \"theon greyjoy\", \"daenerys targaryen\", \"robb stark\", \"arya stark\", \"man\", \"catelyn stark\", \"jon snow\", \"joffrey lannister\", \"davos\", \"tywin lannister\", \"stannis baratheon\", \"sansa stark\", \"shae\", \"petyr baelish\", \"varys\", \"ygritte\", \"jaime lannister\", \"talisa\", \"bronn\", \"bran stark\", \"jorah mormont\", \"renly baratheon\", \"brienne\"], \"y\": [347, 181, 175, 135, 129, 127, 116, 101, 97, 95, 95, 92, 91, 83, 79, 79, 74, 73, 72, 62, 58, 54, 53, 53, 51, 51, 49, 45, 45, 44, 43, 42, 42, 41, 39, 38, 34, 33, 33, 31, 31, 30, 28, 28, 28, 27, 24, 23, 21, 19, 18, 18, 18, 17, 16, 16, 14, 14, 13, 13, 12, 12, 10, 10, 9, 9, 9, 9, 9, 8, 8, 8, 7, 7, 7, 7, 7, 7, 7, 6, 6, 6, 6, 6, 5, 5, 5, 5, 5, 4, 4, 4, 4, 4, 4, 4, 3, 3, 3, 3, 3, 3, 3, 3, 3, 3, 2, 2, 2, 2, 2, 2, 2, 1, 1, 1, 1, 1, 1, 1, 1, 1, 1, 1, 1, 1, 1, 1, 1, 1, 1, 1, 1, 1, 1, 1, 1, 1, 1, 1]}],\n",
       "                        {\"template\": {\"data\": {\"bar\": [{\"error_x\": {\"color\": \"#2a3f5f\"}, \"error_y\": {\"color\": \"#2a3f5f\"}, \"marker\": {\"line\": {\"color\": \"#E5ECF6\", \"width\": 0.5}}, \"type\": \"bar\"}], \"barpolar\": [{\"marker\": {\"line\": {\"color\": \"#E5ECF6\", \"width\": 0.5}}, \"type\": \"barpolar\"}], \"carpet\": [{\"aaxis\": {\"endlinecolor\": \"#2a3f5f\", \"gridcolor\": \"white\", \"linecolor\": \"white\", \"minorgridcolor\": \"white\", \"startlinecolor\": \"#2a3f5f\"}, \"baxis\": {\"endlinecolor\": \"#2a3f5f\", \"gridcolor\": \"white\", \"linecolor\": \"white\", \"minorgridcolor\": \"white\", \"startlinecolor\": \"#2a3f5f\"}, \"type\": \"carpet\"}], \"choropleth\": [{\"colorbar\": {\"outlinewidth\": 0, \"ticks\": \"\"}, \"type\": \"choropleth\"}], \"contour\": [{\"colorbar\": {\"outlinewidth\": 0, \"ticks\": \"\"}, \"colorscale\": [[0.0, \"#0d0887\"], [0.1111111111111111, \"#46039f\"], [0.2222222222222222, \"#7201a8\"], [0.3333333333333333, \"#9c179e\"], [0.4444444444444444, \"#bd3786\"], [0.5555555555555556, \"#d8576b\"], [0.6666666666666666, \"#ed7953\"], [0.7777777777777778, \"#fb9f3a\"], [0.8888888888888888, \"#fdca26\"], [1.0, \"#f0f921\"]], \"type\": \"contour\"}], \"contourcarpet\": [{\"colorbar\": {\"outlinewidth\": 0, \"ticks\": \"\"}, \"type\": \"contourcarpet\"}], \"heatmap\": [{\"colorbar\": {\"outlinewidth\": 0, \"ticks\": \"\"}, \"colorscale\": [[0.0, \"#0d0887\"], [0.1111111111111111, \"#46039f\"], [0.2222222222222222, \"#7201a8\"], [0.3333333333333333, \"#9c179e\"], [0.4444444444444444, \"#bd3786\"], [0.5555555555555556, \"#d8576b\"], [0.6666666666666666, \"#ed7953\"], [0.7777777777777778, \"#fb9f3a\"], [0.8888888888888888, \"#fdca26\"], [1.0, \"#f0f921\"]], \"type\": \"heatmap\"}], \"heatmapgl\": [{\"colorbar\": {\"outlinewidth\": 0, \"ticks\": \"\"}, \"colorscale\": [[0.0, \"#0d0887\"], [0.1111111111111111, \"#46039f\"], [0.2222222222222222, \"#7201a8\"], [0.3333333333333333, \"#9c179e\"], [0.4444444444444444, \"#bd3786\"], [0.5555555555555556, \"#d8576b\"], [0.6666666666666666, \"#ed7953\"], [0.7777777777777778, \"#fb9f3a\"], [0.8888888888888888, \"#fdca26\"], [1.0, \"#f0f921\"]], \"type\": \"heatmapgl\"}], \"histogram\": [{\"marker\": {\"colorbar\": {\"outlinewidth\": 0, \"ticks\": \"\"}}, \"type\": \"histogram\"}], \"histogram2d\": [{\"colorbar\": {\"outlinewidth\": 0, \"ticks\": \"\"}, \"colorscale\": [[0.0, \"#0d0887\"], [0.1111111111111111, \"#46039f\"], [0.2222222222222222, \"#7201a8\"], [0.3333333333333333, \"#9c179e\"], [0.4444444444444444, \"#bd3786\"], [0.5555555555555556, \"#d8576b\"], [0.6666666666666666, \"#ed7953\"], [0.7777777777777778, \"#fb9f3a\"], [0.8888888888888888, \"#fdca26\"], [1.0, \"#f0f921\"]], \"type\": \"histogram2d\"}], \"histogram2dcontour\": [{\"colorbar\": {\"outlinewidth\": 0, \"ticks\": \"\"}, \"colorscale\": [[0.0, \"#0d0887\"], [0.1111111111111111, \"#46039f\"], [0.2222222222222222, \"#7201a8\"], [0.3333333333333333, \"#9c179e\"], [0.4444444444444444, \"#bd3786\"], [0.5555555555555556, \"#d8576b\"], [0.6666666666666666, \"#ed7953\"], [0.7777777777777778, \"#fb9f3a\"], [0.8888888888888888, \"#fdca26\"], [1.0, \"#f0f921\"]], \"type\": \"histogram2dcontour\"}], \"mesh3d\": [{\"colorbar\": {\"outlinewidth\": 0, \"ticks\": \"\"}, \"type\": \"mesh3d\"}], \"parcoords\": [{\"line\": {\"colorbar\": {\"outlinewidth\": 0, \"ticks\": \"\"}}, \"type\": \"parcoords\"}], \"scatter\": [{\"marker\": {\"colorbar\": {\"outlinewidth\": 0, \"ticks\": \"\"}}, \"type\": \"scatter\"}], \"scatter3d\": [{\"line\": {\"colorbar\": {\"outlinewidth\": 0, \"ticks\": \"\"}}, \"marker\": {\"colorbar\": {\"outlinewidth\": 0, \"ticks\": \"\"}}, \"type\": \"scatter3d\"}], \"scattercarpet\": [{\"marker\": {\"colorbar\": {\"outlinewidth\": 0, \"ticks\": \"\"}}, \"type\": \"scattercarpet\"}], \"scattergeo\": [{\"marker\": {\"colorbar\": {\"outlinewidth\": 0, \"ticks\": \"\"}}, \"type\": \"scattergeo\"}], \"scattergl\": [{\"marker\": {\"colorbar\": {\"outlinewidth\": 0, \"ticks\": \"\"}}, \"type\": \"scattergl\"}], \"scattermapbox\": [{\"marker\": {\"colorbar\": {\"outlinewidth\": 0, \"ticks\": \"\"}}, \"type\": \"scattermapbox\"}], \"scatterpolar\": [{\"marker\": {\"colorbar\": {\"outlinewidth\": 0, \"ticks\": \"\"}}, \"type\": \"scatterpolar\"}], \"scatterpolargl\": [{\"marker\": {\"colorbar\": {\"outlinewidth\": 0, \"ticks\": \"\"}}, \"type\": \"scatterpolargl\"}], \"scatterternary\": [{\"marker\": {\"colorbar\": {\"outlinewidth\": 0, \"ticks\": \"\"}}, \"type\": \"scatterternary\"}], \"surface\": [{\"colorbar\": {\"outlinewidth\": 0, \"ticks\": \"\"}, \"colorscale\": [[0.0, \"#0d0887\"], [0.1111111111111111, \"#46039f\"], [0.2222222222222222, \"#7201a8\"], [0.3333333333333333, \"#9c179e\"], [0.4444444444444444, \"#bd3786\"], [0.5555555555555556, \"#d8576b\"], [0.6666666666666666, \"#ed7953\"], [0.7777777777777778, \"#fb9f3a\"], [0.8888888888888888, \"#fdca26\"], [1.0, \"#f0f921\"]], \"type\": \"surface\"}], \"table\": [{\"cells\": {\"fill\": {\"color\": \"#EBF0F8\"}, \"line\": {\"color\": \"white\"}}, \"header\": {\"fill\": {\"color\": \"#C8D4E3\"}, \"line\": {\"color\": \"white\"}}, \"type\": \"table\"}]}, \"layout\": {\"annotationdefaults\": {\"arrowcolor\": \"#2a3f5f\", \"arrowhead\": 0, \"arrowwidth\": 1}, \"colorscale\": {\"diverging\": [[0, \"#8e0152\"], [0.1, \"#c51b7d\"], [0.2, \"#de77ae\"], [0.3, \"#f1b6da\"], [0.4, \"#fde0ef\"], [0.5, \"#f7f7f7\"], [0.6, \"#e6f5d0\"], [0.7, \"#b8e186\"], [0.8, \"#7fbc41\"], [0.9, \"#4d9221\"], [1, \"#276419\"]], \"sequential\": [[0.0, \"#0d0887\"], [0.1111111111111111, \"#46039f\"], [0.2222222222222222, \"#7201a8\"], [0.3333333333333333, \"#9c179e\"], [0.4444444444444444, \"#bd3786\"], [0.5555555555555556, \"#d8576b\"], [0.6666666666666666, \"#ed7953\"], [0.7777777777777778, \"#fb9f3a\"], [0.8888888888888888, \"#fdca26\"], [1.0, \"#f0f921\"]], \"sequentialminus\": [[0.0, \"#0d0887\"], [0.1111111111111111, \"#46039f\"], [0.2222222222222222, \"#7201a8\"], [0.3333333333333333, \"#9c179e\"], [0.4444444444444444, \"#bd3786\"], [0.5555555555555556, \"#d8576b\"], [0.6666666666666666, \"#ed7953\"], [0.7777777777777778, \"#fb9f3a\"], [0.8888888888888888, \"#fdca26\"], [1.0, \"#f0f921\"]]}, \"colorway\": [\"#636efa\", \"#EF553B\", \"#00cc96\", \"#ab63fa\", \"#FFA15A\", \"#19d3f3\", \"#FF6692\", \"#B6E880\", \"#FF97FF\", \"#FECB52\"], \"font\": {\"color\": \"#2a3f5f\"}, \"geo\": {\"bgcolor\": \"white\", \"lakecolor\": \"white\", \"landcolor\": \"#E5ECF6\", \"showlakes\": true, \"showland\": true, \"subunitcolor\": \"white\"}, \"hoverlabel\": {\"align\": \"left\"}, \"hovermode\": \"closest\", \"mapbox\": {\"style\": \"light\"}, \"paper_bgcolor\": \"white\", \"plot_bgcolor\": \"#E5ECF6\", \"polar\": {\"angularaxis\": {\"gridcolor\": \"white\", \"linecolor\": \"white\", \"ticks\": \"\"}, \"bgcolor\": \"#E5ECF6\", \"radialaxis\": {\"gridcolor\": \"white\", \"linecolor\": \"white\", \"ticks\": \"\"}}, \"scene\": {\"xaxis\": {\"backgroundcolor\": \"#E5ECF6\", \"gridcolor\": \"white\", \"gridwidth\": 2, \"linecolor\": \"white\", \"showbackground\": true, \"ticks\": \"\", \"zerolinecolor\": \"white\"}, \"yaxis\": {\"backgroundcolor\": \"#E5ECF6\", \"gridcolor\": \"white\", \"gridwidth\": 2, \"linecolor\": \"white\", \"showbackground\": true, \"ticks\": \"\", \"zerolinecolor\": \"white\"}, \"zaxis\": {\"backgroundcolor\": \"#E5ECF6\", \"gridcolor\": \"white\", \"gridwidth\": 2, \"linecolor\": \"white\", \"showbackground\": true, \"ticks\": \"\", \"zerolinecolor\": \"white\"}}, \"shapedefaults\": {\"line\": {\"color\": \"#2a3f5f\"}}, \"ternary\": {\"aaxis\": {\"gridcolor\": \"white\", \"linecolor\": \"white\", \"ticks\": \"\"}, \"baxis\": {\"gridcolor\": \"white\", \"linecolor\": \"white\", \"ticks\": \"\"}, \"bgcolor\": \"#E5ECF6\", \"caxis\": {\"gridcolor\": \"white\", \"linecolor\": \"white\", \"ticks\": \"\"}}, \"title\": {\"x\": 0.05}, \"xaxis\": {\"automargin\": true, \"gridcolor\": \"white\", \"linecolor\": \"white\", \"ticks\": \"\", \"zerolinecolor\": \"white\", \"zerolinewidth\": 2}, \"yaxis\": {\"automargin\": true, \"gridcolor\": \"white\", \"linecolor\": \"white\", \"ticks\": \"\", \"zerolinecolor\": \"white\", \"zerolinewidth\": 2}}}},\n",
       "                        {\"responsive\": true}\n",
       "                    ).then(function(){\n",
       "                            \n",
       "var gd = document.getElementById('03570352-c906-4a4b-b4ee-a20eb53ed9af');\n",
       "var x = new MutationObserver(function (mutations, observer) {{\n",
       "        var display = window.getComputedStyle(gd).display;\n",
       "        if (!display || display === 'none') {{\n",
       "            console.log([gd, 'removed!']);\n",
       "            Plotly.purge(gd);\n",
       "            observer.disconnect();\n",
       "        }}\n",
       "}});\n",
       "\n",
       "// Listen for the removal of the full notebook cells\n",
       "var notebookContainer = gd.closest('#notebook-container');\n",
       "if (notebookContainer) {{\n",
       "    x.observe(notebookContainer, {childList: true});\n",
       "}}\n",
       "\n",
       "// Listen for the clearing of the current output cell\n",
       "var outputEl = gd.closest('.output');\n",
       "if (outputEl) {{\n",
       "    x.observe(outputEl, {childList: true});\n",
       "}}\n",
       "\n",
       "                        })\n",
       "                };\n",
       "                });\n",
       "            </script>\n",
       "        </div>"
      ]
     },
     "metadata": {},
     "output_type": "display_data"
    }
   ],
   "source": [
    "fig = go.Figure()\n",
    "\n",
    "fig.add_trace(go.Bar(\n",
    "    x = lines_df.index[:25],\n",
    "    y = lines_df['Episode']))"
   ]
  },
  {
   "cell_type": "code",
   "execution_count": 168,
   "metadata": {
    "ExecuteTime": {
     "end_time": "2020-08-20T00:19:09.432697Z",
     "start_time": "2020-08-20T00:19:09.424697Z"
    }
   },
   "outputs": [
    {
     "data": {
      "text/plain": [
       "tyrion lannister      347\n",
       "cersei lannister      181\n",
       "theon greyjoy         175\n",
       "daenerys targaryen    135\n",
       "robb stark            129\n",
       "                     ... \n",
       "quent                   1\n",
       "ser rodrik              1\n",
       "armory                  1\n",
       "colen                   1\n",
       "ironborn                1\n",
       "Name: Character, Length: 140, dtype: int64"
      ]
     },
     "execution_count": 168,
     "metadata": {},
     "output_type": "execute_result"
    }
   ],
   "source": [
    "dfe['Character'].value_counts()"
   ]
  },
  {
   "cell_type": "code",
   "execution_count": null,
   "metadata": {},
   "outputs": [],
   "source": []
  },
  {
   "cell_type": "code",
   "execution_count": null,
   "metadata": {},
   "outputs": [],
   "source": []
  },
  {
   "cell_type": "code",
   "execution_count": 37,
   "metadata": {
    "ExecuteTime": {
     "end_time": "2020-08-18T19:03:08.993693Z",
     "start_time": "2020-08-18T19:03:08.989695Z"
    }
   },
   "outputs": [],
   "source": [
    "seasons = GoT['Season'].unique()"
   ]
  },
  {
   "cell_type": "code",
   "execution_count": 38,
   "metadata": {
    "ExecuteTime": {
     "end_time": "2020-08-18T19:03:13.384231Z",
     "start_time": "2020-08-18T19:03:13.362232Z"
    }
   },
   "outputs": [],
   "source": [
    "df_name = 'GoT_'\n",
    "season_num = 1\n",
    "i = 0\n",
    "df_names = []\n",
    "for season in seasons:\n",
    "    df_names.append(df_name+str(season_num))\n",
    "    df_names[i] = GoT[GoT['Season'] == season]\n",
    "    season_num += 1\n",
    "    i+=1"
   ]
  },
  {
   "cell_type": "code",
   "execution_count": 40,
   "metadata": {
    "ExecuteTime": {
     "end_time": "2020-08-18T19:03:22.632316Z",
     "start_time": "2020-08-18T19:03:22.600314Z"
    }
   },
   "outputs": [
    {
     "data": {
      "text/plain": [
       "[     Release Date    Season     Episode     Episode Title                Name  \\\n",
       " 0      2011-04-17  Season 1   Episode 1  Winter is Coming        waymar royce   \n",
       " 1      2011-04-17  Season 1   Episode 1  Winter is Coming                will   \n",
       " 2      2011-04-17  Season 1   Episode 1  Winter is Coming        waymar royce   \n",
       " 3      2011-04-17  Season 1   Episode 1  Winter is Coming                will   \n",
       " 4      2011-04-17  Season 1   Episode 1  Winter is Coming               gared   \n",
       " ...           ...       ...         ...               ...                 ...   \n",
       " 3174   2011-06-19  Season 1  Episode 10    Fire and Blood  daenerys targaryen   \n",
       " 3175   2011-06-19  Season 1  Episode 10    Fire and Blood  daenerys targaryen   \n",
       " 3176   2011-06-19  Season 1  Episode 10    Fire and Blood      mirri maz duur   \n",
       " 3177   2011-06-19  Season 1  Episode 10    Fire and Blood  daenerys targaryen   \n",
       " 3178   2011-06-19  Season 1  Episode 10    Fire and Blood       jorah mormont   \n",
       " \n",
       "                                                Sentence  \n",
       " 0     What do you expect? They're savages. One lot s...  \n",
       " 1     I've never seen wildlings do a thing like this...  \n",
       " 2                                How close did you get?  \n",
       " 3                               Close as any man would.  \n",
       " 4                      We should head back to the wall.  \n",
       " ...                                                 ...  \n",
       " 3174  ls that what you fear? You will be my khalasar...  \n",
       " 3175  Ser Jorah, bind this woman to the pyre. You sw...  \n",
       " 3176                       You will not hear me scream.  \n",
       " 3177  I will. But it is not your screams I want. Onl...  \n",
       " 3178                                 Blood of my blood.  \n",
       " \n",
       " [3179 rows x 6 columns],\n",
       "      Release Date    Season     Episode        Episode Title  \\\n",
       " 3179   2012-04-01  Season 2   Episode 1  The North Remembers   \n",
       " 3180   2012-04-01  Season 2   Episode 1  The North Remembers   \n",
       " 3181   2012-04-01  Season 2   Episode 1  The North Remembers   \n",
       " 3182   2012-04-01  Season 2   Episode 1  The North Remembers   \n",
       " 3183   2012-04-01  Season 2   Episode 1  The North Remembers   \n",
       " ...           ...       ...         ...                  ...   \n",
       " 7088   2012-06-03  Season 2  Episode 10      Valar Morghulis   \n",
       " 7089   2012-06-03  Season 2  Episode 10      Valar Morghulis   \n",
       " 7090   2012-06-03  Season 2  Episode 10      Valar Morghulis   \n",
       " 7091   2012-06-03  Season 2  Episode 10      Valar Morghulis   \n",
       " 7092   2012-06-03  Season 2  Episode 10      Valar Morghulis   \n",
       " \n",
       "                    Name                            Sentence  \n",
       " 3179  joffrey lannister      Well struck… Well struck, Dog.  \n",
       " 3180  joffrey lannister                  Did you like that?  \n",
       " 3181        sansa stark     It was well struck, Your Grace.  \n",
       " 3182  joffrey lannister  I already said it was well struck.  \n",
       " 3183        sansa stark                    Yes, Your Grace.  \n",
       " ...                 ...                                 ...  \n",
       " 7088              grenn                       Three blasts?  \n",
       " 7089       dolorous edd                                Run!  \n",
       " 7090                sam                  Wait! Wait for me!  \n",
       " 7091                sam                              Grenn!  \n",
       " 7092                sam                                Edd!  \n",
       " \n",
       " [3914 rows x 6 columns],\n",
       "       Release Date    Season     Episode   Episode Title                Name  \\\n",
       " 7093    2013-03-31  Season 3   Episode 1  Valar Dohaeris                 man   \n",
       " 7094    2013-03-31  Season 3   Episode 1  Valar Dohaeris                 sam   \n",
       " 7095    2013-03-31  Season 3   Episode 1  Valar Dohaeris                jeor   \n",
       " 7096    2013-03-31  Season 3   Episode 1  Valar Dohaeris                jeor   \n",
       " 7097    2013-03-31  Season 3   Episode 1  Valar Dohaeris                jeor   \n",
       " ...            ...       ...         ...             ...                 ...   \n",
       " 10661   2013-06-09  Season 3  Episode 10           Mhysa               crowd   \n",
       " 10662   2013-06-09  Season 3  Episode 10           Mhysa  daenerys targaryen   \n",
       " 10663   2013-06-09  Season 3  Episode 10           Mhysa  daenerys targaryen   \n",
       " 10664   2013-06-09  Season 3  Episode 10           Mhysa  daenerys targaryen   \n",
       " 10665   2013-06-09  Season 3  Episode 10           Mhysa               crowd   \n",
       " \n",
       "                                                 Sentence  \n",
       " 7093                                          Fall back!  \n",
       " 7094                                            Brother?  \n",
       " 7095                            Did you send the ravens?  \n",
       " 7096         Tarly, look at me. Did you send the ravens?  \n",
       " 7097   That was your job. Your only job. We need to g...  \n",
       " ...                                                  ...  \n",
       " 10661                               Mhysa! Mhysa! Mhysa.  \n",
       " 10662        It's all right. These people won't hurt me.  \n",
       " 10663                                               Fly.  \n",
       " 10664                                        Let me pass  \n",
       " 10665                        Mhysa! Mhysa! Mhysa. Mhysa!  \n",
       " \n",
       " [3573 rows x 6 columns],\n",
       "       Release Date    Season     Episode Episode Title             Name  \\\n",
       " 10666   2014-04-06  Season 4   Episode 1    Two Swords  jaime lannister   \n",
       " 10667   2014-04-06  Season 4   Episode 1    Two Swords  tywin lannister   \n",
       " 10668   2014-04-06  Season 4   Episode 1    Two Swords  jaime lannister   \n",
       " 10669   2014-04-06  Season 4   Episode 1    Two Swords  tywin lannister   \n",
       " 10670   2014-04-06  Season 4   Episode 1    Two Swords  jaime lannister   \n",
       " ...            ...       ...         ...           ...              ...   \n",
       " 14107   2014-06-15  Season 4  Episode 10  The Children       arya stark   \n",
       " 14108   2014-06-15  Season 4  Episode 10  The Children          captain   \n",
       " 14109   2014-06-15  Season 4  Episode 10  The Children       arya stark   \n",
       " 14110   2014-06-15  Season 4  Episode 10  The Children       arya stark   \n",
       " 14111   2014-06-15  Season 4  Episode 10  The Children          captain   \n",
       " \n",
       "                                                 Sentence  \n",
       " 10666                                       Magnificent.  \n",
       " 10667                                            Mm-hmm.  \n",
       " 10668                                Looks fresh-forged.  \n",
       " 10669                                             It is.  \n",
       " 10670  No one's made a Valyrian steel sword since the...  \n",
       " ...                                                  ...  \n",
       " 14107                       Wait, I have something else.  \n",
       " 14108               More silver won't make a difference.  \n",
       " 14109                        It's not silver, it's iron.  \n",
       " 14110                                   Valar morghulis.  \n",
       " 14111  How did you… valar dohaeris. Of course, you sh...  \n",
       " \n",
       " [3446 rows x 6 columns],\n",
       "       Release Date    Season     Episode     Episode Title              Name  \\\n",
       " 14112   2015-04-12  Season 5   Episode 1  The Wars to Come            melara   \n",
       " 14113   2015-04-12  Season 5   Episode 1  The Wars to Come  cersei lannister   \n",
       " 14114   2015-04-12  Season 5   Episode 1  The Wars to Come            melara   \n",
       " 14115   2015-04-12  Season 5   Episode 1  The Wars to Come  cersei lannister   \n",
       " 14116   2015-04-12  Season 5   Episode 1  The Wars to Come            melara   \n",
       " ...            ...       ...         ...               ...               ...   \n",
       " 17142   2015-06-14  Season 5  Episode 10    Mother’s Mercy           brother   \n",
       " 17143   2015-06-14  Season 5  Episode 10    Mother’s Mercy          jon snow   \n",
       " 17144   2015-06-14  Season 5  Episode 10    Mother’s Mercy              olly   \n",
       " 17145   2015-06-14  Season 5  Episode 10    Mother’s Mercy               end   \n",
       " 17146   2015-06-14  Season 5  Episode 10    Mother’s Mercy               end   \n",
       " \n",
       "                                 Sentence  \n",
       " 14112    We shouldn't be out here alone.  \n",
       " 14113                           Why not?  \n",
       " 14114              If your father hears…  \n",
       " 14115  He'll never know we've been gone.  \n",
       " 14116               But if he finds out…  \n",
       " ...                                  ...  \n",
       " 17142                     For the Watch.  \n",
       " 17143                              Olly…  \n",
       " 17144                     For the Watch.  \n",
       " 17145                            EPISODE  \n",
       " 17146                             SEASON  \n",
       " \n",
       " [3035 rows x 6 columns],\n",
       "       Release Date    Season     Episode        Episode Title  \\\n",
       " 17147   2015-04-24  Season 6   Episode 1        The Red Woman   \n",
       " 17148   2015-04-24  Season 6   Episode 1        The Red Woman   \n",
       " 17149   2015-04-24  Season 6   Episode 1        The Red Woman   \n",
       " 17150   2015-04-24  Season 6   Episode 1        The Red Woman   \n",
       " 17151   2015-04-24  Season 6   Episode 1        The Red Woman   \n",
       " ...            ...       ...         ...                  ...   \n",
       " 19998   2016-06-26  Season 6  Episode 10  The Winds of Winter   \n",
       " 19999   2016-06-26  Season 6  Episode 10  The Winds of Winter   \n",
       " 20000   2016-06-26  Season 6  Episode 10  The Winds of Winter   \n",
       " 20001   2016-06-26  Season 6  Episode 10  The Winds of Winter   \n",
       " 20002   2016-06-26  Season 6  Episode 10  The Winds of Winter   \n",
       " \n",
       "                   Name                                           Sentence  \n",
       " 17147  nights watchman                           It's the Lord Commander!  \n",
       " 17148            davos                             Help me get him inside  \n",
       " 17149     dolorous edd                                    Thorne did this  \n",
       " 17150            davos  How many of your brothers do you think you can...  \n",
       " 17151     dolorous edd                        Trust? The men in this room  \n",
       " ...                ...                                                ...  \n",
       " 19998              all  The King in the North! The King in the North! ...  \n",
       " 19999  jaime lannister                                           Come on.  \n",
       " 20000           qyburn  I now proclaim Cersei of the House Lannister F...  \n",
       " 20001           qyburn                                Long may she reign.  \n",
       " 20002              all                                Long may she reign.  \n",
       " \n",
       " [2856 rows x 6 columns],\n",
       "       Release Date    Season    Episode            Episode Title  \\\n",
       " 20003   2017-07-16  Season 7  Episode 1              Dragonstone   \n",
       " 20004   2017-07-16  Season 7  Episode 1              Dragonstone   \n",
       " 20005   2017-07-16  Season 7  Episode 1              Dragonstone   \n",
       " 20006   2017-07-16  Season 7  Episode 1              Dragonstone   \n",
       " 20007   2017-07-16  Season 7  Episode 1              Dragonstone   \n",
       " ...            ...       ...        ...                      ...   \n",
       " 22440   2017-08-27  Season 7  Episode 7  The Dragon and the Wolf   \n",
       " 22441   2017-08-27  Season 7  Episode 7  The Dragon and the Wolf   \n",
       " 22442   2017-08-27  Season 7  Episode 7  The Dragon and the Wolf   \n",
       " 22443   2017-08-27  Season 7  Episode 7  The Dragon and the Wolf   \n",
       " 22444   2017-08-27  Season 7  Episode 7  The Dragon and the Wolf   \n",
       " \n",
       "                Name                                           Sentence  \n",
       " 20003   walder frey  You're wonder why I brought you all here. Afte...  \n",
       " 20004   walder frey  Well, it's no good being lord of the Riverland...  \n",
       " 20005   walder frey  I've gathered every Frey who means a damn thin...  \n",
       " 20006  waldery frey                                    Stand together!  \n",
       " 20007           all                                    Stand together!  \n",
       " ...             ...                                                ...  \n",
       " 22440         beric                              It's a long way down.  \n",
       " 22441       tormund  Yeah. The crows keep telling me I'll get used ...  \n",
       " 22442           man       I can see movement. Watch, on the tree line!  \n",
       " 22443           man                                        What is it?  \n",
       " 22444       tormund                                 Come on! Run! Run!  \n",
       " \n",
       " [2442 rows x 6 columns],\n",
       "       Release Date    Season    Episode    Episode Title              Name  \\\n",
       " 22445   2019-04-14  Season 8  Episode 1       Winterfell  tyrion lannister   \n",
       " 22446   2019-04-14  Season 8  Episode 1       Winterfell             varys   \n",
       " 22447   2019-04-14  Season 8  Episode 1       Winterfell  tyrion lannister   \n",
       " 22448   2019-04-14  Season 8  Episode 1       Winterfell          jon snow   \n",
       " 22449   2019-04-14  Season 8  Episode 1       Winterfell          jon snow   \n",
       " ...            ...       ...        ...              ...               ...   \n",
       " 23906   2019-05-19  Season 8  Episode 6  The Iron Throne           brienne   \n",
       " 23907   2019-05-19  Season 8  Episode 6  The Iron Throne             bronn   \n",
       " 23908   2019-05-19  Season 8  Episode 6  The Iron Throne  tyrion lannister   \n",
       " 23909   2019-05-19  Season 8  Episode 6  The Iron Throne               man   \n",
       " 23910   2019-05-19  Season 8  Episode 6  The Iron Throne               all   \n",
       " \n",
       "                                                 Sentence  \n",
       " 22445  You should consider yourself lucky. At least y...  \n",
       " 22446  You take great offense at dwarf jokes, but lov...  \n",
       " 22447               Because I have balls, and you don't.  \n",
       " 22448  I warned you. Northerners don't much trust out...  \n",
       " 22449                                       Look at you.  \n",
       " ...                                                  ...  \n",
       " 23906  I think we can all agree that ships take prece...  \n",
       " 23907      I think that's a very presumptuous statement.  \n",
       " 23908  I once brought a jackass and a honeycomb into ...  \n",
       " 23909                            The Queen in the North!  \n",
       " 23910  The Queen in the North! The Queen in the North...  \n",
       " \n",
       " [1466 rows x 6 columns]]"
      ]
     },
     "execution_count": 40,
     "metadata": {},
     "output_type": "execute_result"
    }
   ],
   "source": [
    "df_names"
   ]
  },
  {
   "cell_type": "code",
   "execution_count": 36,
   "metadata": {
    "ExecuteTime": {
     "end_time": "2020-08-18T18:32:02.079384Z",
     "start_time": "2020-08-18T18:32:02.072382Z"
    }
   },
   "outputs": [
    {
     "data": {
      "text/plain": [
       "jon snow              243\n",
       "daenerys targaryen    191\n",
       "tyrion lannister      188\n",
       "jaime lannister       172\n",
       "cersei lannister      162\n",
       "                     ... \n",
       "lyanna mormont          1\n",
       "yohn royce              1\n",
       "archers                 1\n",
       "unsullied               1\n",
       "archmaester             1\n",
       "Name: Name, Length: 73, dtype: int64"
      ]
     },
     "execution_count": 36,
     "metadata": {},
     "output_type": "execute_result"
    }
   ],
   "source": [
    "df_names[6]['Name'].value_counts()"
   ]
  },
  {
   "cell_type": "code",
   "execution_count": 48,
   "metadata": {
    "ExecuteTime": {
     "end_time": "2020-08-19T18:18:27.291695Z",
     "start_time": "2020-08-19T18:18:27.278694Z"
    }
   },
   "outputs": [
    {
     "data": {
      "text/plain": [
       "278         young benjen\n",
       "279                jacks\n",
       "280           frey guard\n",
       "281                vicky\n",
       "282               martha\n",
       "             ...        \n",
       "515                 both\n",
       "516    unsullied captain\n",
       "517                quick\n",
       "518              archers\n",
       "519               member\n",
       "Name: index, Length: 242, dtype: object"
      ]
     },
     "execution_count": 48,
     "metadata": {},
     "output_type": "execute_result"
    }
   ],
   "source": [
    " GoT.Character.value_counts().reset_index(name=\"count\").query(\"count < 5\")[\"index\"]"
   ]
  },
  {
   "cell_type": "code",
   "execution_count": null,
   "metadata": {},
   "outputs": [],
   "source": []
  }
 ],
 "metadata": {
  "kernelspec": {
   "display_name": "Python [conda env:learn-env] *",
   "language": "python",
   "name": "conda-env-learn-env-py"
  },
  "language_info": {
   "codemirror_mode": {
    "name": "ipython",
    "version": 3
   },
   "file_extension": ".py",
   "mimetype": "text/x-python",
   "name": "python",
   "nbconvert_exporter": "python",
   "pygments_lexer": "ipython3",
   "version": "3.6.9"
  }
 },
 "nbformat": 4,
 "nbformat_minor": 2
}
