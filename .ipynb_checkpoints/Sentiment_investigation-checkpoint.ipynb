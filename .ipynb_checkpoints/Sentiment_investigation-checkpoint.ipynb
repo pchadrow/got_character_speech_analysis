{
 "cells": [
  {
   "cell_type": "code",
   "execution_count": 211,
   "metadata": {
    "ExecuteTime": {
     "end_time": "2020-08-28T20:00:42.772144Z",
     "start_time": "2020-08-28T20:00:42.768145Z"
    }
   },
   "outputs": [],
   "source": [
    "import nltk\n",
    "import numpy as np\n",
    "import pandas as pd\n",
    "import seaborn as sns\n",
    "import matplotlib.pyplot as plt\n",
    "%matplotlib inline\n",
    "from collections import OrderedDict\n",
    "\n",
    "from nltk.sentiment.vader import SentimentIntensityAnalyzer"
   ]
  },
  {
   "cell_type": "code",
   "execution_count": 9,
   "metadata": {
    "ExecuteTime": {
     "end_time": "2020-08-28T17:59:08.280781Z",
     "start_time": "2020-08-28T17:59:08.231783Z"
    }
   },
   "outputs": [],
   "source": [
    "df = pd.read_csv('Game_of_Thrones_Script_Corrected.csv')"
   ]
  },
  {
   "cell_type": "code",
   "execution_count": 10,
   "metadata": {
    "ExecuteTime": {
     "end_time": "2020-08-28T17:59:14.753784Z",
     "start_time": "2020-08-28T17:59:14.735782Z"
    }
   },
   "outputs": [
    {
     "data": {
      "text/html": [
       "<div>\n",
       "<style scoped>\n",
       "    .dataframe tbody tr th:only-of-type {\n",
       "        vertical-align: middle;\n",
       "    }\n",
       "\n",
       "    .dataframe tbody tr th {\n",
       "        vertical-align: top;\n",
       "    }\n",
       "\n",
       "    .dataframe thead th {\n",
       "        text-align: right;\n",
       "    }\n",
       "</style>\n",
       "<table border=\"1\" class=\"dataframe\">\n",
       "  <thead>\n",
       "    <tr style=\"text-align: right;\">\n",
       "      <th></th>\n",
       "      <th>Release Date</th>\n",
       "      <th>Season</th>\n",
       "      <th>Episode</th>\n",
       "      <th>Episode Title</th>\n",
       "      <th>Sentence</th>\n",
       "      <th>Character</th>\n",
       "      <th>word_count</th>\n",
       "    </tr>\n",
       "  </thead>\n",
       "  <tbody>\n",
       "    <tr>\n",
       "      <th>0</th>\n",
       "      <td>2011-04-17</td>\n",
       "      <td>Season 1</td>\n",
       "      <td>Episode 1</td>\n",
       "      <td>Winter is Coming</td>\n",
       "      <td>What do you expect? They're savages. One lot s...</td>\n",
       "      <td>waymar royce</td>\n",
       "      <td>25</td>\n",
       "    </tr>\n",
       "    <tr>\n",
       "      <th>1</th>\n",
       "      <td>2011-04-17</td>\n",
       "      <td>Season 1</td>\n",
       "      <td>Episode 1</td>\n",
       "      <td>Winter is Coming</td>\n",
       "      <td>I've never seen wildlings do a thing like this...</td>\n",
       "      <td>will</td>\n",
       "      <td>21</td>\n",
       "    </tr>\n",
       "    <tr>\n",
       "      <th>2</th>\n",
       "      <td>2011-04-17</td>\n",
       "      <td>Season 1</td>\n",
       "      <td>Episode 1</td>\n",
       "      <td>Winter is Coming</td>\n",
       "      <td>How close did you get?</td>\n",
       "      <td>waymar royce</td>\n",
       "      <td>5</td>\n",
       "    </tr>\n",
       "    <tr>\n",
       "      <th>3</th>\n",
       "      <td>2011-04-17</td>\n",
       "      <td>Season 1</td>\n",
       "      <td>Episode 1</td>\n",
       "      <td>Winter is Coming</td>\n",
       "      <td>Close as any man would.</td>\n",
       "      <td>will</td>\n",
       "      <td>5</td>\n",
       "    </tr>\n",
       "    <tr>\n",
       "      <th>4</th>\n",
       "      <td>2011-04-17</td>\n",
       "      <td>Season 1</td>\n",
       "      <td>Episode 1</td>\n",
       "      <td>Winter is Coming</td>\n",
       "      <td>We should head back to the wall.</td>\n",
       "      <td>gared</td>\n",
       "      <td>7</td>\n",
       "    </tr>\n",
       "  </tbody>\n",
       "</table>\n",
       "</div>"
      ],
      "text/plain": [
       "  Release Date    Season    Episode     Episode Title  \\\n",
       "0   2011-04-17  Season 1  Episode 1  Winter is Coming   \n",
       "1   2011-04-17  Season 1  Episode 1  Winter is Coming   \n",
       "2   2011-04-17  Season 1  Episode 1  Winter is Coming   \n",
       "3   2011-04-17  Season 1  Episode 1  Winter is Coming   \n",
       "4   2011-04-17  Season 1  Episode 1  Winter is Coming   \n",
       "\n",
       "                                            Sentence     Character  word_count  \n",
       "0  What do you expect? They're savages. One lot s...  waymar royce          25  \n",
       "1  I've never seen wildlings do a thing like this...          will          21  \n",
       "2                             How close did you get?  waymar royce           5  \n",
       "3                            Close as any man would.          will           5  \n",
       "4                   We should head back to the wall.         gared           7  "
      ]
     },
     "execution_count": 10,
     "metadata": {},
     "output_type": "execute_result"
    }
   ],
   "source": [
    "df.head()"
   ]
  },
  {
   "cell_type": "code",
   "execution_count": 82,
   "metadata": {
    "ExecuteTime": {
     "end_time": "2020-08-28T18:31:09.634355Z",
     "start_time": "2020-08-28T18:31:09.625356Z"
    }
   },
   "outputs": [
    {
     "data": {
      "text/plain": [
       "tyrion lannister      1760\n",
       "jon snow              1133\n",
       "daenerys targaryen    1049\n",
       "cersei lannister      1005\n",
       "jaime lannister        945\n",
       "sansa stark            784\n",
       "arya stark             783\n",
       "sam tarly              556\n",
       "davos                  528\n",
       "petyr baelish          483\n",
       "theon greyjoy          455\n",
       "bran stark             399\n",
       "bronn                  393\n",
       "varys                  386\n",
       "tywin lannister        381\n",
       "jorah mormont          381\n",
       "man                    381\n",
       "brienne                370\n",
       "sandor clegane         368\n",
       "eddard stark           349\n",
       "robb stark             306\n",
       "stannis baratheon      296\n",
       "catelyn stark          285\n",
       "ramsay bolton          263\n",
       "margaery tyrell        262\n",
       "joffrey lannister      260\n",
       "melisandre             242\n",
       "shae                   222\n",
       "gendry baratheon       207\n",
       "tormund                198\n",
       "Name: Character, dtype: int64"
      ]
     },
     "execution_count": 82,
     "metadata": {},
     "output_type": "execute_result"
    }
   ],
   "source": [
    "df['Character'].value_counts()[:30]"
   ]
  },
  {
   "cell_type": "code",
   "execution_count": null,
   "metadata": {},
   "outputs": [],
   "source": []
  },
  {
   "cell_type": "code",
   "execution_count": null,
   "metadata": {},
   "outputs": [],
   "source": []
  },
  {
   "cell_type": "code",
   "execution_count": 12,
   "metadata": {
    "ExecuteTime": {
     "end_time": "2020-08-28T18:01:50.234526Z",
     "start_time": "2020-08-28T18:01:48.586529Z"
    }
   },
   "outputs": [
    {
     "name": "stderr",
     "output_type": "stream",
     "text": [
      "[nltk_data] Downloading package vader_lexicon to\n",
      "[nltk_data]     C:\\Users\\damni\\AppData\\Roaming\\nltk_data...\n"
     ]
    },
    {
     "data": {
      "text/plain": [
       "True"
      ]
     },
     "execution_count": 12,
     "metadata": {},
     "output_type": "execute_result"
    }
   ],
   "source": [
    "nltk.download('vader_lexicon')"
   ]
  },
  {
   "cell_type": "code",
   "execution_count": 16,
   "metadata": {
    "ExecuteTime": {
     "end_time": "2020-08-28T18:03:21.633541Z",
     "start_time": "2020-08-28T18:03:21.623541Z"
    }
   },
   "outputs": [],
   "source": [
    "analyzer = SentimentIntensityAnalyzer()"
   ]
  },
  {
   "cell_type": "code",
   "execution_count": 17,
   "metadata": {
    "ExecuteTime": {
     "end_time": "2020-08-28T18:03:40.377540Z",
     "start_time": "2020-08-28T18:03:40.373544Z"
    }
   },
   "outputs": [],
   "source": [
    "def sentiment_analyzer_scores(sentence):\n",
    "    score = analyzer.polarity_scores(sentence)\n",
    "    print(\"{:-<40} {}\".format(sentence, str(score)))"
   ]
  },
  {
   "cell_type": "code",
   "execution_count": 61,
   "metadata": {
    "ExecuteTime": {
     "end_time": "2020-08-28T18:14:30.940992Z",
     "start_time": "2020-08-28T18:14:30.937992Z"
    }
   },
   "outputs": [],
   "source": [
    "def sentiment_scores(sentence):\n",
    "    return analyzer.polarity_scores(sentence)\n",
    "    "
   ]
  },
  {
   "cell_type": "code",
   "execution_count": null,
   "metadata": {},
   "outputs": [],
   "source": []
  },
  {
   "cell_type": "code",
   "execution_count": 59,
   "metadata": {
    "ExecuteTime": {
     "end_time": "2020-08-28T18:12:47.932993Z",
     "start_time": "2020-08-28T18:12:47.928991Z"
    }
   },
   "outputs": [
    {
     "name": "stdout",
     "output_type": "stream",
     "text": [
      "You're not ready. You should go home before it's too late. {'neg': 0.174, 'neu': 0.826, 'pos': 0.0, 'compound': -0.2755}\n"
     ]
    }
   ],
   "source": [
    "sentiment_analyzer_scores(df['Sentence'][18353])"
   ]
  },
  {
   "cell_type": "code",
   "execution_count": 63,
   "metadata": {
    "ExecuteTime": {
     "end_time": "2020-08-28T18:14:53.978993Z",
     "start_time": "2020-08-28T18:14:53.974992Z"
    }
   },
   "outputs": [
    {
     "data": {
      "text/plain": [
       "-0.2755"
      ]
     },
     "execution_count": 63,
     "metadata": {},
     "output_type": "execute_result"
    }
   ],
   "source": [
    "sentiment_scores(df['Sentence'][18353])['compound']"
   ]
  },
  {
   "cell_type": "code",
   "execution_count": 64,
   "metadata": {
    "ExecuteTime": {
     "end_time": "2020-08-28T18:16:27.853991Z",
     "start_time": "2020-08-28T18:16:24.617992Z"
    }
   },
   "outputs": [],
   "source": [
    "df['pos'] = df['Sentence'].apply(lambda x: sentiment_scores(x)['pos'])"
   ]
  },
  {
   "cell_type": "code",
   "execution_count": 66,
   "metadata": {
    "ExecuteTime": {
     "end_time": "2020-08-28T18:17:02.358991Z",
     "start_time": "2020-08-28T18:16:59.097992Z"
    }
   },
   "outputs": [],
   "source": [
    "df['neg'] = df['Sentence'].apply(lambda x: sentiment_scores(x)['neg'])"
   ]
  },
  {
   "cell_type": "code",
   "execution_count": 68,
   "metadata": {
    "ExecuteTime": {
     "end_time": "2020-08-28T18:17:23.900991Z",
     "start_time": "2020-08-28T18:17:20.633993Z"
    }
   },
   "outputs": [],
   "source": [
    "df['neu'] = df['Sentence'].apply(lambda x: sentiment_scores(x)['neu'])"
   ]
  },
  {
   "cell_type": "code",
   "execution_count": 69,
   "metadata": {
    "ExecuteTime": {
     "end_time": "2020-08-28T18:17:43.484991Z",
     "start_time": "2020-08-28T18:17:40.228993Z"
    }
   },
   "outputs": [],
   "source": [
    "df['compound'] = df['Sentence'].apply(lambda x: sentiment_scores(x)['compound'])"
   ]
  },
  {
   "cell_type": "code",
   "execution_count": 70,
   "metadata": {
    "ExecuteTime": {
     "end_time": "2020-08-28T18:17:49.806995Z",
     "start_time": "2020-08-28T18:17:49.791994Z"
    }
   },
   "outputs": [
    {
     "data": {
      "text/html": [
       "<div>\n",
       "<style scoped>\n",
       "    .dataframe tbody tr th:only-of-type {\n",
       "        vertical-align: middle;\n",
       "    }\n",
       "\n",
       "    .dataframe tbody tr th {\n",
       "        vertical-align: top;\n",
       "    }\n",
       "\n",
       "    .dataframe thead th {\n",
       "        text-align: right;\n",
       "    }\n",
       "</style>\n",
       "<table border=\"1\" class=\"dataframe\">\n",
       "  <thead>\n",
       "    <tr style=\"text-align: right;\">\n",
       "      <th></th>\n",
       "      <th>Release Date</th>\n",
       "      <th>Season</th>\n",
       "      <th>Episode</th>\n",
       "      <th>Episode Title</th>\n",
       "      <th>Sentence</th>\n",
       "      <th>Character</th>\n",
       "      <th>word_count</th>\n",
       "      <th>pos</th>\n",
       "      <th>neg</th>\n",
       "      <th>neu</th>\n",
       "      <th>compound</th>\n",
       "    </tr>\n",
       "  </thead>\n",
       "  <tbody>\n",
       "    <tr>\n",
       "      <th>0</th>\n",
       "      <td>2011-04-17</td>\n",
       "      <td>Season 1</td>\n",
       "      <td>Episode 1</td>\n",
       "      <td>Winter is Coming</td>\n",
       "      <td>What do you expect? They're savages. One lot s...</td>\n",
       "      <td>waymar royce</td>\n",
       "      <td>25</td>\n",
       "      <td>0.000</td>\n",
       "      <td>0.233</td>\n",
       "      <td>0.767</td>\n",
       "      <td>-0.7717</td>\n",
       "    </tr>\n",
       "    <tr>\n",
       "      <th>1</th>\n",
       "      <td>2011-04-17</td>\n",
       "      <td>Season 1</td>\n",
       "      <td>Episode 1</td>\n",
       "      <td>Winter is Coming</td>\n",
       "      <td>I've never seen wildlings do a thing like this...</td>\n",
       "      <td>will</td>\n",
       "      <td>21</td>\n",
       "      <td>0.227</td>\n",
       "      <td>0.000</td>\n",
       "      <td>0.773</td>\n",
       "      <td>0.6124</td>\n",
       "    </tr>\n",
       "    <tr>\n",
       "      <th>2</th>\n",
       "      <td>2011-04-17</td>\n",
       "      <td>Season 1</td>\n",
       "      <td>Episode 1</td>\n",
       "      <td>Winter is Coming</td>\n",
       "      <td>How close did you get?</td>\n",
       "      <td>waymar royce</td>\n",
       "      <td>5</td>\n",
       "      <td>0.000</td>\n",
       "      <td>0.000</td>\n",
       "      <td>1.000</td>\n",
       "      <td>0.0000</td>\n",
       "    </tr>\n",
       "    <tr>\n",
       "      <th>3</th>\n",
       "      <td>2011-04-17</td>\n",
       "      <td>Season 1</td>\n",
       "      <td>Episode 1</td>\n",
       "      <td>Winter is Coming</td>\n",
       "      <td>Close as any man would.</td>\n",
       "      <td>will</td>\n",
       "      <td>5</td>\n",
       "      <td>0.000</td>\n",
       "      <td>0.000</td>\n",
       "      <td>1.000</td>\n",
       "      <td>0.0000</td>\n",
       "    </tr>\n",
       "    <tr>\n",
       "      <th>4</th>\n",
       "      <td>2011-04-17</td>\n",
       "      <td>Season 1</td>\n",
       "      <td>Episode 1</td>\n",
       "      <td>Winter is Coming</td>\n",
       "      <td>We should head back to the wall.</td>\n",
       "      <td>gared</td>\n",
       "      <td>7</td>\n",
       "      <td>0.000</td>\n",
       "      <td>0.000</td>\n",
       "      <td>1.000</td>\n",
       "      <td>0.0000</td>\n",
       "    </tr>\n",
       "  </tbody>\n",
       "</table>\n",
       "</div>"
      ],
      "text/plain": [
       "  Release Date    Season    Episode     Episode Title  \\\n",
       "0   2011-04-17  Season 1  Episode 1  Winter is Coming   \n",
       "1   2011-04-17  Season 1  Episode 1  Winter is Coming   \n",
       "2   2011-04-17  Season 1  Episode 1  Winter is Coming   \n",
       "3   2011-04-17  Season 1  Episode 1  Winter is Coming   \n",
       "4   2011-04-17  Season 1  Episode 1  Winter is Coming   \n",
       "\n",
       "                                            Sentence     Character  \\\n",
       "0  What do you expect? They're savages. One lot s...  waymar royce   \n",
       "1  I've never seen wildlings do a thing like this...          will   \n",
       "2                             How close did you get?  waymar royce   \n",
       "3                            Close as any man would.          will   \n",
       "4                   We should head back to the wall.         gared   \n",
       "\n",
       "   word_count    pos    neg    neu  compound  \n",
       "0          25  0.000  0.233  0.767   -0.7717  \n",
       "1          21  0.227  0.000  0.773    0.6124  \n",
       "2           5  0.000  0.000  1.000    0.0000  \n",
       "3           5  0.000  0.000  1.000    0.0000  \n",
       "4           7  0.000  0.000  1.000    0.0000  "
      ]
     },
     "execution_count": 70,
     "metadata": {},
     "output_type": "execute_result"
    }
   ],
   "source": [
    "df.head()"
   ]
  },
  {
   "cell_type": "code",
   "execution_count": 83,
   "metadata": {
    "ExecuteTime": {
     "end_time": "2020-08-28T18:32:57.079370Z",
     "start_time": "2020-08-28T18:32:57.055373Z"
    }
   },
   "outputs": [],
   "source": [
    "name_filter = list((df['Character'].loc[df['Character'] != 'man'].value_counts().reset_index(name='count').query('count > 300'))['index'])"
   ]
  },
  {
   "cell_type": "code",
   "execution_count": 84,
   "metadata": {
    "ExecuteTime": {
     "end_time": "2020-08-28T18:33:06.174372Z",
     "start_time": "2020-08-28T18:33:06.169374Z"
    }
   },
   "outputs": [
    {
     "data": {
      "text/plain": [
       "['tyrion lannister',\n",
       " 'jon snow',\n",
       " 'daenerys targaryen',\n",
       " 'cersei lannister',\n",
       " 'jaime lannister',\n",
       " 'sansa stark',\n",
       " 'arya stark',\n",
       " 'sam tarly',\n",
       " 'davos',\n",
       " 'petyr baelish',\n",
       " 'theon greyjoy',\n",
       " 'bran stark',\n",
       " 'bronn',\n",
       " 'varys',\n",
       " 'tywin lannister',\n",
       " 'jorah mormont',\n",
       " 'brienne',\n",
       " 'sandor clegane',\n",
       " 'eddard stark',\n",
       " 'robb stark']"
      ]
     },
     "execution_count": 84,
     "metadata": {},
     "output_type": "execute_result"
    }
   ],
   "source": [
    "name_filter"
   ]
  },
  {
   "cell_type": "code",
   "execution_count": 86,
   "metadata": {
    "ExecuteTime": {
     "end_time": "2020-08-28T18:33:46.727370Z",
     "start_time": "2020-08-28T18:33:46.706375Z"
    }
   },
   "outputs": [
    {
     "data": {
      "text/html": [
       "<div>\n",
       "<style scoped>\n",
       "    .dataframe tbody tr th:only-of-type {\n",
       "        vertical-align: middle;\n",
       "    }\n",
       "\n",
       "    .dataframe tbody tr th {\n",
       "        vertical-align: top;\n",
       "    }\n",
       "\n",
       "    .dataframe thead th {\n",
       "        text-align: right;\n",
       "    }\n",
       "</style>\n",
       "<table border=\"1\" class=\"dataframe\">\n",
       "  <thead>\n",
       "    <tr style=\"text-align: right;\">\n",
       "      <th></th>\n",
       "      <th>Release Date</th>\n",
       "      <th>Season</th>\n",
       "      <th>Episode</th>\n",
       "      <th>Episode Title</th>\n",
       "      <th>Sentence</th>\n",
       "      <th>Character</th>\n",
       "      <th>word_count</th>\n",
       "      <th>pos</th>\n",
       "      <th>neg</th>\n",
       "      <th>neu</th>\n",
       "      <th>compound</th>\n",
       "    </tr>\n",
       "  </thead>\n",
       "  <tbody>\n",
       "    <tr>\n",
       "      <th>15</th>\n",
       "      <td>2011-04-17</td>\n",
       "      <td>Season 1</td>\n",
       "      <td>Episode 1</td>\n",
       "      <td>Winter is Coming</td>\n",
       "      <td>Go on. Father's watching.</td>\n",
       "      <td>jon snow</td>\n",
       "      <td>4</td>\n",
       "      <td>0.000</td>\n",
       "      <td>0.000</td>\n",
       "      <td>1.000</td>\n",
       "      <td>0.0000</td>\n",
       "    </tr>\n",
       "    <tr>\n",
       "      <th>16</th>\n",
       "      <td>2011-04-17</td>\n",
       "      <td>Season 1</td>\n",
       "      <td>Episode 1</td>\n",
       "      <td>Winter is Coming</td>\n",
       "      <td>And your mother.</td>\n",
       "      <td>jon snow</td>\n",
       "      <td>3</td>\n",
       "      <td>0.000</td>\n",
       "      <td>0.000</td>\n",
       "      <td>1.000</td>\n",
       "      <td>0.0000</td>\n",
       "    </tr>\n",
       "    <tr>\n",
       "      <th>18</th>\n",
       "      <td>2011-04-17</td>\n",
       "      <td>Season 1</td>\n",
       "      <td>Episode 1</td>\n",
       "      <td>Winter is Coming</td>\n",
       "      <td>Thank you.</td>\n",
       "      <td>sansa stark</td>\n",
       "      <td>2</td>\n",
       "      <td>0.714</td>\n",
       "      <td>0.000</td>\n",
       "      <td>0.286</td>\n",
       "      <td>0.3612</td>\n",
       "    </tr>\n",
       "    <tr>\n",
       "      <th>20</th>\n",
       "      <td>2011-04-17</td>\n",
       "      <td>Season 1</td>\n",
       "      <td>Episode 1</td>\n",
       "      <td>Winter is Coming</td>\n",
       "      <td>And which one of you was a marksman at ten? Ke...</td>\n",
       "      <td>eddard stark</td>\n",
       "      <td>15</td>\n",
       "      <td>0.000</td>\n",
       "      <td>0.000</td>\n",
       "      <td>1.000</td>\n",
       "      <td>0.0000</td>\n",
       "    </tr>\n",
       "    <tr>\n",
       "      <th>21</th>\n",
       "      <td>2011-04-17</td>\n",
       "      <td>Season 1</td>\n",
       "      <td>Episode 1</td>\n",
       "      <td>Winter is Coming</td>\n",
       "      <td>Don't think too much, Bran.</td>\n",
       "      <td>jon snow</td>\n",
       "      <td>5</td>\n",
       "      <td>0.000</td>\n",
       "      <td>0.000</td>\n",
       "      <td>1.000</td>\n",
       "      <td>0.0000</td>\n",
       "    </tr>\n",
       "    <tr>\n",
       "      <th>...</th>\n",
       "      <td>...</td>\n",
       "      <td>...</td>\n",
       "      <td>...</td>\n",
       "      <td>...</td>\n",
       "      <td>...</td>\n",
       "      <td>...</td>\n",
       "      <td>...</td>\n",
       "      <td>...</td>\n",
       "      <td>...</td>\n",
       "      <td>...</td>\n",
       "      <td>...</td>\n",
       "    </tr>\n",
       "    <tr>\n",
       "      <th>23901</th>\n",
       "      <td>2019-05-19</td>\n",
       "      <td>Season 8</td>\n",
       "      <td>Episode 6</td>\n",
       "      <td>The Iron Throne</td>\n",
       "      <td>Uh... the Archmaester is less than enthusiasti...</td>\n",
       "      <td>sam tarly</td>\n",
       "      <td>13</td>\n",
       "      <td>0.196</td>\n",
       "      <td>0.000</td>\n",
       "      <td>0.804</td>\n",
       "      <td>0.4445</td>\n",
       "    </tr>\n",
       "    <tr>\n",
       "      <th>23902</th>\n",
       "      <td>2019-05-19</td>\n",
       "      <td>Season 8</td>\n",
       "      <td>Episode 6</td>\n",
       "      <td>The Iron Throne</td>\n",
       "      <td>Well, I imagine he isn't using them properly.</td>\n",
       "      <td>bronn</td>\n",
       "      <td>8</td>\n",
       "      <td>0.259</td>\n",
       "      <td>0.000</td>\n",
       "      <td>0.741</td>\n",
       "      <td>0.2732</td>\n",
       "    </tr>\n",
       "    <tr>\n",
       "      <th>23903</th>\n",
       "      <td>2019-05-19</td>\n",
       "      <td>Season 8</td>\n",
       "      <td>Episode 6</td>\n",
       "      <td>The Iron Throne</td>\n",
       "      <td>I think we can all agree that ships take prece...</td>\n",
       "      <td>brienne</td>\n",
       "      <td>12</td>\n",
       "      <td>0.200</td>\n",
       "      <td>0.000</td>\n",
       "      <td>0.800</td>\n",
       "      <td>0.3612</td>\n",
       "    </tr>\n",
       "    <tr>\n",
       "      <th>23904</th>\n",
       "      <td>2019-05-19</td>\n",
       "      <td>Season 8</td>\n",
       "      <td>Episode 6</td>\n",
       "      <td>The Iron Throne</td>\n",
       "      <td>I think that's a very presumptuous statement.</td>\n",
       "      <td>bronn</td>\n",
       "      <td>7</td>\n",
       "      <td>0.000</td>\n",
       "      <td>0.000</td>\n",
       "      <td>1.000</td>\n",
       "      <td>0.0000</td>\n",
       "    </tr>\n",
       "    <tr>\n",
       "      <th>23905</th>\n",
       "      <td>2019-05-19</td>\n",
       "      <td>Season 8</td>\n",
       "      <td>Episode 6</td>\n",
       "      <td>The Iron Throne</td>\n",
       "      <td>I once brought a jackass and a honeycomb into ...</td>\n",
       "      <td>tyrion lannister</td>\n",
       "      <td>11</td>\n",
       "      <td>0.000</td>\n",
       "      <td>0.318</td>\n",
       "      <td>0.682</td>\n",
       "      <td>-0.4215</td>\n",
       "    </tr>\n",
       "  </tbody>\n",
       "</table>\n",
       "<p>12814 rows × 11 columns</p>\n",
       "</div>"
      ],
      "text/plain": [
       "      Release Date    Season    Episode     Episode Title  \\\n",
       "15      2011-04-17  Season 1  Episode 1  Winter is Coming   \n",
       "16      2011-04-17  Season 1  Episode 1  Winter is Coming   \n",
       "18      2011-04-17  Season 1  Episode 1  Winter is Coming   \n",
       "20      2011-04-17  Season 1  Episode 1  Winter is Coming   \n",
       "21      2011-04-17  Season 1  Episode 1  Winter is Coming   \n",
       "...            ...       ...        ...               ...   \n",
       "23901   2019-05-19  Season 8  Episode 6   The Iron Throne   \n",
       "23902   2019-05-19  Season 8  Episode 6   The Iron Throne   \n",
       "23903   2019-05-19  Season 8  Episode 6   The Iron Throne   \n",
       "23904   2019-05-19  Season 8  Episode 6   The Iron Throne   \n",
       "23905   2019-05-19  Season 8  Episode 6   The Iron Throne   \n",
       "\n",
       "                                                Sentence         Character  \\\n",
       "15                             Go on. Father's watching.          jon snow   \n",
       "16                                      And your mother.          jon snow   \n",
       "18                                            Thank you.       sansa stark   \n",
       "20     And which one of you was a marksman at ten? Ke...      eddard stark   \n",
       "21                           Don't think too much, Bran.          jon snow   \n",
       "...                                                  ...               ...   \n",
       "23901  Uh... the Archmaester is less than enthusiasti...         sam tarly   \n",
       "23902      Well, I imagine he isn't using them properly.             bronn   \n",
       "23903  I think we can all agree that ships take prece...           brienne   \n",
       "23904      I think that's a very presumptuous statement.             bronn   \n",
       "23905  I once brought a jackass and a honeycomb into ...  tyrion lannister   \n",
       "\n",
       "       word_count    pos    neg    neu  compound  \n",
       "15              4  0.000  0.000  1.000    0.0000  \n",
       "16              3  0.000  0.000  1.000    0.0000  \n",
       "18              2  0.714  0.000  0.286    0.3612  \n",
       "20             15  0.000  0.000  1.000    0.0000  \n",
       "21              5  0.000  0.000  1.000    0.0000  \n",
       "...           ...    ...    ...    ...       ...  \n",
       "23901          13  0.196  0.000  0.804    0.4445  \n",
       "23902           8  0.259  0.000  0.741    0.2732  \n",
       "23903          12  0.200  0.000  0.800    0.3612  \n",
       "23904           7  0.000  0.000  1.000    0.0000  \n",
       "23905          11  0.000  0.318  0.682   -0.4215  \n",
       "\n",
       "[12814 rows x 11 columns]"
      ]
     },
     "execution_count": 86,
     "metadata": {},
     "output_type": "execute_result"
    }
   ],
   "source": [
    "sentiment_df = df[df['Character'].isin(name_filter)]\n",
    "sentiment_df"
   ]
  },
  {
   "cell_type": "code",
   "execution_count": 170,
   "metadata": {
    "ExecuteTime": {
     "end_time": "2020-08-28T19:37:04.567114Z",
     "start_time": "2020-08-28T19:37:04.554111Z"
    }
   },
   "outputs": [
    {
     "data": {
      "text/html": [
       "<div>\n",
       "<style scoped>\n",
       "    .dataframe tbody tr th:only-of-type {\n",
       "        vertical-align: middle;\n",
       "    }\n",
       "\n",
       "    .dataframe tbody tr th {\n",
       "        vertical-align: top;\n",
       "    }\n",
       "\n",
       "    .dataframe thead th {\n",
       "        text-align: right;\n",
       "    }\n",
       "</style>\n",
       "<table border=\"1\" class=\"dataframe\">\n",
       "  <thead>\n",
       "    <tr style=\"text-align: right;\">\n",
       "      <th></th>\n",
       "      <th>word_count</th>\n",
       "      <th>pos</th>\n",
       "      <th>neg</th>\n",
       "      <th>neu</th>\n",
       "      <th>compound</th>\n",
       "    </tr>\n",
       "    <tr>\n",
       "      <th>Season</th>\n",
       "      <th></th>\n",
       "      <th></th>\n",
       "      <th></th>\n",
       "      <th></th>\n",
       "      <th></th>\n",
       "    </tr>\n",
       "  </thead>\n",
       "  <tbody>\n",
       "    <tr>\n",
       "      <th>Season 1</th>\n",
       "      <td>20095</td>\n",
       "      <td>198.675</td>\n",
       "      <td>185.331</td>\n",
       "      <td>1451.005</td>\n",
       "      <td>27.6503</td>\n",
       "    </tr>\n",
       "    <tr>\n",
       "      <th>Season 2</th>\n",
       "      <td>24550</td>\n",
       "      <td>225.619</td>\n",
       "      <td>208.965</td>\n",
       "      <td>1551.408</td>\n",
       "      <td>28.5191</td>\n",
       "    </tr>\n",
       "    <tr>\n",
       "      <th>Season 3</th>\n",
       "      <td>20242</td>\n",
       "      <td>181.679</td>\n",
       "      <td>173.074</td>\n",
       "      <td>1287.253</td>\n",
       "      <td>13.0649</td>\n",
       "    </tr>\n",
       "    <tr>\n",
       "      <th>Season 4</th>\n",
       "      <td>21915</td>\n",
       "      <td>209.387</td>\n",
       "      <td>198.384</td>\n",
       "      <td>1404.242</td>\n",
       "      <td>6.4675</td>\n",
       "    </tr>\n",
       "    <tr>\n",
       "      <th>Season 5</th>\n",
       "      <td>18779</td>\n",
       "      <td>183.300</td>\n",
       "      <td>143.295</td>\n",
       "      <td>1155.400</td>\n",
       "      <td>46.7540</td>\n",
       "    </tr>\n",
       "    <tr>\n",
       "      <th>Season 6</th>\n",
       "      <td>15990</td>\n",
       "      <td>127.732</td>\n",
       "      <td>115.602</td>\n",
       "      <td>1003.665</td>\n",
       "      <td>13.8911</td>\n",
       "    </tr>\n",
       "    <tr>\n",
       "      <th>Season 7</th>\n",
       "      <td>24053</td>\n",
       "      <td>163.217</td>\n",
       "      <td>179.948</td>\n",
       "      <td>1452.832</td>\n",
       "      <td>-48.9286</td>\n",
       "    </tr>\n",
       "    <tr>\n",
       "      <th>Season 8</th>\n",
       "      <td>10598</td>\n",
       "      <td>117.140</td>\n",
       "      <td>92.708</td>\n",
       "      <td>804.148</td>\n",
       "      <td>29.3669</td>\n",
       "    </tr>\n",
       "  </tbody>\n",
       "</table>\n",
       "</div>"
      ],
      "text/plain": [
       "          word_count      pos      neg       neu  compound\n",
       "Season                                                    \n",
       "Season 1       20095  198.675  185.331  1451.005   27.6503\n",
       "Season 2       24550  225.619  208.965  1551.408   28.5191\n",
       "Season 3       20242  181.679  173.074  1287.253   13.0649\n",
       "Season 4       21915  209.387  198.384  1404.242    6.4675\n",
       "Season 5       18779  183.300  143.295  1155.400   46.7540\n",
       "Season 6       15990  127.732  115.602  1003.665   13.8911\n",
       "Season 7       24053  163.217  179.948  1452.832  -48.9286\n",
       "Season 8       10598  117.140   92.708   804.148   29.3669"
      ]
     },
     "execution_count": 170,
     "metadata": {},
     "output_type": "execute_result"
    }
   ],
   "source": [
    "sentiment_df.groupby('Season').sum()"
   ]
  },
  {
   "cell_type": "code",
   "execution_count": null,
   "metadata": {},
   "outputs": [],
   "source": []
  },
  {
   "cell_type": "code",
   "execution_count": 80,
   "metadata": {
    "ExecuteTime": {
     "end_time": "2020-08-28T18:25:52.017697Z",
     "start_time": "2020-08-28T18:25:52.005698Z"
    }
   },
   "outputs": [
    {
     "ename": "TypeError",
     "evalue": "'method' object is not subscriptable",
     "output_type": "error",
     "traceback": [
      "\u001b[1;31m---------------------------------------------------------------------------\u001b[0m",
      "\u001b[1;31mTypeError\u001b[0m                                 Traceback (most recent call last)",
      "\u001b[1;32m<ipython-input-80-dd0c0fe1e936>\u001b[0m in \u001b[0;36m<module>\u001b[1;34m\u001b[0m\n\u001b[1;32m----> 1\u001b[1;33m \u001b[0mattempt\u001b[0m \u001b[1;33m=\u001b[0m \u001b[0mdf\u001b[0m\u001b[1;33m.\u001b[0m\u001b[0mgroupby\u001b[0m\u001b[1;33m[\u001b[0m\u001b[1;34m'Season'\u001b[0m\u001b[1;33m,\u001b[0m \u001b[1;34m'Character'\u001b[0m\u001b[1;33m]\u001b[0m\u001b[1;33m\u001b[0m\u001b[1;33m\u001b[0m\u001b[0m\n\u001b[0m\u001b[0;32m      2\u001b[0m \u001b[0mattempt\u001b[0m\u001b[1;33m.\u001b[0m\u001b[0mhead\u001b[0m\u001b[1;33m(\u001b[0m\u001b[1;33m)\u001b[0m\u001b[1;33m\u001b[0m\u001b[1;33m\u001b[0m\u001b[0m\n",
      "\u001b[1;31mTypeError\u001b[0m: 'method' object is not subscriptable"
     ]
    }
   ],
   "source": [
    "attempt = df.groupby['Season', 'Character']\n",
    "attempt.head()"
   ]
  },
  {
   "cell_type": "code",
   "execution_count": 140,
   "metadata": {
    "ExecuteTime": {
     "end_time": "2020-08-28T19:21:59.208545Z",
     "start_time": "2020-08-28T19:21:59.196545Z"
    }
   },
   "outputs": [
    {
     "name": "stdout",
     "output_type": "stream",
     "text": [
      "<class 'pandas.core.frame.DataFrame'>\n",
      "RangeIndex: 12814 entries, 0 to 12813\n",
      "Data columns (total 4 columns):\n",
      " #   Column     Non-Null Count  Dtype  \n",
      "---  ------     --------------  -----  \n",
      " 0   index      12814 non-null  int64  \n",
      " 1   Season     12814 non-null  object \n",
      " 2   Character  12814 non-null  object \n",
      " 3   compound   12814 non-null  float64\n",
      "dtypes: float64(1), int64(1), object(2)\n",
      "memory usage: 400.6+ KB\n"
     ]
    }
   ],
   "source": [
    "heat = sentiment_df[['Season', 'Character', 'compound']].reset_index()\n",
    "# heat.reset_index().drop('index', inplace = True, axis = 1)\n",
    "heat.info()\n",
    "# heat = heat.pivot('Season', 'Character', 'compound')\n",
    "# ax = sns.heatmap(heat)"
   ]
  },
  {
   "cell_type": "code",
   "execution_count": 141,
   "metadata": {
    "ExecuteTime": {
     "end_time": "2020-08-28T19:22:06.324543Z",
     "start_time": "2020-08-28T19:22:06.317543Z"
    }
   },
   "outputs": [],
   "source": [
    "heat['Character'] = heat['Character'].astype('category')\n",
    "heat['Season'] = heat['Season'].astype('category')"
   ]
  },
  {
   "cell_type": "code",
   "execution_count": 142,
   "metadata": {
    "ExecuteTime": {
     "end_time": "2020-08-28T19:22:08.518545Z",
     "start_time": "2020-08-28T19:22:08.509544Z"
    }
   },
   "outputs": [
    {
     "name": "stdout",
     "output_type": "stream",
     "text": [
      "<class 'pandas.core.frame.DataFrame'>\n",
      "RangeIndex: 12814 entries, 0 to 12813\n",
      "Data columns (total 4 columns):\n",
      " #   Column     Non-Null Count  Dtype   \n",
      "---  ------     --------------  -----   \n",
      " 0   index      12814 non-null  int64   \n",
      " 1   Season     12814 non-null  category\n",
      " 2   Character  12814 non-null  category\n",
      " 3   compound   12814 non-null  float64 \n",
      "dtypes: category(2), float64(1), int64(1)\n",
      "memory usage: 226.5 KB\n"
     ]
    }
   ],
   "source": [
    "heat.info()"
   ]
  },
  {
   "cell_type": "code",
   "execution_count": 146,
   "metadata": {
    "ExecuteTime": {
     "end_time": "2020-08-28T19:23:04.161544Z",
     "start_time": "2020-08-28T19:23:04.156544Z"
    }
   },
   "outputs": [],
   "source": [
    "heat.drop('index', axis = 1, inplace=True)"
   ]
  },
  {
   "cell_type": "code",
   "execution_count": 230,
   "metadata": {
    "ExecuteTime": {
     "end_time": "2020-08-28T20:09:25.576232Z",
     "start_time": "2020-08-28T20:09:25.570229Z"
    }
   },
   "outputs": [
    {
     "data": {
      "text/plain": [
       "['Season 1',\n",
       " 'Season 2',\n",
       " 'Season 3',\n",
       " 'Season 4',\n",
       " 'Season 5',\n",
       " 'Season 6',\n",
       " 'Season 7',\n",
       " 'Season 8']"
      ]
     },
     "execution_count": 230,
     "metadata": {},
     "output_type": "execute_result"
    }
   ],
   "source": [
    "a = list(heat['Season'].unique())\n",
    "a"
   ]
  },
  {
   "cell_type": "code",
   "execution_count": 153,
   "metadata": {
    "ExecuteTime": {
     "end_time": "2020-08-28T19:29:03.051624Z",
     "start_time": "2020-08-28T19:29:03.045624Z"
    }
   },
   "outputs": [
    {
     "data": {
      "text/plain": [
       "{'arya stark',\n",
       " 'bran stark',\n",
       " 'brienne',\n",
       " 'bronn',\n",
       " 'cersei lannister',\n",
       " 'daenerys targaryen',\n",
       " 'davos',\n",
       " 'eddard stark',\n",
       " 'jaime lannister',\n",
       " 'jon snow',\n",
       " 'jorah mormont',\n",
       " 'petyr baelish',\n",
       " 'robb stark',\n",
       " 'sam tarly',\n",
       " 'sandor clegane',\n",
       " 'sansa stark',\n",
       " 'theon greyjoy',\n",
       " 'tyrion lannister',\n",
       " 'tywin lannister',\n",
       " 'varys'}"
      ]
     },
     "execution_count": 153,
     "metadata": {},
     "output_type": "execute_result"
    }
   ],
   "source": [
    "set(heat['Character'])"
   ]
  },
  {
   "cell_type": "code",
   "execution_count": 203,
   "metadata": {
    "ExecuteTime": {
     "end_time": "2020-08-28T19:55:01.716111Z",
     "start_time": "2020-08-28T19:55:01.707112Z"
    }
   },
   "outputs": [
    {
     "data": {
      "text/plain": [
       "compound    0.00865\n",
       "dtype: float64"
      ]
     },
     "execution_count": 203,
     "metadata": {},
     "output_type": "execute_result"
    }
   ],
   "source": [
    "heat[heat['Character'] == 'bronn'].mean()"
   ]
  },
  {
   "cell_type": "code",
   "execution_count": 233,
   "metadata": {
    "ExecuteTime": {
     "end_time": "2020-08-28T20:10:18.673228Z",
     "start_time": "2020-08-28T20:10:18.345229Z"
    }
   },
   "outputs": [],
   "source": [
    "maps = OrderedDict()\n",
    "for season in list(heat['Season'].unique()):\n",
    "    new_df = heat[heat['Season'] == season]\n",
    "    columns = list(new_df.Character.unique())\n",
    "    char_dict ={}\n",
    "    for char in columns:\n",
    "        value = new_df[new_df['Character'] == char].mean()[0]\n",
    "        char_dict[char] = value\n",
    "    maps[season] = char_dict\n",
    "#     maps[season] = values"
   ]
  },
  {
   "cell_type": "code",
   "execution_count": 234,
   "metadata": {
    "ExecuteTime": {
     "end_time": "2020-08-28T20:10:19.443229Z",
     "start_time": "2020-08-28T20:10:19.437229Z"
    }
   },
   "outputs": [
    {
     "data": {
      "text/plain": [
       "OrderedDict([('Season 1',\n",
       "              {'jon snow': 0.0020235294117647126,\n",
       "               'sansa stark': 0.016260606060606066,\n",
       "               'eddard stark': 0.03327596439169139,\n",
       "               'robb stark': 0.010075641025641017,\n",
       "               'bran stark': -0.039195161290322585,\n",
       "               'theon greyjoy': -0.05847714285714286,\n",
       "               'jaime lannister': -0.019425000000000008,\n",
       "               'cersei lannister': -0.00898803418803419,\n",
       "               'arya stark': -0.05359117647058823,\n",
       "               'tyrion lannister': 0.05438915094339622,\n",
       "               'daenerys targaryen': 0.03460157480314962,\n",
       "               'jorah mormont': 0.06485348837209304,\n",
       "               'sandor clegane': -0.12694615384615385,\n",
       "               'varys': 0.11131500000000001,\n",
       "               'petyr baelish': 0.06670000000000001,\n",
       "               'sam tarly': -0.05984615384615384,\n",
       "               'bronn': -0.04570000000000001,\n",
       "               'tywin lannister': -0.09054285714285715}),\n",
       "             ('Season 2',\n",
       "              {'sansa stark': 0.006672289156626513,\n",
       "               'sandor clegane': -0.11834545454545455,\n",
       "               'tyrion lannister': 0.016714121037463982,\n",
       "               'bronn': -0.028103448275862076,\n",
       "               'varys': 0.1334121621621622,\n",
       "               'petyr baelish': 0.13239240506329114,\n",
       "               'cersei lannister': 0.04495801104972377,\n",
       "               'bran stark': -0.08626296296296294,\n",
       "               'daenerys targaryen': -0.0054896296296296125,\n",
       "               'jorah mormont': -0.005073584905660382,\n",
       "               'jon snow': -0.08366288659793816,\n",
       "               'sam tarly': 0.06888235294117646,\n",
       "               'davos': 0.16376105263157897,\n",
       "               'jaime lannister': -0.004329166666666667,\n",
       "               'robb stark': 0.007863565891472865,\n",
       "               'theon greyjoy': 0.0007114285714285737,\n",
       "               'arya stark': -0.02915196850393699,\n",
       "               'brienne': -0.05683529411764706,\n",
       "               'tywin lannister': -0.003055434782608704}),\n",
       "             ('Season 3',\n",
       "              {'sam tarly': 0.04555294117647059,\n",
       "               'jon snow': -0.00896263736263737,\n",
       "               'bronn': -0.03375555555555556,\n",
       "               'tyrion lannister': 0.008543568464730282,\n",
       "               'cersei lannister': 0.12674512195121954,\n",
       "               'davos': -0.048803092783505156,\n",
       "               'robb stark': -0.07174848484848484,\n",
       "               'tywin lannister': 0.07677765957446811,\n",
       "               'sansa stark': 0.09006781609195405,\n",
       "               'petyr baelish': 0.17627441860465118,\n",
       "               'jorah mormont': -0.03194827586206896,\n",
       "               'daenerys targaryen': 0.009000854700854703,\n",
       "               'eddard stark': 0.0,\n",
       "               'bran stark': -0.02075764705882353,\n",
       "               'theon greyjoy': -0.09872599999999998,\n",
       "               'jaime lannister': 0.01861085271317829,\n",
       "               'brienne': 0.11478490566037737,\n",
       "               'arya stark': -0.08352980769230768,\n",
       "               'sandor clegane': -0.05172413793103449,\n",
       "               'varys': -0.006067500000000029}),\n",
       "             ('Season 4',\n",
       "              {'jaime lannister': -0.008092777777777787,\n",
       "               'tywin lannister': -0.023399375000000004,\n",
       "               'bronn': 0.0009912280701754423,\n",
       "               'tyrion lannister': 0.00717913043478263,\n",
       "               'jorah mormont': -0.030314285714285707,\n",
       "               'daenerys targaryen': 0.118456,\n",
       "               'sansa stark': 0.03670515463917526,\n",
       "               'cersei lannister': 0.017151552795031055,\n",
       "               'jon snow': -0.06103550724637681,\n",
       "               'sam tarly': 0.035371568627450986,\n",
       "               'brienne': 0.050535483870967755,\n",
       "               'arya stark': -0.05676176470588236,\n",
       "               'sandor clegane': -0.11543070175438602,\n",
       "               'theon greyjoy': -0.06809354838709678,\n",
       "               'varys': 0.0627451612903226,\n",
       "               'davos': 0.14359375,\n",
       "               'bran stark': -0.04361428571428571,\n",
       "               'petyr baelish': 0.05273287671232878}),\n",
       "             ('Season 5',\n",
       "              {'cersei lannister': 0.016144148936170208,\n",
       "               'jaime lannister': 0.06978252427184467,\n",
       "               'varys': 0.07955918367346941,\n",
       "               'tyrion lannister': 0.05762756756756758,\n",
       "               'daenerys targaryen': -0.04952403100775194,\n",
       "               'jon snow': 0.07204938271604938,\n",
       "               'sam tarly': 0.007977999999999999,\n",
       "               'davos': 0.10805471698113209,\n",
       "               'petyr baelish': 0.07789565217391305,\n",
       "               'sansa stark': 0.014634374999999996,\n",
       "               'brienne': -0.02683275862068965,\n",
       "               'arya stark': -0.02629746835443037,\n",
       "               'bronn': 0.10299080459770116,\n",
       "               'jorah mormont': 0.012964406779661021,\n",
       "               'theon greyjoy': -0.10307941176470588,\n",
       "               'bran stark': -0.12427500000000001}),\n",
       "             ('Season 6',\n",
       "              {'davos': 0.019095999999999974,\n",
       "               'theon greyjoy': -0.09410181818181818,\n",
       "               'sansa stark': -0.007564347826086962,\n",
       "               'brienne': -0.01094255319148937,\n",
       "               'cersei lannister': 0.023997590361445782,\n",
       "               'jaime lannister': -0.038446610169491524,\n",
       "               'tyrion lannister': 0.12903580246913582,\n",
       "               'varys': 0.09276170212765955,\n",
       "               'jorah mormont': -0.025403125000000002,\n",
       "               'daenerys targaryen': 0.024619354838709678,\n",
       "               'arya stark': -0.06743166666666665,\n",
       "               'bran stark': 0.024872000000000002,\n",
       "               'jon snow': -0.015205982905982901,\n",
       "               'sam tarly': 0.11343199999999999,\n",
       "               'eddard stark': -0.12566363636363634,\n",
       "               'petyr baelish': 0.04240882352941177,\n",
       "               'sandor clegane': -0.10295365853658539,\n",
       "               'bronn': -0.08071249999999999}),\n",
       "             ('Season 7',\n",
       "              {'arya stark': -0.004266141732283474,\n",
       "               'bran stark': 0.008675000000000004,\n",
       "               'jon snow': -0.024453497942386836,\n",
       "               'sansa stark': -0.06176250000000001,\n",
       "               'jaime lannister': -0.04954651162790696,\n",
       "               'cersei lannister': -0.08455679012345681,\n",
       "               'sam tarly': -0.06303157894736841,\n",
       "               'brienne': 0.0006093749999999971,\n",
       "               'petyr baelish': 0.04592400000000002,\n",
       "               'sandor clegane': -0.10168571428571431,\n",
       "               'jorah mormont': 0.011734042553191487,\n",
       "               'daenerys targaryen': 0.013373821989528792,\n",
       "               'tyrion lannister': -0.026784042553191487,\n",
       "               'varys': 0.027695121951219516,\n",
       "               'davos': -0.003602127659574476,\n",
       "               'theon greyjoy': 0.042350000000000006,\n",
       "               'bronn': -0.01784999999999999}),\n",
       "             ('Season 8',\n",
       "              {'tyrion lannister': 0.033833333333333326,\n",
       "               'varys': 0.039841666666666664,\n",
       "               'jon snow': 0.015148993288590607,\n",
       "               'bran stark': 0.027269047619047613,\n",
       "               'sansa stark': 0.09642363636363638,\n",
       "               'daenerys targaryen': 0.020306818181818176,\n",
       "               'arya stark': -0.046791463414634145,\n",
       "               'cersei lannister': 0.018225806451612904,\n",
       "               'bronn': 0.12826190476190477,\n",
       "               'theon greyjoy': -0.04388333333333333,\n",
       "               'davos': 0.05193902439024391,\n",
       "               'sandor clegane': -0.07532499999999999,\n",
       "               'sam tarly': 0.10448947368421052,\n",
       "               'jorah mormont': 0.054227777777777764,\n",
       "               'jaime lannister': 0.024186206896551724,\n",
       "               'brienne': 0.07712777777777778})])"
      ]
     },
     "execution_count": 234,
     "metadata": {},
     "output_type": "execute_result"
    }
   ],
   "source": [
    "maps"
   ]
  },
  {
   "cell_type": "code",
   "execution_count": 235,
   "metadata": {
    "ExecuteTime": {
     "end_time": "2020-08-28T20:10:21.661232Z",
     "start_time": "2020-08-28T20:10:21.649229Z"
    }
   },
   "outputs": [
    {
     "data": {
      "text/html": [
       "<div>\n",
       "<style scoped>\n",
       "    .dataframe tbody tr th:only-of-type {\n",
       "        vertical-align: middle;\n",
       "    }\n",
       "\n",
       "    .dataframe tbody tr th {\n",
       "        vertical-align: top;\n",
       "    }\n",
       "\n",
       "    .dataframe thead th {\n",
       "        text-align: right;\n",
       "    }\n",
       "</style>\n",
       "<table border=\"1\" class=\"dataframe\">\n",
       "  <thead>\n",
       "    <tr style=\"text-align: right;\">\n",
       "      <th></th>\n",
       "      <th>Season 1</th>\n",
       "      <th>Season 2</th>\n",
       "      <th>Season 3</th>\n",
       "      <th>Season 4</th>\n",
       "      <th>Season 5</th>\n",
       "      <th>Season 6</th>\n",
       "      <th>Season 7</th>\n",
       "      <th>Season 8</th>\n",
       "    </tr>\n",
       "  </thead>\n",
       "  <tbody>\n",
       "    <tr>\n",
       "      <th>jon snow</th>\n",
       "      <td>0.002024</td>\n",
       "      <td>-0.083663</td>\n",
       "      <td>-0.008963</td>\n",
       "      <td>-0.061036</td>\n",
       "      <td>0.072049</td>\n",
       "      <td>-0.015206</td>\n",
       "      <td>-0.024453</td>\n",
       "      <td>0.015149</td>\n",
       "    </tr>\n",
       "    <tr>\n",
       "      <th>sansa stark</th>\n",
       "      <td>0.016261</td>\n",
       "      <td>0.006672</td>\n",
       "      <td>0.090068</td>\n",
       "      <td>0.036705</td>\n",
       "      <td>0.014634</td>\n",
       "      <td>-0.007564</td>\n",
       "      <td>-0.061763</td>\n",
       "      <td>0.096424</td>\n",
       "    </tr>\n",
       "    <tr>\n",
       "      <th>eddard stark</th>\n",
       "      <td>0.033276</td>\n",
       "      <td>NaN</td>\n",
       "      <td>0.000000</td>\n",
       "      <td>NaN</td>\n",
       "      <td>NaN</td>\n",
       "      <td>-0.125664</td>\n",
       "      <td>NaN</td>\n",
       "      <td>NaN</td>\n",
       "    </tr>\n",
       "    <tr>\n",
       "      <th>robb stark</th>\n",
       "      <td>0.010076</td>\n",
       "      <td>0.007864</td>\n",
       "      <td>-0.071748</td>\n",
       "      <td>NaN</td>\n",
       "      <td>NaN</td>\n",
       "      <td>NaN</td>\n",
       "      <td>NaN</td>\n",
       "      <td>NaN</td>\n",
       "    </tr>\n",
       "    <tr>\n",
       "      <th>bran stark</th>\n",
       "      <td>-0.039195</td>\n",
       "      <td>-0.086263</td>\n",
       "      <td>-0.020758</td>\n",
       "      <td>-0.043614</td>\n",
       "      <td>-0.124275</td>\n",
       "      <td>0.024872</td>\n",
       "      <td>0.008675</td>\n",
       "      <td>0.027269</td>\n",
       "    </tr>\n",
       "  </tbody>\n",
       "</table>\n",
       "</div>"
      ],
      "text/plain": [
       "              Season 1  Season 2  Season 3  Season 4  Season 5  Season 6  \\\n",
       "jon snow      0.002024 -0.083663 -0.008963 -0.061036  0.072049 -0.015206   \n",
       "sansa stark   0.016261  0.006672  0.090068  0.036705  0.014634 -0.007564   \n",
       "eddard stark  0.033276       NaN  0.000000       NaN       NaN -0.125664   \n",
       "robb stark    0.010076  0.007864 -0.071748       NaN       NaN       NaN   \n",
       "bran stark   -0.039195 -0.086263 -0.020758 -0.043614 -0.124275  0.024872   \n",
       "\n",
       "              Season 7  Season 8  \n",
       "jon snow     -0.024453  0.015149  \n",
       "sansa stark  -0.061763  0.096424  \n",
       "eddard stark       NaN       NaN  \n",
       "robb stark         NaN       NaN  \n",
       "bran stark    0.008675  0.027269  "
      ]
     },
     "execution_count": 235,
     "metadata": {},
     "output_type": "execute_result"
    }
   ],
   "source": [
    "test = pd.DataFrame(maps)\n",
    "test.head()"
   ]
  },
  {
   "cell_type": "code",
   "execution_count": 236,
   "metadata": {
    "ExecuteTime": {
     "end_time": "2020-08-28T20:10:22.532229Z",
     "start_time": "2020-08-28T20:10:22.278228Z"
    }
   },
   "outputs": [
    {
     "data": {
      "image/png": "[encoded data removed]",
      "text/plain": [
       "<Figure size 432x288 with 2 Axes>"
      ]
     },
     "metadata": {
      "needs_background": "light"
     },
     "output_type": "display_data"
    }
   ],
   "source": [
    "# piv = pd.pivot_table(heat, values = 'compound', index=['Season'], columns=['Character'], fill_value =0)\n",
    "ax = sns.heatmap(test)"
   ]
  },
  {
   "cell_type": "code",
   "execution_count": null,
   "metadata": {},
   "outputs": [],
   "source": []
  },
  {
   "cell_type": "code",
   "execution_count": null,
   "metadata": {},
   "outputs": [],
   "source": []
  },
  {
   "cell_type": "code",
   "execution_count": 115,
   "metadata": {
    "ExecuteTime": {
     "end_time": "2020-08-28T19:01:19.136208Z",
     "start_time": "2020-08-28T19:01:19.126203Z"
    }
   },
   "outputs": [
    {
     "name": "stdout",
     "output_type": "stream",
     "text": [
      "<class 'pandas.core.frame.DataFrame'>\n",
      "RangeIndex: 144 entries, 0 to 143\n",
      "Data columns (total 3 columns):\n",
      " #   Column      Non-Null Count  Dtype   \n",
      "---  ------      --------------  -----   \n",
      " 0   year        144 non-null    int64   \n",
      " 1   month       144 non-null    category\n",
      " 2   passengers  144 non-null    int64   \n",
      "dtypes: category(1), int64(2)\n",
      "memory usage: 2.9 KB\n"
     ]
    }
   ],
   "source": [
    "flights = sns.load_dataset(\"flights\")\n",
    "flights.info()"
   ]
  },
  {
   "cell_type": "code",
   "execution_count": null,
   "metadata": {},
   "outputs": [],
   "source": []
  }
 ],
 "metadata": {
  "kernelspec": {
   "display_name": "Python [conda env:learn-env] *",
   "language": "python",
   "name": "conda-env-learn-env-py"
  },
  "language_info": {
   "codemirror_mode": {
    "name": "ipython",
    "version": 3
   },
   "file_extension": ".py",
   "mimetype": "text/x-python",
   "name": "python",
   "nbconvert_exporter": "python",
   "pygments_lexer": "ipython3",
   "version": "3.6.9"
  }
 },
 "nbformat": 4,
 "nbformat_minor": 2
}
