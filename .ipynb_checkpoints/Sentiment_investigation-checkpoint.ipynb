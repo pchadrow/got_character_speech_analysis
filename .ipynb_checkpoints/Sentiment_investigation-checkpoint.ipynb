{
 "cells": [
  {
   "cell_type": "code",
   "execution_count": 1,
   "metadata": {
    "ExecuteTime": {
     "end_time": "2020-08-31T14:47:58.471407Z",
     "start_time": "2020-08-31T14:47:57.147409Z"
    }
   },
   "outputs": [
    {
     "name": "stderr",
     "output_type": "stream",
     "text": [
      "C:\\Users\\damni\\anaconda3\\envs\\learn-env\\lib\\site-packages\\statsmodels\\tools\\_testing.py:19: FutureWarning: pandas.util.testing is deprecated. Use the functions in the public API at pandas.testing instead.\n",
      "  import pandas.util.testing as tm\n"
     ]
    }
   ],
   "source": [
    "import nltk\n",
    "import numpy as np\n",
    "import pandas as pd\n",
    "import seaborn as sns\n",
    "import matplotlib.pyplot as plt\n",
    "%matplotlib inline\n",
    "from collections import OrderedDict\n",
    "\n",
    "from nltk.sentiment.vader import SentimentIntensityAnalyzer"
   ]
  },
  {
   "cell_type": "code",
   "execution_count": 2,
   "metadata": {
    "ExecuteTime": {
     "end_time": "2020-08-31T14:47:58.531406Z",
     "start_time": "2020-08-31T14:47:58.473406Z"
    }
   },
   "outputs": [],
   "source": [
    "df = pd.read_csv('Game_of_Thrones_Script_Corrected.csv')"
   ]
  },
  {
   "cell_type": "code",
   "execution_count": 3,
   "metadata": {
    "ExecuteTime": {
     "end_time": "2020-08-31T14:47:58.549407Z",
     "start_time": "2020-08-31T14:47:58.533410Z"
    }
   },
   "outputs": [
    {
     "data": {
      "text/html": [
       "<div>\n",
       "<style scoped>\n",
       "    .dataframe tbody tr th:only-of-type {\n",
       "        vertical-align: middle;\n",
       "    }\n",
       "\n",
       "    .dataframe tbody tr th {\n",
       "        vertical-align: top;\n",
       "    }\n",
       "\n",
       "    .dataframe thead th {\n",
       "        text-align: right;\n",
       "    }\n",
       "</style>\n",
       "<table border=\"1\" class=\"dataframe\">\n",
       "  <thead>\n",
       "    <tr style=\"text-align: right;\">\n",
       "      <th></th>\n",
       "      <th>Release Date</th>\n",
       "      <th>Season</th>\n",
       "      <th>Episode</th>\n",
       "      <th>Episode Title</th>\n",
       "      <th>Sentence</th>\n",
       "      <th>Character</th>\n",
       "      <th>word_count</th>\n",
       "    </tr>\n",
       "  </thead>\n",
       "  <tbody>\n",
       "    <tr>\n",
       "      <th>0</th>\n",
       "      <td>2011-04-17</td>\n",
       "      <td>Season 1</td>\n",
       "      <td>Episode 1</td>\n",
       "      <td>Winter is Coming</td>\n",
       "      <td>What do you expect? They're savages. One lot s...</td>\n",
       "      <td>waymar royce</td>\n",
       "      <td>25</td>\n",
       "    </tr>\n",
       "    <tr>\n",
       "      <th>1</th>\n",
       "      <td>2011-04-17</td>\n",
       "      <td>Season 1</td>\n",
       "      <td>Episode 1</td>\n",
       "      <td>Winter is Coming</td>\n",
       "      <td>I've never seen wildlings do a thing like this...</td>\n",
       "      <td>will</td>\n",
       "      <td>21</td>\n",
       "    </tr>\n",
       "    <tr>\n",
       "      <th>2</th>\n",
       "      <td>2011-04-17</td>\n",
       "      <td>Season 1</td>\n",
       "      <td>Episode 1</td>\n",
       "      <td>Winter is Coming</td>\n",
       "      <td>How close did you get?</td>\n",
       "      <td>waymar royce</td>\n",
       "      <td>5</td>\n",
       "    </tr>\n",
       "    <tr>\n",
       "      <th>3</th>\n",
       "      <td>2011-04-17</td>\n",
       "      <td>Season 1</td>\n",
       "      <td>Episode 1</td>\n",
       "      <td>Winter is Coming</td>\n",
       "      <td>Close as any man would.</td>\n",
       "      <td>will</td>\n",
       "      <td>5</td>\n",
       "    </tr>\n",
       "    <tr>\n",
       "      <th>4</th>\n",
       "      <td>2011-04-17</td>\n",
       "      <td>Season 1</td>\n",
       "      <td>Episode 1</td>\n",
       "      <td>Winter is Coming</td>\n",
       "      <td>We should head back to the wall.</td>\n",
       "      <td>gared</td>\n",
       "      <td>7</td>\n",
       "    </tr>\n",
       "  </tbody>\n",
       "</table>\n",
       "</div>"
      ],
      "text/plain": [
       "  Release Date    Season    Episode     Episode Title  \\\n",
       "0   2011-04-17  Season 1  Episode 1  Winter is Coming   \n",
       "1   2011-04-17  Season 1  Episode 1  Winter is Coming   \n",
       "2   2011-04-17  Season 1  Episode 1  Winter is Coming   \n",
       "3   2011-04-17  Season 1  Episode 1  Winter is Coming   \n",
       "4   2011-04-17  Season 1  Episode 1  Winter is Coming   \n",
       "\n",
       "                                            Sentence     Character  word_count  \n",
       "0  What do you expect? They're savages. One lot s...  waymar royce          25  \n",
       "1  I've never seen wildlings do a thing like this...          will          21  \n",
       "2                             How close did you get?  waymar royce           5  \n",
       "3                            Close as any man would.          will           5  \n",
       "4                   We should head back to the wall.         gared           7  "
      ]
     },
     "execution_count": 3,
     "metadata": {},
     "output_type": "execute_result"
    }
   ],
   "source": [
    "df.head()"
   ]
  },
  {
   "cell_type": "markdown",
   "metadata": {},
   "source": [
    "Here we will look at character sentiment using the Vader sentiment analysis tool."
   ]
  },
  {
   "cell_type": "code",
   "execution_count": 4,
   "metadata": {
    "ExecuteTime": {
     "end_time": "2020-08-31T14:48:00.248409Z",
     "start_time": "2020-08-31T14:47:58.550408Z"
    }
   },
   "outputs": [
    {
     "name": "stderr",
     "output_type": "stream",
     "text": [
      "[nltk_data] Downloading package vader_lexicon to\n",
      "[nltk_data]     C:\\Users\\damni\\AppData\\Roaming\\nltk_data...\n",
      "[nltk_data]   Package vader_lexicon is already up-to-date!\n"
     ]
    },
    {
     "data": {
      "text/plain": [
       "True"
      ]
     },
     "execution_count": 4,
     "metadata": {},
     "output_type": "execute_result"
    }
   ],
   "source": [
    "nltk.download('vader_lexicon')"
   ]
  },
  {
   "cell_type": "code",
   "execution_count": 5,
   "metadata": {
    "ExecuteTime": {
     "end_time": "2020-08-31T14:48:00.265407Z",
     "start_time": "2020-08-31T14:48:00.249411Z"
    }
   },
   "outputs": [],
   "source": [
    "analyzer = SentimentIntensityAnalyzer()"
   ]
  },
  {
   "cell_type": "code",
   "execution_count": 6,
   "metadata": {
    "ExecuteTime": {
     "end_time": "2020-08-31T14:48:00.269408Z",
     "start_time": "2020-08-31T14:48:00.266406Z"
    }
   },
   "outputs": [],
   "source": [
    "def sentiment_analyzer_scores(sentence):\n",
    "    score = analyzer.polarity_scores(sentence)\n",
    "    print(\"{:-<40} {}\".format(sentence, str(score)))"
   ]
  },
  {
   "cell_type": "code",
   "execution_count": 7,
   "metadata": {
    "ExecuteTime": {
     "end_time": "2020-08-31T14:48:00.280408Z",
     "start_time": "2020-08-31T14:48:00.271408Z"
    }
   },
   "outputs": [],
   "source": [
    "def sentiment_scores(sentence):\n",
    "    return analyzer.polarity_scores(sentence)\n",
    "    "
   ]
  },
  {
   "cell_type": "code",
   "execution_count": 8,
   "metadata": {
    "ExecuteTime": {
     "end_time": "2020-08-31T14:48:00.291407Z",
     "start_time": "2020-08-31T14:48:00.282410Z"
    }
   },
   "outputs": [
    {
     "name": "stdout",
     "output_type": "stream",
     "text": [
      "You're not ready. You should go home before it's too late. {'neg': 0.174, 'neu': 0.826, 'pos': 0.0, 'compound': -0.2755}\n"
     ]
    }
   ],
   "source": [
    "sentiment_analyzer_scores(df['Sentence'][18353])"
   ]
  },
  {
   "cell_type": "code",
   "execution_count": 9,
   "metadata": {
    "ExecuteTime": {
     "end_time": "2020-08-31T14:48:00.303407Z",
     "start_time": "2020-08-31T14:48:00.293406Z"
    }
   },
   "outputs": [
    {
     "data": {
      "text/plain": [
       "-0.2755"
      ]
     },
     "execution_count": 9,
     "metadata": {},
     "output_type": "execute_result"
    }
   ],
   "source": [
    "# verify I can pull just a specific sentiment score\n",
    "sentiment_scores(df['Sentence'][18353])['compound']"
   ]
  },
  {
   "cell_type": "code",
   "execution_count": 10,
   "metadata": {
    "ExecuteTime": {
     "end_time": "2020-08-31T14:48:00.320410Z",
     "start_time": "2020-08-31T14:48:00.305407Z"
    }
   },
   "outputs": [
    {
     "name": "stdout",
     "output_type": "stream",
     "text": [
      "On my honor as a Tully, on my honor as a Stark, let him go or I will cut your wife's throat! {'neg': 0.085, 'neu': 0.645, 'pos': 0.27, 'compound': 0.68}\n"
     ]
    }
   ],
   "source": [
    "sentiment_analyzer_scores(df['Sentence'][10257])"
   ]
  },
  {
   "cell_type": "markdown",
   "metadata": {},
   "source": [
    "Potential issue here as the compound score is indicative of positive or negative sentiment. With 1 being very positive and -1 being very negative. With the above example, it's being classified as fairly postive which I think is debatable."
   ]
  },
  {
   "cell_type": "code",
   "execution_count": 11,
   "metadata": {
    "ExecuteTime": {
     "end_time": "2020-08-31T14:48:03.381406Z",
     "start_time": "2020-08-31T14:48:00.322415Z"
    }
   },
   "outputs": [],
   "source": [
    "df['pos'] = df['Sentence'].apply(lambda x: sentiment_scores(x)['pos'])"
   ]
  },
  {
   "cell_type": "code",
   "execution_count": 12,
   "metadata": {
    "ExecuteTime": {
     "end_time": "2020-08-31T14:48:06.577406Z",
     "start_time": "2020-08-31T14:48:03.382406Z"
    }
   },
   "outputs": [],
   "source": [
    "df['neg'] = df['Sentence'].apply(lambda x: sentiment_scores(x)['neg'])"
   ]
  },
  {
   "cell_type": "code",
   "execution_count": 13,
   "metadata": {
    "ExecuteTime": {
     "end_time": "2020-08-31T14:48:09.579406Z",
     "start_time": "2020-08-31T14:48:06.578405Z"
    }
   },
   "outputs": [],
   "source": [
    "df['neu'] = df['Sentence'].apply(lambda x: sentiment_scores(x)['neu'])"
   ]
  },
  {
   "cell_type": "code",
   "execution_count": 14,
   "metadata": {
    "ExecuteTime": {
     "end_time": "2020-08-31T14:48:12.514407Z",
     "start_time": "2020-08-31T14:48:09.580406Z"
    }
   },
   "outputs": [],
   "source": [
    "df['compound'] = df['Sentence'].apply(lambda x: sentiment_scores(x)['compound'])"
   ]
  },
  {
   "cell_type": "code",
   "execution_count": 15,
   "metadata": {
    "ExecuteTime": {
     "end_time": "2020-08-31T14:48:12.533407Z",
     "start_time": "2020-08-31T14:48:12.515406Z"
    }
   },
   "outputs": [
    {
     "data": {
      "text/html": [
       "<div>\n",
       "<style scoped>\n",
       "    .dataframe tbody tr th:only-of-type {\n",
       "        vertical-align: middle;\n",
       "    }\n",
       "\n",
       "    .dataframe tbody tr th {\n",
       "        vertical-align: top;\n",
       "    }\n",
       "\n",
       "    .dataframe thead th {\n",
       "        text-align: right;\n",
       "    }\n",
       "</style>\n",
       "<table border=\"1\" class=\"dataframe\">\n",
       "  <thead>\n",
       "    <tr style=\"text-align: right;\">\n",
       "      <th></th>\n",
       "      <th>Release Date</th>\n",
       "      <th>Season</th>\n",
       "      <th>Episode</th>\n",
       "      <th>Episode Title</th>\n",
       "      <th>Sentence</th>\n",
       "      <th>Character</th>\n",
       "      <th>word_count</th>\n",
       "      <th>pos</th>\n",
       "      <th>neg</th>\n",
       "      <th>neu</th>\n",
       "      <th>compound</th>\n",
       "    </tr>\n",
       "  </thead>\n",
       "  <tbody>\n",
       "    <tr>\n",
       "      <th>0</th>\n",
       "      <td>2011-04-17</td>\n",
       "      <td>Season 1</td>\n",
       "      <td>Episode 1</td>\n",
       "      <td>Winter is Coming</td>\n",
       "      <td>What do you expect? They're savages. One lot s...</td>\n",
       "      <td>waymar royce</td>\n",
       "      <td>25</td>\n",
       "      <td>0.000</td>\n",
       "      <td>0.233</td>\n",
       "      <td>0.767</td>\n",
       "      <td>-0.7717</td>\n",
       "    </tr>\n",
       "    <tr>\n",
       "      <th>1</th>\n",
       "      <td>2011-04-17</td>\n",
       "      <td>Season 1</td>\n",
       "      <td>Episode 1</td>\n",
       "      <td>Winter is Coming</td>\n",
       "      <td>I've never seen wildlings do a thing like this...</td>\n",
       "      <td>will</td>\n",
       "      <td>21</td>\n",
       "      <td>0.227</td>\n",
       "      <td>0.000</td>\n",
       "      <td>0.773</td>\n",
       "      <td>0.6124</td>\n",
       "    </tr>\n",
       "    <tr>\n",
       "      <th>2</th>\n",
       "      <td>2011-04-17</td>\n",
       "      <td>Season 1</td>\n",
       "      <td>Episode 1</td>\n",
       "      <td>Winter is Coming</td>\n",
       "      <td>How close did you get?</td>\n",
       "      <td>waymar royce</td>\n",
       "      <td>5</td>\n",
       "      <td>0.000</td>\n",
       "      <td>0.000</td>\n",
       "      <td>1.000</td>\n",
       "      <td>0.0000</td>\n",
       "    </tr>\n",
       "    <tr>\n",
       "      <th>3</th>\n",
       "      <td>2011-04-17</td>\n",
       "      <td>Season 1</td>\n",
       "      <td>Episode 1</td>\n",
       "      <td>Winter is Coming</td>\n",
       "      <td>Close as any man would.</td>\n",
       "      <td>will</td>\n",
       "      <td>5</td>\n",
       "      <td>0.000</td>\n",
       "      <td>0.000</td>\n",
       "      <td>1.000</td>\n",
       "      <td>0.0000</td>\n",
       "    </tr>\n",
       "    <tr>\n",
       "      <th>4</th>\n",
       "      <td>2011-04-17</td>\n",
       "      <td>Season 1</td>\n",
       "      <td>Episode 1</td>\n",
       "      <td>Winter is Coming</td>\n",
       "      <td>We should head back to the wall.</td>\n",
       "      <td>gared</td>\n",
       "      <td>7</td>\n",
       "      <td>0.000</td>\n",
       "      <td>0.000</td>\n",
       "      <td>1.000</td>\n",
       "      <td>0.0000</td>\n",
       "    </tr>\n",
       "  </tbody>\n",
       "</table>\n",
       "</div>"
      ],
      "text/plain": [
       "  Release Date    Season    Episode     Episode Title  \\\n",
       "0   2011-04-17  Season 1  Episode 1  Winter is Coming   \n",
       "1   2011-04-17  Season 1  Episode 1  Winter is Coming   \n",
       "2   2011-04-17  Season 1  Episode 1  Winter is Coming   \n",
       "3   2011-04-17  Season 1  Episode 1  Winter is Coming   \n",
       "4   2011-04-17  Season 1  Episode 1  Winter is Coming   \n",
       "\n",
       "                                            Sentence     Character  \\\n",
       "0  What do you expect? They're savages. One lot s...  waymar royce   \n",
       "1  I've never seen wildlings do a thing like this...          will   \n",
       "2                             How close did you get?  waymar royce   \n",
       "3                            Close as any man would.          will   \n",
       "4                   We should head back to the wall.         gared   \n",
       "\n",
       "   word_count    pos    neg    neu  compound  \n",
       "0          25  0.000  0.233  0.767   -0.7717  \n",
       "1          21  0.227  0.000  0.773    0.6124  \n",
       "2           5  0.000  0.000  1.000    0.0000  \n",
       "3           5  0.000  0.000  1.000    0.0000  \n",
       "4           7  0.000  0.000  1.000    0.0000  "
      ]
     },
     "execution_count": 15,
     "metadata": {},
     "output_type": "execute_result"
    }
   ],
   "source": [
    "df.head()"
   ]
  },
  {
   "cell_type": "code",
   "execution_count": 16,
   "metadata": {
    "ExecuteTime": {
     "end_time": "2020-08-31T14:48:12.563409Z",
     "start_time": "2020-08-31T14:48:12.535408Z"
    }
   },
   "outputs": [],
   "source": [
    "#Here we'll focus only on characters that had more than 300 total lines throughout the series to better gauge their sentiment\n",
    "name_filter = list((df['Character'].loc[df['Character'] != 'man'].value_counts().reset_index(name='count').query('count > 300'))['index'])"
   ]
  },
  {
   "cell_type": "code",
   "execution_count": 17,
   "metadata": {
    "ExecuteTime": {
     "end_time": "2020-08-31T14:48:12.568407Z",
     "start_time": "2020-08-31T14:48:12.565408Z"
    }
   },
   "outputs": [
    {
     "data": {
      "text/plain": [
       "['tyrion lannister',\n",
       " 'jon snow',\n",
       " 'daenerys targaryen',\n",
       " 'cersei lannister',\n",
       " 'jaime lannister',\n",
       " 'sansa stark',\n",
       " 'arya stark',\n",
       " 'sam tarly',\n",
       " 'davos',\n",
       " 'petyr baelish',\n",
       " 'theon greyjoy',\n",
       " 'bran stark',\n",
       " 'bronn',\n",
       " 'varys',\n",
       " 'jorah mormont',\n",
       " 'tywin lannister',\n",
       " 'brienne',\n",
       " 'sandor clegane',\n",
       " 'eddard stark',\n",
       " 'robb stark']"
      ]
     },
     "execution_count": 17,
     "metadata": {},
     "output_type": "execute_result"
    }
   ],
   "source": [
    "name_filter"
   ]
  },
  {
   "cell_type": "code",
   "execution_count": 18,
   "metadata": {
    "ExecuteTime": {
     "end_time": "2020-08-31T14:48:12.591407Z",
     "start_time": "2020-08-31T14:48:12.570408Z"
    }
   },
   "outputs": [
    {
     "data": {
      "text/html": [
       "<div>\n",
       "<style scoped>\n",
       "    .dataframe tbody tr th:only-of-type {\n",
       "        vertical-align: middle;\n",
       "    }\n",
       "\n",
       "    .dataframe tbody tr th {\n",
       "        vertical-align: top;\n",
       "    }\n",
       "\n",
       "    .dataframe thead th {\n",
       "        text-align: right;\n",
       "    }\n",
       "</style>\n",
       "<table border=\"1\" class=\"dataframe\">\n",
       "  <thead>\n",
       "    <tr style=\"text-align: right;\">\n",
       "      <th></th>\n",
       "      <th>Release Date</th>\n",
       "      <th>Season</th>\n",
       "      <th>Episode</th>\n",
       "      <th>Episode Title</th>\n",
       "      <th>Sentence</th>\n",
       "      <th>Character</th>\n",
       "      <th>word_count</th>\n",
       "      <th>pos</th>\n",
       "      <th>neg</th>\n",
       "      <th>neu</th>\n",
       "      <th>compound</th>\n",
       "    </tr>\n",
       "  </thead>\n",
       "  <tbody>\n",
       "    <tr>\n",
       "      <th>15</th>\n",
       "      <td>2011-04-17</td>\n",
       "      <td>Season 1</td>\n",
       "      <td>Episode 1</td>\n",
       "      <td>Winter is Coming</td>\n",
       "      <td>Go on. Father's watching.</td>\n",
       "      <td>jon snow</td>\n",
       "      <td>4</td>\n",
       "      <td>0.000</td>\n",
       "      <td>0.000</td>\n",
       "      <td>1.000</td>\n",
       "      <td>0.0000</td>\n",
       "    </tr>\n",
       "    <tr>\n",
       "      <th>16</th>\n",
       "      <td>2011-04-17</td>\n",
       "      <td>Season 1</td>\n",
       "      <td>Episode 1</td>\n",
       "      <td>Winter is Coming</td>\n",
       "      <td>And your mother.</td>\n",
       "      <td>jon snow</td>\n",
       "      <td>3</td>\n",
       "      <td>0.000</td>\n",
       "      <td>0.000</td>\n",
       "      <td>1.000</td>\n",
       "      <td>0.0000</td>\n",
       "    </tr>\n",
       "    <tr>\n",
       "      <th>18</th>\n",
       "      <td>2011-04-17</td>\n",
       "      <td>Season 1</td>\n",
       "      <td>Episode 1</td>\n",
       "      <td>Winter is Coming</td>\n",
       "      <td>Thank you.</td>\n",
       "      <td>sansa stark</td>\n",
       "      <td>2</td>\n",
       "      <td>0.714</td>\n",
       "      <td>0.000</td>\n",
       "      <td>0.286</td>\n",
       "      <td>0.3612</td>\n",
       "    </tr>\n",
       "    <tr>\n",
       "      <th>20</th>\n",
       "      <td>2011-04-17</td>\n",
       "      <td>Season 1</td>\n",
       "      <td>Episode 1</td>\n",
       "      <td>Winter is Coming</td>\n",
       "      <td>And which one of you was a marksman at ten? Ke...</td>\n",
       "      <td>eddard stark</td>\n",
       "      <td>15</td>\n",
       "      <td>0.000</td>\n",
       "      <td>0.000</td>\n",
       "      <td>1.000</td>\n",
       "      <td>0.0000</td>\n",
       "    </tr>\n",
       "    <tr>\n",
       "      <th>21</th>\n",
       "      <td>2011-04-17</td>\n",
       "      <td>Season 1</td>\n",
       "      <td>Episode 1</td>\n",
       "      <td>Winter is Coming</td>\n",
       "      <td>Don't think too much, Bran.</td>\n",
       "      <td>jon snow</td>\n",
       "      <td>5</td>\n",
       "      <td>0.000</td>\n",
       "      <td>0.000</td>\n",
       "      <td>1.000</td>\n",
       "      <td>0.0000</td>\n",
       "    </tr>\n",
       "    <tr>\n",
       "      <th>...</th>\n",
       "      <td>...</td>\n",
       "      <td>...</td>\n",
       "      <td>...</td>\n",
       "      <td>...</td>\n",
       "      <td>...</td>\n",
       "      <td>...</td>\n",
       "      <td>...</td>\n",
       "      <td>...</td>\n",
       "      <td>...</td>\n",
       "      <td>...</td>\n",
       "      <td>...</td>\n",
       "    </tr>\n",
       "    <tr>\n",
       "      <th>23901</th>\n",
       "      <td>2019-05-19</td>\n",
       "      <td>Season 8</td>\n",
       "      <td>Episode 6</td>\n",
       "      <td>The Iron Throne</td>\n",
       "      <td>Uh... the Archmaester is less than enthusiasti...</td>\n",
       "      <td>sam tarly</td>\n",
       "      <td>13</td>\n",
       "      <td>0.196</td>\n",
       "      <td>0.000</td>\n",
       "      <td>0.804</td>\n",
       "      <td>0.4445</td>\n",
       "    </tr>\n",
       "    <tr>\n",
       "      <th>23902</th>\n",
       "      <td>2019-05-19</td>\n",
       "      <td>Season 8</td>\n",
       "      <td>Episode 6</td>\n",
       "      <td>The Iron Throne</td>\n",
       "      <td>Well, I imagine he isn't using them properly.</td>\n",
       "      <td>bronn</td>\n",
       "      <td>8</td>\n",
       "      <td>0.259</td>\n",
       "      <td>0.000</td>\n",
       "      <td>0.741</td>\n",
       "      <td>0.2732</td>\n",
       "    </tr>\n",
       "    <tr>\n",
       "      <th>23903</th>\n",
       "      <td>2019-05-19</td>\n",
       "      <td>Season 8</td>\n",
       "      <td>Episode 6</td>\n",
       "      <td>The Iron Throne</td>\n",
       "      <td>I think we can all agree that ships take prece...</td>\n",
       "      <td>brienne</td>\n",
       "      <td>12</td>\n",
       "      <td>0.200</td>\n",
       "      <td>0.000</td>\n",
       "      <td>0.800</td>\n",
       "      <td>0.3612</td>\n",
       "    </tr>\n",
       "    <tr>\n",
       "      <th>23904</th>\n",
       "      <td>2019-05-19</td>\n",
       "      <td>Season 8</td>\n",
       "      <td>Episode 6</td>\n",
       "      <td>The Iron Throne</td>\n",
       "      <td>I think that's a very presumptuous statement.</td>\n",
       "      <td>bronn</td>\n",
       "      <td>7</td>\n",
       "      <td>0.000</td>\n",
       "      <td>0.000</td>\n",
       "      <td>1.000</td>\n",
       "      <td>0.0000</td>\n",
       "    </tr>\n",
       "    <tr>\n",
       "      <th>23905</th>\n",
       "      <td>2019-05-19</td>\n",
       "      <td>Season 8</td>\n",
       "      <td>Episode 6</td>\n",
       "      <td>The Iron Throne</td>\n",
       "      <td>I once brought a jackass and a honeycomb into ...</td>\n",
       "      <td>tyrion lannister</td>\n",
       "      <td>11</td>\n",
       "      <td>0.000</td>\n",
       "      <td>0.318</td>\n",
       "      <td>0.682</td>\n",
       "      <td>-0.4215</td>\n",
       "    </tr>\n",
       "  </tbody>\n",
       "</table>\n",
       "<p>12814 rows × 11 columns</p>\n",
       "</div>"
      ],
      "text/plain": [
       "      Release Date    Season    Episode     Episode Title  \\\n",
       "15      2011-04-17  Season 1  Episode 1  Winter is Coming   \n",
       "16      2011-04-17  Season 1  Episode 1  Winter is Coming   \n",
       "18      2011-04-17  Season 1  Episode 1  Winter is Coming   \n",
       "20      2011-04-17  Season 1  Episode 1  Winter is Coming   \n",
       "21      2011-04-17  Season 1  Episode 1  Winter is Coming   \n",
       "...            ...       ...        ...               ...   \n",
       "23901   2019-05-19  Season 8  Episode 6   The Iron Throne   \n",
       "23902   2019-05-19  Season 8  Episode 6   The Iron Throne   \n",
       "23903   2019-05-19  Season 8  Episode 6   The Iron Throne   \n",
       "23904   2019-05-19  Season 8  Episode 6   The Iron Throne   \n",
       "23905   2019-05-19  Season 8  Episode 6   The Iron Throne   \n",
       "\n",
       "                                                Sentence         Character  \\\n",
       "15                             Go on. Father's watching.          jon snow   \n",
       "16                                      And your mother.          jon snow   \n",
       "18                                            Thank you.       sansa stark   \n",
       "20     And which one of you was a marksman at ten? Ke...      eddard stark   \n",
       "21                           Don't think too much, Bran.          jon snow   \n",
       "...                                                  ...               ...   \n",
       "23901  Uh... the Archmaester is less than enthusiasti...         sam tarly   \n",
       "23902      Well, I imagine he isn't using them properly.             bronn   \n",
       "23903  I think we can all agree that ships take prece...           brienne   \n",
       "23904      I think that's a very presumptuous statement.             bronn   \n",
       "23905  I once brought a jackass and a honeycomb into ...  tyrion lannister   \n",
       "\n",
       "       word_count    pos    neg    neu  compound  \n",
       "15              4  0.000  0.000  1.000    0.0000  \n",
       "16              3  0.000  0.000  1.000    0.0000  \n",
       "18              2  0.714  0.000  0.286    0.3612  \n",
       "20             15  0.000  0.000  1.000    0.0000  \n",
       "21              5  0.000  0.000  1.000    0.0000  \n",
       "...           ...    ...    ...    ...       ...  \n",
       "23901          13  0.196  0.000  0.804    0.4445  \n",
       "23902           8  0.259  0.000  0.741    0.2732  \n",
       "23903          12  0.200  0.000  0.800    0.3612  \n",
       "23904           7  0.000  0.000  1.000    0.0000  \n",
       "23905          11  0.000  0.318  0.682   -0.4215  \n",
       "\n",
       "[12814 rows x 11 columns]"
      ]
     },
     "execution_count": 18,
     "metadata": {},
     "output_type": "execute_result"
    }
   ],
   "source": [
    "sentiment_df = df[df['Character'].isin(name_filter)]\n",
    "sentiment_df"
   ]
  },
  {
   "cell_type": "code",
   "execution_count": 19,
   "metadata": {
    "ExecuteTime": {
     "end_time": "2020-08-31T14:48:12.609411Z",
     "start_time": "2020-08-31T14:48:12.592407Z"
    }
   },
   "outputs": [
    {
     "data": {
      "text/html": [
       "<div>\n",
       "<style scoped>\n",
       "    .dataframe tbody tr th:only-of-type {\n",
       "        vertical-align: middle;\n",
       "    }\n",
       "\n",
       "    .dataframe tbody tr th {\n",
       "        vertical-align: top;\n",
       "    }\n",
       "\n",
       "    .dataframe thead th {\n",
       "        text-align: right;\n",
       "    }\n",
       "</style>\n",
       "<table border=\"1\" class=\"dataframe\">\n",
       "  <thead>\n",
       "    <tr style=\"text-align: right;\">\n",
       "      <th></th>\n",
       "      <th>word_count</th>\n",
       "      <th>pos</th>\n",
       "      <th>neg</th>\n",
       "      <th>compound</th>\n",
       "    </tr>\n",
       "    <tr>\n",
       "      <th>Character</th>\n",
       "      <th></th>\n",
       "      <th></th>\n",
       "      <th></th>\n",
       "      <th></th>\n",
       "    </tr>\n",
       "  </thead>\n",
       "  <tbody>\n",
       "    <tr>\n",
       "      <th>arya stark</th>\n",
       "      <td>6445</td>\n",
       "      <td>62.491</td>\n",
       "      <td>85.158</td>\n",
       "      <td>-34.1475</td>\n",
       "    </tr>\n",
       "    <tr>\n",
       "      <th>bran stark</th>\n",
       "      <td>3275</td>\n",
       "      <td>35.376</td>\n",
       "      <td>41.930</td>\n",
       "      <td>-8.8040</td>\n",
       "    </tr>\n",
       "    <tr>\n",
       "      <th>brienne</th>\n",
       "      <td>3921</td>\n",
       "      <td>38.379</td>\n",
       "      <td>34.330</td>\n",
       "      <td>8.6103</td>\n",
       "    </tr>\n",
       "    <tr>\n",
       "      <th>bronn</th>\n",
       "      <td>4352</td>\n",
       "      <td>42.871</td>\n",
       "      <td>37.920</td>\n",
       "      <td>3.3993</td>\n",
       "    </tr>\n",
       "    <tr>\n",
       "      <th>cersei lannister</th>\n",
       "      <td>14440</td>\n",
       "      <td>114.816</td>\n",
       "      <td>104.509</td>\n",
       "      <td>12.1340</td>\n",
       "    </tr>\n",
       "    <tr>\n",
       "      <th>daenerys targaryen</th>\n",
       "      <td>12358</td>\n",
       "      <td>108.743</td>\n",
       "      <td>97.493</td>\n",
       "      <td>20.6493</td>\n",
       "    </tr>\n",
       "    <tr>\n",
       "      <th>davos</th>\n",
       "      <td>6838</td>\n",
       "      <td>68.242</td>\n",
       "      <td>40.307</td>\n",
       "      <td>27.1433</td>\n",
       "    </tr>\n",
       "    <tr>\n",
       "      <th>eddard stark</th>\n",
       "      <td>3326</td>\n",
       "      <td>38.243</td>\n",
       "      <td>30.038</td>\n",
       "      <td>9.8317</td>\n",
       "    </tr>\n",
       "    <tr>\n",
       "      <th>jaime lannister</th>\n",
       "      <td>11753</td>\n",
       "      <td>102.047</td>\n",
       "      <td>94.226</td>\n",
       "      <td>-4.7662</td>\n",
       "    </tr>\n",
       "    <tr>\n",
       "      <th>jon snow</th>\n",
       "      <td>12288</td>\n",
       "      <td>106.888</td>\n",
       "      <td>113.746</td>\n",
       "      <td>-10.8707</td>\n",
       "    </tr>\n",
       "    <tr>\n",
       "      <th>jorah mormont</th>\n",
       "      <td>4275</td>\n",
       "      <td>33.763</td>\n",
       "      <td>29.812</td>\n",
       "      <td>4.0863</td>\n",
       "    </tr>\n",
       "    <tr>\n",
       "      <th>petyr baelish</th>\n",
       "      <td>7724</td>\n",
       "      <td>66.627</td>\n",
       "      <td>42.842</td>\n",
       "      <td>40.2632</td>\n",
       "    </tr>\n",
       "    <tr>\n",
       "      <th>robb stark</th>\n",
       "      <td>3628</td>\n",
       "      <td>30.501</td>\n",
       "      <td>33.289</td>\n",
       "      <td>-5.3028</td>\n",
       "    </tr>\n",
       "    <tr>\n",
       "      <th>sam tarly</th>\n",
       "      <td>6499</td>\n",
       "      <td>64.715</td>\n",
       "      <td>51.089</td>\n",
       "      <td>14.7414</td>\n",
       "    </tr>\n",
       "    <tr>\n",
       "      <th>sandor clegane</th>\n",
       "      <td>3908</td>\n",
       "      <td>31.147</td>\n",
       "      <td>57.356</td>\n",
       "      <td>-36.1761</td>\n",
       "    </tr>\n",
       "    <tr>\n",
       "      <th>sansa stark</th>\n",
       "      <td>8141</td>\n",
       "      <td>100.309</td>\n",
       "      <td>89.127</td>\n",
       "      <td>10.0103</td>\n",
       "    </tr>\n",
       "    <tr>\n",
       "      <th>theon greyjoy</th>\n",
       "      <td>5050</td>\n",
       "      <td>43.144</td>\n",
       "      <td>55.262</td>\n",
       "      <td>-19.0372</td>\n",
       "    </tr>\n",
       "    <tr>\n",
       "      <th>tyrion lannister</th>\n",
       "      <td>25993</td>\n",
       "      <td>228.666</td>\n",
       "      <td>183.209</td>\n",
       "      <td>54.1675</td>\n",
       "    </tr>\n",
       "    <tr>\n",
       "      <th>tywin lannister</th>\n",
       "      <td>5507</td>\n",
       "      <td>39.989</td>\n",
       "      <td>38.953</td>\n",
       "      <td>0.0231</td>\n",
       "    </tr>\n",
       "    <tr>\n",
       "      <th>varys</th>\n",
       "      <td>6501</td>\n",
       "      <td>49.792</td>\n",
       "      <td>36.711</td>\n",
       "      <td>30.8300</td>\n",
       "    </tr>\n",
       "  </tbody>\n",
       "</table>\n",
       "</div>"
      ],
      "text/plain": [
       "                    word_count      pos      neg  compound\n",
       "Character                                                 \n",
       "arya stark                6445   62.491   85.158  -34.1475\n",
       "bran stark                3275   35.376   41.930   -8.8040\n",
       "brienne                   3921   38.379   34.330    8.6103\n",
       "bronn                     4352   42.871   37.920    3.3993\n",
       "cersei lannister         14440  114.816  104.509   12.1340\n",
       "daenerys targaryen       12358  108.743   97.493   20.6493\n",
       "davos                     6838   68.242   40.307   27.1433\n",
       "eddard stark              3326   38.243   30.038    9.8317\n",
       "jaime lannister          11753  102.047   94.226   -4.7662\n",
       "jon snow                 12288  106.888  113.746  -10.8707\n",
       "jorah mormont             4275   33.763   29.812    4.0863\n",
       "petyr baelish             7724   66.627   42.842   40.2632\n",
       "robb stark                3628   30.501   33.289   -5.3028\n",
       "sam tarly                 6499   64.715   51.089   14.7414\n",
       "sandor clegane            3908   31.147   57.356  -36.1761\n",
       "sansa stark               8141  100.309   89.127   10.0103\n",
       "theon greyjoy             5050   43.144   55.262  -19.0372\n",
       "tyrion lannister         25993  228.666  183.209   54.1675\n",
       "tywin lannister           5507   39.989   38.953    0.0231\n",
       "varys                     6501   49.792   36.711   30.8300"
      ]
     },
     "execution_count": 19,
     "metadata": {},
     "output_type": "execute_result"
    }
   ],
   "source": [
    "sentiment_df.drop('neu', axis = 1).groupby('Character').sum()"
   ]
  },
  {
   "cell_type": "code",
   "execution_count": 20,
   "metadata": {
    "ExecuteTime": {
     "end_time": "2020-08-31T14:48:12.626408Z",
     "start_time": "2020-08-31T14:48:12.611407Z"
    }
   },
   "outputs": [
    {
     "data": {
      "text/html": [
       "<div>\n",
       "<style scoped>\n",
       "    .dataframe tbody tr th:only-of-type {\n",
       "        vertical-align: middle;\n",
       "    }\n",
       "\n",
       "    .dataframe tbody tr th {\n",
       "        vertical-align: top;\n",
       "    }\n",
       "\n",
       "    .dataframe thead th {\n",
       "        text-align: right;\n",
       "    }\n",
       "</style>\n",
       "<table border=\"1\" class=\"dataframe\">\n",
       "  <thead>\n",
       "    <tr style=\"text-align: right;\">\n",
       "      <th></th>\n",
       "      <th>word_count</th>\n",
       "      <th>pos</th>\n",
       "      <th>neg</th>\n",
       "      <th>compound</th>\n",
       "    </tr>\n",
       "    <tr>\n",
       "      <th>Character</th>\n",
       "      <th></th>\n",
       "      <th></th>\n",
       "      <th></th>\n",
       "      <th></th>\n",
       "    </tr>\n",
       "  </thead>\n",
       "  <tbody>\n",
       "    <tr>\n",
       "      <th>arya stark</th>\n",
       "      <td>8.231162</td>\n",
       "      <td>0.079810</td>\n",
       "      <td>0.108759</td>\n",
       "      <td>-0.043611</td>\n",
       "    </tr>\n",
       "    <tr>\n",
       "      <th>bran stark</th>\n",
       "      <td>8.208020</td>\n",
       "      <td>0.088662</td>\n",
       "      <td>0.105088</td>\n",
       "      <td>-0.022065</td>\n",
       "    </tr>\n",
       "    <tr>\n",
       "      <th>brienne</th>\n",
       "      <td>10.597297</td>\n",
       "      <td>0.103727</td>\n",
       "      <td>0.092784</td>\n",
       "      <td>0.023271</td>\n",
       "    </tr>\n",
       "    <tr>\n",
       "      <th>bronn</th>\n",
       "      <td>11.073791</td>\n",
       "      <td>0.109087</td>\n",
       "      <td>0.096489</td>\n",
       "      <td>0.008650</td>\n",
       "    </tr>\n",
       "    <tr>\n",
       "      <th>cersei lannister</th>\n",
       "      <td>14.368159</td>\n",
       "      <td>0.114245</td>\n",
       "      <td>0.103989</td>\n",
       "      <td>0.012074</td>\n",
       "    </tr>\n",
       "    <tr>\n",
       "      <th>daenerys targaryen</th>\n",
       "      <td>11.780744</td>\n",
       "      <td>0.103663</td>\n",
       "      <td>0.092939</td>\n",
       "      <td>0.019685</td>\n",
       "    </tr>\n",
       "    <tr>\n",
       "      <th>davos</th>\n",
       "      <td>12.950758</td>\n",
       "      <td>0.129246</td>\n",
       "      <td>0.076339</td>\n",
       "      <td>0.051408</td>\n",
       "    </tr>\n",
       "    <tr>\n",
       "      <th>eddard stark</th>\n",
       "      <td>9.530086</td>\n",
       "      <td>0.109579</td>\n",
       "      <td>0.086069</td>\n",
       "      <td>0.028171</td>\n",
       "    </tr>\n",
       "    <tr>\n",
       "      <th>jaime lannister</th>\n",
       "      <td>12.437037</td>\n",
       "      <td>0.107986</td>\n",
       "      <td>0.099710</td>\n",
       "      <td>-0.005044</td>\n",
       "    </tr>\n",
       "    <tr>\n",
       "      <th>jon snow</th>\n",
       "      <td>10.845543</td>\n",
       "      <td>0.094341</td>\n",
       "      <td>0.100394</td>\n",
       "      <td>-0.009595</td>\n",
       "    </tr>\n",
       "    <tr>\n",
       "      <th>jorah mormont</th>\n",
       "      <td>11.220472</td>\n",
       "      <td>0.088617</td>\n",
       "      <td>0.078247</td>\n",
       "      <td>0.010725</td>\n",
       "    </tr>\n",
       "    <tr>\n",
       "      <th>petyr baelish</th>\n",
       "      <td>15.991718</td>\n",
       "      <td>0.137944</td>\n",
       "      <td>0.088700</td>\n",
       "      <td>0.083361</td>\n",
       "    </tr>\n",
       "    <tr>\n",
       "      <th>robb stark</th>\n",
       "      <td>11.856209</td>\n",
       "      <td>0.099676</td>\n",
       "      <td>0.108788</td>\n",
       "      <td>-0.017329</td>\n",
       "    </tr>\n",
       "    <tr>\n",
       "      <th>sam tarly</th>\n",
       "      <td>11.688849</td>\n",
       "      <td>0.116394</td>\n",
       "      <td>0.091887</td>\n",
       "      <td>0.026513</td>\n",
       "    </tr>\n",
       "    <tr>\n",
       "      <th>sandor clegane</th>\n",
       "      <td>10.619565</td>\n",
       "      <td>0.084639</td>\n",
       "      <td>0.155859</td>\n",
       "      <td>-0.098305</td>\n",
       "    </tr>\n",
       "    <tr>\n",
       "      <th>sansa stark</th>\n",
       "      <td>10.383929</td>\n",
       "      <td>0.127945</td>\n",
       "      <td>0.113682</td>\n",
       "      <td>0.012768</td>\n",
       "    </tr>\n",
       "    <tr>\n",
       "      <th>theon greyjoy</th>\n",
       "      <td>11.098901</td>\n",
       "      <td>0.094822</td>\n",
       "      <td>0.121455</td>\n",
       "      <td>-0.041840</td>\n",
       "    </tr>\n",
       "    <tr>\n",
       "      <th>tyrion lannister</th>\n",
       "      <td>14.768750</td>\n",
       "      <td>0.129924</td>\n",
       "      <td>0.104096</td>\n",
       "      <td>0.030777</td>\n",
       "    </tr>\n",
       "    <tr>\n",
       "      <th>tywin lannister</th>\n",
       "      <td>14.454068</td>\n",
       "      <td>0.104958</td>\n",
       "      <td>0.102239</td>\n",
       "      <td>0.000061</td>\n",
       "    </tr>\n",
       "    <tr>\n",
       "      <th>varys</th>\n",
       "      <td>16.841969</td>\n",
       "      <td>0.128995</td>\n",
       "      <td>0.095106</td>\n",
       "      <td>0.079870</td>\n",
       "    </tr>\n",
       "  </tbody>\n",
       "</table>\n",
       "</div>"
      ],
      "text/plain": [
       "                    word_count       pos       neg  compound\n",
       "Character                                                   \n",
       "arya stark            8.231162  0.079810  0.108759 -0.043611\n",
       "bran stark            8.208020  0.088662  0.105088 -0.022065\n",
       "brienne              10.597297  0.103727  0.092784  0.023271\n",
       "bronn                11.073791  0.109087  0.096489  0.008650\n",
       "cersei lannister     14.368159  0.114245  0.103989  0.012074\n",
       "daenerys targaryen   11.780744  0.103663  0.092939  0.019685\n",
       "davos                12.950758  0.129246  0.076339  0.051408\n",
       "eddard stark          9.530086  0.109579  0.086069  0.028171\n",
       "jaime lannister      12.437037  0.107986  0.099710 -0.005044\n",
       "jon snow             10.845543  0.094341  0.100394 -0.009595\n",
       "jorah mormont        11.220472  0.088617  0.078247  0.010725\n",
       "petyr baelish        15.991718  0.137944  0.088700  0.083361\n",
       "robb stark           11.856209  0.099676  0.108788 -0.017329\n",
       "sam tarly            11.688849  0.116394  0.091887  0.026513\n",
       "sandor clegane       10.619565  0.084639  0.155859 -0.098305\n",
       "sansa stark          10.383929  0.127945  0.113682  0.012768\n",
       "theon greyjoy        11.098901  0.094822  0.121455 -0.041840\n",
       "tyrion lannister     14.768750  0.129924  0.104096  0.030777\n",
       "tywin lannister      14.454068  0.104958  0.102239  0.000061\n",
       "varys                16.841969  0.128995  0.095106  0.079870"
      ]
     },
     "execution_count": 20,
     "metadata": {},
     "output_type": "execute_result"
    }
   ],
   "source": [
    "sentiment_df.drop('neu', axis = 1).groupby('Character').mean()"
   ]
  },
  {
   "cell_type": "markdown",
   "metadata": {},
   "source": [
    "We see a few interesting things in terms of our character sentiment. Looking at our sums (which we must account for the imbalance in character lines and words) we see Tyrion totaling as the most positive character overall from his compound scores, with Sandor and Arya being the most negative.\n",
    "\n",
    "Looking at our averages shows us a bit more. In terms of word count, it seems that when they speak, Varys has the most to say most of the time while also coming in second behind Petyr Baelish as typically having more positive dialogue. It would also seem that Sandor Clegane appears to be the most negative speaker. \n",
    "\n",
    "What's also interesting is that with both the sum and the mean of our compound scores, it seems that Tywin Lannister is almost a perfectly neutral character. "
   ]
  },
  {
   "cell_type": "code",
   "execution_count": 21,
   "metadata": {
    "ExecuteTime": {
     "end_time": "2020-08-31T14:48:12.637407Z",
     "start_time": "2020-08-31T14:48:12.627406Z"
    }
   },
   "outputs": [
    {
     "name": "stdout",
     "output_type": "stream",
     "text": [
      "<class 'pandas.core.frame.DataFrame'>\n",
      "RangeIndex: 12814 entries, 0 to 12813\n",
      "Data columns (total 4 columns):\n",
      " #   Column     Non-Null Count  Dtype  \n",
      "---  ------     --------------  -----  \n",
      " 0   index      12814 non-null  int64  \n",
      " 1   Season     12814 non-null  object \n",
      " 2   Character  12814 non-null  object \n",
      " 3   compound   12814 non-null  float64\n",
      "dtypes: float64(1), int64(1), object(2)\n",
      "memory usage: 400.6+ KB\n"
     ]
    }
   ],
   "source": [
    "heat = sentiment_df[['Season', 'Character', 'compound']].reset_index()\n",
    "# heat.reset_index().drop('index', inplace = True, axis = 1)\n",
    "heat.info()\n",
    "# heat = heat.pivot('Season', 'Character', 'compound')\n",
    "# ax = sns.heatmap(heat)"
   ]
  },
  {
   "cell_type": "code",
   "execution_count": 22,
   "metadata": {
    "ExecuteTime": {
     "end_time": "2020-08-31T14:48:12.647406Z",
     "start_time": "2020-08-31T14:48:12.639407Z"
    }
   },
   "outputs": [],
   "source": [
    "heat['Character'] = heat['Character'].astype('category')\n",
    "heat['Season'] = heat['Season'].astype('category')"
   ]
  },
  {
   "cell_type": "code",
   "execution_count": 23,
   "metadata": {
    "ExecuteTime": {
     "end_time": "2020-08-31T14:48:12.657406Z",
     "start_time": "2020-08-31T14:48:12.650407Z"
    }
   },
   "outputs": [
    {
     "name": "stdout",
     "output_type": "stream",
     "text": [
      "<class 'pandas.core.frame.DataFrame'>\n",
      "RangeIndex: 12814 entries, 0 to 12813\n",
      "Data columns (total 4 columns):\n",
      " #   Column     Non-Null Count  Dtype   \n",
      "---  ------     --------------  -----   \n",
      " 0   index      12814 non-null  int64   \n",
      " 1   Season     12814 non-null  category\n",
      " 2   Character  12814 non-null  category\n",
      " 3   compound   12814 non-null  float64 \n",
      "dtypes: category(2), float64(1), int64(1)\n",
      "memory usage: 226.5 KB\n"
     ]
    }
   ],
   "source": [
    "heat.info()"
   ]
  },
  {
   "cell_type": "code",
   "execution_count": 24,
   "metadata": {
    "ExecuteTime": {
     "end_time": "2020-08-31T14:48:12.664406Z",
     "start_time": "2020-08-31T14:48:12.659406Z"
    }
   },
   "outputs": [],
   "source": [
    "heat.drop('index', axis = 1, inplace=True)"
   ]
  },
  {
   "cell_type": "code",
   "execution_count": 25,
   "metadata": {
    "ExecuteTime": {
     "end_time": "2020-08-31T14:48:12.674406Z",
     "start_time": "2020-08-31T14:48:12.665406Z"
    }
   },
   "outputs": [
    {
     "data": {
      "text/plain": [
       "['Season 1',\n",
       " 'Season 2',\n",
       " 'Season 3',\n",
       " 'Season 4',\n",
       " 'Season 5',\n",
       " 'Season 6',\n",
       " 'Season 7',\n",
       " 'Season 8']"
      ]
     },
     "execution_count": 25,
     "metadata": {},
     "output_type": "execute_result"
    }
   ],
   "source": [
    "a = list(heat['Season'].unique())\n",
    "a"
   ]
  },
  {
   "cell_type": "code",
   "execution_count": 26,
   "metadata": {
    "ExecuteTime": {
     "end_time": "2020-08-31T14:48:12.681407Z",
     "start_time": "2020-08-31T14:48:12.676407Z"
    }
   },
   "outputs": [
    {
     "data": {
      "text/plain": [
       "{'arya stark',\n",
       " 'bran stark',\n",
       " 'brienne',\n",
       " 'bronn',\n",
       " 'cersei lannister',\n",
       " 'daenerys targaryen',\n",
       " 'davos',\n",
       " 'eddard stark',\n",
       " 'jaime lannister',\n",
       " 'jon snow',\n",
       " 'jorah mormont',\n",
       " 'petyr baelish',\n",
       " 'robb stark',\n",
       " 'sam tarly',\n",
       " 'sandor clegane',\n",
       " 'sansa stark',\n",
       " 'theon greyjoy',\n",
       " 'tyrion lannister',\n",
       " 'tywin lannister',\n",
       " 'varys'}"
      ]
     },
     "execution_count": 26,
     "metadata": {},
     "output_type": "execute_result"
    }
   ],
   "source": [
    "set(heat['Character'])"
   ]
  },
  {
   "cell_type": "code",
   "execution_count": 27,
   "metadata": {
    "ExecuteTime": {
     "end_time": "2020-08-31T14:48:12.695408Z",
     "start_time": "2020-08-31T14:48:12.683407Z"
    }
   },
   "outputs": [
    {
     "data": {
      "text/plain": [
       "compound    0.00865\n",
       "dtype: float64"
      ]
     },
     "execution_count": 27,
     "metadata": {},
     "output_type": "execute_result"
    }
   ],
   "source": [
    "heat[heat['Character'] == 'bronn'].mean()"
   ]
  },
  {
   "cell_type": "code",
   "execution_count": 28,
   "metadata": {
    "ExecuteTime": {
     "end_time": "2020-08-31T14:48:13.099406Z",
     "start_time": "2020-08-31T14:48:12.696406Z"
    }
   },
   "outputs": [],
   "source": [
    "maps = OrderedDict()\n",
    "for season in list(heat['Season'].unique()):\n",
    "    new_df = heat[heat['Season'] == season]\n",
    "    columns = list(new_df.Character.unique())\n",
    "    char_dict ={}\n",
    "    for char in columns:\n",
    "        value = new_df[new_df['Character'] == char].mean()[0]\n",
    "        char_dict[char] = value\n",
    "    maps[season] = char_dict\n",
    "#     maps[season] = values"
   ]
  },
  {
   "cell_type": "code",
   "execution_count": 29,
   "metadata": {
    "ExecuteTime": {
     "end_time": "2020-08-31T14:48:13.107406Z",
     "start_time": "2020-08-31T14:48:13.100408Z"
    }
   },
   "outputs": [
    {
     "data": {
      "text/plain": [
       "OrderedDict([('Season 1',\n",
       "              {'jon snow': 0.0020235294117647126,\n",
       "               'sansa stark': 0.016260606060606066,\n",
       "               'eddard stark': 0.03327596439169139,\n",
       "               'robb stark': 0.010075641025641017,\n",
       "               'bran stark': -0.039195161290322585,\n",
       "               'theon greyjoy': -0.05847714285714286,\n",
       "               'jaime lannister': -0.019425000000000008,\n",
       "               'cersei lannister': -0.00898803418803419,\n",
       "               'arya stark': -0.05359117647058823,\n",
       "               'tyrion lannister': 0.05438915094339622,\n",
       "               'daenerys targaryen': 0.03460157480314962,\n",
       "               'jorah mormont': 0.06485348837209304,\n",
       "               'sandor clegane': -0.12694615384615385,\n",
       "               'varys': 0.11131500000000001,\n",
       "               'petyr baelish': 0.06670000000000001,\n",
       "               'sam tarly': -0.05984615384615384,\n",
       "               'bronn': -0.04570000000000001,\n",
       "               'tywin lannister': -0.09054285714285715}),\n",
       "             ('Season 2',\n",
       "              {'sansa stark': 0.006672289156626513,\n",
       "               'sandor clegane': -0.11834545454545455,\n",
       "               'tyrion lannister': 0.016714121037463982,\n",
       "               'bronn': -0.028103448275862076,\n",
       "               'varys': 0.1334121621621622,\n",
       "               'petyr baelish': 0.13239240506329114,\n",
       "               'cersei lannister': 0.04495801104972377,\n",
       "               'bran stark': -0.08626296296296294,\n",
       "               'daenerys targaryen': -0.0054896296296296125,\n",
       "               'jorah mormont': -0.005073584905660382,\n",
       "               'jon snow': -0.08366288659793816,\n",
       "               'sam tarly': 0.06888235294117646,\n",
       "               'davos': 0.16376105263157897,\n",
       "               'jaime lannister': -0.004329166666666667,\n",
       "               'robb stark': 0.007863565891472865,\n",
       "               'theon greyjoy': 0.0007114285714285737,\n",
       "               'arya stark': -0.02915196850393699,\n",
       "               'brienne': -0.05683529411764706,\n",
       "               'tywin lannister': -0.003055434782608704}),\n",
       "             ('Season 3',\n",
       "              {'sam tarly': 0.04555294117647059,\n",
       "               'jon snow': -0.00896263736263737,\n",
       "               'bronn': -0.03375555555555556,\n",
       "               'tyrion lannister': 0.008543568464730282,\n",
       "               'cersei lannister': 0.12674512195121954,\n",
       "               'davos': -0.048803092783505156,\n",
       "               'robb stark': -0.07174848484848484,\n",
       "               'tywin lannister': 0.07677765957446811,\n",
       "               'sansa stark': 0.09006781609195405,\n",
       "               'petyr baelish': 0.17627441860465118,\n",
       "               'jorah mormont': -0.03194827586206896,\n",
       "               'daenerys targaryen': 0.009000854700854703,\n",
       "               'eddard stark': 0.0,\n",
       "               'bran stark': -0.02075764705882353,\n",
       "               'theon greyjoy': -0.09872599999999998,\n",
       "               'jaime lannister': 0.01861085271317829,\n",
       "               'brienne': 0.11478490566037737,\n",
       "               'arya stark': -0.08352980769230768,\n",
       "               'sandor clegane': -0.05172413793103449,\n",
       "               'varys': -0.006067500000000029}),\n",
       "             ('Season 4',\n",
       "              {'jaime lannister': -0.008092777777777787,\n",
       "               'tywin lannister': -0.023399375000000004,\n",
       "               'bronn': 0.0009912280701754423,\n",
       "               'tyrion lannister': 0.00717913043478263,\n",
       "               'jorah mormont': -0.030314285714285707,\n",
       "               'daenerys targaryen': 0.118456,\n",
       "               'sansa stark': 0.03670515463917526,\n",
       "               'cersei lannister': 0.017151552795031055,\n",
       "               'jon snow': -0.06103550724637681,\n",
       "               'sam tarly': 0.035371568627450986,\n",
       "               'brienne': 0.050535483870967755,\n",
       "               'arya stark': -0.05676176470588236,\n",
       "               'sandor clegane': -0.11543070175438602,\n",
       "               'theon greyjoy': -0.06809354838709678,\n",
       "               'varys': 0.0627451612903226,\n",
       "               'davos': 0.14359375,\n",
       "               'bran stark': -0.04361428571428571,\n",
       "               'petyr baelish': 0.05273287671232878}),\n",
       "             ('Season 5',\n",
       "              {'cersei lannister': 0.016144148936170208,\n",
       "               'jaime lannister': 0.06978252427184467,\n",
       "               'varys': 0.07955918367346941,\n",
       "               'tyrion lannister': 0.05762756756756758,\n",
       "               'daenerys targaryen': -0.04952403100775194,\n",
       "               'jon snow': 0.07204938271604938,\n",
       "               'sam tarly': 0.007977999999999999,\n",
       "               'davos': 0.10805471698113209,\n",
       "               'petyr baelish': 0.07789565217391305,\n",
       "               'sansa stark': 0.014634374999999996,\n",
       "               'brienne': -0.02683275862068965,\n",
       "               'arya stark': -0.02629746835443037,\n",
       "               'bronn': 0.10299080459770116,\n",
       "               'jorah mormont': 0.012964406779661021,\n",
       "               'theon greyjoy': -0.10307941176470588,\n",
       "               'bran stark': -0.12427500000000001}),\n",
       "             ('Season 6',\n",
       "              {'davos': 0.019095999999999974,\n",
       "               'theon greyjoy': -0.09410181818181818,\n",
       "               'sansa stark': -0.007564347826086962,\n",
       "               'brienne': -0.01094255319148937,\n",
       "               'cersei lannister': 0.023997590361445782,\n",
       "               'jaime lannister': -0.038446610169491524,\n",
       "               'tyrion lannister': 0.12903580246913582,\n",
       "               'varys': 0.09276170212765955,\n",
       "               'jorah mormont': -0.025403125000000002,\n",
       "               'daenerys targaryen': 0.024619354838709678,\n",
       "               'arya stark': -0.06743166666666665,\n",
       "               'bran stark': 0.024872000000000002,\n",
       "               'jon snow': -0.015205982905982901,\n",
       "               'sam tarly': 0.11343199999999999,\n",
       "               'eddard stark': -0.12566363636363634,\n",
       "               'petyr baelish': 0.04240882352941177,\n",
       "               'sandor clegane': -0.10295365853658539,\n",
       "               'bronn': -0.08071249999999999}),\n",
       "             ('Season 7',\n",
       "              {'arya stark': -0.004266141732283474,\n",
       "               'bran stark': 0.008675000000000004,\n",
       "               'jon snow': -0.024453497942386836,\n",
       "               'sansa stark': -0.06176250000000001,\n",
       "               'jaime lannister': -0.04954651162790696,\n",
       "               'cersei lannister': -0.08455679012345681,\n",
       "               'sam tarly': -0.06303157894736841,\n",
       "               'brienne': 0.0006093749999999971,\n",
       "               'petyr baelish': 0.04592400000000002,\n",
       "               'sandor clegane': -0.10168571428571431,\n",
       "               'jorah mormont': 0.011734042553191487,\n",
       "               'daenerys targaryen': 0.013373821989528792,\n",
       "               'tyrion lannister': -0.026784042553191487,\n",
       "               'varys': 0.027695121951219516,\n",
       "               'davos': -0.003602127659574476,\n",
       "               'theon greyjoy': 0.042350000000000006,\n",
       "               'bronn': -0.01784999999999999}),\n",
       "             ('Season 8',\n",
       "              {'tyrion lannister': 0.033833333333333326,\n",
       "               'varys': 0.039841666666666664,\n",
       "               'jon snow': 0.015148993288590607,\n",
       "               'bran stark': 0.027269047619047613,\n",
       "               'sansa stark': 0.09642363636363638,\n",
       "               'daenerys targaryen': 0.020306818181818176,\n",
       "               'arya stark': -0.046791463414634145,\n",
       "               'cersei lannister': 0.018225806451612904,\n",
       "               'bronn': 0.12826190476190477,\n",
       "               'theon greyjoy': -0.04388333333333333,\n",
       "               'davos': 0.05193902439024391,\n",
       "               'sandor clegane': -0.07532499999999999,\n",
       "               'sam tarly': 0.10448947368421052,\n",
       "               'jorah mormont': 0.054227777777777764,\n",
       "               'jaime lannister': 0.024186206896551724,\n",
       "               'brienne': 0.07712777777777778})])"
      ]
     },
     "execution_count": 29,
     "metadata": {},
     "output_type": "execute_result"
    }
   ],
   "source": [
    "maps"
   ]
  },
  {
   "cell_type": "code",
   "execution_count": 30,
   "metadata": {
    "ExecuteTime": {
     "end_time": "2020-08-31T14:48:13.125408Z",
     "start_time": "2020-08-31T14:48:13.108406Z"
    }
   },
   "outputs": [
    {
     "data": {
      "text/html": [
       "<div>\n",
       "<style scoped>\n",
       "    .dataframe tbody tr th:only-of-type {\n",
       "        vertical-align: middle;\n",
       "    }\n",
       "\n",
       "    .dataframe tbody tr th {\n",
       "        vertical-align: top;\n",
       "    }\n",
       "\n",
       "    .dataframe thead th {\n",
       "        text-align: right;\n",
       "    }\n",
       "</style>\n",
       "<table border=\"1\" class=\"dataframe\">\n",
       "  <thead>\n",
       "    <tr style=\"text-align: right;\">\n",
       "      <th></th>\n",
       "      <th>Season 1</th>\n",
       "      <th>Season 2</th>\n",
       "      <th>Season 3</th>\n",
       "      <th>Season 4</th>\n",
       "      <th>Season 5</th>\n",
       "      <th>Season 6</th>\n",
       "      <th>Season 7</th>\n",
       "      <th>Season 8</th>\n",
       "    </tr>\n",
       "  </thead>\n",
       "  <tbody>\n",
       "    <tr>\n",
       "      <th>jon snow</th>\n",
       "      <td>0.002024</td>\n",
       "      <td>-0.083663</td>\n",
       "      <td>-0.008963</td>\n",
       "      <td>-0.061036</td>\n",
       "      <td>0.072049</td>\n",
       "      <td>-0.015206</td>\n",
       "      <td>-0.024453</td>\n",
       "      <td>0.015149</td>\n",
       "    </tr>\n",
       "    <tr>\n",
       "      <th>sansa stark</th>\n",
       "      <td>0.016261</td>\n",
       "      <td>0.006672</td>\n",
       "      <td>0.090068</td>\n",
       "      <td>0.036705</td>\n",
       "      <td>0.014634</td>\n",
       "      <td>-0.007564</td>\n",
       "      <td>-0.061763</td>\n",
       "      <td>0.096424</td>\n",
       "    </tr>\n",
       "    <tr>\n",
       "      <th>eddard stark</th>\n",
       "      <td>0.033276</td>\n",
       "      <td>NaN</td>\n",
       "      <td>0.000000</td>\n",
       "      <td>NaN</td>\n",
       "      <td>NaN</td>\n",
       "      <td>-0.125664</td>\n",
       "      <td>NaN</td>\n",
       "      <td>NaN</td>\n",
       "    </tr>\n",
       "    <tr>\n",
       "      <th>robb stark</th>\n",
       "      <td>0.010076</td>\n",
       "      <td>0.007864</td>\n",
       "      <td>-0.071748</td>\n",
       "      <td>NaN</td>\n",
       "      <td>NaN</td>\n",
       "      <td>NaN</td>\n",
       "      <td>NaN</td>\n",
       "      <td>NaN</td>\n",
       "    </tr>\n",
       "    <tr>\n",
       "      <th>bran stark</th>\n",
       "      <td>-0.039195</td>\n",
       "      <td>-0.086263</td>\n",
       "      <td>-0.020758</td>\n",
       "      <td>-0.043614</td>\n",
       "      <td>-0.124275</td>\n",
       "      <td>0.024872</td>\n",
       "      <td>0.008675</td>\n",
       "      <td>0.027269</td>\n",
       "    </tr>\n",
       "  </tbody>\n",
       "</table>\n",
       "</div>"
      ],
      "text/plain": [
       "              Season 1  Season 2  Season 3  Season 4  Season 5  Season 6  \\\n",
       "jon snow      0.002024 -0.083663 -0.008963 -0.061036  0.072049 -0.015206   \n",
       "sansa stark   0.016261  0.006672  0.090068  0.036705  0.014634 -0.007564   \n",
       "eddard stark  0.033276       NaN  0.000000       NaN       NaN -0.125664   \n",
       "robb stark    0.010076  0.007864 -0.071748       NaN       NaN       NaN   \n",
       "bran stark   -0.039195 -0.086263 -0.020758 -0.043614 -0.124275  0.024872   \n",
       "\n",
       "              Season 7  Season 8  \n",
       "jon snow     -0.024453  0.015149  \n",
       "sansa stark  -0.061763  0.096424  \n",
       "eddard stark       NaN       NaN  \n",
       "robb stark         NaN       NaN  \n",
       "bran stark    0.008675  0.027269  "
      ]
     },
     "execution_count": 30,
     "metadata": {},
     "output_type": "execute_result"
    }
   ],
   "source": [
    "test = pd.DataFrame(maps)\n",
    "test.head()"
   ]
  },
  {
   "cell_type": "code",
   "execution_count": 31,
   "metadata": {
    "ExecuteTime": {
     "end_time": "2020-08-31T14:48:14.437407Z",
     "start_time": "2020-08-31T14:48:13.126406Z"
    }
   },
   "outputs": [
    {
     "data": {
      "image/png": "[encoded data removed]",
      "text/plain": [
       "<Figure size 720x720 with 2 Axes>"
      ]
     },
     "metadata": {
      "needs_background": "light"
     },
     "output_type": "display_data"
    }
   ],
   "source": [
    "ax = plt.figure(figsize=[10,10])\n",
    "ax = sns.heatmap(test, annot=True)\n",
    "plt.savefig('sentiment_heat.png', bbox_inches = \"tight\")"
   ]
  },
  {
   "cell_type": "code",
   "execution_count": null,
   "metadata": {},
   "outputs": [],
   "source": []
  }
 ],
 "metadata": {
  "kernelspec": {
   "display_name": "Python [conda env:learn-env] *",
   "language": "python",
   "name": "conda-env-learn-env-py"
  },
  "language_info": {
   "codemirror_mode": {
    "name": "ipython",
    "version": 3
   },
   "file_extension": ".py",
   "mimetype": "text/x-python",
   "name": "python",
   "nbconvert_exporter": "python",
   "pygments_lexer": "ipython3",
   "version": "3.6.9"
  }
 },
 "nbformat": 4,
 "nbformat_minor": 2
}
