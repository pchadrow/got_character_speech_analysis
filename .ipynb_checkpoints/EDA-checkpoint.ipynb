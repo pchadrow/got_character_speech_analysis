{
 "cells": [
  {
   "cell_type": "code",
   "execution_count": 1,
   "metadata": {
    "ExecuteTime": {
     "end_time": "2020-08-31T13:55:55.784294Z",
     "start_time": "2020-08-31T13:55:54.722295Z"
    }
   },
   "outputs": [
    {
     "name": "stderr",
     "output_type": "stream",
     "text": [
      "C:\\Users\\damni\\anaconda3\\envs\\learn-env\\lib\\site-packages\\statsmodels\\tools\\_testing.py:19: FutureWarning: pandas.util.testing is deprecated. Use the functions in the public API at pandas.testing instead.\n",
      "  import pandas.util.testing as tm\n"
     ]
    }
   ],
   "source": [
    "import pandas as pd\n",
    "import numpy as np\n",
    "import matplotlib.pyplot as plt\n",
    "%matplotlib inline\n",
    "from wordcloud import WordCloud\n",
    "import seaborn as sns"
   ]
  },
  {
   "cell_type": "code",
   "execution_count": 2,
   "metadata": {
    "ExecuteTime": {
     "end_time": "2020-08-31T13:55:55.850297Z",
     "start_time": "2020-08-31T13:55:55.785294Z"
    }
   },
   "outputs": [
    {
     "data": {
      "text/html": [
       "<div>\n",
       "<style scoped>\n",
       "    .dataframe tbody tr th:only-of-type {\n",
       "        vertical-align: middle;\n",
       "    }\n",
       "\n",
       "    .dataframe tbody tr th {\n",
       "        vertical-align: top;\n",
       "    }\n",
       "\n",
       "    .dataframe thead th {\n",
       "        text-align: right;\n",
       "    }\n",
       "</style>\n",
       "<table border=\"1\" class=\"dataframe\">\n",
       "  <thead>\n",
       "    <tr style=\"text-align: right;\">\n",
       "      <th></th>\n",
       "      <th>Release Date</th>\n",
       "      <th>Season</th>\n",
       "      <th>Episode</th>\n",
       "      <th>Episode Title</th>\n",
       "      <th>Name</th>\n",
       "      <th>Sentence</th>\n",
       "    </tr>\n",
       "  </thead>\n",
       "  <tbody>\n",
       "    <tr>\n",
       "      <th>0</th>\n",
       "      <td>2011-04-17</td>\n",
       "      <td>Season 1</td>\n",
       "      <td>Episode 1</td>\n",
       "      <td>Winter is Coming</td>\n",
       "      <td>waymar royce</td>\n",
       "      <td>What do you expect? They're savages. One lot s...</td>\n",
       "    </tr>\n",
       "    <tr>\n",
       "      <th>1</th>\n",
       "      <td>2011-04-17</td>\n",
       "      <td>Season 1</td>\n",
       "      <td>Episode 1</td>\n",
       "      <td>Winter is Coming</td>\n",
       "      <td>will</td>\n",
       "      <td>I've never seen wildlings do a thing like this...</td>\n",
       "    </tr>\n",
       "    <tr>\n",
       "      <th>2</th>\n",
       "      <td>2011-04-17</td>\n",
       "      <td>Season 1</td>\n",
       "      <td>Episode 1</td>\n",
       "      <td>Winter is Coming</td>\n",
       "      <td>waymar royce</td>\n",
       "      <td>How close did you get?</td>\n",
       "    </tr>\n",
       "    <tr>\n",
       "      <th>3</th>\n",
       "      <td>2011-04-17</td>\n",
       "      <td>Season 1</td>\n",
       "      <td>Episode 1</td>\n",
       "      <td>Winter is Coming</td>\n",
       "      <td>will</td>\n",
       "      <td>Close as any man would.</td>\n",
       "    </tr>\n",
       "    <tr>\n",
       "      <th>4</th>\n",
       "      <td>2011-04-17</td>\n",
       "      <td>Season 1</td>\n",
       "      <td>Episode 1</td>\n",
       "      <td>Winter is Coming</td>\n",
       "      <td>gared</td>\n",
       "      <td>We should head back to the wall.</td>\n",
       "    </tr>\n",
       "  </tbody>\n",
       "</table>\n",
       "</div>"
      ],
      "text/plain": [
       "  Release Date    Season    Episode     Episode Title          Name  \\\n",
       "0   2011-04-17  Season 1  Episode 1  Winter is Coming  waymar royce   \n",
       "1   2011-04-17  Season 1  Episode 1  Winter is Coming          will   \n",
       "2   2011-04-17  Season 1  Episode 1  Winter is Coming  waymar royce   \n",
       "3   2011-04-17  Season 1  Episode 1  Winter is Coming          will   \n",
       "4   2011-04-17  Season 1  Episode 1  Winter is Coming         gared   \n",
       "\n",
       "                                            Sentence  \n",
       "0  What do you expect? They're savages. One lot s...  \n",
       "1  I've never seen wildlings do a thing like this...  \n",
       "2                             How close did you get?  \n",
       "3                            Close as any man would.  \n",
       "4                   We should head back to the wall.  "
      ]
     },
     "execution_count": 2,
     "metadata": {},
     "output_type": "execute_result"
    }
   ],
   "source": [
    "GoT = pd.read_csv('Game_of_Thrones_Script.csv')\n",
    "GoT.head()"
   ]
  },
  {
   "cell_type": "code",
   "execution_count": 3,
   "metadata": {
    "ExecuteTime": {
     "end_time": "2020-08-31T13:55:55.873294Z",
     "start_time": "2020-08-31T13:55:55.852295Z"
    }
   },
   "outputs": [
    {
     "data": {
      "text/plain": [
       "tyrion lannister      1760\n",
       "jon snow              1133\n",
       "daenerys targaryen    1048\n",
       "cersei lannister      1005\n",
       "jaime lannister        945\n",
       "                      ... \n",
       "strong                   1\n",
       "driver                   1\n",
       "title                    1\n",
       "manderly                 1\n",
       "bryndel                  1\n",
       "Name: Name, Length: 564, dtype: int64"
      ]
     },
     "execution_count": 3,
     "metadata": {},
     "output_type": "execute_result"
    }
   ],
   "source": [
    "GoT['Name'].value_counts()"
   ]
  },
  {
   "cell_type": "code",
   "execution_count": 4,
   "metadata": {
    "ExecuteTime": {
     "end_time": "2020-08-31T13:55:55.885296Z",
     "start_time": "2020-08-31T13:55:55.878295Z"
    }
   },
   "outputs": [
    {
     "data": {
      "text/plain": [
       "564"
      ]
     },
     "execution_count": 4,
     "metadata": {},
     "output_type": "execute_result"
    }
   ],
   "source": [
    "GoT['Name'].nunique()"
   ]
  },
  {
   "cell_type": "markdown",
   "metadata": {
    "ExecuteTime": {
     "end_time": "2020-08-18T17:45:11.752695Z",
     "start_time": "2020-08-18T17:45:11.739694Z"
    }
   },
   "source": [
    "In total, we have 564 different speaking characters throughout the series. However, upon close inspection, it seems this may number may be smaller due to an inconsistency with naming of speaking characters. The following are instances of the same character being named in different ways:\n",
    "* maester luwin/luwin\n",
    "* varys/lord varys\n",
    "* grand maester pycelle/pycelle/gran maester pyrcelle/maester pycelle/maester pycell\n",
    "* barristan selmy/barriston/ser barristan/barristan\n",
    "* daenerys targaryen/deanerys targarian\n",
    "* joffrey lanister/king joffrey\n",
    "* kevan lannister/kevin/kevan \n",
    "* alliser thorne/ser alliser/alliser thorn/alliser/allister/alliser throne\n",
    "* eddark stark/eddard stark\n",
    "* rickon stark/rickon\n",
    "* sam/sam tarly\n",
    "* lord mormont/jeor mormont/jeor\n",
    "* rodrick cassel/rodrik cassel/rodrik cassal/ser rodrick/rodrik\n",
    "* edd/dolorous edd/dolorous/doloroud edd/dolrous edd\n",
    "* renly/renly baratheon\n",
    "* maryn trant/meryn\n",
    "* lancell lannister/lancell\n",
    "* petyr baelish/petyr\n",
    "* mountain/mountian\n",
    "* pyatt pree/pyat pree/pyattpree\n",
    "* walder frey/walder\n",
    "* sandor/sandor clegane\n",
    "* lady olenna/olenna tyrell\n",
    "* beric/beric dondarrion"
   ]
  },
  {
   "cell_type": "code",
   "execution_count": 5,
   "metadata": {
    "ExecuteTime": {
     "end_time": "2020-08-31T13:55:55.898295Z",
     "start_time": "2020-08-31T13:55:55.887297Z"
    }
   },
   "outputs": [],
   "source": [
    "correct_names = {'maester luwin':['maester luwin', 'luwin'],\n",
    "                'varys': ['varys','lord varys'],\n",
    "                'pycelle': ['grand maester pycelle', 'pycelle', \n",
    "                            'gran maester pyrcelle', 'maester pycelle', \n",
    "                            'maester pycell', 'pycell', 'pyelle', 'grand maester pyrcelle'],\n",
    "                'barristan selmy': ['barristan selmy', 'barriston', \n",
    "                                    'ser barristan', 'barristan'],\n",
    "                'daenerys targaryen': ['daenerys targaryen', 'deanerys targarian'],\n",
    "                'joffrey lannister': ['joffrey lannister', 'king joffrey'],\n",
    "                'kevan lannister': ['kevan lannister', 'kevin', 'kevan'],\n",
    "                'alliser thorne': ['alliser thorne', 'ser alliser', \n",
    "                                   'alliser thorn', 'alliser', 'allister', \n",
    "                                   'alliser throne'],\n",
    "                'eddard stark': ['eddard stark', 'eddark stark'],\n",
    "                'rickon stark': ['rickon stark', 'rickon'],\n",
    "                'sam tarly': ['sam tarly', 'sam'],\n",
    "                'jeor mormont': ['jeor mormont', 'lord mormont', 'jeor'],\n",
    "                'rodrik cassel': ['rodrik cassel', 'rodrick cassel', \n",
    "                                  'rodrik cassal', 'ser rodrick', 'rodrik'],\n",
    "                \"'dolorous' edd\": ['edd', 'dolorous edd', 'dolorous', \n",
    "                                   'doloroud edd', 'dolrous edd', 'ed'],\n",
    "                'renly baratheon': ['renly baratheon', 'renly'],\n",
    "                'maryn trant': ['maryn trant', 'meryn', 'meryn trant'],\n",
    "                'lancell lannister': ['lancell lannister', 'lancell', 'lancel'],\n",
    "                'petyr baelish': ['petyr baelish', 'petyr'],\n",
    "                'the mountain': ['mountain', 'mountian'],\n",
    "                'pyat pree': ['pyat pree', 'pyatt pree', 'pyattpree'],\n",
    "                'walder frey': ['walder frey', 'walder'],\n",
    "                'sandor clegane': ['sandor clegane', 'sandor'],\n",
    "                'olenna tyrell': ['olenna tyrell', 'lady olenna'],\n",
    "                'beric dondarrion': ['beric dondarrion', 'beric']}"
   ]
  },
  {
   "cell_type": "markdown",
   "metadata": {},
   "source": [
    "In retrospect, I created this dictionary backwards and the keys need to values and the values need to be keys in order for us to be able to apply it to our data."
   ]
  },
  {
   "cell_type": "code",
   "execution_count": 6,
   "metadata": {
    "ExecuteTime": {
     "end_time": "2020-08-31T13:55:55.908296Z",
     "start_time": "2020-08-31T13:55:55.900298Z"
    }
   },
   "outputs": [],
   "source": [
    "fixed_dict = {}\n",
    "for key, values in correct_names.items():\n",
    "    for value in values:\n",
    "        fixed_dict[value] = key"
   ]
  },
  {
   "cell_type": "code",
   "execution_count": 7,
   "metadata": {
    "ExecuteTime": {
     "end_time": "2020-08-31T13:55:55.921295Z",
     "start_time": "2020-08-31T13:55:55.911295Z"
    }
   },
   "outputs": [],
   "source": [
    "GoT['Character'] = GoT['Name'].map(fixed_dict)"
   ]
  },
  {
   "cell_type": "code",
   "execution_count": 8,
   "metadata": {
    "ExecuteTime": {
     "end_time": "2020-08-31T13:55:55.938297Z",
     "start_time": "2020-08-31T13:55:55.923297Z"
    }
   },
   "outputs": [],
   "source": [
    "GoT['Character'].fillna(GoT['Name'], inplace = True)"
   ]
  },
  {
   "cell_type": "code",
   "execution_count": 9,
   "metadata": {
    "ExecuteTime": {
     "end_time": "2020-08-31T13:55:55.951296Z",
     "start_time": "2020-08-31T13:55:55.941296Z"
    }
   },
   "outputs": [
    {
     "data": {
      "text/plain": [
       "520"
      ]
     },
     "execution_count": 9,
     "metadata": {},
     "output_type": "execute_result"
    }
   ],
   "source": [
    "GoT['Character'].nunique()"
   ]
  },
  {
   "cell_type": "code",
   "execution_count": 10,
   "metadata": {
    "ExecuteTime": {
     "end_time": "2020-08-31T13:55:55.967298Z",
     "start_time": "2020-08-31T13:55:55.954295Z"
    }
   },
   "outputs": [
    {
     "data": {
      "text/plain": [
       "tyrion lannister      1760\n",
       "jon snow              1133\n",
       "daenerys targaryen    1049\n",
       "cersei lannister      1005\n",
       "jaime lannister        945\n",
       "                      ... \n",
       "driver                   1\n",
       "hunters                  1\n",
       "title                    1\n",
       "manderly                 1\n",
       "eddision                 1\n",
       "Name: Character, Length: 520, dtype: int64"
      ]
     },
     "execution_count": 10,
     "metadata": {},
     "output_type": "execute_result"
    }
   ],
   "source": [
    "GoT['Character'].value_counts()"
   ]
  },
  {
   "cell_type": "code",
   "execution_count": 11,
   "metadata": {
    "ExecuteTime": {
     "end_time": "2020-08-31T13:55:55.997295Z",
     "start_time": "2020-08-31T13:55:55.970297Z"
    }
   },
   "outputs": [
    {
     "name": "stdout",
     "output_type": "stream",
     "text": [
      "<class 'pandas.core.frame.DataFrame'>\n",
      "RangeIndex: 23911 entries, 0 to 23910\n",
      "Data columns (total 7 columns):\n",
      " #   Column         Non-Null Count  Dtype \n",
      "---  ------         --------------  ----- \n",
      " 0   Release Date   23911 non-null  object\n",
      " 1   Season         23911 non-null  object\n",
      " 2   Episode        23911 non-null  object\n",
      " 3   Episode Title  23911 non-null  object\n",
      " 4   Name           23908 non-null  object\n",
      " 5   Sentence       23911 non-null  object\n",
      " 6   Character      23908 non-null  object\n",
      "dtypes: object(7)\n",
      "memory usage: 1.3+ MB\n"
     ]
    }
   ],
   "source": [
    "GoT.info()"
   ]
  },
  {
   "cell_type": "code",
   "execution_count": 12,
   "metadata": {
    "ExecuteTime": {
     "end_time": "2020-08-31T13:55:56.021297Z",
     "start_time": "2020-08-31T13:55:55.999298Z"
    }
   },
   "outputs": [],
   "source": [
    "#drop duplicate name column and the three null values\n",
    "GoT.dropna(inplace = True)\n",
    "GoT.drop('Name', axis = 1, inplace = True)"
   ]
  },
  {
   "cell_type": "code",
   "execution_count": 13,
   "metadata": {
    "ExecuteTime": {
     "end_time": "2020-08-31T13:55:56.035298Z",
     "start_time": "2020-08-31T13:55:56.024298Z"
    }
   },
   "outputs": [
    {
     "data": {
      "text/html": [
       "<div>\n",
       "<style scoped>\n",
       "    .dataframe tbody tr th:only-of-type {\n",
       "        vertical-align: middle;\n",
       "    }\n",
       "\n",
       "    .dataframe tbody tr th {\n",
       "        vertical-align: top;\n",
       "    }\n",
       "\n",
       "    .dataframe thead th {\n",
       "        text-align: right;\n",
       "    }\n",
       "</style>\n",
       "<table border=\"1\" class=\"dataframe\">\n",
       "  <thead>\n",
       "    <tr style=\"text-align: right;\">\n",
       "      <th></th>\n",
       "      <th>Release Date</th>\n",
       "      <th>Season</th>\n",
       "      <th>Episode</th>\n",
       "      <th>Episode Title</th>\n",
       "      <th>Sentence</th>\n",
       "      <th>Character</th>\n",
       "    </tr>\n",
       "  </thead>\n",
       "  <tbody>\n",
       "    <tr>\n",
       "      <th>0</th>\n",
       "      <td>2011-04-17</td>\n",
       "      <td>Season 1</td>\n",
       "      <td>Episode 1</td>\n",
       "      <td>Winter is Coming</td>\n",
       "      <td>What do you expect? They're savages. One lot s...</td>\n",
       "      <td>waymar royce</td>\n",
       "    </tr>\n",
       "    <tr>\n",
       "      <th>1</th>\n",
       "      <td>2011-04-17</td>\n",
       "      <td>Season 1</td>\n",
       "      <td>Episode 1</td>\n",
       "      <td>Winter is Coming</td>\n",
       "      <td>I've never seen wildlings do a thing like this...</td>\n",
       "      <td>will</td>\n",
       "    </tr>\n",
       "    <tr>\n",
       "      <th>2</th>\n",
       "      <td>2011-04-17</td>\n",
       "      <td>Season 1</td>\n",
       "      <td>Episode 1</td>\n",
       "      <td>Winter is Coming</td>\n",
       "      <td>How close did you get?</td>\n",
       "      <td>waymar royce</td>\n",
       "    </tr>\n",
       "    <tr>\n",
       "      <th>3</th>\n",
       "      <td>2011-04-17</td>\n",
       "      <td>Season 1</td>\n",
       "      <td>Episode 1</td>\n",
       "      <td>Winter is Coming</td>\n",
       "      <td>Close as any man would.</td>\n",
       "      <td>will</td>\n",
       "    </tr>\n",
       "    <tr>\n",
       "      <th>4</th>\n",
       "      <td>2011-04-17</td>\n",
       "      <td>Season 1</td>\n",
       "      <td>Episode 1</td>\n",
       "      <td>Winter is Coming</td>\n",
       "      <td>We should head back to the wall.</td>\n",
       "      <td>gared</td>\n",
       "    </tr>\n",
       "  </tbody>\n",
       "</table>\n",
       "</div>"
      ],
      "text/plain": [
       "  Release Date    Season    Episode     Episode Title  \\\n",
       "0   2011-04-17  Season 1  Episode 1  Winter is Coming   \n",
       "1   2011-04-17  Season 1  Episode 1  Winter is Coming   \n",
       "2   2011-04-17  Season 1  Episode 1  Winter is Coming   \n",
       "3   2011-04-17  Season 1  Episode 1  Winter is Coming   \n",
       "4   2011-04-17  Season 1  Episode 1  Winter is Coming   \n",
       "\n",
       "                                            Sentence     Character  \n",
       "0  What do you expect? They're savages. One lot s...  waymar royce  \n",
       "1  I've never seen wildlings do a thing like this...          will  \n",
       "2                             How close did you get?  waymar royce  \n",
       "3                            Close as any man would.          will  \n",
       "4                   We should head back to the wall.         gared  "
      ]
     },
     "execution_count": 13,
     "metadata": {},
     "output_type": "execute_result"
    }
   ],
   "source": [
    "GoT.head()"
   ]
  },
  {
   "cell_type": "code",
   "execution_count": 14,
   "metadata": {
    "ExecuteTime": {
     "end_time": "2020-08-31T13:55:56.041297Z",
     "start_time": "2020-08-31T13:55:56.037296Z"
    }
   },
   "outputs": [],
   "source": [
    "# Next lets look at the amount of words being spoken"
   ]
  },
  {
   "cell_type": "code",
   "execution_count": 15,
   "metadata": {
    "ExecuteTime": {
     "end_time": "2020-08-31T13:55:56.057296Z",
     "start_time": "2020-08-31T13:55:56.044298Z"
    }
   },
   "outputs": [],
   "source": [
    "complete_text = ' '.join(GoT['Sentence'])"
   ]
  },
  {
   "cell_type": "code",
   "execution_count": 16,
   "metadata": {
    "ExecuteTime": {
     "end_time": "2020-08-31T13:55:56.068298Z",
     "start_time": "2020-08-31T13:55:56.060296Z"
    }
   },
   "outputs": [
    {
     "data": {
      "text/plain": [
       "\"What do you expect? They're savages. One lot steals a goat from another lot and before you know it, they're ripping each other to pieces.\""
      ]
     },
     "execution_count": 16,
     "metadata": {},
     "output_type": "execute_result"
    }
   ],
   "source": [
    "sample = GoT['Sentence'][0]\n",
    "sample"
   ]
  },
  {
   "cell_type": "markdown",
   "metadata": {},
   "source": [
    "We've successfully reduced the total number of speaking characters by 44!"
   ]
  },
  {
   "cell_type": "code",
   "execution_count": 17,
   "metadata": {
    "ExecuteTime": {
     "end_time": "2020-08-31T13:55:58.973297Z",
     "start_time": "2020-08-31T13:55:56.070297Z"
    }
   },
   "outputs": [],
   "source": [
    "from keras.preprocessing.text import Tokenizer"
   ]
  },
  {
   "cell_type": "code",
   "execution_count": 18,
   "metadata": {
    "ExecuteTime": {
     "end_time": "2020-08-31T13:55:59.293295Z",
     "start_time": "2020-08-31T13:55:58.974295Z"
    }
   },
   "outputs": [],
   "source": [
    "tokenizer = Tokenizer()\n",
    "tokenizer.fit_on_texts([complete_text])\n"
   ]
  },
  {
   "cell_type": "code",
   "execution_count": 19,
   "metadata": {
    "ExecuteTime": {
     "end_time": "2020-08-31T13:55:59.303295Z",
     "start_time": "2020-08-31T13:55:59.295296Z"
    }
   },
   "outputs": [
    {
     "data": {
      "text/plain": [
       "25"
      ]
     },
     "execution_count": 19,
     "metadata": {},
     "output_type": "execute_result"
    }
   ],
   "source": [
    "len(tokenizer.texts_to_sequences([sample])[0])"
   ]
  },
  {
   "cell_type": "code",
   "execution_count": 20,
   "metadata": {
    "ExecuteTime": {
     "end_time": "2020-08-31T13:55:59.844297Z",
     "start_time": "2020-08-31T13:55:59.305297Z"
    }
   },
   "outputs": [],
   "source": [
    "GoT['word_count'] = GoT['Sentence'].apply(lambda x: len(tokenizer.texts_to_sequences([x])[0]))"
   ]
  },
  {
   "cell_type": "code",
   "execution_count": 21,
   "metadata": {
    "ExecuteTime": {
     "end_time": "2020-08-31T13:55:59.870295Z",
     "start_time": "2020-08-31T13:55:59.845295Z"
    }
   },
   "outputs": [
    {
     "data": {
      "text/html": [
       "<div>\n",
       "<style scoped>\n",
       "    .dataframe tbody tr th:only-of-type {\n",
       "        vertical-align: middle;\n",
       "    }\n",
       "\n",
       "    .dataframe tbody tr th {\n",
       "        vertical-align: top;\n",
       "    }\n",
       "\n",
       "    .dataframe thead th {\n",
       "        text-align: right;\n",
       "    }\n",
       "</style>\n",
       "<table border=\"1\" class=\"dataframe\">\n",
       "  <thead>\n",
       "    <tr style=\"text-align: right;\">\n",
       "      <th></th>\n",
       "      <th>Release Date</th>\n",
       "      <th>Season</th>\n",
       "      <th>Episode</th>\n",
       "      <th>Episode Title</th>\n",
       "      <th>Sentence</th>\n",
       "      <th>Character</th>\n",
       "      <th>word_count</th>\n",
       "    </tr>\n",
       "  </thead>\n",
       "  <tbody>\n",
       "    <tr>\n",
       "      <th>0</th>\n",
       "      <td>2011-04-17</td>\n",
       "      <td>Season 1</td>\n",
       "      <td>Episode 1</td>\n",
       "      <td>Winter is Coming</td>\n",
       "      <td>What do you expect? They're savages. One lot s...</td>\n",
       "      <td>waymar royce</td>\n",
       "      <td>25</td>\n",
       "    </tr>\n",
       "    <tr>\n",
       "      <th>1</th>\n",
       "      <td>2011-04-17</td>\n",
       "      <td>Season 1</td>\n",
       "      <td>Episode 1</td>\n",
       "      <td>Winter is Coming</td>\n",
       "      <td>I've never seen wildlings do a thing like this...</td>\n",
       "      <td>will</td>\n",
       "      <td>21</td>\n",
       "    </tr>\n",
       "    <tr>\n",
       "      <th>2</th>\n",
       "      <td>2011-04-17</td>\n",
       "      <td>Season 1</td>\n",
       "      <td>Episode 1</td>\n",
       "      <td>Winter is Coming</td>\n",
       "      <td>How close did you get?</td>\n",
       "      <td>waymar royce</td>\n",
       "      <td>5</td>\n",
       "    </tr>\n",
       "    <tr>\n",
       "      <th>3</th>\n",
       "      <td>2011-04-17</td>\n",
       "      <td>Season 1</td>\n",
       "      <td>Episode 1</td>\n",
       "      <td>Winter is Coming</td>\n",
       "      <td>Close as any man would.</td>\n",
       "      <td>will</td>\n",
       "      <td>5</td>\n",
       "    </tr>\n",
       "    <tr>\n",
       "      <th>4</th>\n",
       "      <td>2011-04-17</td>\n",
       "      <td>Season 1</td>\n",
       "      <td>Episode 1</td>\n",
       "      <td>Winter is Coming</td>\n",
       "      <td>We should head back to the wall.</td>\n",
       "      <td>gared</td>\n",
       "      <td>7</td>\n",
       "    </tr>\n",
       "  </tbody>\n",
       "</table>\n",
       "</div>"
      ],
      "text/plain": [
       "  Release Date    Season    Episode     Episode Title  \\\n",
       "0   2011-04-17  Season 1  Episode 1  Winter is Coming   \n",
       "1   2011-04-17  Season 1  Episode 1  Winter is Coming   \n",
       "2   2011-04-17  Season 1  Episode 1  Winter is Coming   \n",
       "3   2011-04-17  Season 1  Episode 1  Winter is Coming   \n",
       "4   2011-04-17  Season 1  Episode 1  Winter is Coming   \n",
       "\n",
       "                                            Sentence     Character  word_count  \n",
       "0  What do you expect? They're savages. One lot s...  waymar royce          25  \n",
       "1  I've never seen wildlings do a thing like this...          will          21  \n",
       "2                             How close did you get?  waymar royce           5  \n",
       "3                            Close as any man would.          will           5  \n",
       "4                   We should head back to the wall.         gared           7  "
      ]
     },
     "execution_count": 21,
     "metadata": {},
     "output_type": "execute_result"
    }
   ],
   "source": [
    "GoT.head()"
   ]
  },
  {
   "cell_type": "code",
   "execution_count": 22,
   "metadata": {
    "ExecuteTime": {
     "end_time": "2020-08-31T13:56:00.040295Z",
     "start_time": "2020-08-31T13:55:59.872295Z"
    }
   },
   "outputs": [],
   "source": [
    "GoT.to_csv('Game_of_Thrones_Script_Corrected.csv', index = False)"
   ]
  },
  {
   "cell_type": "code",
   "execution_count": 23,
   "metadata": {
    "ExecuteTime": {
     "end_time": "2020-08-31T13:56:00.075299Z",
     "start_time": "2020-08-31T13:56:00.044297Z"
    }
   },
   "outputs": [
    {
     "data": {
      "text/plain": [
       "['tyrion lannister',\n",
       " 'jon snow',\n",
       " 'daenerys targaryen',\n",
       " 'cersei lannister',\n",
       " 'jaime lannister',\n",
       " 'sansa stark',\n",
       " 'arya stark',\n",
       " 'sam tarly',\n",
       " 'davos',\n",
       " 'petyr baelish',\n",
       " 'theon greyjoy',\n",
       " 'bran stark',\n",
       " 'bronn',\n",
       " 'varys',\n",
       " 'man',\n",
       " 'tywin lannister',\n",
       " 'jorah mormont',\n",
       " 'brienne',\n",
       " 'sandor clegane',\n",
       " 'eddard stark',\n",
       " 'robb stark',\n",
       " 'stannis baratheon',\n",
       " 'catelyn stark',\n",
       " 'ramsay bolton',\n",
       " 'margaery tyrell',\n",
       " 'joffrey lannister',\n",
       " 'melisandre',\n",
       " 'shae',\n",
       " 'gendry baratheon',\n",
       " 'tormund',\n",
       " 'gilly',\n",
       " 'missandei',\n",
       " 'olenna tyrell',\n",
       " 'ygritte',\n",
       " 'daario',\n",
       " 'podrick',\n",
       " 'sparrow',\n",
       " 'yara greyjoy',\n",
       " 'osha',\n",
       " 'oberyn martell',\n",
       " 'soldier',\n",
       " 'pycelle',\n",
       " 'tommen lannister',\n",
       " 'robert baratheon',\n",
       " 'qyburn',\n",
       " 'grey worm',\n",
       " 'jaqen hghar',\n",
       " 'talisa',\n",
       " 'thoros',\n",
       " 'barristan selmy']"
      ]
     },
     "execution_count": 23,
     "metadata": {},
     "output_type": "execute_result"
    }
   ],
   "source": [
    "top_speakers = GoT.Character.value_counts().reset_index(name=\"count\").query(\"count > 100\")[\"index\"]\n",
    "top_speakers = list(top_speakers)\n",
    "top_speakers"
   ]
  },
  {
   "cell_type": "code",
   "execution_count": 24,
   "metadata": {
    "ExecuteTime": {
     "end_time": "2020-08-31T13:56:00.097296Z",
     "start_time": "2020-08-31T13:56:00.078299Z"
    }
   },
   "outputs": [
    {
     "data": {
      "text/plain": [
       "Character\n",
       "arya stark            112\n",
       "bran stark            104\n",
       "brienne               218\n",
       "bronn                  76\n",
       "catelyn stark         134\n",
       "cersei lannister      163\n",
       "daenerys targaryen    129\n",
       "davos                 118\n",
       "eddard stark           81\n",
       "jaime lannister       297\n",
       "jon snow              140\n",
       "jorah mormont          81\n",
       "man                    80\n",
       "margaery tyrell        70\n",
       "petyr baelish         172\n",
       "ramsay bolton          89\n",
       "robb stark            103\n",
       "sam tarly              95\n",
       "sandor clegane         94\n",
       "sansa stark           119\n",
       "stannis baratheon     192\n",
       "theon greyjoy          88\n",
       "tyrion lannister      233\n",
       "tywin lannister       111\n",
       "varys                 187\n",
       "Name: word_count, dtype: int64"
      ]
     },
     "execution_count": 24,
     "metadata": {},
     "output_type": "execute_result"
    }
   ],
   "source": [
    "important_character_df = GoT[GoT['Character'].isin(top_speakers[:25])]\n",
    "#this can be used on main df to get the max count for all characters, set this equal a variable and can be plottable\n",
    "important_character_df.groupby('Character')['word_count'].max()"
   ]
  },
  {
   "cell_type": "code",
   "execution_count": 25,
   "metadata": {
    "ExecuteTime": {
     "end_time": "2020-08-31T13:56:00.110294Z",
     "start_time": "2020-08-31T13:56:00.100298Z"
    }
   },
   "outputs": [
    {
     "data": {
      "text/plain": [
       "Character\n",
       "arya stark             6445\n",
       "bran stark             3275\n",
       "brienne                3921\n",
       "bronn                  4352\n",
       "catelyn stark          3306\n",
       "cersei lannister      14440\n",
       "daenerys targaryen    12358\n",
       "davos                  6838\n",
       "eddard stark           3326\n",
       "jaime lannister       11753\n",
       "jon snow              12288\n",
       "jorah mormont          4275\n",
       "man                    2558\n",
       "margaery tyrell        3155\n",
       "petyr baelish          7724\n",
       "ramsay bolton          3223\n",
       "robb stark             3628\n",
       "sam tarly              6499\n",
       "sandor clegane         3908\n",
       "sansa stark            8141\n",
       "stannis baratheon      3666\n",
       "theon greyjoy          5050\n",
       "tyrion lannister      25993\n",
       "tywin lannister        5507\n",
       "varys                  6501\n",
       "Name: word_count, dtype: int64"
      ]
     },
     "execution_count": 25,
     "metadata": {},
     "output_type": "execute_result"
    }
   ],
   "source": [
    "important_character_df.groupby('Character')['word_count'].sum()"
   ]
  },
  {
   "cell_type": "code",
   "execution_count": 26,
   "metadata": {
    "ExecuteTime": {
     "end_time": "2020-08-31T13:56:00.122300Z",
     "start_time": "2020-08-31T13:56:00.112297Z"
    }
   },
   "outputs": [
    {
     "data": {
      "text/plain": [
       "287930"
      ]
     },
     "execution_count": 26,
     "metadata": {},
     "output_type": "execute_result"
    }
   ],
   "source": [
    "GoT['word_count'].sum()"
   ]
  },
  {
   "cell_type": "code",
   "execution_count": 27,
   "metadata": {
    "ExecuteTime": {
     "end_time": "2020-08-31T13:56:00.134297Z",
     "start_time": "2020-08-31T13:56:00.125297Z"
    }
   },
   "outputs": [
    {
     "data": {
      "text/plain": [
       "0.09027541416316466"
      ]
     },
     "execution_count": 27,
     "metadata": {},
     "output_type": "execute_result"
    }
   ],
   "source": [
    "total = 25993/287930\n",
    "total"
   ]
  },
  {
   "cell_type": "code",
   "execution_count": 28,
   "metadata": {
    "ExecuteTime": {
     "end_time": "2020-08-31T13:56:00.179298Z",
     "start_time": "2020-08-31T13:56:00.136296Z"
    }
   },
   "outputs": [
    {
     "data": {
      "text/html": [
       "<div>\n",
       "<style scoped>\n",
       "    .dataframe tbody tr th:only-of-type {\n",
       "        vertical-align: middle;\n",
       "    }\n",
       "\n",
       "    .dataframe tbody tr th {\n",
       "        vertical-align: top;\n",
       "    }\n",
       "\n",
       "    .dataframe thead th {\n",
       "        text-align: right;\n",
       "    }\n",
       "</style>\n",
       "<table border=\"1\" class=\"dataframe\">\n",
       "  <thead>\n",
       "    <tr style=\"text-align: right;\">\n",
       "      <th></th>\n",
       "      <th>word_count</th>\n",
       "    </tr>\n",
       "  </thead>\n",
       "  <tbody>\n",
       "    <tr>\n",
       "      <th>count</th>\n",
       "      <td>23908.000000</td>\n",
       "    </tr>\n",
       "    <tr>\n",
       "      <th>mean</th>\n",
       "      <td>12.043249</td>\n",
       "    </tr>\n",
       "    <tr>\n",
       "      <th>std</th>\n",
       "      <td>14.273522</td>\n",
       "    </tr>\n",
       "    <tr>\n",
       "      <th>min</th>\n",
       "      <td>1.000000</td>\n",
       "    </tr>\n",
       "    <tr>\n",
       "      <th>25%</th>\n",
       "      <td>4.000000</td>\n",
       "    </tr>\n",
       "    <tr>\n",
       "      <th>50%</th>\n",
       "      <td>8.000000</td>\n",
       "    </tr>\n",
       "    <tr>\n",
       "      <th>75%</th>\n",
       "      <td>15.000000</td>\n",
       "    </tr>\n",
       "    <tr>\n",
       "      <th>max</th>\n",
       "      <td>333.000000</td>\n",
       "    </tr>\n",
       "  </tbody>\n",
       "</table>\n",
       "</div>"
      ],
      "text/plain": [
       "         word_count\n",
       "count  23908.000000\n",
       "mean      12.043249\n",
       "std       14.273522\n",
       "min        1.000000\n",
       "25%        4.000000\n",
       "50%        8.000000\n",
       "75%       15.000000\n",
       "max      333.000000"
      ]
     },
     "execution_count": 28,
     "metadata": {},
     "output_type": "execute_result"
    }
   ],
   "source": [
    "GoT.describe()"
   ]
  },
  {
   "cell_type": "code",
   "execution_count": 29,
   "metadata": {
    "ExecuteTime": {
     "end_time": "2020-08-31T13:56:00.200296Z",
     "start_time": "2020-08-31T13:56:00.181296Z"
    }
   },
   "outputs": [
    {
     "data": {
      "text/html": [
       "<div>\n",
       "<style scoped>\n",
       "    .dataframe tbody tr th:only-of-type {\n",
       "        vertical-align: middle;\n",
       "    }\n",
       "\n",
       "    .dataframe tbody tr th {\n",
       "        vertical-align: top;\n",
       "    }\n",
       "\n",
       "    .dataframe thead th {\n",
       "        text-align: right;\n",
       "    }\n",
       "</style>\n",
       "<table border=\"1\" class=\"dataframe\">\n",
       "  <thead>\n",
       "    <tr style=\"text-align: right;\">\n",
       "      <th></th>\n",
       "      <th>Release Date</th>\n",
       "      <th>Season</th>\n",
       "      <th>Episode</th>\n",
       "      <th>Episode Title</th>\n",
       "      <th>Sentence</th>\n",
       "      <th>Character</th>\n",
       "      <th>word_count</th>\n",
       "    </tr>\n",
       "  </thead>\n",
       "  <tbody>\n",
       "    <tr>\n",
       "      <th>6282</th>\n",
       "      <td>2012-05-20</td>\n",
       "      <td>Season 2</td>\n",
       "      <td>Episode 8</td>\n",
       "      <td>The Prince of Winterfell</td>\n",
       "      <td>When I was twelve, my mother and father went t...</td>\n",
       "      <td>talisa</td>\n",
       "      <td>333</td>\n",
       "    </tr>\n",
       "  </tbody>\n",
       "</table>\n",
       "</div>"
      ],
      "text/plain": [
       "     Release Date    Season    Episode             Episode Title  \\\n",
       "6282   2012-05-20  Season 2  Episode 8  The Prince of Winterfell   \n",
       "\n",
       "                                               Sentence Character  word_count  \n",
       "6282  When I was twelve, my mother and father went t...    talisa         333  "
      ]
     },
     "execution_count": 29,
     "metadata": {},
     "output_type": "execute_result"
    }
   ],
   "source": [
    "GoT.loc[GoT['word_count'] == 333]"
   ]
  },
  {
   "cell_type": "markdown",
   "metadata": {},
   "source": [
    "Interesting! While Tyrion may have the majority of lines and averages the the most words, it seems Talisa actually has the longest monologue!"
   ]
  },
  {
   "cell_type": "code",
   "execution_count": 30,
   "metadata": {
    "ExecuteTime": {
     "end_time": "2020-08-31T13:56:01.352296Z",
     "start_time": "2020-08-31T13:56:00.205295Z"
    }
   },
   "outputs": [
    {
     "data": {
      "text/plain": [
       "(array([ 0,  1,  2,  3,  4,  5,  6,  7,  8,  9, 10, 11, 12, 13, 14, 15, 16,\n",
       "        17, 18, 19, 20, 21, 22, 23, 24]),\n",
       " <a list of 25 Text xticklabel objects>)"
      ]
     },
     "execution_count": 30,
     "metadata": {},
     "output_type": "execute_result"
    },
    {
     "data": {
      "image/png": "[encoded data removed]",
      "text/plain": [
       "<Figure size 360x360 with 1 Axes>"
      ]
     },
     "metadata": {
      "needs_background": "light"
     },
     "output_type": "display_data"
    }
   ],
   "source": [
    "sns.catplot(data=important_character_df, x='Character', y='word_count')\n",
    "plt.xticks(rotation=80)"
   ]
  },
  {
   "cell_type": "code",
   "execution_count": 31,
   "metadata": {
    "ExecuteTime": {
     "end_time": "2020-08-31T13:56:01.955295Z",
     "start_time": "2020-08-31T13:56:01.354296Z"
    }
   },
   "outputs": [
    {
     "data": {
      "text/plain": [
       "(array([0, 1, 2, 3, 4, 5, 6, 7]), <a list of 8 Text xticklabel objects>)"
      ]
     },
     "execution_count": 31,
     "metadata": {},
     "output_type": "execute_result"
    },
    {
     "data": {
      "image/png": "[encoded data removed]",
      "text/plain": [
       "<Figure size 360x360 with 1 Axes>"
      ]
     },
     "metadata": {
      "needs_background": "light"
     },
     "output_type": "display_data"
    }
   ],
   "source": [
    "sns.catplot(data=GoT, x='Season', y='word_count')\n",
    "plt.xticks(rotation=45)"
   ]
  }
 ],
 "metadata": {
  "kernelspec": {
   "display_name": "Python [conda env:learn-env] *",
   "language": "python",
   "name": "conda-env-learn-env-py"
  },
  "language_info": {
   "codemirror_mode": {
    "name": "ipython",
    "version": 3
   },
   "file_extension": ".py",
   "mimetype": "text/x-python",
   "name": "python",
   "nbconvert_exporter": "python",
   "pygments_lexer": "ipython3",
   "version": "3.6.9"
  }
 },
 "nbformat": 4,
 "nbformat_minor": 2
}
